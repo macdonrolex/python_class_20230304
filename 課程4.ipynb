{
  "cells": [
    {
      "cell_type": "markdown",
      "metadata": {
        "id": "view-in-github",
        "colab_type": "text"
      },
      "source": [
        "<a href=\"https://colab.research.google.com/github/macdonrolex/python_class_20230304/blob/main/%E8%AA%B2%E7%A8%8B4.ipynb\" target=\"_parent\"><img src=\"https://colab.research.google.com/assets/colab-badge.svg\" alt=\"Open In Colab\"/></a>"
      ]
    },
    {
      "cell_type": "markdown",
      "metadata": {
        "id": "GtGLFCbcH7al"
      },
      "source": [
        "#20230304"
      ]
    },
    {
      "cell_type": "markdown",
      "metadata": {
        "id": "6-jUrhzAICtB"
      },
      "source": [
        "#網路簡介\n",
        "https://victorgau.github.io/khpy_web_intro/\n",
        "\n",
        "https://github.com/victorgau/khpy_web_crawler_intro\n"
      ]
    },
    {
      "cell_type": "markdown",
      "metadata": {
        "id": "bUof2t99VwST"
      },
      "source": [
        "#抓取網頁原始碼\n"
      ]
    },
    {
      "cell_type": "code",
      "execution_count": null,
      "metadata": {
        "colab": {
          "base_uri": "https://localhost:8080/"
        },
        "id": "RlEgRbBRHmZs",
        "outputId": "faf98cd9-e939-4596-f564-e24741bab06d"
      },
      "outputs": [
        {
          "name": "stdout",
          "output_type": "stream",
          "text": [
            "<!DOCTYPE html>\n",
            "<html>\n",
            "<head>\n",
            "    <title>HTML範例</title>\n",
            "</head>\n",
            "<body>\n",
            "\n",
            "<h1>哈囉！HTML！</h1>\n",
            "\n",
            "<img src=\"ninja.jpg\" />\n",
            "\n",
            "</body>\n",
            "</html>\n"
          ]
        }
      ],
      "source": [
        "import requests\n",
        "\n",
        "url = \"https://victorgau.github.io/khpy_web_intro/html_only.html\"\n",
        "r = requests.get(url)\n",
        "print(r.text)"
      ]
    },
    {
      "cell_type": "code",
      "execution_count": null,
      "metadata": {
        "colab": {
          "base_uri": "https://localhost:8080/"
        },
        "id": "f6F9f1uCbqkZ",
        "outputId": "8b8c8a02-78df-47fb-c0ed-d9a190b18351"
      },
      "outputs": [
        {
          "data": {
            "text/plain": [
              "{'User-Agent': 'python-requests/2.25.1', 'Accept-Encoding': 'gzip, deflate', 'Accept': '*/*', 'Connection': 'keep-alive'}"
            ]
          },
          "execution_count": 20,
          "metadata": {},
          "output_type": "execute_result"
        }
      ],
      "source": [
        "#我送出的資料的headers\n",
        "r.request.headers"
      ]
    },
    {
      "cell_type": "code",
      "execution_count": null,
      "metadata": {
        "colab": {
          "base_uri": "https://localhost:8080/"
        },
        "id": "uqqM9FYXb0r-",
        "outputId": "3e5cf455-b4e5-403f-d91d-cb09f483defe"
      },
      "outputs": [
        {
          "data": {
            "text/plain": [
              "{'Connection': 'keep-alive', 'Content-Length': '949', 'Server': 'GitHub.com', 'Content-Type': 'text/html; charset=utf-8', 'permissions-policy': 'interest-cohort=()', 'Last-Modified': 'Sat, 09 Oct 2021 21:20:24 GMT', 'Access-Control-Allow-Origin': '*', 'ETag': 'W/\"61620798-9ed\"', 'expires': 'Sat, 04 Mar 2023 02:10:33 GMT', 'Cache-Control': 'max-age=600', 'Content-Encoding': 'gzip', 'x-proxy-cache': 'MISS', 'X-GitHub-Request-Id': '7760:3AF1:1AEAA8:231B3E:6402A641', 'Accept-Ranges': 'bytes', 'Date': 'Sat, 04 Mar 2023 02:12:54 GMT', 'Via': '1.1 varnish', 'Age': '65', 'X-Served-By': 'cache-iad-kjyo7100103-IAD', 'X-Cache': 'HIT', 'X-Cache-Hits': '1', 'X-Timer': 'S1677895974.241313,VS0,VE1', 'Vary': 'Accept-Encoding', 'X-Fastly-Request-ID': '62629c278874fd68b1ae0e85f025f62f900bf805'}"
            ]
          },
          "execution_count": 21,
          "metadata": {},
          "output_type": "execute_result"
        }
      ],
      "source": [
        "#他給我的資料的headers\n",
        "r.headers"
      ]
    },
    {
      "cell_type": "markdown",
      "metadata": {
        "id": "d8DICasOV0lg"
      },
      "source": [
        "##抓取Ajax網頁資料"
      ]
    },
    {
      "cell_type": "markdown",
      "metadata": {
        "id": "SxNhPNq8Ww5l"
      },
      "source": [
        "###從非Ajax網站的網頁上，可以直接看到資料。"
      ]
    },
    {
      "cell_type": "code",
      "execution_count": null,
      "metadata": {
        "colab": {
          "base_uri": "https://localhost:8080/",
          "height": 1000
        },
        "id": "mTg3pxPVV8ip",
        "outputId": "40ec2ab7-5995-4677-a10d-37151008f301"
      },
      "outputs": [
        {
          "name": "stdout",
          "output_type": "stream",
          "text": [
            "<!DOCTYPE html>\n",
            "<html>\n",
            "<head>\n",
            "    <!-- Required meta tags -->\n",
            "    <meta charset=\"utf-8\">\n",
            "    <meta name=\"viewport\" content=\"width=device-width, initial-scale=1, shrink-to-fit=no\">\n",
            "\n",
            "    <!-- Bootstrap CSS -->\n",
            "    <link rel=\"stylesheet\" href=\"https://maxcdn.bootstrapcdn.com/bootstrap/4.0.0/css/bootstrap.min.css\" integrity=\"sha384-Gn5384xqQ1aoWXA+058RXPxPg6fy4IWvTNh0E263XmFcJlSAwiGgFAW/dAiS6JXm\" crossorigin=\"anonymous\">\n",
            "    <link rel=\"stylesheet\" href=\"https://cdn.jsdelivr.net/npm/bootstrap-icons@1.5.0/font/bootstrap-icons.css\">\n",
            "    <title>HTML範例</title>\n",
            "</head>\n",
            "<body>\n",
            "  <div class=\"container\">\n",
            "    <h1>SPY股價</h1>\n",
            "  </div>\n",
            "    <div class=\"container\">\n",
            "<table border=\"1\" class=\"dataframe table table-striped\">\n",
            "  <thead>\n",
            "    <tr style=\"text-align: right;\">\n",
            "      <th></th>\n",
            "      <th>Open</th>\n",
            "      <th>High</th>\n",
            "      <th>Low</th>\n",
            "      <th>Close</th>\n",
            "      <th>Adj Close</th>\n",
            "      <th>Volume</th>\n",
            "    </tr>\n",
            "    <tr>\n",
            "      <th>Date</th>\n",
            "      <th></th>\n",
            "      <th></th>\n",
            "      <th></th>\n",
            "      <th></th>\n",
            "      <th></th>\n",
            "      <th></th>\n",
            "    </tr>\n",
            "  </thead>\n",
            "  <tbody>\n",
            "    <tr>\n",
            "      <th>2021-07-26</th>\n",
            "      <td>439.309998</td>\n",
            "      <td>441.029999</td>\n",
            "      <td>439.260010</td>\n",
            "      <td>441.019989</td>\n",
            "      <td>441.019989</td>\n",
            "      <td>43719200</td>\n",
            "    </tr>\n",
            "    <tr>\n",
            "      <th>2021-07-27</th>\n",
            "      <td>439.910004</td>\n",
            "      <td>439.940002</td>\n",
            "      <td>435.989990</td>\n",
            "      <td>439.010010</td>\n",
            "      <td>439.010010</td>\n",
            "      <td>67397100</td>\n",
            "    </tr>\n",
            "    <tr>\n",
            "      <th>2021-07-28</th>\n",
            "      <td>439.679993</td>\n",
            "      <td>440.299988</td>\n",
            "      <td>437.309998</td>\n",
            "      <td>438.829987</td>\n",
            "      <td>438.829987</td>\n",
            "      <td>52472400</td>\n",
            "    </tr>\n",
            "    <tr>\n",
            "      <th>2021-07-29</th>\n",
            "      <td>439.820007</td>\n",
            "      <td>441.799988</td>\n",
            "      <td>439.809998</td>\n",
            "      <td>440.649994</td>\n",
            "      <td>440.649994</td>\n",
            "      <td>47435300</td>\n",
            "    </tr>\n",
            "    <tr>\n",
            "      <th>2021-07-30</th>\n",
            "      <td>437.910004</td>\n",
            "      <td>440.059998</td>\n",
            "      <td>437.769989</td>\n",
            "      <td>438.510010</td>\n",
            "      <td>438.510010</td>\n",
            "      <td>68890600</td>\n",
            "    </tr>\n",
            "    <tr>\n",
            "      <th>2021-08-02</th>\n",
            "      <td>440.339996</td>\n",
            "      <td>440.929993</td>\n",
            "      <td>437.209991</td>\n",
            "      <td>437.589996</td>\n",
            "      <td>437.589996</td>\n",
            "      <td>58783300</td>\n",
            "    </tr>\n",
            "    <tr>\n",
            "      <th>2021-08-03</th>\n",
            "      <td>438.440002</td>\n",
            "      <td>441.279999</td>\n",
            "      <td>436.100006</td>\n",
            "      <td>441.149994</td>\n",
            "      <td>441.149994</td>\n",
            "      <td>58053900</td>\n",
            "    </tr>\n",
            "    <tr>\n",
            "      <th>2021-08-04</th>\n",
            "      <td>439.779999</td>\n",
            "      <td>441.119995</td>\n",
            "      <td>438.730011</td>\n",
            "      <td>438.980011</td>\n",
            "      <td>438.980011</td>\n",
            "      <td>46732200</td>\n",
            "    </tr>\n",
            "    <tr>\n",
            "      <th>2021-08-05</th>\n",
            "      <td>440.220001</td>\n",
            "      <td>441.850006</td>\n",
            "      <td>439.880005</td>\n",
            "      <td>441.760010</td>\n",
            "      <td>441.760010</td>\n",
            "      <td>38969700</td>\n",
            "    </tr>\n",
            "    <tr>\n",
            "      <th>2021-08-06</th>\n",
            "      <td>442.100006</td>\n",
            "      <td>442.940002</td>\n",
            "      <td>441.799988</td>\n",
            "      <td>442.489990</td>\n",
            "      <td>442.489990</td>\n",
            "      <td>46864100</td>\n",
            "    </tr>\n",
            "  </tbody>\n",
            "</table>\n",
            "\n",
            "</div>\n",
            "</body>\n",
            "</html>\n"
          ]
        },
        {
          "data": {
            "text/html": [
              "\n",
              "  <div id=\"df-5afc137b-2487-4d75-a4d1-d95eed4f15cb\">\n",
              "    <div class=\"colab-df-container\">\n",
              "      <div>\n",
              "<style scoped>\n",
              "    .dataframe tbody tr th:only-of-type {\n",
              "        vertical-align: middle;\n",
              "    }\n",
              "\n",
              "    .dataframe tbody tr th {\n",
              "        vertical-align: top;\n",
              "    }\n",
              "\n",
              "    .dataframe thead tr th {\n",
              "        text-align: left;\n",
              "    }\n",
              "</style>\n",
              "<table border=\"1\" class=\"dataframe\">\n",
              "  <thead>\n",
              "    <tr>\n",
              "      <th></th>\n",
              "      <th>Unnamed: 0_level_0</th>\n",
              "      <th>Open</th>\n",
              "      <th>High</th>\n",
              "      <th>Low</th>\n",
              "      <th>Close</th>\n",
              "      <th>Adj Close</th>\n",
              "      <th>Volume</th>\n",
              "    </tr>\n",
              "    <tr>\n",
              "      <th></th>\n",
              "      <th>Date</th>\n",
              "      <th>Unnamed: 1_level_1</th>\n",
              "      <th>Unnamed: 2_level_1</th>\n",
              "      <th>Unnamed: 3_level_1</th>\n",
              "      <th>Unnamed: 4_level_1</th>\n",
              "      <th>Unnamed: 5_level_1</th>\n",
              "      <th>Unnamed: 6_level_1</th>\n",
              "    </tr>\n",
              "  </thead>\n",
              "  <tbody>\n",
              "    <tr>\n",
              "      <th>0</th>\n",
              "      <td>2021-07-26</td>\n",
              "      <td>439.309998</td>\n",
              "      <td>441.029999</td>\n",
              "      <td>439.260010</td>\n",
              "      <td>441.019989</td>\n",
              "      <td>441.019989</td>\n",
              "      <td>43719200</td>\n",
              "    </tr>\n",
              "    <tr>\n",
              "      <th>1</th>\n",
              "      <td>2021-07-27</td>\n",
              "      <td>439.910004</td>\n",
              "      <td>439.940002</td>\n",
              "      <td>435.989990</td>\n",
              "      <td>439.010010</td>\n",
              "      <td>439.010010</td>\n",
              "      <td>67397100</td>\n",
              "    </tr>\n",
              "    <tr>\n",
              "      <th>2</th>\n",
              "      <td>2021-07-28</td>\n",
              "      <td>439.679993</td>\n",
              "      <td>440.299988</td>\n",
              "      <td>437.309998</td>\n",
              "      <td>438.829987</td>\n",
              "      <td>438.829987</td>\n",
              "      <td>52472400</td>\n",
              "    </tr>\n",
              "    <tr>\n",
              "      <th>3</th>\n",
              "      <td>2021-07-29</td>\n",
              "      <td>439.820007</td>\n",
              "      <td>441.799988</td>\n",
              "      <td>439.809998</td>\n",
              "      <td>440.649994</td>\n",
              "      <td>440.649994</td>\n",
              "      <td>47435300</td>\n",
              "    </tr>\n",
              "    <tr>\n",
              "      <th>4</th>\n",
              "      <td>2021-07-30</td>\n",
              "      <td>437.910004</td>\n",
              "      <td>440.059998</td>\n",
              "      <td>437.769989</td>\n",
              "      <td>438.510010</td>\n",
              "      <td>438.510010</td>\n",
              "      <td>68890600</td>\n",
              "    </tr>\n",
              "    <tr>\n",
              "      <th>5</th>\n",
              "      <td>2021-08-02</td>\n",
              "      <td>440.339996</td>\n",
              "      <td>440.929993</td>\n",
              "      <td>437.209991</td>\n",
              "      <td>437.589996</td>\n",
              "      <td>437.589996</td>\n",
              "      <td>58783300</td>\n",
              "    </tr>\n",
              "    <tr>\n",
              "      <th>6</th>\n",
              "      <td>2021-08-03</td>\n",
              "      <td>438.440002</td>\n",
              "      <td>441.279999</td>\n",
              "      <td>436.100006</td>\n",
              "      <td>441.149994</td>\n",
              "      <td>441.149994</td>\n",
              "      <td>58053900</td>\n",
              "    </tr>\n",
              "    <tr>\n",
              "      <th>7</th>\n",
              "      <td>2021-08-04</td>\n",
              "      <td>439.779999</td>\n",
              "      <td>441.119995</td>\n",
              "      <td>438.730011</td>\n",
              "      <td>438.980011</td>\n",
              "      <td>438.980011</td>\n",
              "      <td>46732200</td>\n",
              "    </tr>\n",
              "    <tr>\n",
              "      <th>8</th>\n",
              "      <td>2021-08-05</td>\n",
              "      <td>440.220001</td>\n",
              "      <td>441.850006</td>\n",
              "      <td>439.880005</td>\n",
              "      <td>441.760010</td>\n",
              "      <td>441.760010</td>\n",
              "      <td>38969700</td>\n",
              "    </tr>\n",
              "    <tr>\n",
              "      <th>9</th>\n",
              "      <td>2021-08-06</td>\n",
              "      <td>442.100006</td>\n",
              "      <td>442.940002</td>\n",
              "      <td>441.799988</td>\n",
              "      <td>442.489990</td>\n",
              "      <td>442.489990</td>\n",
              "      <td>46864100</td>\n",
              "    </tr>\n",
              "  </tbody>\n",
              "</table>\n",
              "</div>\n",
              "      <button class=\"colab-df-convert\" onclick=\"convertToInteractive('df-5afc137b-2487-4d75-a4d1-d95eed4f15cb')\"\n",
              "              title=\"Convert this dataframe to an interactive table.\"\n",
              "              style=\"display:none;\">\n",
              "        \n",
              "  <svg xmlns=\"http://www.w3.org/2000/svg\" height=\"24px\"viewBox=\"0 0 24 24\"\n",
              "       width=\"24px\">\n",
              "    <path d=\"M0 0h24v24H0V0z\" fill=\"none\"/>\n",
              "    <path d=\"M18.56 5.44l.94 2.06.94-2.06 2.06-.94-2.06-.94-.94-2.06-.94 2.06-2.06.94zm-11 1L8.5 8.5l.94-2.06 2.06-.94-2.06-.94L8.5 2.5l-.94 2.06-2.06.94zm10 10l.94 2.06.94-2.06 2.06-.94-2.06-.94-.94-2.06-.94 2.06-2.06.94z\"/><path d=\"M17.41 7.96l-1.37-1.37c-.4-.4-.92-.59-1.43-.59-.52 0-1.04.2-1.43.59L10.3 9.45l-7.72 7.72c-.78.78-.78 2.05 0 2.83L4 21.41c.39.39.9.59 1.41.59.51 0 1.02-.2 1.41-.59l7.78-7.78 2.81-2.81c.8-.78.8-2.07 0-2.86zM5.41 20L4 18.59l7.72-7.72 1.47 1.35L5.41 20z\"/>\n",
              "  </svg>\n",
              "      </button>\n",
              "      \n",
              "  <style>\n",
              "    .colab-df-container {\n",
              "      display:flex;\n",
              "      flex-wrap:wrap;\n",
              "      gap: 12px;\n",
              "    }\n",
              "\n",
              "    .colab-df-convert {\n",
              "      background-color: #E8F0FE;\n",
              "      border: none;\n",
              "      border-radius: 50%;\n",
              "      cursor: pointer;\n",
              "      display: none;\n",
              "      fill: #1967D2;\n",
              "      height: 32px;\n",
              "      padding: 0 0 0 0;\n",
              "      width: 32px;\n",
              "    }\n",
              "\n",
              "    .colab-df-convert:hover {\n",
              "      background-color: #E2EBFA;\n",
              "      box-shadow: 0px 1px 2px rgba(60, 64, 67, 0.3), 0px 1px 3px 1px rgba(60, 64, 67, 0.15);\n",
              "      fill: #174EA6;\n",
              "    }\n",
              "\n",
              "    [theme=dark] .colab-df-convert {\n",
              "      background-color: #3B4455;\n",
              "      fill: #D2E3FC;\n",
              "    }\n",
              "\n",
              "    [theme=dark] .colab-df-convert:hover {\n",
              "      background-color: #434B5C;\n",
              "      box-shadow: 0px 1px 3px 1px rgba(0, 0, 0, 0.15);\n",
              "      filter: drop-shadow(0px 1px 2px rgba(0, 0, 0, 0.3));\n",
              "      fill: #FFFFFF;\n",
              "    }\n",
              "  </style>\n",
              "\n",
              "      <script>\n",
              "        const buttonEl =\n",
              "          document.querySelector('#df-5afc137b-2487-4d75-a4d1-d95eed4f15cb button.colab-df-convert');\n",
              "        buttonEl.style.display =\n",
              "          google.colab.kernel.accessAllowed ? 'block' : 'none';\n",
              "\n",
              "        async function convertToInteractive(key) {\n",
              "          const element = document.querySelector('#df-5afc137b-2487-4d75-a4d1-d95eed4f15cb');\n",
              "          const dataTable =\n",
              "            await google.colab.kernel.invokeFunction('convertToInteractive',\n",
              "                                                     [key], {});\n",
              "          if (!dataTable) return;\n",
              "\n",
              "          const docLinkHtml = 'Like what you see? Visit the ' +\n",
              "            '<a target=\"_blank\" href=https://colab.research.google.com/notebooks/data_table.ipynb>data table notebook</a>'\n",
              "            + ' to learn more about interactive tables.';\n",
              "          element.innerHTML = '';\n",
              "          dataTable['output_type'] = 'display_data';\n",
              "          await google.colab.output.renderOutput(dataTable, element);\n",
              "          const docLink = document.createElement('div');\n",
              "          docLink.innerHTML = docLinkHtml;\n",
              "          element.appendChild(docLink);\n",
              "        }\n",
              "      </script>\n",
              "    </div>\n",
              "  </div>\n",
              "  "
            ],
            "text/plain": [
              "  Unnamed: 0_level_0               Open               High                Low  \\\n",
              "                Date Unnamed: 1_level_1 Unnamed: 2_level_1 Unnamed: 3_level_1   \n",
              "0         2021-07-26         439.309998         441.029999         439.260010   \n",
              "1         2021-07-27         439.910004         439.940002         435.989990   \n",
              "2         2021-07-28         439.679993         440.299988         437.309998   \n",
              "3         2021-07-29         439.820007         441.799988         439.809998   \n",
              "4         2021-07-30         437.910004         440.059998         437.769989   \n",
              "5         2021-08-02         440.339996         440.929993         437.209991   \n",
              "6         2021-08-03         438.440002         441.279999         436.100006   \n",
              "7         2021-08-04         439.779999         441.119995         438.730011   \n",
              "8         2021-08-05         440.220001         441.850006         439.880005   \n",
              "9         2021-08-06         442.100006         442.940002         441.799988   \n",
              "\n",
              "               Close          Adj Close             Volume  \n",
              "  Unnamed: 4_level_1 Unnamed: 5_level_1 Unnamed: 6_level_1  \n",
              "0         441.019989         441.019989           43719200  \n",
              "1         439.010010         439.010010           67397100  \n",
              "2         438.829987         438.829987           52472400  \n",
              "3         440.649994         440.649994           47435300  \n",
              "4         438.510010         438.510010           68890600  \n",
              "5         437.589996         437.589996           58783300  \n",
              "6         441.149994         441.149994           58053900  \n",
              "7         438.980011         438.980011           46732200  \n",
              "8         441.760010         441.760010           38969700  \n",
              "9         442.489990         442.489990           46864100  "
            ]
          },
          "execution_count": 13,
          "metadata": {},
          "output_type": "execute_result"
        }
      ],
      "source": [
        "url = \"https://victorgau.github.io/khpy_web_intro/spy.html\"\n",
        "r = requests.get(url)\n",
        "print(r.text)\n",
        "\n",
        "import pandas as pd\n",
        "dfs = pd.read_html(url)\n",
        "dfs[0]"
      ]
    },
    {
      "cell_type": "markdown",
      "metadata": {
        "id": "zVLUHII4W6Un"
      },
      "source": [
        "###從Ajax網站的網頁上，可能看不到資料\n",
        "只會抓到框架（標題...等）\n",
        "\n",
        "網頁瀏覽器開發者頁籤的網路頁籤\n",
        "\n",
        "先看doc（看html)\n",
        "\n",
        "xhr"
      ]
    },
    {
      "cell_type": "code",
      "execution_count": null,
      "metadata": {
        "id": "nLqzBBREWY4z"
      },
      "outputs": [],
      "source": [
        "url = \"https://victorgau.github.io/khpy_web_intro/spy_ajax.html\"\n",
        "r = requests.get(url)\n",
        "print(r.text)"
      ]
    },
    {
      "cell_type": "code",
      "execution_count": null,
      "metadata": {
        "id": "qh91oRiBhsJl"
      },
      "outputs": [],
      "source": [
        "url = \"https://victorgau.github.io/khpy_web_intro/spy.json?_=1677898063355\"\n",
        "data = requests.get(url).json()\n",
        "df.head()"
      ]
    },
    {
      "cell_type": "markdown",
      "metadata": {
        "id": "JnDfQVuSdWhp"
      },
      "source": [
        "##關於pandas的read_html()"
      ]
    },
    {
      "cell_type": "code",
      "execution_count": null,
      "metadata": {
        "id": "JoeF_vS8dbPn"
      },
      "outputs": [],
      "source": [
        "url = \"https://en.wikipedia.org/wiki/List_of_S%26P_500_companies\"\n",
        "dfs = pd.read_html(url)"
      ]
    },
    {
      "cell_type": "code",
      "execution_count": null,
      "metadata": {
        "colab": {
          "base_uri": "https://localhost:8080/"
        },
        "id": "vuknTWsYdkuw",
        "outputId": "3a98d08c-fbd1-4386-be79-03ea72aebf33"
      },
      "outputs": [
        {
          "data": {
            "text/plain": [
              "list"
            ]
          },
          "execution_count": 116,
          "metadata": {},
          "output_type": "execute_result"
        }
      ],
      "source": [
        "type(dfs)"
      ]
    },
    {
      "cell_type": "code",
      "execution_count": null,
      "metadata": {
        "colab": {
          "base_uri": "https://localhost:8080/"
        },
        "id": "EL5UKw6fdnVy",
        "outputId": "4bf2e834-8ec4-4995-dbad-4cad25d13393"
      },
      "outputs": [
        {
          "data": {
            "text/plain": [
              "2"
            ]
          },
          "execution_count": 117,
          "metadata": {},
          "output_type": "execute_result"
        }
      ],
      "source": [
        "len(dfs)"
      ]
    },
    {
      "cell_type": "code",
      "execution_count": null,
      "metadata": {
        "colab": {
          "base_uri": "https://localhost:8080/",
          "height": 548
        },
        "id": "-BD9KY53duqE",
        "outputId": "b8ef010f-478d-48d0-fcaa-0f04d9dde78a"
      },
      "outputs": [
        {
          "data": {
            "text/html": [
              "\n",
              "  <div id=\"df-36d121a2-ae99-4269-9232-a8a48bb451d5\">\n",
              "    <div class=\"colab-df-container\">\n",
              "      <div>\n",
              "<style scoped>\n",
              "    .dataframe tbody tr th:only-of-type {\n",
              "        vertical-align: middle;\n",
              "    }\n",
              "\n",
              "    .dataframe tbody tr th {\n",
              "        vertical-align: top;\n",
              "    }\n",
              "\n",
              "    .dataframe thead th {\n",
              "        text-align: right;\n",
              "    }\n",
              "</style>\n",
              "<table border=\"1\" class=\"dataframe\">\n",
              "  <thead>\n",
              "    <tr style=\"text-align: right;\">\n",
              "      <th></th>\n",
              "      <th>Symbol</th>\n",
              "      <th>Security</th>\n",
              "      <th>GICS Sector</th>\n",
              "      <th>GICS Sub-Industry</th>\n",
              "      <th>Headquarters Location</th>\n",
              "      <th>Date added</th>\n",
              "      <th>CIK</th>\n",
              "      <th>Founded</th>\n",
              "    </tr>\n",
              "  </thead>\n",
              "  <tbody>\n",
              "    <tr>\n",
              "      <th>0</th>\n",
              "      <td>MMM</td>\n",
              "      <td>3M</td>\n",
              "      <td>Industrials</td>\n",
              "      <td>Industrial Conglomerates</td>\n",
              "      <td>Saint Paul, Minnesota</td>\n",
              "      <td>1957-03-04</td>\n",
              "      <td>66740</td>\n",
              "      <td>1902</td>\n",
              "    </tr>\n",
              "    <tr>\n",
              "      <th>1</th>\n",
              "      <td>AOS</td>\n",
              "      <td>A. O. Smith</td>\n",
              "      <td>Industrials</td>\n",
              "      <td>Building Products</td>\n",
              "      <td>Milwaukee, Wisconsin</td>\n",
              "      <td>2017-07-26</td>\n",
              "      <td>91142</td>\n",
              "      <td>1916</td>\n",
              "    </tr>\n",
              "    <tr>\n",
              "      <th>2</th>\n",
              "      <td>ABT</td>\n",
              "      <td>Abbott</td>\n",
              "      <td>Health Care</td>\n",
              "      <td>Health Care Equipment</td>\n",
              "      <td>North Chicago, Illinois</td>\n",
              "      <td>1957-03-04</td>\n",
              "      <td>1800</td>\n",
              "      <td>1888</td>\n",
              "    </tr>\n",
              "    <tr>\n",
              "      <th>3</th>\n",
              "      <td>ABBV</td>\n",
              "      <td>AbbVie</td>\n",
              "      <td>Health Care</td>\n",
              "      <td>Pharmaceuticals</td>\n",
              "      <td>North Chicago, Illinois</td>\n",
              "      <td>2012-12-31</td>\n",
              "      <td>1551152</td>\n",
              "      <td>2013 (1888)</td>\n",
              "    </tr>\n",
              "    <tr>\n",
              "      <th>4</th>\n",
              "      <td>ACN</td>\n",
              "      <td>Accenture</td>\n",
              "      <td>Information Technology</td>\n",
              "      <td>IT Consulting &amp; Other Services</td>\n",
              "      <td>Dublin, Ireland</td>\n",
              "      <td>2011-07-06</td>\n",
              "      <td>1467373</td>\n",
              "      <td>1989</td>\n",
              "    </tr>\n",
              "    <tr>\n",
              "      <th>...</th>\n",
              "      <td>...</td>\n",
              "      <td>...</td>\n",
              "      <td>...</td>\n",
              "      <td>...</td>\n",
              "      <td>...</td>\n",
              "      <td>...</td>\n",
              "      <td>...</td>\n",
              "      <td>...</td>\n",
              "    </tr>\n",
              "    <tr>\n",
              "      <th>498</th>\n",
              "      <td>YUM</td>\n",
              "      <td>Yum! Brands</td>\n",
              "      <td>Consumer Discretionary</td>\n",
              "      <td>Restaurants</td>\n",
              "      <td>Louisville, Kentucky</td>\n",
              "      <td>1997-10-06</td>\n",
              "      <td>1041061</td>\n",
              "      <td>1997</td>\n",
              "    </tr>\n",
              "    <tr>\n",
              "      <th>499</th>\n",
              "      <td>ZBRA</td>\n",
              "      <td>Zebra Technologies</td>\n",
              "      <td>Information Technology</td>\n",
              "      <td>Electronic Equipment &amp; Instruments</td>\n",
              "      <td>Lincolnshire, Illinois</td>\n",
              "      <td>2019-12-23</td>\n",
              "      <td>877212</td>\n",
              "      <td>1969</td>\n",
              "    </tr>\n",
              "    <tr>\n",
              "      <th>500</th>\n",
              "      <td>ZBH</td>\n",
              "      <td>Zimmer Biomet</td>\n",
              "      <td>Health Care</td>\n",
              "      <td>Health Care Equipment</td>\n",
              "      <td>Warsaw, Indiana</td>\n",
              "      <td>2001-08-07</td>\n",
              "      <td>1136869</td>\n",
              "      <td>1927</td>\n",
              "    </tr>\n",
              "    <tr>\n",
              "      <th>501</th>\n",
              "      <td>ZION</td>\n",
              "      <td>Zions Bancorporation</td>\n",
              "      <td>Financials</td>\n",
              "      <td>Regional Banks</td>\n",
              "      <td>Salt Lake City, Utah</td>\n",
              "      <td>2001-06-22</td>\n",
              "      <td>109380</td>\n",
              "      <td>1873</td>\n",
              "    </tr>\n",
              "    <tr>\n",
              "      <th>502</th>\n",
              "      <td>ZTS</td>\n",
              "      <td>Zoetis</td>\n",
              "      <td>Health Care</td>\n",
              "      <td>Pharmaceuticals</td>\n",
              "      <td>Parsippany, New Jersey</td>\n",
              "      <td>2013-06-21</td>\n",
              "      <td>1555280</td>\n",
              "      <td>1952</td>\n",
              "    </tr>\n",
              "  </tbody>\n",
              "</table>\n",
              "<p>503 rows × 8 columns</p>\n",
              "</div>\n",
              "      <button class=\"colab-df-convert\" onclick=\"convertToInteractive('df-36d121a2-ae99-4269-9232-a8a48bb451d5')\"\n",
              "              title=\"Convert this dataframe to an interactive table.\"\n",
              "              style=\"display:none;\">\n",
              "        \n",
              "  <svg xmlns=\"http://www.w3.org/2000/svg\" height=\"24px\"viewBox=\"0 0 24 24\"\n",
              "       width=\"24px\">\n",
              "    <path d=\"M0 0h24v24H0V0z\" fill=\"none\"/>\n",
              "    <path d=\"M18.56 5.44l.94 2.06.94-2.06 2.06-.94-2.06-.94-.94-2.06-.94 2.06-2.06.94zm-11 1L8.5 8.5l.94-2.06 2.06-.94-2.06-.94L8.5 2.5l-.94 2.06-2.06.94zm10 10l.94 2.06.94-2.06 2.06-.94-2.06-.94-.94-2.06-.94 2.06-2.06.94z\"/><path d=\"M17.41 7.96l-1.37-1.37c-.4-.4-.92-.59-1.43-.59-.52 0-1.04.2-1.43.59L10.3 9.45l-7.72 7.72c-.78.78-.78 2.05 0 2.83L4 21.41c.39.39.9.59 1.41.59.51 0 1.02-.2 1.41-.59l7.78-7.78 2.81-2.81c.8-.78.8-2.07 0-2.86zM5.41 20L4 18.59l7.72-7.72 1.47 1.35L5.41 20z\"/>\n",
              "  </svg>\n",
              "      </button>\n",
              "      \n",
              "  <style>\n",
              "    .colab-df-container {\n",
              "      display:flex;\n",
              "      flex-wrap:wrap;\n",
              "      gap: 12px;\n",
              "    }\n",
              "\n",
              "    .colab-df-convert {\n",
              "      background-color: #E8F0FE;\n",
              "      border: none;\n",
              "      border-radius: 50%;\n",
              "      cursor: pointer;\n",
              "      display: none;\n",
              "      fill: #1967D2;\n",
              "      height: 32px;\n",
              "      padding: 0 0 0 0;\n",
              "      width: 32px;\n",
              "    }\n",
              "\n",
              "    .colab-df-convert:hover {\n",
              "      background-color: #E2EBFA;\n",
              "      box-shadow: 0px 1px 2px rgba(60, 64, 67, 0.3), 0px 1px 3px 1px rgba(60, 64, 67, 0.15);\n",
              "      fill: #174EA6;\n",
              "    }\n",
              "\n",
              "    [theme=dark] .colab-df-convert {\n",
              "      background-color: #3B4455;\n",
              "      fill: #D2E3FC;\n",
              "    }\n",
              "\n",
              "    [theme=dark] .colab-df-convert:hover {\n",
              "      background-color: #434B5C;\n",
              "      box-shadow: 0px 1px 3px 1px rgba(0, 0, 0, 0.15);\n",
              "      filter: drop-shadow(0px 1px 2px rgba(0, 0, 0, 0.3));\n",
              "      fill: #FFFFFF;\n",
              "    }\n",
              "  </style>\n",
              "\n",
              "      <script>\n",
              "        const buttonEl =\n",
              "          document.querySelector('#df-36d121a2-ae99-4269-9232-a8a48bb451d5 button.colab-df-convert');\n",
              "        buttonEl.style.display =\n",
              "          google.colab.kernel.accessAllowed ? 'block' : 'none';\n",
              "\n",
              "        async function convertToInteractive(key) {\n",
              "          const element = document.querySelector('#df-36d121a2-ae99-4269-9232-a8a48bb451d5');\n",
              "          const dataTable =\n",
              "            await google.colab.kernel.invokeFunction('convertToInteractive',\n",
              "                                                     [key], {});\n",
              "          if (!dataTable) return;\n",
              "\n",
              "          const docLinkHtml = 'Like what you see? Visit the ' +\n",
              "            '<a target=\"_blank\" href=https://colab.research.google.com/notebooks/data_table.ipynb>data table notebook</a>'\n",
              "            + ' to learn more about interactive tables.';\n",
              "          element.innerHTML = '';\n",
              "          dataTable['output_type'] = 'display_data';\n",
              "          await google.colab.output.renderOutput(dataTable, element);\n",
              "          const docLink = document.createElement('div');\n",
              "          docLink.innerHTML = docLinkHtml;\n",
              "          element.appendChild(docLink);\n",
              "        }\n",
              "      </script>\n",
              "    </div>\n",
              "  </div>\n",
              "  "
            ],
            "text/plain": [
              "    Symbol              Security             GICS Sector  \\\n",
              "0      MMM                    3M             Industrials   \n",
              "1      AOS           A. O. Smith             Industrials   \n",
              "2      ABT                Abbott             Health Care   \n",
              "3     ABBV                AbbVie             Health Care   \n",
              "4      ACN             Accenture  Information Technology   \n",
              "..     ...                   ...                     ...   \n",
              "498    YUM           Yum! Brands  Consumer Discretionary   \n",
              "499   ZBRA    Zebra Technologies  Information Technology   \n",
              "500    ZBH         Zimmer Biomet             Health Care   \n",
              "501   ZION  Zions Bancorporation              Financials   \n",
              "502    ZTS                Zoetis             Health Care   \n",
              "\n",
              "                      GICS Sub-Industry    Headquarters Location  Date added  \\\n",
              "0              Industrial Conglomerates    Saint Paul, Minnesota  1957-03-04   \n",
              "1                     Building Products     Milwaukee, Wisconsin  2017-07-26   \n",
              "2                 Health Care Equipment  North Chicago, Illinois  1957-03-04   \n",
              "3                       Pharmaceuticals  North Chicago, Illinois  2012-12-31   \n",
              "4        IT Consulting & Other Services          Dublin, Ireland  2011-07-06   \n",
              "..                                  ...                      ...         ...   \n",
              "498                         Restaurants     Louisville, Kentucky  1997-10-06   \n",
              "499  Electronic Equipment & Instruments   Lincolnshire, Illinois  2019-12-23   \n",
              "500               Health Care Equipment          Warsaw, Indiana  2001-08-07   \n",
              "501                      Regional Banks     Salt Lake City, Utah  2001-06-22   \n",
              "502                     Pharmaceuticals   Parsippany, New Jersey  2013-06-21   \n",
              "\n",
              "         CIK      Founded  \n",
              "0      66740         1902  \n",
              "1      91142         1916  \n",
              "2       1800         1888  \n",
              "3    1551152  2013 (1888)  \n",
              "4    1467373         1989  \n",
              "..       ...          ...  \n",
              "498  1041061         1997  \n",
              "499   877212         1969  \n",
              "500  1136869         1927  \n",
              "501   109380         1873  \n",
              "502  1555280         1952  \n",
              "\n",
              "[503 rows x 8 columns]"
            ]
          },
          "execution_count": 118,
          "metadata": {},
          "output_type": "execute_result"
        }
      ],
      "source": [
        "dfs[0]"
      ]
    },
    {
      "cell_type": "code",
      "execution_count": null,
      "metadata": {
        "id": "q_2MC7G0dx-q"
      },
      "outputs": [],
      "source": [
        "dfs[1]"
      ]
    },
    {
      "cell_type": "markdown",
      "metadata": {
        "id": "zYvFKmPzjYaT"
      },
      "source": [
        "#剖析網頁原始碼\n",
        "需要Beautifulsoup"
      ]
    },
    {
      "cell_type": "code",
      "execution_count": null,
      "metadata": {
        "id": "atf0ERHcjqJJ"
      },
      "outputs": [],
      "source": [
        "s = \"\"\"\n",
        "<!DOCTYPE html>\n",
        "<html>\n",
        "<head>\n",
        "    <!-- Required meta tags -->\n",
        "    <meta charset=\"utf-8\">\n",
        "    <meta name=\"viewport\" content=\"width=device-width, initial-scale=1, shrink-to-fit=no\">\n",
        "\n",
        "    <!-- Bootstrap CSS -->\n",
        "    <link rel=\"stylesheet\" href=\"https://maxcdn.bootstrapcdn.com/bootstrap/4.0.0/css/bootstrap.min.css\" integrity=\"sha384-Gn5384xqQ1aoWXA+058RXPxPg6fy4IWvTNh0E263XmFcJlSAwiGgFAW/dAiS6JXm\" crossorigin=\"anonymous\">\n",
        "    <link rel=\"stylesheet\" href=\"https://cdn.jsdelivr.net/npm/bootstrap-icons@1.5.0/font/bootstrap-icons.css\">\n",
        "    <title>範例索引</title>\n",
        "</head>\n",
        "<body>\n",
        "    <div class=\"container\">\n",
        "        <div class=\"row my-5\">\n",
        "            <div class=\"col\">\n",
        "                <h1 class=\"bg-warning p-3 rounded\">Web及爬蟲簡介課程範例</h1>\n",
        "\n",
        "                <ul class=\"list-group\">\n",
        "                    <li class=\"list-group-item\"><i class=\"bi bi-globe\"></i> <a href=\"html_only.html\">HTML 範例</a></li>\n",
        "                    <li class=\"list-group-item\"><i class=\"bi bi-globe\"></i> <a href=\"html_css.html\">HTML + CSS 範例</a></li>\n",
        "                    <li class=\"list-group-item\"><i class=\"bi bi-globe\"></i> <a href=\"html_css_javascript.html\">HTML + CSS + Javascript 範例</a></li>\n",
        "                    <li class=\"list-group-item\"><i class=\"bi bi-bug\"></i> <a href=\"example01.html\">example01.html (爬蟲抓取用範例)</a></li>\n",
        "                    <li class=\"list-group-item\"><i class=\"bi bi-bug\"></i> <a href=\"example02.html\">example02.html (爬蟲抓取用範例)</a></li>\n",
        "                    <li class=\"list-group-item\"><i class=\"bi bi-bug\"></i> <a href=\"example03.html\">example03.html (爬蟲抓取用範例)</a></li>\n",
        "                    <li class=\"list-group-item\"><i class=\"bi bi-bug\"></i> <a href=\"example04.html\">example04.html (爬蟲抓取用範例)</a></li>\n",
        "                    <li class=\"list-group-item\"><i class=\"bi bi-bug\"></i> <a href=\"example05.html\">example05.html (爬蟲抓取用範例)</a></li>\n",
        "                    <li class=\"list-group-item\"><i class=\"bi bi-bug\"></i> <a href=\"spy.html\">Classic HTML 範例 (爬蟲抓取用範例)</a></li>\n",
        "                    <li class=\"list-group-item\"><i class=\"bi bi-bug\"></i> <a href=\"spy_ajax.html\">Ajax 範例 (爬蟲抓取用範例)</a></li>\n",
        "                    <li class=\"list-group-item\"><i class=\"bi bi-bug\"></i> <a href=\"form_get.html\">HTTP GET 方法說明</a></li>\n",
        "                    <li class=\"list-group-item\"><i class=\"bi bi-bug\"></i> <a href=\"form_post.html\">HTTP POST 方法說明</a></li>\n",
        "                </ul>         \n",
        "            </div>\n",
        "    \n",
        "        </div>\n",
        "    </div>\n",
        "\n",
        "<!-- Optional JavaScript -->\n",
        "<!-- jQuery first, then Popper.js, then Bootstrap JS -->\n",
        "<script src=\"https://code.jquery.com/jquery-3.2.1.slim.min.js\" integrity=\"sha384-KJ3o2DKtIkvYIK3UENzmM7KCkRr/rE9/Qpg6aAZGJwFDMVNA/GpGFF93hXpG5KkN\" crossorigin=\"anonymous\"></script>\n",
        "<script src=\"https://cdnjs.cloudflare.com/ajax/libs/popper.js/1.12.9/umd/popper.min.js\" integrity=\"sha384-ApNbgh9B+Y1QKtv3Rn7W3mgPxhU9K/ScQsAP7hUibX39j7fakFPskvXusvfa0b4Q\" crossorigin=\"anonymous\"></script>\n",
        "<script src=\"https://maxcdn.bootstrapcdn.com/bootstrap/4.0.0/js/bootstrap.min.js\" integrity=\"sha384-JZR6Spejh4U02d8jOt6vLEHfe/JQGiRRSQQxSfFWpi1MquVdAyjUar5+76PVCmYl\" crossorigin=\"anonymous\"></script>\n",
        "\n",
        "</body>\n",
        "</html>\"\"\""
      ]
    },
    {
      "cell_type": "code",
      "execution_count": null,
      "metadata": {
        "colab": {
          "base_uri": "https://localhost:8080/"
        },
        "id": "31TgWQZEj_-m",
        "outputId": "516ebbfb-e4ab-4473-d18a-262ef1887f75"
      },
      "outputs": [
        {
          "data": {
            "text/plain": [
              "str"
            ]
          },
          "execution_count": 30,
          "metadata": {},
          "output_type": "execute_result"
        }
      ],
      "source": [
        "type(s)"
      ]
    },
    {
      "cell_type": "code",
      "execution_count": null,
      "metadata": {
        "id": "WW6cAAqckK-J"
      },
      "outputs": [],
      "source": [
        "from bs4 import BeautifulSoup\n",
        "soup = BeautifulSoup(s)"
      ]
    },
    {
      "cell_type": "code",
      "execution_count": null,
      "metadata": {
        "colab": {
          "base_uri": "https://localhost:8080/"
        },
        "id": "rW18Kn3AkYUY",
        "outputId": "562c5025-576e-4a8d-85fa-0660d007fcdd"
      },
      "outputs": [
        {
          "data": {
            "text/plain": [
              "<h1 class=\"bg-warning p-3 rounded\">Web及爬蟲簡介課程範例</h1>"
            ]
          },
          "execution_count": 33,
          "metadata": {},
          "output_type": "execute_result"
        }
      ],
      "source": [
        "soup.h1"
      ]
    },
    {
      "cell_type": "code",
      "execution_count": null,
      "metadata": {
        "colab": {
          "base_uri": "https://localhost:8080/",
          "height": 35
        },
        "id": "DeQk5Y9Ykec6",
        "outputId": "334027a6-d585-429b-a058-4d83509aab1b"
      },
      "outputs": [
        {
          "data": {
            "application/vnd.google.colaboratory.intrinsic+json": {
              "type": "string"
            },
            "text/plain": [
              "'Web及爬蟲簡介課程範例'"
            ]
          },
          "execution_count": 34,
          "metadata": {},
          "output_type": "execute_result"
        }
      ],
      "source": [
        "soup.h1.text"
      ]
    },
    {
      "cell_type": "code",
      "execution_count": null,
      "metadata": {
        "colab": {
          "base_uri": "https://localhost:8080/"
        },
        "id": "vANXdB8vkoUN",
        "outputId": "7a449684-c08f-47df-d0eb-6fc26fb4aec8"
      },
      "outputs": [
        {
          "data": {
            "text/plain": [
              "<li class=\"list-group-item\"><i class=\"bi bi-globe\"></i> <a href=\"html_only.html\">HTML 範例</a></li>"
            ]
          },
          "execution_count": 35,
          "metadata": {},
          "output_type": "execute_result"
        }
      ],
      "source": [
        "soup.li"
      ]
    },
    {
      "cell_type": "code",
      "execution_count": null,
      "metadata": {
        "colab": {
          "base_uri": "https://localhost:8080/"
        },
        "id": "klfpMNILksc6",
        "outputId": "fd502130-a5ed-40b6-b09f-e9e919dca4bb"
      },
      "outputs": [
        {
          "data": {
            "text/plain": [
              "[<li class=\"list-group-item\"><i class=\"bi bi-globe\"></i> <a href=\"html_only.html\">HTML 範例</a></li>,\n",
              " <li class=\"list-group-item\"><i class=\"bi bi-globe\"></i> <a href=\"html_css.html\">HTML + CSS 範例</a></li>,\n",
              " <li class=\"list-group-item\"><i class=\"bi bi-globe\"></i> <a href=\"html_css_javascript.html\">HTML + CSS + Javascript 範例</a></li>,\n",
              " <li class=\"list-group-item\"><i class=\"bi bi-bug\"></i> <a href=\"example01.html\">example01.html (爬蟲抓取用範例)</a></li>,\n",
              " <li class=\"list-group-item\"><i class=\"bi bi-bug\"></i> <a href=\"example02.html\">example02.html (爬蟲抓取用範例)</a></li>,\n",
              " <li class=\"list-group-item\"><i class=\"bi bi-bug\"></i> <a href=\"example03.html\">example03.html (爬蟲抓取用範例)</a></li>,\n",
              " <li class=\"list-group-item\"><i class=\"bi bi-bug\"></i> <a href=\"example04.html\">example04.html (爬蟲抓取用範例)</a></li>,\n",
              " <li class=\"list-group-item\"><i class=\"bi bi-bug\"></i> <a href=\"example05.html\">example05.html (爬蟲抓取用範例)</a></li>,\n",
              " <li class=\"list-group-item\"><i class=\"bi bi-bug\"></i> <a href=\"spy.html\">Classic HTML 範例 (爬蟲抓取用範例)</a></li>,\n",
              " <li class=\"list-group-item\"><i class=\"bi bi-bug\"></i> <a href=\"spy_ajax.html\">Ajax 範例 (爬蟲抓取用範例)</a></li>,\n",
              " <li class=\"list-group-item\"><i class=\"bi bi-bug\"></i> <a href=\"form_get.html\">HTTP GET 方法說明</a></li>,\n",
              " <li class=\"list-group-item\"><i class=\"bi bi-bug\"></i> <a href=\"form_post.html\">HTTP POST 方法說明</a></li>]"
            ]
          },
          "execution_count": 36,
          "metadata": {},
          "output_type": "execute_result"
        }
      ],
      "source": [
        "soup.select(\"li\")"
      ]
    },
    {
      "cell_type": "code",
      "execution_count": null,
      "metadata": {
        "colab": {
          "base_uri": "https://localhost:8080/"
        },
        "id": "RVbQ-FRLpLYr",
        "outputId": "a5008a17-cb34-4714-cb51-e00c45564cbf"
      },
      "outputs": [
        {
          "data": {
            "text/plain": [
              "<li class=\"list-group-item\"><i class=\"bi bi-globe\"></i> <a href=\"html_only.html\">HTML 範例</a></li>"
            ]
          },
          "execution_count": 38,
          "metadata": {},
          "output_type": "execute_result"
        }
      ],
      "source": [
        "#第一筆資料\n",
        "soup.select(\"li\")[0]"
      ]
    },
    {
      "cell_type": "code",
      "execution_count": null,
      "metadata": {
        "colab": {
          "base_uri": "https://localhost:8080/",
          "height": 35
        },
        "id": "-PCSu2F7pQ7z",
        "outputId": "e78d8fb6-9011-48eb-afcf-74c75f3c2013"
      },
      "outputs": [
        {
          "data": {
            "application/vnd.google.colaboratory.intrinsic+json": {
              "type": "string"
            },
            "text/plain": [
              "' HTML 範例'"
            ]
          },
          "execution_count": 39,
          "metadata": {},
          "output_type": "execute_result"
        }
      ],
      "source": [
        "#文字部分\n",
        "soup.select(\"li\")[0].text"
      ]
    },
    {
      "cell_type": "code",
      "execution_count": null,
      "metadata": {
        "colab": {
          "base_uri": "https://localhost:8080/"
        },
        "id": "w_S6iNaRpdnc",
        "outputId": "428642ce-98d1-4381-cacf-f4bd54497613"
      },
      "outputs": [
        {
          "name": "stdout",
          "output_type": "stream",
          "text": [
            " HTML 範例\n",
            " HTML + CSS 範例\n",
            " HTML + CSS + Javascript 範例\n",
            " example01.html (爬蟲抓取用範例)\n",
            " example02.html (爬蟲抓取用範例)\n",
            " example03.html (爬蟲抓取用範例)\n",
            " example04.html (爬蟲抓取用範例)\n",
            " example05.html (爬蟲抓取用範例)\n",
            " Classic HTML 範例 (爬蟲抓取用範例)\n",
            " Ajax 範例 (爬蟲抓取用範例)\n",
            " HTTP GET 方法說明\n",
            " HTTP POST 方法說明\n"
          ]
        }
      ],
      "source": [
        "for x in soup.select(\"li\"):\n",
        "  print(x.text)"
      ]
    },
    {
      "cell_type": "code",
      "execution_count": null,
      "metadata": {
        "colab": {
          "base_uri": "https://localhost:8080/"
        },
        "id": "RQ_t7MKyp7nJ",
        "outputId": "9c22b092-3ab0-44c8-e232-7712b457c4fa"
      },
      "outputs": [
        {
          "name": "stdout",
          "output_type": "stream",
          "text": [
            " 0 :  HTML 範例\n",
            " 1 :  HTML + CSS 範例\n",
            " 2 :  HTML + CSS + Javascript 範例\n",
            " 3 :  example01.html (爬蟲抓取用範例)\n",
            " 4 :  example02.html (爬蟲抓取用範例)\n",
            " 5 :  example03.html (爬蟲抓取用範例)\n",
            " 6 :  example04.html (爬蟲抓取用範例)\n",
            " 7 :  example05.html (爬蟲抓取用範例)\n",
            " 8 :  Classic HTML 範例 (爬蟲抓取用範例)\n",
            " 9 :  Ajax 範例 (爬蟲抓取用範例)\n",
            "10 :  HTTP GET 方法說明\n",
            "11 :  HTTP POST 方法說明\n"
          ]
        }
      ],
      "source": [
        "for i, x in enumerate(soup.select(\"li\")):\n",
        "  print(f\"{i:2}\", \":\", x.text)"
      ]
    },
    {
      "cell_type": "markdown",
      "metadata": {
        "id": "-j3HIcJlkoAw"
      },
      "source": [
        "#關於字串格式化\n",
        "f\"\""
      ]
    },
    {
      "cell_type": "code",
      "execution_count": null,
      "metadata": {
        "id": "K_YyQofRqTZN"
      },
      "outputs": [],
      "source": [
        "x = 1 \n",
        "y = 1.23\n",
        "z = True\n",
        "w = \"dog\""
      ]
    },
    {
      "cell_type": "code",
      "execution_count": null,
      "metadata": {
        "colab": {
          "base_uri": "https://localhost:8080/"
        },
        "id": "8dJosz4NuqFb",
        "outputId": "50a66a7d-eea0-4895-dbe5-fd5ebc47ac70"
      },
      "outputs": [
        {
          "name": "stdout",
          "output_type": "stream",
          "text": [
            "1 1.23 True dog\n",
            "11.23Truedog\n",
            "1+1.23+True+dog\n",
            "1+1.23+True+doguuuuisjdfhsiuefuise\n"
          ]
        }
      ],
      "source": [
        "print(x, y ,z ,w)\n",
        "print(x, y ,z ,w, sep = \"\")\n",
        "print(x, y ,z ,w, sep = \"+\")\n",
        "print(x, y ,z ,w, sep = \"+\", end = \"\")\n",
        "print(\"uuuuisjdfhsiuefuise\")"
      ]
    },
    {
      "cell_type": "code",
      "execution_count": null,
      "metadata": {
        "colab": {
          "base_uri": "https://localhost:8080/"
        },
        "id": "Xas86kJyvLBL",
        "outputId": "d7769e97-94a5-48c0-961e-af015b6860f1"
      },
      "outputs": [
        {
          "name": "stdout",
          "output_type": "stream",
          "text": [
            "{x}, {y}, {z}, {w}\n",
            "1, 1.23, True, dog\n",
            "    1, 1.23, True, dog\n",
            "00001, 1.23, True, dog\n"
          ]
        }
      ],
      "source": [
        "print(\"{x}, {y}, {z}, {w}\")\n",
        "print(f\"{x}, {y}, {z}, {w}\")"
      ]
    },
    {
      "cell_type": "code",
      "execution_count": null,
      "metadata": {
        "colab": {
          "base_uri": "https://localhost:8080/"
        },
        "id": "FK72aPscwTqP",
        "outputId": "2031f002-f16b-4655-efd0-4e635685edd1"
      },
      "outputs": [
        {
          "name": "stdout",
          "output_type": "stream",
          "text": [
            "1, 1.23, True, dog\n",
            "    1, 1.23, True, dog\n",
            "00001, 1.23, True, dog\n"
          ]
        }
      ],
      "source": [
        "print(f\"{x}, {y}, {z}, {w}\")\n",
        "print(f\"{x:5}, {y}, {z}, {w}\")\n",
        "print(f\"{x:05}, {y}, {z}, {w}\")"
      ]
    },
    {
      "cell_type": "code",
      "execution_count": null,
      "metadata": {
        "colab": {
          "base_uri": "https://localhost:8080/"
        },
        "id": "nXdnReVTwWJx",
        "outputId": "96e1538b-5c6a-4c33-c83a-6b0770875d5c"
      },
      "outputs": [
        {
          "name": "stdout",
          "output_type": "stream",
          "text": [
            "1, 1.23, True, dog\n",
            "1,    1.23, True, dog\n",
            "1, 0001.23, True, dog\n",
            "1,     1.2, True, dog\n"
          ]
        }
      ],
      "source": [
        "print(f\"{x}, {y}, {z}, {w}\")\n",
        "#總共取7位，小數點後面2位\n",
        "print(f\"{x}, {y:7.2f}, {z}, {w}\")\n",
        "print(f\"{x}, {y:07.2f}, {z}, {w}\")\n",
        "#沒有f表示非填充用字符總共幾位\n",
        "print(f\"{x}, {y:7.2}, {z}, {w}\")"
      ]
    },
    {
      "cell_type": "code",
      "execution_count": null,
      "metadata": {
        "colab": {
          "base_uri": "https://localhost:8080/"
        },
        "id": "AN3O1F-pwjSC",
        "outputId": "f8b80c74-aa56-45db-a214-6ed655bec922"
      },
      "outputs": [
        {
          "name": "stdout",
          "output_type": "stream",
          "text": [
            "1, 1.23, True, dog\n",
            "1, 1.23, True, dog       \n",
            "1, 1.23, True,        dog\n"
          ]
        }
      ],
      "source": [
        "print(f\"{x}, {y}, {z}, {w}\")\n",
        "print(f\"{x}, {y}, {z}, {w:10}\")\n",
        "print(f\"{x}, {y}, {z}, {w:>10}\")\n",
        "print(f\"{x:5}, {y}, {z}, {w}\")  # 填充空格\n",
        "print(f\"{x:<5}, {y}, {z}, {w}\")  # 左對齊\n",
        "print(f\"{x:=>5}, {y}, {z}, {w}\")  # 填充等號"
      ]
    },
    {
      "cell_type": "markdown",
      "metadata": {
        "id": "H4uyPBXJxoKT"
      },
      "source": [
        "##string.format"
      ]
    },
    {
      "cell_type": "code",
      "execution_count": null,
      "metadata": {
        "id": "lc78KvSixqv3"
      },
      "outputs": [],
      "source": [
        "print(\"{}, {}, {}, {}\".format(x, y ,z, w,))"
      ]
    },
    {
      "cell_type": "markdown",
      "metadata": {
        "id": "1CIwVgKLCwFm"
      },
      "source": [
        "\n",
        "##練習"
      ]
    },
    {
      "cell_type": "code",
      "execution_count": null,
      "metadata": {
        "id": "61thMZ86CyGu"
      },
      "outputs": [],
      "source": [
        "popularity = [[\"Language\", 2017, 2012, 2007, 2002, 1997, 1992, 1987], \n",
        "          [\"Java\", 1, 2, 1, 1, 15, 0, 0],\n",
        "          [\"C\", 2, 1, 2, 2, 1, 1, 1],\n",
        "          [\"C++\", 3, 3, 3, 3, 2, 2, 5],\n",
        "          [\"C#\", 4, 4, 7, 13, 0, 0, 0],\n",
        "          [\"Python\", 5, 7, 6, 11, 27, 0, 0],\n",
        "          [\"Visual Basic .NET\", 6, 17, 0, 0, 0, 0, 0],\n",
        "          [\"PHP\", 7, 6, 4, 5, 0, 0, 0],\n",
        "          [\"JavaScript\", 8, 9, 8, 7, 23, 0, 0],\n",
        "          [\"Perl\", 9, 8, 5, 4, 4, 10, 0]]\n",
        "\n",
        "format_string = \"{:<20}  {:>4}  {:>4}  {:>4}  {:>4}  {:>4}  {:>4}  {:>4}\""
      ]
    },
    {
      "cell_type": "code",
      "execution_count": null,
      "metadata": {
        "id": "r0Xlu0GgDPUs"
      },
      "outputs": [],
      "source": [
        "for i in popularity:\n",
        "  print(format_string.format(i[0], i[1], i[2], i[3], i[4], i[5], i[6], i[7]))"
      ]
    },
    {
      "cell_type": "code",
      "execution_count": null,
      "metadata": {
        "colab": {
          "base_uri": "https://localhost:8080/"
        },
        "id": "MYE4F4r0C1k6",
        "outputId": "ee017b28-2041-47b1-d6ec-68c87baf0c96"
      },
      "outputs": [
        {
          "name": "stdout",
          "output_type": "stream",
          "text": [
            "Language              2017  2012  2007  2002  1997  1992  1987\n",
            "Java                     1     2     1     1    15     0     0\n",
            "C                        2     1     2     2     1     1     1\n",
            "C++                      3     3     3     3     2     2     5\n",
            "C#                       4     4     7    13     0     0     0\n",
            "Python                   5     7     6    11    27     0     0\n",
            "Visual Basic .NET        6    17     0     0     0     0     0\n",
            "PHP                      7     6     4     5     0     0     0\n",
            "JavaScript               8     9     8     7    23     0     0\n",
            "Perl                     9     8     5     4     4    10     0\n"
          ]
        }
      ],
      "source": [
        "#使用 * unpack list\n",
        "for i in popularity:\n",
        "  print(format_string.format(*i))"
      ]
    },
    {
      "cell_type": "markdown",
      "metadata": {
        "id": "Q4BlqR_QET0r"
      },
      "source": [
        "# 使用css selector來剖析資料\n",
        "https://www.w3schools.com/cssref/css_selectors.php\n"
      ]
    },
    {
      "cell_type": "code",
      "execution_count": null,
      "metadata": {
        "id": "uljx_TKQG48_"
      },
      "outputs": [],
      "source": [
        "import requests\n",
        "url = \"https://victorgau.github.io/khpy_web_intro/\"\n",
        "r = requests.get(url)\n",
        "soup = BeautifulSoup(r.text)"
      ]
    },
    {
      "cell_type": "code",
      "execution_count": null,
      "metadata": {
        "colab": {
          "base_uri": "https://localhost:8080/"
        },
        "id": "0L16iuxzHI11",
        "outputId": "749d40fa-e471-493e-d579-c770bb9a791c"
      },
      "outputs": [
        {
          "data": {
            "text/plain": [
              "[<li class=\"list-group-item\"><i class=\"bi bi-globe\"></i> <a href=\"html_only.html\">HTML 範例</a></li>,\n",
              " <li class=\"list-group-item\"><i class=\"bi bi-globe\"></i> <a href=\"html_css.html\">HTML + CSS 範例</a></li>,\n",
              " <li class=\"list-group-item\"><i class=\"bi bi-globe\"></i> <a href=\"html_css_javascript.html\">HTML + CSS + Javascript 範例</a></li>,\n",
              " <li class=\"list-group-item\"><i class=\"bi bi-bug\"></i> <a href=\"example01.html\">example01.html (爬蟲抓取用範例)</a></li>,\n",
              " <li class=\"list-group-item\"><i class=\"bi bi-bug\"></i> <a href=\"example02.html\">example02.html (爬蟲抓取用範例)</a></li>,\n",
              " <li class=\"list-group-item\"><i class=\"bi bi-bug\"></i> <a href=\"example03.html\">example03.html (爬蟲抓取用範例)</a></li>,\n",
              " <li class=\"list-group-item\"><i class=\"bi bi-bug\"></i> <a href=\"example04.html\">example04.html (爬蟲抓取用範例)</a></li>,\n",
              " <li class=\"list-group-item\"><i class=\"bi bi-bug\"></i> <a href=\"example05.html\">example05.html (爬蟲抓取用範例)</a></li>,\n",
              " <li class=\"list-group-item\"><i class=\"bi bi-bug\"></i> <a href=\"spy.html\">Classic HTML 範例 (爬蟲抓取用範例)</a></li>,\n",
              " <li class=\"list-group-item\"><i class=\"bi bi-bug\"></i> <a href=\"spy_ajax.html\">Ajax 範例 (爬蟲抓取用範例)</a></li>,\n",
              " <li class=\"list-group-item\"><i class=\"bi bi-bug\"></i> <a href=\"form_get.html\">HTTP GET 方法說明</a></li>,\n",
              " <li class=\"list-group-item\"><i class=\"bi bi-bug\"></i> <a href=\"form_post.html\">HTTP POST 方法說明</a></li>]"
            ]
          },
          "execution_count": 73,
          "metadata": {},
          "output_type": "execute_result"
        }
      ],
      "source": [
        "soup.select(\"li\")"
      ]
    },
    {
      "cell_type": "markdown",
      "metadata": {
        "id": "azRqM0USPVEZ"
      },
      "source": [
        "##抓取metacritic資料"
      ]
    },
    {
      "cell_type": "code",
      "execution_count": null,
      "metadata": {
        "colab": {
          "base_uri": "https://localhost:8080/",
          "height": 154
        },
        "id": "JTsnCkHyPYiW",
        "outputId": "c2b9ce94-a068-4ca4-921c-1f3cd0fa945e"
      },
      "outputs": [
        {
          "data": {
            "application/vnd.google.colaboratory.intrinsic+json": {
              "type": "string"
            },
            "text/plain": [
              "'<!DOCTYPE html>\\n<html xmlns:og=\"http://opengraphprotocol.org/schema/\" xmlns:fb=\"http://ogp.me/ns/fb#\">\\n<head>\\n            <title>Best Video Games of All Time - Metacritic</title>\\n        \\n    <meta http-equiv=\"content-type\" content=\"text/html; charset=UTF-8\">\\n\\n    \\n    <meta name=\"description\" content=\"See how well critics are rating the Best Video Games of All Time\">\\n\\n    \\n    \\n    \\n    <meta name=\"application-name\" content=\"Metacritic\">\\n    <meta name=\"msapplication-TileColor\" content=\"#000000\">\\n    <meta name=\"msapplication-TileImage\" content=\"/images/win8tile/76bf1426-2886-4b87-ae1c-06424b6bb8a2.png\">\\n\\n        \\n    <meta name=\"facebook-domain-verification\" content=\"618k3mbeki8tar7u6wvrum5lxs5cka\" />\\n\\n    \\n    \\n                                        <meta property=\"og:title\" content=\"Best Video Games of All Time\">\\n                                                <meta property=\"og:type\" content=\"website\">\\n                                                <meta property=\"og:url\" content=\"https://www.metacritic.com/browse/games/score/metascore/all/all/filtered\">\\n                                                <meta property=\"og:image\" content=\"https://static.metacritic.com/images/icons/mc_fb_og.png\">\\n                                                <meta property=\"og:site_name\" content=\"Metacritic\">\\n                                                <meta property=\"fb:app_id\" content=\"123113677890173\">\\n                                                <meta property=\"twitter:site\" content=\"@metacritic\">\\n                                                <meta property=\"twitter:creator\" content=\"@metacritic\">\\n                                                <meta name=\"twitter:card\" content=\"https://static.metacritic.com/images/icons/mc_fb_og.png\">\\n                                                <meta property=\"og:description\" content=\"See how well critics are rating the Best Video Games of All Time\">\\n                        \\n    \\n     \\n        <link rel=\"canonical\" href=\"https://www.metacritic.com/browse/games/score/metascore/all/all/filtered\" />\\n        \\n    \\n\\n    \\n                           \\n                            <link rel=\"next\" href=\"/browse/games/score/metascore/all/all/filtered?page=1\"/>\\n                \\n    \\n    \\n    \\n<link rel=\"dns-prefetch\" href=\"//cdn.cookielaw.org\" pr=\"1\">\\n<link rel=\"dns-prefetch\" href=\"//geolocation.onetrust.com\" pr=\"1\">\\n<link rel=\"preload\" type=\"application/x-javascript\" href=\"//cdn.cookielaw.org/consent/50e16f1d-a929-4cc0-80a7-3c5c303eea6a/50e16f1d-a929-4cc0-80a7-3c5c303eea6a.json\" pr=\"1\" as=\"fetch\" crossorigin=\"anonymous\" data-no-header>\\n<link rel=\"preload\" as=\"script\" type=\"text/javascript\" href=\"https://geolocation.onetrust.com/cookieconsentpub/v1/geo/location\" data-no-header>\\n\\n    \\n<script\\n    src=\"https://cdn.cookielaw.org/scripttemplates/otSDKStub.js\"\\n    type=\"text/javascript\"\\n    charset=\"UTF-8\"\\n    data-domain-script=\"50e16f1d-a929-4cc0-80a7-3c5c303eea6a\"\\n    async\\n>\\n</script>\\n\\n\\n<script type=\"application/javascript\">\\n    \\n    (function(a){\\n        var w=window,b=\\'cbsoptanon\\',q=\\'cmd\\',r=\\'config\\';\\n        w[b] = w[b] ? w[b] : {};\\n        w[b][q] = w[b][q] ? w[b][q] : [];\\n        w[b][r] = w[b][r] ? w[b][r] : [];\\n\\n        a.forEach(function(z){\\n            w[b][z] = w[b][z] || function(){\\n                var c=arguments;\\n                w[b][q].push(function(){\\n                    w[b][z].apply(w[b],c);\\n                })\\n            }\\n        });\\n    })([\"onIframesReady\",\"onFormsReady\",\"onScriptsReady\",\"onAdsReady\"]);\\n\\n    //Add configs\\n    window.cbsoptanon.config.push({\\n        setNpaOnConsentChange: true,\\n        euMaxAttempts: 25,\\n        countryCodeMaxAttempts: 25,\\n        oneTrustTimeout: 2000,\\n        enableServices: false\\n    });\\n\\n    //Load iframes as soon as ready\\n    window.cbsoptanon.onIframesReady(function(_cbsoptanon) {\\n        console.log(\\'Loading iframes\\');\\n        _cbsoptanon.tags.load(\"IFRAME\");\\n    });\\n\\n    window.MetaC = window.MetaC || {};\\n    MetaC.scriptExecuted = {};\\n\\n    function gdprConsentCallback(id, callback, callbackArgs, category, onReady) {\\n        onReady = onReady || \\'Scripts\\';\\n        var opt = window.cbsoptanon[\\'on\\'+onReady+\\'Ready\\'];\\n        MetaC.scriptExecuted[id] = false;\\n\\n        opt(function(_cbsoptanon, options) {\\n            //If we have categories we need to check if they are allowed\\n            if (category != null) {\\n                //Gets the current state of all categories\\n                var checkState = function () {\\n                    _cbsoptanon.ot.getState(function (targeting, performance, functional, social) {\\n                        var obj = {\\n                            targeting: targeting,\\n                            performance: performance,\\n                            functional: functional,\\n                            social: social\\n                        };\\n\\n                        if (obj[category.toLowerCase()]) {\\n                            window.MetaC.scriptExecuted[id] = true;\\n                            callback.apply(this, [callbackArgs, _cbsoptanon, options]);\\n                        }\\n                    });\\n                };\\n\\n                checkState();\\n\\n                _cbsoptanon.ot.addOnConsentChangedHandler(function() {\\n                    if (window.MetaC.scriptExecuted[id] !== true) {\\n                        checkState();\\n                    }\\n                });\\n            } else {\\n                //Just waiting for on ready fire callback\\n                callback.apply(this, [callbackArgs, _cbsoptanon, options]);\\n            }\\n        });\\n    }\\n\\n    // Function to add scripts to the page\\n    function append(scriptid,url,async){var d=document,sn=\\'script\\',f=d.getElementsByTagName(sn)[0];if(!f)f=d.head;var s=d.createElement(sn);s.async=!0;s.id=scriptid;s.src=url;f.parentNode.insertBefore(s,f)}\\n    // Set up Googletag cmd queue and init with disabling initial load\\n    \\n    \\n    window.googletag = window.googletag || {};\\n    googletag.cmd = googletag.cmd || [];\\n    googletag.cmd.push(function() {\\n        googletag.pubads().disableInitialLoad();\\n    });\\n    \\n</script>\\n\\n<script src=\"https://www.metacritic.com/a/privacy/optanon/optanon-v1.1.0.js\" id=\"bb-cbsoptanon\" type=\"application/javascript\" async></script>\\n\\n    \\n\\n\\n\\n            \\n    \\n\\n\\n\\n<meta name=\"adtags\" content=\"\">\\n\\n\\n<script type=\"text/javascript\" src=\"/js/omniture/uuid.js\"></script>\\n<script type=\"application/javascript\">\\n    \\n    var MC_UUID = uuid.v1();\\n    var chsn_ad_id = MC_UUID;\\n    var utag_data = {\\n        isDev:0,\\n        siteType:\"desktop web\",\\n        deviceType:\"desktop\",\\n        siteSection:\"games\",\\n        pageType:\"list_page\",\\n        pageFindingMethod:\"External\",\\n        userId:\"\",userState:\"not authenticated\",userType:\"registered\",isDev:\"0\",siteType:\"desktop web\",deviceType:\"desktop\",siteSection:\"games\",pageType:\"list_page\",pageFindingMethod:\"External\",userId:\"\",userState:\"not authenticated\",userType:\"registered\",_test:\"\",_test:\"\",pageViewGuid:MC_UUID\\n    };\\n    \\n</script>\\n\\n        \\n<script type=\"application/javascript\">\\n    window.mPulseKeyConfig = {\\n        apiKey: \\'9XV6E-QB382-DERTX-NDA24-ZYS7B\\',\\n        RestApiSecretKey: \\'24e8d927-29c8-4452-bd73-5df587e5986a\\'\\n    };\\n    window.mPulseEnabled = true;\\n</script>\\n\\n<script type=\"application/javascript\">\\n        window.BOOMR_config = {\\n            Errors: {\\n                enabled: true,\\n                monitorGlobal: true,  // onerror\\n                monitorNetwork: false, // XHRs\\n                monitorConsole: true, // window.console.error\\n                monitorEvents: false,  // addEventListener\\n                monitorTimeout: false, // setTimeout, setInterval\\n                maxErrors: 10,         // max errors sent per page\\n                onError: function(err) {\\n                    var text = err.message || \"\";\\n                    return text.indexOf(\".metacritic.com\") !== -1 &&         //first party\\n                            text.indexOf(\"Script error\") === -1 &&           //not a script error\\n                            text.indexOf(\"Load timeout for modules\") === -1; //not a load timeout\\n                }\\n            }\\n        };\\n\\n        \\n        \\n        \\n        (function(){\\n            if (window.BOOMR && window.BOOMR.version) { return; }\\n            var dom,doc,where,iframe = document.createElement(\"iframe\"),win = window;\\n\\n            function boomerangSaveLoadTime(e) {\\n                win.BOOMR_onload=(e && e.timeStamp) || new Date().getTime();\\n            }\\n            if (win.addEventListener) {\\n                win.addEventListener(\"load\", boomerangSaveLoadTime, false);\\n            } else if (win.attachEvent) {\\n                win.attachEvent(\"onload\", boomerangSaveLoadTime);\\n            }\\n\\n            iframe.src = \"javascript:void(0)\";\\n            iframe.title = \"\"; iframe.role = \"presentation\";\\n            (iframe.frameElement || iframe).style.cssText = \"width:0;height:0;border:0;display:none;\";\\n            where = document.getElementsByTagName(\"script\")[0];\\n            where.parentNode.insertBefore(iframe, where);\\n\\n            try {\\n                doc = iframe.contentWindow.document;\\n            } catch(e) {\\n                dom = document.domain;\\n                iframe.src=\"javascript:var d=document.open();d.domain=\\'\"+dom+\"\\';void(0);\";\\n                doc = iframe.contentWindow.document;\\n            }\\n            doc.open()._l = function() {\\n                var js = this.createElement(\"script\");\\n                if (dom) { this.domain = dom; }\\n                js.id = \"boomr-if-as\";\\n                js.src = \"//c.go-mpulse.net/boomerang/\" + window.mPulseKeyConfig.apiKey;\\n                BOOMR_lstart=new Date().getTime();\\n                this.body.appendChild(js);\\n            };\\n            doc.write(\\'<body onload=\"document._l();\">\\');\\n            doc.close();\\n        })();\\n    </script>\\n    \\n    \\n\\n    \\n\\n    \\n\\n\\n<script type=\"text/javascript\">\\n    // Init DataLayer\\n    window.dataLayer = window.dataLayer || [];\\n\\n    // Init MetaC DataLayer config.\\n    window.dataLayerConfig = {\\n        env: \"prod\",\\n        event: \"Pageview\",\\n        pageview_id: window.MC_UUID,\\n        registered_user_id: \"anon\",\\n        content_id: \"\"\\n    };\\n\\n    window.dataLayer.push(window.dataLayerConfig);\\n</script>\\n\\n\\n    <script type=\"application/javascript\">\\n        \\n        // Cohesion\\n        gdprConsentCallback(\\'cohesion\\', function(){!function(co,h,e,s,i,o,n){var d=\\'documentElement\\';var a=\\'className\\';h[d][a]+=\\' preampjs fusejs\\';    n.k=e;co._Cohesion=n;co._Preamp={k:s,start:new Date};co._Fuse={k:i};co._Tagular={k:o};    [e,s,i,o].map(function(x){co[x]=co[x]||function(){(co[x].q=co[x].q||[]).push([].slice.call(arguments))}});    h.addEventListener(\\'DOMContentLoaded\\',function(){co.setTimeout(function(){    var u=h[d][a];h[d][a]=u.replace(/ ?preampjs| ?fusejs/g,\\'\\')},3e3);    co._Preamp.docReady=co._Fuse.docReady=!0});var z=h.createElement(\\'script\\');z.async=1;z.src=\\'https://cdn.cohesionapps.com/cohesion/cohesion-latest.min.js\\';h.head.appendChild(z);}    (window,document,\\'cohesion\\',\\'preamp\\',\\'fuse\\',\\'tagular\\',{        tagular:{writeKey:\\'wk_1kZD6f0kbCS51mSEsdaRjWBbY4r\\', sourceKey:\\'src_1kZD6ZLXVCIj0d2XTZb7WONLbaA\\', apiVersion: \\'v2/t\\'}    })}, {}, \\'performance\\');\\n        // GPT/DFP ads\\n        append(\\'gpt-lib\\', ((\\'https:\\' == document.location.protocol)?\\'https:\\':\\'http:\\') + \\'//securepubads.g.doubleclick.net/tag/js/gpt.js\\', true);\\n        // Google Analytics\\n        function loadVendorGoogleAnalytics() { append(\\'ga-lib\\', ((\\'https:\\' == document.location.protocol)?\\'https://ssl\\':\\'http://www\\') + \\'.google-analytics.com/ga.js\\', true); }\\n        gdprConsentCallback(\\'google-analytics\\', loadVendorGoogleAnalytics, {}, \\'performance\\');\\n        \\n    </script>\\n\\n    \\n    <script type=\"application/javascript\">\\n        \\n        window.cbsoptanon.onScriptsReady(function(cmp) {\\n            //\\n            // GDPR gated GTM script\\n            // onetrust has loaded. (cbsoptanon has a promise polyfill)\\n            //\\n            cmp.ot.awaitInitialConsent(function() {\\n                (function(w,d,s,l,i){w[l]=w[l]||[];w[l].push({\\'gtm.start\\':\\n                new Date().getTime(),event:\\'gtm.js\\'});var f=d.getElementsByTagName(s)[0],\\n                j=d.createElement(s),dl=l!=\\'dataLayer\\'?\\'&l=\\'+l:\\'\\';j.async=true;j.src=\\n                \\'https://www.googletagmanager.com/gtm.js?id=\\'+i+dl;f.parentNode.insertBefore(j,f);\\n                })(window,document,\\'script\\',\\'dataLayer\\',\\'GTM-PWVTCD9\\');\\n            });\\n        });\\n        \\n    </script>\\n    \\n\\n    <script src=\"//code.jquery.com/jquery-2.2.0.min.js\"></script>\\n\\n    <link rel=\"stylesheet\" href=\"/css/global_alt.min.1677592270.css\" type=\"text/css\">\\n    <script type=\"text/javascript\" src=\"/js/global_alt.min.1677592270.js\"></script>\\n\\n    \\n    \\n    <link rel=\"stylesheet\" href=\"//maxcdn.bootstrapcdn.com/font-awesome/4.7.0/css/font-awesome.min.css\">\\n    \\n\\n    \\n    <link rel=\"stylesheet\" href=\"/css/fonts/proxima-nova/stylesheet.css\" type=\"text/css\" charset=\"utf-8\" />\\n\\n    \\n    <link rel=\"icon\" href=\"/MC_favicon.png\"/>\\n\\n    <script type=\"text/javascript\">\\n        \\n    \\tMC_USER_LOGGED_IN = false;\\n        \\n        \\n        \\n        window.metac_ads_pushdisplay = window.metac_ads_pushdisplay || [];\\n        var googletag = googletag || {};\\n        googletag.cmd = googletag.cmd || [];\\n        \\n    </script>\\n\\n            <script type=\"text/javascript\">\\n    \\n    function pushToDisplay(ad_id, incremental,  position, collapse_empty, native_key, cache){\\n        var ad_params = {\\'pos\\': position};\\n        var additional_settings = {}; \\n\\n        if (native_key){\\n            ad_params[\\'strnativekey\\'] = native_key;\\n        }\\n\\n        var ad_config = [ad_id, incremental, ad_params];\\n\\n        if (collapse_empty){\\n            additional_settings[\\'collapseEmptyDiv\\'] = true;\\n        }\\n\\n        if (cache){\\n            additional_settings[\\'cache\\'] = true;\\n        }\\n\\n        if (Object.keys(additional_settings).length != 0){\\n            ad_config.push(additional_settings);\\n        }\\n\\n        window.metac_ads_pushdisplay.push(ad_config);\\n    }\\n    var script = document.createElement(\\'script\\');\\n    script.defer = true;\\n    script.src = \\'https://services.fandom.com/icbm/api/loader?app=metacritic\\';\\n    document.head.appendChild(script);\\n    window.BidBarrel = window.BidBarrel || {};\\n    BidBarrel.queue = BidBarrel.queue || [];\\n    \\n</script>\\n\\n    \\n    \\n    <link rel=\"stylesheet\" href=\"/css/video/uvp_custom_controls_3_1.css\" type=\"text/css\" charset=\"utf-8\" />\\n    <script src=\"https://static.wikia.nocookie.net/silversurfer/video/prod/standalone-dist/standAlone_RV_VideoPlayer.js\"></script>\\n\\n    \\n</head>\\n<body class=\"skybox-auto-collapse\">\\n    \\n    <noscript>\\n    <iframe src=\"https://www.googletagmanager.com/ns.html?id=GTM-PWVTCD9\" height=\"0\" width=\"0\" style=\"display:none;visibility:hidden\"></iframe>\\n    </noscript>\\n    \\n\\n     \\n    <div id=\"nav_ad_wrapper\">\\n                                        \\r\\n        <div id=\"nav_ad_omni\" class=\"ad_unit skybox-closeBtn skybox-collapseBtn\">\\r\\n\\r\\n            <script type=\"text/javascript\">\\r\\n            \\r\\n                            pushToDisplay(\\'nav_ad_omni\\', null, \\'nav\\', true, null, false);\\r\\n                    </script>\\r\\n    \\r\\n    </div>\\r\\n    \\r\\n                            </div>\\n\\n    \\n    <div id=\"page\" >\\n        \\n        <div id=\"content_header_wrapper\" >\\n            <header id=\"top_header\">\\n    <nav id=\"primary_nav\">\\n        <nav id=\"primary_logo\" class=\"primary_nav_item\">\\n            <a class=\"mc-logo\" href=\"https://www.metacritic.com\"><img src=\"/images/icons/metacritic-icon.svg\" alt=\"Metacritic logo\"></a>\\n            <a class=\"mc-wordmark\" href=\"https://www.metacritic.com\"><img src=\"/images/icons/metacritic-wordmark.svg\" alt=\"Metacritic logo\"></a>\\n        </nav>\\n\\n        <nav id=\"primary_search\" class=\"primary_nav_item\">\\n            <div class=\"rounded_field\">\\n                <div class=\"imgs\">\\n                    <img class=\"inactive\" src=\"/images/icons/search_inactive.svg\" alt=\"search\">\\n                </div>\\n                <div class=\"field innerLabel\">\\n                    <div class=\"input_wrapper\">\\n                        <form action=\"/search\" method=\"post\" autocomplete=\"off\">\\n                            <label for=\"primary_search_box\">search...</label>\\n                            <input name=\"search_term\" id=\"primary_search_box\" autocomplete=\"off\"\\n                                                            >\\n                            <input type=\"hidden\" name=\"search_filter\" value=\"all\">\\n                        </form>\\n                    </div>\\n                </div>\\n            </div>\\n            <div id=\"primary_search_results\">\\n\\n            </div>\\n        </nav>\\n\\n        <nav id=\"primary_nav_wrapper\">\\n                                            <nav id=\"primary_nav_item_games\" class=\"primary_nav_item selected\">\\n                    <span class=\"primary_nav_text\">\\n                        \\n                            Games\\n\\n                    </span>\\n\\n                                                    <nav class=\"primary_drop_down masked\">\\n                                <div class=\"mask-container\" section=\"header-games\">\\n                                    <div class=\"mask-section\">\\n                                        <div class=\"column feature\">\\n                                                                                                                                                                                                \\n                                                    <a href=\"/feature/new-free-games-playstation-xbox-pc-switch\" class=\"feature-img-container\" section=\"articles\">\\n                                                        <img class=\"primary_feature_img\" src=\"https://static.metacritic.com/images/features/main/freegamesNEW2020-180.jpg\" alt=\"Free (& Subscription) Games for All Platforms: New & Upcoming Image\" />\\n                                                    </a>\\n                                                    <span class=\"primary_feature_text\" section=\"articles\"><a href=\"/feature/new-free-games-playstation-xbox-pc-switch\">Free (& Subscription) Games for All Platforms: New & Upcoming</a></span>\\n                                                    <a class=\"reports-see-all\" href=\"/features\" section=\"see_all_articles\">See All Reports</a>\\n                                                                                                                                    </div>\\n                                        <div class=\"column subnav\">\\n                                            <ul>\\n                                                <li><a href=\"/game\" section=\"home\">Games Home >></a></li>\\n                                                <li><a href=\"/browse/games/release-date/new-releases/all/date\" section=\"New Releases\">New Releases</a></li>\\n                                                <li><a href=\"/browse/games/release-date/coming-soon/all/date\" section=\"Coming Soon\">Coming Soon</a></li>\\n                                                <h3><p>Best...</p></h3>\\n                                                <li><a href=\"/browse/games/score/metascore/year/all/filtered\" section=\"Games This Year\">Games This Year</a></li>\\n                                                <li><a href=\"/browse/games/score/metascore/all/all/filtered\" section=\"Games of All Time\">Games of All Time</a></li>\\n                                                <li><a href=\"/browse/games/genre/metascore/action/all\" section=\"Games by Genre\">Games by Genre</a></li>\\n                                                <li><a href=\"/browse/games/score/metascore/90day/all/filtered\" section=\"New Games\">New Games</a></li>\\n                                                <h3><p>More...</p></h3>\\n                                                <li><a href=\"/feature/new-free-games-playstation-xbox-pc-switch\" section=\"New Free Games This Month\">New Free Games This Month</a></li>\\n                                                <li><a href=\"/browse/games/score/userscore/90day/filtered\" section=\"User\\'s Best New Games\">User\\'s Best New Games</a></li>\\n                                                <li><a href=\"/browse/games/score/userscore/all/filtered\" section=\"User\\'s Best Games of All Time\">User\\'s Best Games of All Time</a></li>\\n                                            </ul>\\n                                        </div>\\n                                        <div class=\"column platforms\">\\n                                            <ul>\\n                                                <li class=\"title\">Platforms:<li>\\n                                                <li><label for=\"game_ps4_open\" class=\"mc_nav_picks\" data-href=\"/game/playstation-4?nav-picks\">PS4</label></li>\\n                                                <li><label for=\"game_ps5_open\" class=\"mc_nav_picks\" data-href=\"/game/playstation-5?nav-picks\">PS5</label></li>\\n                                                <li><label for=\"game_xone_open\" class=\"mc_nav_picks\" data-href=\"/game/xbox-one?nav-picks\">Xbox One</label></li>\\n                                                <li><label for=\"game_xboxx_open\" class=\"mc_nav_picks\" data-href=\"/game/xbox-series-x?nav-picks\">Xbox Series X</label></li>\\n                                                <li><label for=\"game_switch_open\" class=\"mc_nav_picks\" data-href=\"/game/switch?nav-picks\">Switch</label></li>\\n                                                <li><label for=\"game_pc_open\" class=\"mc_nav_picks\" data-href=\"/game/pc?nav-picks\">PC</label></li>\\n                                                <li><label for=\"game_legacy_open\">More...</label></li>\\n                                            </ul>\\n                                        </div>\\n                                        <div class=\"column top-five\">\\n                                        \\n                                                                                                                                                            \\n                                                                                                                                                                                <h3>Top\\n        Games\\n     Right Now</h3>\\n<div class=\"top-five\" section=top_games>\\n                    \\n<div class=\"item\">\\n    <a href=\"/game/playstation-5/hogwarts-legacy\">\\n\\n        <div class=\"img-wrap\">\\n            <img src=\"https://static.metacritic.com/images/products/games/1/ac412f20eb7900cb301326d9cb60eedb-98.jpg\" alt=\"Hogwarts Legacy\" />\\n                            \\n\\n        \\n<div class=\"metascore_w medium game positive\">84</div>\\n\\n                    </div>\\n\\n                    <div class=\"product-name\">\\n                Hogwarts Legacy\\n            </div>\\n        \\n        <div class=\"mid\">\\n                     \\n        </div>\\n    </a>\\n</div>\\n\\n                    \\n<div class=\"item\">\\n    <a href=\"/game/switch/octopath-traveler-ii\">\\n\\n        <div class=\"img-wrap\">\\n            <img src=\"https://static.metacritic.com/images/products/games/6/c1a321c77f6eeebc39fcc0db5198611c-98.jpg\" alt=\"Octopath Traveler II\" />\\n                            \\n\\n        \\n<div class=\"metascore_w medium game positive\">84</div>\\n\\n                    </div>\\n\\n                    <div class=\"product-name\">\\n                Octopath Traveler II\\n            </div>\\n        \\n        <div class=\"mid\">\\n                     \\n        </div>\\n    </a>\\n</div>\\n\\n                    \\n<div class=\"item\">\\n    <a href=\"/game/playstation-5/wo-long-fallen-dynasty\">\\n\\n        <div class=\"img-wrap\">\\n            <img src=\"https://static.metacritic.com/images/products/games/5/7fc47ba8773fc536b16e599801dfee25-98.jpg\" alt=\"Wo Long: Fallen Dynasty\" />\\n                            \\n\\n        \\n<div class=\"metascore_w medium game positive\">81</div>\\n\\n                    </div>\\n\\n                    <div class=\"product-name\">\\n                Wo Long: Fallen Dynasty\\n            </div>\\n        \\n        <div class=\"mid\">\\n                     \\n        </div>\\n    </a>\\n</div>\\n\\n                    \\n<div class=\"item\">\\n    <a href=\"/game/playstation-5/atomic-heart\">\\n\\n        <div class=\"img-wrap\">\\n            <img src=\"https://static.metacritic.com/images/products/games/8/5624c4b4a4035f175192e343420a7759-98.jpg\" alt=\"Atomic Heart\" />\\n                            \\n\\n        \\n<div class=\"metascore_w medium game mixed\">71</div>\\n\\n                    </div>\\n\\n                    <div class=\"product-name\">\\n                Atomic Heart\\n            </div>\\n        \\n        <div class=\"mid\">\\n                     \\n        </div>\\n    </a>\\n</div>\\n\\n                    \\n<div class=\"item last\">\\n    <a href=\"/game/playstation-5/scars-above\">\\n\\n        <div class=\"img-wrap\">\\n            <img src=\"https://static.metacritic.com/images/products/games/4/b146c47af3248f3f0b187e688761d5e8-98.jpg\" alt=\"Scars Above\" />\\n                            \\n\\n        \\n<div class=\"metascore_w medium game mixed\">65</div>\\n\\n                    </div>\\n\\n                    <div class=\"product-name\">\\n                Scars Above\\n            </div>\\n        \\n        <div class=\"mid\">\\n                     \\n        </div>\\n    </a>\\n</div>\\n\\n    </div>\\n\\n                                                                            \\n                                                                                                                                                            \\n                                                                                                                                                            \\n                                                                                \\n                                        </div>\\n                                    </div>\\n\\n                                    \\n                                    <input id=\"game_ps4_close\" class=\"subtier-close\" type=\"radio\" name=\"subtier\" index=\"1\"/>\\n                                    <input id=\"game_ps4_open\" class=\"subtier-open\" type=\"radio\" name=\"subtier\" index=\"1\"/>\\n                                    <div class=\"mask-section\">\\n                                        <div class=\"column subnav ajax\">\\n                                            <ul>\\n                                                <li class=\"back\"><label for=\"game_ps4_close\">&lt;&lt; Back to All Platforms</label></li>\\n                                                <li class=\"heading\">PS4</li>\\n                                                <li><a href=\"/game/playstation-4\" section=\"PS4;home\">PS4 Home >></a></li>\\n                                                <li><a href=\"/browse/games/release-date/new-releases/ps4/date\" section=\"PS4;New Releases\">New Releases</a></li>\\n                                                <li><a href=\"/browse/games/release-date/coming-soon/ps4/date\" section=\"PS4;Coming Soon\">Coming Soon</a></li>\\n                                                <li class=\"heading\">Best...</li>\\n                                                <li><a href=\"/browse/games/score/metascore/90day/ps4/filtered\" section=\"PS4;New Games\">New Games</a></li>\\n                                                <li><a href=\"/browse/games/score/metascore/year/ps4/filtered\" section=\"PS4;Games This Year\">Games This Year</a></li>\\n                                                <li><a href=\"/browse/games/score/metascore/all/ps4/filtered\" section=\"PS4;Games of All Time\">Games of All Time</a></li>\\n                                                <li><a href=\"/browse/games/genre/metascore/action/ps4\" section=\"PS4;Games by Genre\">Games by Genre</a></li>\\n                                            </ul>\\n                                        </div>\\n                                        \\n                                    </div>\\n                                    \\n\\n                                    \\n                                    <input id=\"game_ps5_close\" class=\"subtier-close\" type=\"radio\" name=\"subtier\" index=\"1\"/>\\n                                    <input id=\"game_ps5_open\" class=\"subtier-open\" type=\"radio\" name=\"subtier\" index=\"1\"/>\\n                                    <div class=\"mask-section\">\\n                                        <div class=\"column subnav ajax\">\\n                                            <ul>\\n                                                <li class=\"back\"><label for=\"game_ps5_close\">&lt;&lt; Back to All Platforms</label></li>\\n                                                <li class=\"heading\">PS5</li>\\n                                                <li><a href=\"/game/playstation-5\" section=\"PS5;home\">PS5 Home >></a></li>\\n                                                <li><a href=\"/browse/games/release-date/new-releases/ps5/date\" section=\"PS5;New Release\">New Games</a></li>\\n                                                <li><a href=\"/browse/games/release-date/coming-soon/ps5/date\" section=\"PS5;Coming Soon\">Coming Soon</a></li>\\n                                                <li class=\"heading\">Best...</li>\\n                                                <li><a href=\"/browse/games/score/metascore/90day/ps5/filtered\" section=\"PS5;New Games\">New Games</a></li>\\n                                                <li><a href=\"/browse/games/score/metascore/year/ps5/filtered\" section=\"PS5;Games This Year\">Games This Year</a></li>\\n                                                <li><a href=\"/browse/games/score/metascore/all/ps5/filtered\" section=\"PS5;Games of All Time\">Games of All Time</a></li>\\n                                                <li><a href=\"/browse/games/genre/metascore/action/ps5\" section=\"PS5;Games by Genre\">Games by Genre </a></li>\\n                                            </ul>\\n                                        </div>\\n                                        \\n                                    </div>\\n                                    \\n\\n                                    \\n                                    <input id=\"game_xone_close\" class=\"subtier-close\" type=\"radio\" name=\"subtier\" index=\"1\"/>\\n                                    <input id=\"game_xone_open\" class=\"subtier-open\" type=\"radio\" name=\"subtier\" index=\"1\"/>\\n                                    <div class=\"mask-section\">\\n                                        <div class=\"column subnav ajax\">\\n                                            <ul>\\n                                                <li class=\"back\"><label for=\"game_xone_close\">&lt;&lt; Back to All Platforms</label></li>\\n                                                <li class=\"heading\">Xbox One</li>\\n                                                <li><a href=\"/game/xbox-one\" section=\"Xbox One;home\">Xbox One Home >></a></li>\\n                                                <li><a href=\"/browse/games/release-date/new-releases/xboxone/date\" section=\"Xbox One;New Releases\">New Releases</a></li>\\n                                                <li><a href=\"/browse/games/release-date/coming-soon/xboxone/date\" section=\"Xbox One;Coming Soon\">Coming Soon</a></li>\\n                                                <li class=\"heading\">Best...</li>\\n                                                <li><a href=\"/browse/games/score/metascore/90day/xboxone/filtered\" section=\"Xbox One;New Games\">New Games</a></li>\\n                                                <li><a href=\"/browse/games/score/metascore/year/xboxone/filtered\" section=\"Xbox One;Games This Year\">Games This Year</a></li>\\n                                                <li><a href=\"/browse/games/score/metascore/all/xboxone/filtered\" section=\"Xbox One;Games of All Time\">Games of All Time</a></li>\\n                                                <li><a href=\"/browse/games/genre/metascore/action/xboxone\" section=\"Xbox One;Games by Genre\">Games by Genre</a></li>\\n                                            </ul>\\n                                        </div>\\n                                        \\n                                    </div>\\n                                    \\n\\n                                    \\n                                    <input id=\"game_xboxx_close\" class=\"subtier-close\" type=\"radio\" name=\"subtier\" index=\"1\"/>\\n                                    <input id=\"game_xboxx_open\" class=\"subtier-open\" type=\"radio\" name=\"subtier\" index=\"1\"/>\\n                                    <div class=\"mask-section\">\\n                                        <div class=\"column subnav ajax\">\\n                                            <ul>\\n                                                <li class=\"back\"><label for=\"game_xboxx_close\">&lt;&lt; Back to All Platforms</label></li>\\n                                                <li class=\"heading\">Xbox Series X</li>\\n                                                <li><a href=\"/game/xbox-series-x\" section=\"Xbox SX;home\">Xbox Series X Home >></a></li>\\n                                                <li><a href=\"/browse/games/release-date/new-releases/xbox-series-x/date\" section=\"Xbox SX;New Releases\">New Releases</a></li>\\n                                                <li><a href=\"/browse/games/release-date/coming-soon/xbox-series-x/date\" section=\"Xbox SX;Coming Soon\">Coming Soon</a></li>\\n                                                <li class=\"heading\">Best...</li>\\n                                                <li><a href=\"/browse/games/score/metascore/90day/xbox-series-x/filtered\" section=\"Xbox SX;New Games\">New Games</a></li>\\n                                                <li><a href=\"/browse/games/score/metascore/year/xbox-series-x/filtered\" section=\"Xbox SX;Games This Year\">Games This Year</a></li>\\n                                                <li><a href=\"/browse/games/score/metascore/all/xbox-series-x/filtered\" section=\"Xbox SX;Games of All Time\">Games of All Time</a></li>\\n                                                <li><a href=\"/browse/games/genre/metascore/action/xbox-series-x\" section=\"Xbox SX;Games by Genre\">Games by Genre </a></li>\\n                                            </ul>\\n                                        </div>\\n                                        \\n                                    </div>\\n                                    \\n\\n                                    \\n                                    <input id=\"game_switch_close\" class=\"subtier-close\" type=\"radio\" name=\"subtier\" index=\"1\"/>\\n                                    <input id=\"game_switch_open\" class=\"subtier-open\" type=\"radio\" name=\"subtier\" index=\"1\"/>\\n                                    <div class=\"mask-section\">\\n                                        <div class=\"column subnav ajax\">\\n                                            <ul>\\n                                                <li class=\"back\"><label for=\"game_switch_close\">&lt;&lt; Back to All Platforms</label></li>\\n                                                <li class=\"heading\">Switch</li>\\n                                                <li><a href=\"/game/switch\" section=\"Switch;home\">Switch Home >></a></li>\\n                                                <li><a href=\"/browse/games/release-date/new-releases/switch/date\" section=\"Switch;New Releases\">New Releases</a></li>\\n                                                <li><a href=\"/browse/games/release-date/coming-soon/switch/date\" section=\"Switch;Coming Soon\">Coming Soon</a></li>\\n                                                <li class=\"heading\">Best...</li>\\n                                                <li><a href=\"/browse/games/score/metascore/90day/switch/filtered\" section=\"Switch;New Games\">New Games</a></li>\\n                                                <li><a href=\"/browse/games/score/metascore/year/switch/filtered\" section=\"Switch;Games This Year\">Games This Year</a></li>\\n                                                <li><a href=\"/browse/games/score/metascore/all/switch/filtered\" section=\"Switch;Games of All Time\">Games of All Time</a></li>\\n                                                <li><a href=\"/browse/games/genre/metascore/action/switch\" section=\"Switch;Games by Genre\">Games by Genre</a></li>\\n                                            </ul>\\n                                        </div>\\n                                        \\n                                    </div>\\n                                    \\n\\n                                    \\n                                    <input id=\"game_pc_close\" class=\"subtier-close\" type=\"radio\" name=\"subtier\" index=\"1\"/>\\n                                    <input id=\"game_pc_open\" class=\"subtier-open\" type=\"radio\" name=\"subtier\" index=\"1\"/>\\n                                    <div class=\"mask-section\">\\n                                        <div class=\"column subnav ajax\">\\n                                            <ul>\\n                                                <li class=\"back\"><label for=\"game_pc_close\">&lt;&lt; Back to All Platforms</label></li>\\n                                                <li class=\"heading\">PC</li>\\n                                                <li><a href=\"/game/pc\" section=\"PC;home\">PC Home >></a></li>\\n                                                <li><a href=\"/browse/games/release-date/new-releases/pc/date\" section=\"PC;New Releases\">New Releases</a></li>\\n                                                <li><a href=\"/browse/games/release-date/coming-soon/pc/date\" section=\"PC;Coming Soon\">Coming Soon</a></li>\\n                                                <li class=\"heading\">Best...</li>\\n                                                <li><a href=\"/browse/games/score/metascore/90day/pc/filtered\" section=\"PC;New Games\">New Games</a></li>\\n                                                <li><a href=\"/browse/games/score/metascore/year/pc/filtered\" section=\"PC;Games This Year\">Games This Year</a></li>\\n                                                <li><a href=\"/browse/games/score/metascore/all/pc/filtered\" section=\"PC;Games of All Time\">Games of All Time</a></li>\\n                                                <li><a href=\"/browse/games/genre/metascore/action/pc\" section=\"PC;Games by Genre\">Games by Genre</a></li>\\n                                            </ul>\\n                                        </div>\\n                                    </div>\\n                                    \\n\\n                                    \\n                                    <input id=\"game_legacy_close\" class=\"subtier-close\" type=\"radio\" name=\"subtier\" index=\"1\"/>\\n                                    <input id=\"game_legacy_open\" class=\"subtier-open\" type=\"radio\" name=\"subtier\" index=\"1\"/>\\n                                    <div class=\"mask-section\">\\n                                        <div class=\"column subnav\">\\n                                            <ul>\\n                                                <li class=\"back\"><label for=\"game_legacy_close\">&lt;&lt; Back to All Platforms</label></li>\\n                                                <li class=\"heading\">More...</li>\\n                                            </ul>\\n                                            <ul>\\n                                                <li><a href=\"/game/stadia\" section=\"Legacy;Stadia\">Stadia</a></li>\\n                                                <li><a href=\"/game/ios\" section=\"Legacy;iOS\">iOS</a></li>\\n                                            </ul>\\n                                        </div>\\n                                        <div class=\"column subnav\">\\n                                            <ul>\\n                                                <li class=\"heading\">Legacy</li>\\n                                            </ul>\\n                                            <ul class=\"multicol\">\\n                                                <li><a href=\"/browse/games/score/metascore/all/3ds/filtered\" section=\"Legacy;Best of 3DS\">Best of 3DS</a></li>\\n                                                <li><a href=\"/browse/games/score/metascore/all/wii-u/filtered\" section=\"Legacy;Best of Wii U\">Best of Wii U</a></li>\\n                                                <li><a href=\"/browse/games/score/metascore/all/vita/filtered\" section=\"Legacy;Best of PS Vita\">Best of PS Vita</a></li>\\n                                                <li><a href=\"/browse/games/score/metascore/all/ps3/filtered\" section=\"Legacy;Best of PS3\">Best of PS3</a></li>\\n                                                <li><a href=\"/browse/games/score/metascore/all/wii/filtered\" section=\"Legacy;Best of Wii\">Best of Wii</a></li>\\n                                                <li><a href=\"/browse/games/score/metascore/all/n64/filtered\" section=\"Legacy;Best of N64\">Best of N64</a></li>\\n                                                <li><a href=\"/browse/games/score/metascore/all/gamecube/filtered\" section=\"Legacy;Best of Gamecube\">Best of Gamecube</a></li>\\n                                                <li><a href=\"/browse/games/score/metascore/all/ps2/filtered\" section=\"Legacy;Best of PS2\">Best of PS2</a></li>\\n                                                <li><a href=\"/browse/games/score/metascore/all/ps/filtered\" section=\"Legacy;Best of PS\">Best of PS</a></li>\\n                                                <li><a href=\"/browse/games/score/metascore/all/xbox360/filtered\" section=\"Legacy;Best of Xbox 360\">Best of Xbox 360</a></li>\\n                                                <li><a href=\"/browse/games/score/metascore/all/xbox/filtered\" section=\"Legacy;Best of Xbox\">Best of Xbox</a></li>\\n                                                <li><a href=\"/browse/games/score/metascore/all/ds/filtered\" section=\"Legacy;Best of DS\">Best of DS</a></li>\\n                                                <li><a href=\"/browse/games/score/metascore/all/gba/filtered\" section=\"Legacy;Best of Game Boy Advance\">Best of Game Boy Advance</a></li>\\n                                                <li><a href=\"/browse/games/score/metascore/all/psp/filtered\" section=\"Legacy;Best of PSP\">Best of PSP</a></li>\\n                                                <li><a href=\"/browse/games/score/metascore/all/dreamcast/filtered\" section=\"Legacy;Best of Dreamcast\">Best of Dreamcast</a></li>\\n                                            </ul>\\n                                        </div>\\n                                    </div>\\n                                    \\n                                </div>\\n                            </nav>\\n\\n                                        </nav>\\n                                                                            <nav id=\"primary_nav_item_movies\" class=\"primary_nav_item\">\\n                    <span class=\"primary_nav_text\">\\n                        \\n                            Movies\\n\\n                    </span>\\n\\n                                                    <nav class=\"primary_drop_down masked\">\\n                                <div class=\"mask-container\" section=\"header-movies\">\\n\\n                                    <div class=\"mask-section\">\\n                                        <div class=\"column feature\">\\n                                                                                                                                                                                                \\n                                                    <a href=\"/feature/now-streaming-on-apple-tv-plus\" class=\"feature-img-container\" section=\"articles\">\\n                                                        <img class=\"primary_feature_img\" src=\"https://static.metacritic.com/images/features/main/apple202302-180.jpg\" alt=\"What to Watch Right Now on Apple TV+ Image\" />\\n                                                    </a>\\n                                                    <span class=\"primary_feature_text\" section=\"articles\"><a href=\"/feature/now-streaming-on-apple-tv-plus\">What to Watch Right Now on Apple TV+</a></span>\\n                                                    <a class=\"reports-see-all\" href=\"/features\" section=\"see_all_articles\">See All Reports</a>\\n                                                                                                                                    </div>\\n                                        <div class=\"column subnav\">\\n                                            <ul>\\n                                                <li><a href=\"/movie\" section=\"home\">Movies Home >></a></li>\\n                                                <li><a href=\"/browse/movies/release-date/theaters/date\" section=\"In Theaters\">In Theaters</a></li>\\n                                                <li><a href=\"/browse/movies/release-date/coming-soon/date\" section=\"Coming Soon\">Coming Soon</a></li>\\n                                                <li><a href=\"/browse/dvds/release-date/new-releases/date\" section=\"New Movies on DVD/Bluray\">New Movies on DVD/Bluray</a></li>\\n                                                \\n                                                \\n                                                <h3><p>Best...</p></h3>\\n                                                <li><a href=\"/browse/movies/score/metascore/year/filtered\" section=\"Movies This Year\">Movies This Year</a></li>\\n                                                <li><a href=\"/browse/movies/score/metascore/all/filtered?sort=desc\" section=\"Movies of All Time\">Movies of All Time</a></li>\\n                                                <li><a href=\"/feature/film-awards-and-nominations-scorecard\" section=\"Film Awards and Nominations\">Film Awards & Nominations</a></li>\\n                                                <li><a href=\"/browse/movies/genre/metascore/action\" section=\"Movies by Genre\">Movies by Genre</a></li>\\n                                                <h3><p>More...</p></h3>\\n                                                <li><a href=\"/browse/movies/score/userscore/90day/filtered\" section=\"Users\\' Best New Movies\">Users\\' Best New Movies</a></li>\\n                                                <li><a href=\"/browse/movies/score/userscore/all/filtered\" section=\"Users\\' All Time Best Movies\">Users\\' All Time Best Movies</a></li>\\n                                            </ul>\\n                                        </div>\\n                                        <div class=\"column platforms\">\\n                                            <ul>\\n                                                <li class=\"title\">Streaming:</li>\\n                                                <li><a href=\"/browse/movies/score/metascore/all/filtered/netflix\" section=\"streaming;Netflix\">Netflix</a></li>\\n                                                <li><a href=\"/browse/movies/score/metascore/all/filtered/piv\" section=\"streaming;Amazon\">Amazon</a></li>\\n                                                <li><a href=\"/browse/movies/score/metascore/all/filtered/hulu\" section=\"streaming;Hulu\">Hulu</a></li>\\n                                                <li><a href=\"/browse/movies/score/metascore/all/filtered/itunes\" section=\"streaming;iTunes\">iTunes</a></li>\\n                                            </ul>\\n                                        </div>\\n                                        <div class=\"column top-five\">\\n                                        \\n                                                                                                                                                                                <h3>Top\\n        Movies\\n     Right Now</h3>\\n<div class=\"top-five\" section=top_movies>\\n                    \\n<div class=\"item\">\\n    <a href=\"/movie/rrr\">\\n\\n        <div class=\"img-wrap\">\\n            <img src=\"https://static.metacritic.com/images/products/movies/5/8d307c428c659e3bba46f0e727b5ca18-98.jpg\" alt=\"RRR\" />\\n                                <img src=\"/images/icons/mc-mustsee-sm.svg\" class=\"must-see-list\" />\\n                    </div>\\n\\n                    <div class=\"product-name\">\\n                RRR\\n            </div>\\n        \\n        <div class=\"mid\">\\n                     \\n        </div>\\n    </a>\\n</div>\\n\\n                    \\n<div class=\"item\">\\n    <a href=\"/movie/palm-trees-and-power-lines\">\\n\\n        <div class=\"img-wrap\">\\n            <img src=\"https://static.metacritic.com/images/products/movies/5/7415ce7e4c37118544c500540d7e22fd-98.jpg\" alt=\"Palm Trees and Power Lines\" />\\n                            \\n\\n        \\n<div class=\"metascore_w medium movie positive\">74</div>\\n\\n                    </div>\\n\\n                    <div class=\"product-name\">\\n                Palm Trees and Power Lines\\n            </div>\\n        \\n        <div class=\"mid\">\\n                     \\n        </div>\\n    </a>\\n</div>\\n\\n                    \\n<div class=\"item\">\\n    <a href=\"/movie/creed-iii\">\\n\\n        <div class=\"img-wrap\">\\n            <img src=\"https://static.metacritic.com/images/products/movies/0/440b2cc7a5afa5f189b5091a16814d2d-98.jpg\" alt=\"Creed III\" />\\n                            \\n\\n        \\n<div class=\"metascore_w medium movie positive\">74</div>\\n\\n                    </div>\\n\\n                    <div class=\"product-name\">\\n                Creed III\\n            </div>\\n        \\n        <div class=\"mid\">\\n                     \\n        </div>\\n    </a>\\n</div>\\n\\n                    \\n<div class=\"item\">\\n    <a href=\"/movie/operation-fortune-ruse-de-guerre\">\\n\\n        <div class=\"img-wrap\">\\n            <img src=\"https://static.metacritic.com/images/products/movies/2/2797d4d30db8013f23632e511911b212-98.jpg\" alt=\"Operation Fortune: Ruse de Guerre\" />\\n                            \\n\\n        \\n<div class=\"metascore_w medium movie mixed\">51</div>\\n\\n                    </div>\\n\\n                    <div class=\"product-name\">\\n                Operation Fortune: Ruse de Guerre\\n            </div>\\n        \\n        <div class=\"mid\">\\n                     \\n        </div>\\n    </a>\\n</div>\\n\\n                    \\n<div class=\"item last\">\\n    <a href=\"/movie/children-of-the-corn-2023\">\\n\\n        <div class=\"img-wrap\">\\n            <img src=\"https://static.metacritic.com/images/products/movies/4/cca398c80f7e4b94d459ff7398ab735b-98.jpg\" alt=\"Children of the Corn\" />\\n                            \\n\\n        \\n<div class=\"metascore_w medium movie negative\">21</div>\\n\\n                    </div>\\n\\n                    <div class=\"product-name\">\\n                Children of the Corn\\n            </div>\\n        \\n        <div class=\"mid\">\\n                     \\n        </div>\\n    </a>\\n</div>\\n\\n    </div>\\n\\n                                                                            \\n                                                                                                                                                            \\n                                                                                                                                                            \\n                                                                                                                                                            \\n                                                                                \\n                                        </div>\\n                                    </div>\\n\\n                                    \\n                                    <input id=\"movie_netflix_close\" class=\"subtier-close\" type=\"radio\" name=\"subtier\" index=\"1\"/>\\n                                    <input id=\"movie_netflix_open\" class=\"subtier-open\" type=\"radio\" name=\"subtier\" index=\"1\"/>\\n                                    <div class=\"mask-section\">\\n                                        <div class=\"column subnav\">\\n                                            <ul>\\n                                                <li class=\"back\"><label for=\"movie_netflix_close\">&lt;&lt; Back to All Streaming</label></li>\\n                                                <li class=\"heading\">Netflix</li>\\n                                                <li><a href=\"/browse/movies/score/metascore/90day/filtered/netflix\">New Releases for Netflix</a></li>\\n                                                <li><a href=\"/browse/movies/score/metascore/year/filtered/netflix\">Best New Movies on Netflix</a></li>\\n                                                <li><a href=\"/browse/movies/score/metascore/all/filtered/netflix\">Best Movies on Netflix</a></li>\\n                                            </ul>\\n                                        </div>\\n                                    </div>\\n                                    \\n\\n                                    \\n                                    <input id=\"movie_hulu_close\" class=\"subtier-close\" type=\"radio\" name=\"subtier\" index=\"1\"/>\\n                                    <input id=\"movie_hulu_open\" class=\"subtier-open\" type=\"radio\" name=\"subtier\" index=\"1\"/>\\n                                    <div class=\"mask-section\">\\n                                        <div class=\"column subnav\">\\n                                            <ul>\\n                                                <li class=\"back\"><label for=\"movie_netflix_close\">&lt;&lt; Back to All Streaming</label></li>\\n                                                <li class=\"heading\">HULU</li>\\n                                                <li><a href=\"/browse/movies/score/metascore/90day/filtered/hulu\">New Releases for Hulu</a></li>\\n                                                <li><a href=\"/browse/movies/score/metascore/year/filtered/hulu\">Best New Movies on Hulu</a></li>\\n                                                <li><a href=\"/browse/movies/score/metascore/all/filtered/hulu\">Best Movies on Hulu</a></li>\\n                                            </ul>\\n                                        </div>\\n                                    </div>\\n                                    \\n\\n                                    \\n                                    <input id=\"movie_amazon_close\" class=\"subtier-close\" type=\"radio\" name=\"subtier\" index=\"1\"/>\\n                                    <input id=\"movie_amazon_open\" class=\"subtier-open\" type=\"radio\" name=\"subtier\" index=\"1\"/>\\n                                    <div class=\"mask-section\">\\n                                        <div class=\"column subnav\">\\n                                            <ul>\\n                                                <li class=\"back\"><label for=\"movie_netflix_close\">&lt;&lt; Back to All Streaming</label></li>\\n                                                <li class=\"heading\">Amazon</li>\\n                                                <li><a href=\"/browse/movies/score/metascore/90day/filtered/piv\">New Releases for Amazon</a></li>\\n                                                <li><a href=\"/browse/movies/score/metascore/year/filtered/piv\">Best New Movies on Amazon</a></li>\\n                                                <li><a href=\"/browse/movies/score/metascore/all/filtered/piv\">Best Movies on Amazon</a></li>\\n                                            </ul>\\n                                        </div>\\n                                    </div>\\n                                    \\n\\n                                    \\n                                    <input id=\"movie_apple_close\" class=\"subtier-close\" type=\"radio\" name=\"subtier\" index=\"1\"/>\\n                                    <input id=\"movie_apple_open\" class=\"subtier-open\" type=\"radio\" name=\"subtier\" index=\"1\"/>\\n                                    <div class=\"mask-section\">\\n                                        <div class=\"column subnav\">\\n                                            <ul>\\n                                                <li class=\"back\"><label for=\"movie_netflix_close\">&lt;&lt; Back to All Streaming</label></li>\\n                                                <li class=\"heading\">iTunes</li>\\n                                                <li><a href=\"/browse/movies/score/metascore/90day/filtered/itunes\">New Releases for iTunes</a></li>\\n                                                <li><a href=\"/browse/movies/score/metascore/year/filtered/itunes\">Best New Movies on iTunes</a></li>\\n                                                <li><a href=\"/browse/movies/score/metascore/all/filtered/itunes\">Best Movies on iTunes</a></li>\\n                                            </ul>\\n                                        </div>\\n                                    </div>\\n                                    \\n\\n                                </div>\\n\\n                            </nav>\\n\\n                                        </nav>\\n                                                                            <nav id=\"primary_nav_item_tv\" class=\"primary_nav_item\">\\n                    <span class=\"primary_nav_text\">\\n                        \\n                            TV\\n\\n                    </span>\\n\\n                                                    <nav class=\"primary_drop_down masked\">\\n                                <div class=\"mask-container\">\\n\\n                                    <div class=\"mask-section\" section=\"header-tv\">\\n                                        <div class=\"column feature\">\\n                                                                                                                                                                                                \\n                                                    <a href=\"/feature/tv-premiere-dates\" class=\"feature-img-container\" section=\"articles\">\\n                                                        <img class=\"primary_feature_img\" src=\"https://static.metacritic.com/images/features/main/tvpremieredates-180.jpg\" alt=\"Spring/Summer 2023 TV Premiere Calendar Image\" />\\n                                                    </a>\\n                                                    <span class=\"primary_feature_text\" section=\"articles\"><a href=\"/feature/tv-premiere-dates\">Spring/Summer 2023 TV Premiere Calendar</a></span>\\n                                                    <a class=\"reports-see-all\" href=\"/features\" section=\"see_all_articles\">See All Reports</a>\\n                                                                                                                                    </div>\\n                                        <div class=\"column subnav\">\\n                                            <ul>\\n                                                <li><a href=\"/tv\" section=\"home\">TV Home >></a></li>\\n                                                <li><a href=\"/feature/tv-premiere-dates\" section=\"TV Premiere Calendar\">TV Premiere Calendar</a></li>\\n                                                <li><a href=\"/feature/tv-renew-cancel-scorecard\" section=\"TV Renew/Cancel Scorecard\">TV Renew/Cancel Scorecard</a></li>\\n                                                <li><a href=\"/browse/tv/release-date/new-series/date?view=detailed\" section=\"New & Returning TV Shows\">New & Returning TV Shows</a></li>\\n                                                <h3><p>Best...</p></h3>\\n                                                <li><a href=\"/browse/tv/score/metascore/90day/filtered?sort=desc&view=detailed\" section=\"New TV Shows\">New TV Shows</a></li>\\n                                                <li><a href=\"/browse/tv/score/metascore/year/filtered?sort=desc&view=detailed\" section=\"TV Shows This Year\">TV Shows This Year</a></li>\\n                                                <li><a href=\"/browse/tv/score/metascore/all/filtered?sort=desc\" section=\"TV Shows of All Time\">TV Shows of All Time</a></li>\\n                                                <li><a href=\"/browse/tv/genre/metascore/action\" section=\"TV Shows by Genre\">TV Shows by Genre</a></li>\\n                                                <h3><p>More...</p></h3>\\n                                                <li><a href=\"/browse/tv/score/userscore/90day/filtered\" section=\"User\\'s Best New Shows\">User\\'s Best New Shows</a></li>\\n                                                <li><a href=\"/browse/tv/score/userscore/all/filtered\" section=\"User\\'s All Time Best Shows\">User\\'s All Time Best Shows</a></li>\\n                                            </ul>\\n                                        </div>\\n                                        <div class=\"column platforms\">\\n                                            <ul>\\n                                                <li class=\"title\">Streaming:<li>\\n                                                <li><a href=\"/feature/now-streaming-on-netflix\" section=\"streaming;Netflix\">Netflix</a></li>\\n                                                <li><a href=\"/feature/now-streaming-on-amazon-instant-video\" section=\"streaming;Amazon\">Amazon</a></li>\\n                                                <li><a href=\"/feature/now-streaming-on-disney-plus\" section=\"streaming;Disney+\">Disney+</a></li>\\n                                                <li><a href=\"/feature/now-streaming-on-apple-tv-plus\" section=\"streaming;Apple TV+\">Apple TV+</a></li>\\n                                                <li><a href=\"/feature/hulu-best-new-movies-and-shows\" section=\"streaming;Hulu\">Hulu</a></li>\\n                                                <li><a href=\"/feature/best-new-movies-and-shows-on-hbo-go-now\" section=\"streaming;HBO\">HBO</a></li>\\n                                                <li><a href=\"/feature/best-new-movies-and-shows-on-starz\" section=\"streaming;Starz\">Starz</a></li>\\n                                                <li><a href=\"/feature/peacock-best-movies-tv-shows-to-watch\" section=\"streaming;Peacock\">Peacock</a></li>\\n                                                <li><a href=\"/feature/what-to-watch-on-paramount-plus\" section=\"streaming;Paramount\">Paramount+</a></li>\\n                                            </ul>\\n                                        </div>\\n                                        <div class=\"column top-five\">\\n                                        \\n                                                                                                                                                            \\n                                                                                                                                                            \\n                                                                                                                                                                                <h3>Top\\n        Shows\\n     Right Now</h3>\\n<div class=\"top-five\" section=top_shows>\\n                    \\n<div class=\"item\">\\n    <a href=\"/tv/the-last-of-us/season-1\">\\n\\n        <div class=\"img-wrap\">\\n            <img src=\"https://static.metacritic.com/images/products/tv/7/7e69fb58c7cad4e4350a25b49408ecdc-98.jpg\" alt=\"The Last of Us: Season 1\" />\\n                                                                                    <img src=\"/images/icons/mc-mustwatch-sm.svg\" class=\"must-see-list\" />\\n                                                                </div>\\n\\n                    <div class=\"product-name\">\\n                The Last of Us: Season 1\\n            </div>\\n        \\n        <div class=\"mid\">\\n                     \\n        </div>\\n    </a>\\n</div>\\n\\n                    \\n<div class=\"item\">\\n    <a href=\"/tv/perry-mason-2020/season-2\">\\n\\n        <div class=\"img-wrap\">\\n            <img src=\"https://static.metacritic.com/images/products/tv/0/acf478bcb356bcdda80da2e7295cb386-98.jpg\" alt=\"Perry Mason (2020): Season 2\" />\\n                                                                                    \\n\\n        \\n<div class=\"metascore_w medium season positive\">74</div>\\n\\n                                                                </div>\\n\\n                    <div class=\"product-name\">\\n                Perry Mason (2020): Season 2\\n            </div>\\n        \\n        <div class=\"mid\">\\n                     \\n        </div>\\n    </a>\\n</div>\\n\\n                    \\n<div class=\"item\">\\n    <a href=\"/tv/the-mandalorian/season-3\">\\n\\n        <div class=\"img-wrap\">\\n            <img src=\"https://static.metacritic.com/images/products/tv/6/e7038c9a4c3219bfcab3754c40ecbb73-98.jpg\" alt=\"The Mandalorian: Season 3\" />\\n                                                                                    \\n\\n        \\n<div class=\"metascore_w medium season positive\">70</div>\\n\\n                                                                </div>\\n\\n                    <div class=\"product-name\">\\n                The Mandalorian: Season 3\\n            </div>\\n        \\n        <div class=\"mid\">\\n                     \\n        </div>\\n    </a>\\n</div>\\n\\n                    \\n<div class=\"item\">\\n    <a href=\"/tv/history-of-the-world-part-ii/season-1\">\\n\\n        <div class=\"img-wrap\">\\n            <img src=\"https://static.metacritic.com/images/products/tv/9/efa5a76d460af508827e3d7a10366ab0-98.jpg\" alt=\"History of the World, Part II: Season 1\" />\\n                                                                                    \\n\\n        \\n<div class=\"metascore_w medium season positive\">67</div>\\n\\n                                                                </div>\\n\\n                    <div class=\"product-name\">\\n                History of the World, Part II: Season 1\\n            </div>\\n        \\n        <div class=\"mid\">\\n                     \\n        </div>\\n    </a>\\n</div>\\n\\n                    \\n<div class=\"item last\">\\n    <a href=\"/tv/daisy-jones-the-six/season-1\">\\n\\n        <div class=\"img-wrap\">\\n            <img src=\"https://static.metacritic.com/images/products/tv/3/32c52d48cd0ee2b58e66e67136ff06d7-98.jpg\" alt=\"Daisy Jones & The Six\" />\\n                                                                                    \\n\\n        \\n<div class=\"metascore_w medium season positive\">62</div>\\n\\n                                                                </div>\\n\\n                    <div class=\"product-name\">\\n                Daisy Jones & The Six\\n            </div>\\n        \\n        <div class=\"mid\">\\n                     \\n        </div>\\n    </a>\\n</div>\\n\\n    </div>\\n\\n                                                                            \\n                                                                                                                                                            \\n                                                                                \\n                                        </div>\\n                                    </div>\\n\\n                                    \\n                                    <input id=\"tv_netflix_close\" class=\"subtier-close\" type=\"radio\" name=\"subtier\" index=\"1\"/>\\n                                    <input id=\"tv_netflix_open\" class=\"subtier-open\" type=\"radio\" name=\"subtier\" index=\"1\"/>\\n                                    <div class=\"mask-section\">\\n                                        <div class=\"column subnav\">\\n                                            <ul>\\n                                                <li class=\"back\"><label for=\"tv_netflix_close\">&lt;&lt; Back to All Streaming</label></li>\\n                                                <li class=\"heading\">Netflix</li>\\n                                                <li><a href=\"#\">New Releases</a></li>\\n                                                <li><a href=\"#\">Coming Soon</a></li>\\n                                                <li><a href=\"#\">Best Movies</a></li>\\n                                                <li><a href=\"#\">Best Movies by Genre</a></li>\\n                                                <li><a href=\"#\">Latest Trailers</a></li>\\n                                            </ul>\\n                                        </div>\\n                                    </div>\\n                                    \\n\\n                                    \\n                                    <input id=\"tv_hulu_close\" class=\"subtier-close\" type=\"radio\" name=\"subtier\" index=\"1\"/>\\n                                    <input id=\"tv_hulu_open\" class=\"subtier-open\" type=\"radio\" name=\"subtier\" index=\"1\"/>\\n                                    <div class=\"mask-section\">\\n                                        <div class=\"column subnav\">\\n                                            <ul>\\n                                                <li class=\"back\"><label for=\"tv_hulu_close\">&lt;&lt; Back to All Streaming</label></li>\\n                                                <li class=\"heading\">HULU</li>\\n                                                <li><a href=\"#\">New Releases</a></li>\\n                                                <li><a href=\"#\">Coming Soon</a></li>\\n                                                <li><a href=\"#\">Best Movies</a></li>\\n                                                <li><a href=\"#\">Best Movies by Genre</a></li>\\n                                                <li><a href=\"#\">Latest Trailers</a></li>\\n                                            </ul>\\n                                        </div>\\n                                    </div>\\n                                    \\n\\n                                    \\n                                    <input id=\"tv_amazon_close\" class=\"subtier-close\" type=\"radio\" name=\"subtier\" index=\"1\"/>\\n                                    <input id=\"tv_amazon_open\" class=\"subtier-open\" type=\"radio\" name=\"subtier\" index=\"1\"/>\\n                                    <div class=\"mask-section\">\\n                                        <div class=\"column subnav\">\\n                                            <ul>\\n                                                <li class=\"back\"><label for=\"tv_amazon_close\">&lt;&lt; Back to All Streaming</label></li>\\n                                                <li class=\"heading\">Amazon</li>\\n                                                <li><a href=\"#\">New Releases</a></li>\\n                                                <li><a href=\"#\">Coming Soon</a></li>\\n                                                <li><a href=\"#\">Best Movies</a></li>\\n                                                <li><a href=\"#\">Best Movies by Genre</a></li>\\n                                                <li><a href=\"#\">Latest Trailers</a></li>\\n                                            </ul>\\n                                        </div>\\n                                    </div>\\n                                    \\n\\n                                    \\n                                    <input id=\"tv_apple_close\" class=\"subtier-close\" type=\"radio\" name=\"subtier\" index=\"1\"/>\\n                                    <input id=\"tv_apple_open\" class=\"subtier-open\" type=\"radio\" name=\"subtier\" index=\"1\"/>\\n                                    <div class=\"mask-section\">\\n                                        <div class=\"column subnav\">\\n                                            <ul>\\n                                                <li class=\"back\"><label for=\"tv_apple_close\">&lt;&lt; Back to All Streaming</label></li>\\n                                                <li class=\"heading\">Apple TV+</li>\\n                                                <li><a href=\"#\">New Releases</a></li>\\n                                                <li><a href=\"#\">Coming Soon</a></li>\\n                                                <li><a href=\"#\">Best Movies</a></li>\\n                                                <li><a href=\"#\">Best Movies by Genre</a></li>\\n                                                <li><a href=\"#\">Latest Trailers</a></li>\\n                                            </ul>\\n                                        </div>\\n                                    </div>\\n                                    \\n\\n                                </div>\\n                            </nav>\\n\\n                                        </nav>\\n                                                                            <nav id=\"primary_nav_item_music\" class=\"primary_nav_item\">\\n                    <span class=\"primary_nav_text\">\\n                        \\n                            Music\\n\\n                    </span>\\n\\n                                                    <nav class=\"primary_drop_down\" section=\"header-music\">\\n                                <div class=\"column feature\">\\n                                                                                                                                                                \\n                                            <a href=\"/pictures/best-albums-of-2022\" class=\"feature-img-container\" section=\"articles\">\\n                                                <img class=\"primary_feature_img\" src=\"https://static.metacritic.com/images/features/main/_TNmusic2022finalbestof-180.jpg\" alt=\"The 40 Best Albums of 2022 Image\" />\\n                                            </a>\\n                                            <span class=\"primary_feature_text\" section=\"articles\"><a href=\"/pictures/best-albums-of-2022\">The 40 Best Albums of 2022</a></span>\\n                                            <a class=\"reports-see-all\" href=\"/features\" section=\"see_all_articles\">See All Reports</a>\\n                                                                                                            </div>\\n                                <div class=\"column subnav\">\\n                                    <ul>\\n                                        <li><a href=\"/music\" section=\"home\">Music Home >></a></li>\\n                                        <li><a href=\"/browse/albums/release-date/new-releases/date\" section=\"New Releases\">New Releases</a></li>\\n                                        <li><a href=\"/browse/albums/release-date/coming-soon/date\" section=\"Coming Soon\">Coming Soon</a></li>\\n                                        <li><a href=\"/browse/albums/genre/date/rock\" section=\"Music by Genre\">Music by Genre</a></li>\\n                                        <h3><p>Best...</p></h3>\\n                                        <li><a href=\"/browse/albums/score/metascore/90day/filtered\" section=\"New Albums\">New Albums</a></li>\\n                                        <li><a href=\"/browse/albums/score/metascore/year/filtered\" section=\"Albums This Year\">Albums This Year</a></li>\\n                                        <li><a href=\"/browse/albums/score/metascore/all/filtered?sort=desc\" section=\"Albums of All Time\">Albums of All Time</a></li>\\n                                        <h3><p>More...</p></h3>\\n                                        <li><a href=\"/browse/albums/score/userscore/90day/filtered\" section=\"User\\'s Best New Albums\">User\\'s Best New Albums</a></li>\\n                                        <li><a href=\"/browse/albums/score/userscore/all/filtered\" section=\"User\\'s All Time Best Albums\">User\\'s All Time Best Albums</a></li>\\n                                    </ul>\\n                                </div>\\n                                <div class=\"column top-five\">\\n                                \\n                                                                                                                                    \\n                                                                                                                                    \\n                                                                                                                                    \\n                                                                                                                                                <h3>Top\\n        Albums\\n     Right Now</h3>\\n<div class=\"top-five\" section=top_music>\\n                    \\n<div class=\"item\">\\n    <a href=\"/music/desire-i-want-to-turn-into-you/caroline-polachek\">\\n\\n        <div class=\"img-wrap\">\\n            <img src=\"https://static.metacritic.com/images/products/music/8/d6877303b344aa1474d889cdd2277344-98.jpg\" alt=\"Desire, I Want To Turn into You\" />\\n                            \\n\\n        \\n<div class=\"metascore_w medium release positive\">93</div>\\n\\n                    </div>\\n\\n                    <div class=\"product-name\">\\n                Desire, I Want To Turn into You\\n            </div>\\n        \\n        <div class=\"mid\">\\n                     \\n        </div>\\n    </a>\\n</div>\\n\\n                    \\n<div class=\"item\">\\n    <a href=\"/music/ugly/slowthai\">\\n\\n        <div class=\"img-wrap\">\\n            <img src=\"https://static.metacritic.com/images/products/music/0/2d2b96da5024f881b88fe574fce2ce9b-98.jpg\" alt=\"UGLY\" />\\n                            \\n\\n        \\n<div class=\"metascore_w medium release positive\">90</div>\\n\\n                    </div>\\n\\n                    <div class=\"product-name\">\\n                UGLY\\n            </div>\\n        \\n        <div class=\"mid\">\\n                     \\n        </div>\\n    </a>\\n</div>\\n\\n                    \\n<div class=\"item\">\\n    <a href=\"/music/red-moon-in-venus/kali-uchis\">\\n\\n        <div class=\"img-wrap\">\\n            <img src=\"https://static.metacritic.com/images/products/music/2/34185ba157fb9b63a7b556fb9647ef5e-98.jpg\" alt=\"Red Moon in Venus\" />\\n                            \\n\\n        \\n<div class=\"metascore_w medium release positive\">85</div>\\n\\n                    </div>\\n\\n                    <div class=\"product-name\">\\n                Red Moon in Venus\\n            </div>\\n        \\n        <div class=\"mid\">\\n                     \\n        </div>\\n    </a>\\n</div>\\n\\n                    \\n<div class=\"item\">\\n    <a href=\"/music/ignore-grief/xiu-xiu\">\\n\\n        <div class=\"img-wrap\">\\n            <img src=\"https://static.metacritic.com/images/products/music/4/1b11b74eec351052eb153c796044957f-98.jpg\" alt=\"Ignore Grief\" />\\n                            \\n\\n        \\n<div class=\"metascore_w medium release positive\">82</div>\\n\\n                    </div>\\n\\n                    <div class=\"product-name\">\\n                Ignore Grief\\n            </div>\\n        \\n        <div class=\"mid\">\\n                     \\n        </div>\\n    </a>\\n</div>\\n\\n                    \\n<div class=\"item last\">\\n    <a href=\"/music/cracker-island/gorillaz\">\\n\\n        <div class=\"img-wrap\">\\n            <img src=\"https://static.metacritic.com/images/products/music/1/cb4f323ab8f230897dc9c4e19f7d0f79-98.jpg\" alt=\"Cracker Island\" />\\n                            \\n\\n        \\n<div class=\"metascore_w medium release positive\">80</div>\\n\\n                    </div>\\n\\n                    <div class=\"product-name\">\\n                Cracker Island\\n            </div>\\n        \\n        <div class=\"mid\">\\n                     \\n        </div>\\n    </a>\\n</div>\\n\\n    </div>\\n\\n                                                                    \\n                                                                \\n                                </div>\\n                            </nav>\\n\\n                                        </nav>\\n                                                                                            <nav id=\"primary_nav_item_features\" class=\"primary_nav_item\">\\n                    <span class=\"primary_nav_text\">News</span>\\n                                                    <nav class=\"primary_drop_down masked\">\\n                                <div class=\"mask-container\" section=\"header-features\">\\n                                    <div class=\"mask-section\">\\n                                        <div class=\"column feature\">\\n                                            <ul>\\n                                                <li><a href=\"https://www.metacritic.com/news\">News Home >></a></li>     \\n                                            </ul>\\n                                            \\n                                                <div class=\"module supplements_module featured_articles\" id=\"supplementary-nav\">\\n    <div class=\"head head_type_1\"><div class=\"head_wrap\"><h2 class=\"module_title\">Featured</h2></div></div>\\n    <div class=\"body\">\\n        <div class=\"body_wrap\">\\n                                    <div id=\"supplementary-articles\" class=\"supplements supplement_articles\">\\n                <ol class=\"supplements supplement_articles\">\\n                                                                                                                                                <li class=\"supplement supplement_link\">\\n                                <a class=\"dw_tag {\\'tag\\':\\'supplementary-nav;article;2\\'}\" href=\"https://www.metacritic.com/feature/major-upcoming-video-game-release-dates-xbox-ps4-pc-switch\">Release Dates for Notable Upcoming Games</a>\\n                            </li>\\n                                                                                                                            <li class=\"supplement supplement_link\">\\n                                <a class=\"dw_tag {\\'tag\\':\\'supplementary-nav;article;3\\'}\" href=\"https://www.metacritic.com/feature/new-free-games-playstation-xbox-pc-switch\">New Free & Subscription Games</a>\\n                            </li>\\n                                                            </ol>\\n                <div class=\"more_supplements more_articles\">\\n                    \\n                    <a class=\"dw_tag {\\'tag\\':\\'supplementary-nav;more-articles\\'}\" href=\"/feature\">More articles &raquo;</a>\\n                </div>\\n            </div>\\n                    </div>\\n    </div>\\n</div>\\n\\n                                        </div>\\n                                    </div>\\n                                </div>\\n                            </nav>\\n                                        </nav>\\n                                        <div class=\"tracker\"></div>\\n        </nav>\\n\\n        <nav id=\"primary_menu_item_enter_search\" class=\"\">\\n            <span class=\"\">\\n                Enter to Search\\n            </span>\\n        </nav>\\n\\n\\n        \\n                    <nav id=\"primary_menu_item_create\" class=\"primary_nav_item\">\\n                <span class=\"primary_nav_text\">\\n                    <a id=\"signup\" class=\"signup\" href=\"/login\">Sign In</a>\\n                </span>\\n            </nav>\\n                \\n    </nav>\\n\\n    <header id=\"primary_backdrop\">\\n    </header>\\n</header>\\n\\n\\n            \\n                                                <nav id=\"primary_baby_menu_games\" class=\"primary_baby_menu\">\\n                        <div class=\"primary_baby_row\">\\n                            <div class=\"logo inset_left2\">\\n                                <a href=\"https://www.metacritic.com\"><img src=\"/images/mobile/logo.png\" alt=\"Metacritic logo\"></a>\\n                            </div>\\n                            <div id=\"primary_baby_menu_item_games\" class=\"primary_menu_item selected\">\\n                                <span class=\"primary_menu_text\">\\n                                    <a href=\"https://www.metacritic.com/game\">\\n                                        Games\\n                                    </a>\\n                                </span>\\n                            </div>\\n\\n                                                        \\n                                                        \\n                        </div>\\n                    </nav>\\n                                                                                                                                                        <aside id=\"popup_dialog\">\\n                <header class=\"pad_btm1\"></header>\\n                <div class=\"left\">\\n                </div>\\n                <div class=\"right\">\\n                </div>\\n                <div class=\"clr\"></div>\\n                <footer></footer>\\n                \\n                <div class=\"popup_close\" onclick=\"MetaC.Popup.hide()\"><i class=\"fa fa-times\" aria-hidden=\"true\"></i></div>\\n            </aside>\\n            <aside class=\"popup_hidden\" id=\"popup_login\">\\n                <div class=\"login_section\">\\n                    <button class=\"meta_fb_login\">\\n                        <span class=\"fb_icon\">\\n                            <svg viewBox=\"0 0 15.2 32\">\\n                            <g>\\n                                <path d=\"M15.2,11.1H9.6V7c0-1.2,1.3-1.5,1.9-1.5c0.6,0,3.6,0,3.6,0V0L11,0C5.4,0,4.1,4.1,4.1,6.7v4.4H0v5.6h4.1\\n                                    c0,7.3,0,15.2,0,15.2h5.5c0,0,0-8.1,0-15.2h4.7L15.2,11.1z\"/>\\n                            </g>\\n                            </svg>\\n                        </span>Continue with Facebook</button>\\n\\n                    <div class=\"ruled_divider pad_top1\">\\n                        <hr class=\"rdleft\"/>OR<hr class=\"rdright\" />\\n                    </div>\\n\\n                    <div id=\"popup_email_wrapper\" class=\"pad_top1\">\\n                        <div class=\"field innerLabel\">\\n                            <input id=\"popup_email\" class=\"field_input popup_email\" tabindex=\"2\" name=\"email\" type=\"email\" autocomplete=\"off\">\\n                            <label for=\"popup_email\">Email Address</label>\\n                        </div>\\n                    </div>\\n\\n                    <div id=\"popup_pwd_wrapper\" class=\"pad_top1\">\\n                        <div class=\"field innerLabel\">\\n                            <input id=\"popup_password\" class=\"field_input popup_password\" tabindex=\"3\" name=\"password\" type=\"password\" autocomplete=\"off\">\\n                            <label for=\"popup_password\">Password</label>\\n                        </div>\\n                        <div class=\"popup_forgot\">\\n                            <a href=\"/forgot-password\">Forgot password?</a>\\n                        </div>\\n                    </div>\\n\\n                    <div class=\"pad_top1 fr\">\\n                        <span class=\"progress \">\\n    <i class=\"fa fa-spinner\"></i>\\n</span>\\n\\n                        <button class=\"popup_login_btn grey_button marg_right_half\">LOG IN</button>\\n                        <button class=\"popup_signup_btn grey_button\">CREATE AN ACCOUNT</button>\\n                    </div>\\n                    <div class=\"clr\"></div>\\n                </div>\\n            </aside>\\n\\n                            <div id=\"main_content\" class=\"pad_btm2\">\\n                            \\r\\n\\r\\n\\r\\n<div class=\"browse movie new_releases \">\\r\\n    <div class=\"content_under_header none\"></div>\\r\\n    <div class=\"content_after_header\">\\r\\n        <div class=\"inset_left2\">\\r\\n            <div class=\"next_to_side_col\">\\r\\n                <div class=\"title_bump\">\\r\\n                    <h2 class=\"marg_btm2 browse-list-heading\">\\r\\n                        Game Releases by User Score\\r\\n                    </h2>\\r\\n\\r\\n                    \\r\\n                    \\n<div class=\"list_controls\">\\n    <div class=\"top\">\\n        <span class=\"menu title\">Filter:</span>\\n        \\n                \\n                    <div class=\"mcmenu dropdown style2 filter\">\\n                <button onclick=\"return false;\">\\n                                            <span class=\"fa fa-check-circle-o\"></span>\\n                                        All Time\\n                </button>\\n                    <ul class=\"dropdown\">\\n                                <li>\\n                                                        <a href=\"/browse/games/score/metascore/90day/all/filtered?sort=desc\">\\n                        Last 90 Days\\n                                                    <span class=\"fa fa-circle-o\"></span>\\n                                            </a>\\n                            </li>\\n                                <li class=\"selected\">\\n                                    <span>\\n                        All Time\\n                        <span class=\"fa fa-check-circle\"></span>\\n                    </span>\\n                            </li>\\n                                <li>\\n                                                        <a href=\"/browse/games/score/metascore/year/all/filtered?sort=desc\">\\n                        By Year\\n                                                    <span class=\"fa fa-circle-o\"></span>\\n                                            </a>\\n                            </li>\\n            </ul>\\n\\n            </div>\\n                \\n                \\n                    <div class=\"mcmenu dropdown style2 platform\">\\n                <button onclick=\"return false;\">\\n                                            <span class=\"fa fa-check-circle-o\"></span>\\n                                        All Platforms\\n                </button>\\n                    <ul class=\"dropdown\">\\n                                <li class=\"selected\">\\n                                    <span>\\n                        All Platforms\\n                        <span class=\"fa fa-check-circle\"></span>\\n                    </span>\\n                            </li>\\n                                <li>\\n                                                        <a href=\"/browse/games/score/metascore/all/ps4/filtered\">\\n                        PS4\\n                                                    <span class=\"fa fa-circle-o\"></span>\\n                                            </a>\\n                            </li>\\n                                <li>\\n                                                        <a href=\"/browse/games/score/metascore/all/xboxone/filtered\">\\n                        Xbox One\\n                                                    <span class=\"fa fa-circle-o\"></span>\\n                                            </a>\\n                            </li>\\n                                <li>\\n                                                        <a href=\"/browse/games/score/metascore/all/switch/filtered\">\\n                        Switch\\n                                                    <span class=\"fa fa-circle-o\"></span>\\n                                            </a>\\n                            </li>\\n                                <li>\\n                                                        <a href=\"/browse/games/score/metascore/all/pc/filtered\">\\n                        PC\\n                                                    <span class=\"fa fa-circle-o\"></span>\\n                                            </a>\\n                            </li>\\n                                <li>\\n                                                        <a href=\"/browse/games/score/metascore/all/wii-u/filtered\">\\n                        Wii U\\n                                                    <span class=\"fa fa-circle-o\"></span>\\n                                            </a>\\n                            </li>\\n                                <li>\\n                                                        <a href=\"/browse/games/score/metascore/all/3ds/filtered\">\\n                        3DS\\n                                                    <span class=\"fa fa-circle-o\"></span>\\n                                            </a>\\n                            </li>\\n                                <li>\\n                                                        <a href=\"/browse/games/score/metascore/all/vita/filtered\">\\n                        PS Vita\\n                                                    <span class=\"fa fa-circle-o\"></span>\\n                                            </a>\\n                            </li>\\n                                <li>\\n                                                        <a href=\"/browse/games/score/metascore/all/ios/filtered\">\\n                        iOS\\n                                                    <span class=\"fa fa-circle-o\"></span>\\n                                            </a>\\n                            </li>\\n                                <li>\\n                                                        <a href=\"/browse/games/score/metascore/all/stadia/filtered\">\\n                        Stadia\\n                                                    <span class=\"fa fa-circle-o\"></span>\\n                                            </a>\\n                            </li>\\n                                <li>\\n                                                        <a href=\"/browse/games/score/metascore/all/xbox-series-x/filtered\">\\n                        Xbox Series X\\n                                                    <span class=\"fa fa-circle-o\"></span>\\n                                            </a>\\n                            </li>\\n                                <li>\\n                                                        <a href=\"/browse/games/score/metascore/all/ps5/filtered\">\\n                        PS5\\n                                                    <span class=\"fa fa-circle-o\"></span>\\n                                            </a>\\n                            </li>\\n            </ul>\\n\\n            </div>\\n                \\n                \\n            </div>\\n    <hr/>\\n    <div class=\"bottom\">\\n        \\n                    <div class=\"mcmenu dropdown style1 sort\">\\n                <button onclick=\"return false;\">\\n                    <img src=\"/images/icons/icon-updown-sort.svg\">\\n                    Sort: By Metascore\\n                </button>\\n                    <ul class=\"dropdown\">\\n                                <li class=\"selected\">\\n                                    <span>\\n                        By Metascore\\n                        <span class=\"fa fa-check-circle\"></span>\\n                    </span>\\n                            </li>\\n                                <li>\\n                                                        <a href=\"/browse/games/score/userscore/90day/all/filtered?sort=desc\">\\n                        By User Score\\n                                                    <span class=\"fa fa-circle-o\"></span>\\n                                            </a>\\n                            </li>\\n            </ul>\\n\\n            </div>\\n                \\n        <div class=\"mcmenu expand_collapse\">\\n                <ul class=\"expand_collapse\">\\n                                <li class=\"selected\">\\n                                    <span>\\n                        Detailed List View\\n                        <span class=\"fa fa-check-circle\"></span>\\n                    </span>\\n                            </li>\\n                                <li>\\n                                                        <a href=\"/browse/games/score/metascore/all/all/filtered?view=condensed\">\\n                        Condensed List View\\n                                                    <span class=\"fa fa-circle-o\"></span>\\n                                            </a>\\n                            </li>\\n            </ul>\\n\\n        </div>\\n    </div>\\n    <div class=\"clr\"></div>\\n</div>\\n\\r\\n\\r\\n                                                            \\n<div class=\"browse_list_wrapper one browse-list-large\">\\n    <table class=\"clamp-list\">\\n                                \\n            \\n            \\n            \\n\\n                \\n             \\n                <tr>                    \\n                    <td class=\"clamp-image-wrap\">\\n                        <a href=\"/game/nintendo-64/the-legend-of-zelda-ocarina-of-time\"><img src=\"https://static.metacritic.com/images/products/games/2/70c7a7d5ef1a36a69018111cc1478f30-98.jpg\" alt=\"The Legend of Zelda: Ocarina of Time\" /></a>\\n\\n                                                                                    <span class=\"mcmust\">\\n                                    <img src=\"/images/icons/mc-mustplay-sm.svg\" />\\n                                </span>\\n                                                                        </td>\\n\\n                    <td class=\"clamp-summary-wrap\">\\n\\n                        <input type=\"checkbox\" id=\"160692\" class=\"clamp-summary-expand\" />\\n                        <div class=\"clamp-score-wrap\">\\n                                                            \\n\\n        \\n    <a class=\"metascore_anchor\" href=\"/game/nintendo-64/the-legend-of-zelda-ocarina-of-time/critic-reviews\">\\n<div class=\"metascore_w large game positive\">99</div>\\n    </a>\\n\\n                                                    </div>\\n\\n                                                    <span class=\"title numbered\">\\n                                                                    1.\\n                                                            </span>\\n                        \\n                        <a href=\"/game/nintendo-64/the-legend-of-zelda-ocarina-of-time\" class=\"title\"><h3>The Legend of Zelda: Ocarina of Time</h3></a>\\n\\n                        <div class=\"clamp-details\">\\n                            \\n                            \\n                            \\n                                                            <div class=\"platform\">\\n                                    <span class=\"label\">Platform:</span>\\n                                    <span class=\"data\">\\n                                        Nintendo 64\\n                                                                            </span>\\n                                </div>\\n                            \\n                            \\n                            <span>November 23, 1998</span>\\n\\n                            \\n                            \\n                        </div>\\n\\n                        <div class=\"summary\">\\n                        As a young boy, Link is tricked by Ganondorf, the King of the Gerudo Thieves. The evil human uses Link to gain access to the Sacred Realm, where he places his tainted hands on Triforce and transforms the beautiful Hyrulean landscape into a barren wasteland. Link is determined to fix the problems he helped to create, so with the help of Rauru he travels through time gathering the powers of the Seven Sages.\\n                        </div>\\n\\n                        <div class=\"browse-score-clamp\">\\n                            <div class=\"clamp-metascore\">\\n                                <span class=\"title\">Metascore:</span>\\n                                \\n\\n        \\n    <a class=\"metascore_anchor\" href=\"/game/nintendo-64/the-legend-of-zelda-ocarina-of-time/critic-reviews\">\\n<div class=\"metascore_w large game positive\">99</div>\\n    </a>\\n\\n                            </div>\\n                            <div class=\"clamp-userscore\">\\n                                <span class=\"title\">User Score:</span>\\n                                        \\n    <a class=\"metascore_anchor\" href=\"/game/nintendo-64/the-legend-of-zelda-ocarina-of-time/user-reviews\">\\n<div class=\"metascore_w user large game positive\">9.1</div>\\n    </a>\\n     \\n                            </div>\\n                        </div>\\n\\n                        <i class=\"fa fa-caret-up\" aria-hidden=\"true\"></i>\\n                        <i class=\"fa fa-caret-down\" aria-hidden=\"true\"></i>\\n                        <label for=\"160692\" class=\"clamp-list-expand-label\"></label>\\n                    </td>\\n                </tr>\\n                                    <tr class=\"spacer\"></tr>\\n                             \\n                                \\n            \\n            \\n            \\n\\n                \\n             \\n                <tr>                    \\n                    <td class=\"clamp-image-wrap\">\\n                        <a href=\"/game/playstation/tony-hawks-pro-skater-2\"><img src=\"https://static.metacritic.com/images/products/games/9/eebb2509d46dbd97c612f634270d37dd-98.jpg\" alt=\"Tony Hawk\\'s Pro Skater 2\" /></a>\\n\\n                                                                                    <span class=\"mcmust\">\\n                                    <img src=\"/images/icons/mc-mustplay-sm.svg\" />\\n                                </span>\\n                                                                        </td>\\n\\n                    <td class=\"clamp-summary-wrap\">\\n\\n                        <input type=\"checkbox\" id=\"160779\" class=\"clamp-summary-expand\" />\\n                        <div class=\"clamp-score-wrap\">\\n                                                            \\n\\n        \\n    <a class=\"metascore_anchor\" href=\"/game/playstation/tony-hawks-pro-skater-2/critic-reviews\">\\n<div class=\"metascore_w large game positive\">98</div>\\n    </a>\\n\\n                                                    </div>\\n\\n                                                    <span class=\"title numbered\">\\n                                                                    2.\\n                                                            </span>\\n                        \\n                        <a href=\"/game/playstation/tony-hawks-pro-skater-2\" class=\"title\"><h3>Tony Hawk\\'s Pro Skater 2</h3></a>\\n\\n                        <div class=\"clamp-details\">\\n                            \\n                            \\n                            \\n                                                            <div class=\"platform\">\\n                                    <span class=\"label\">Platform:</span>\\n                                    <span class=\"data\">\\n                                        PlayStation\\n                                                                            </span>\\n                                </div>\\n                            \\n                            \\n                            <span>September 20, 2000</span>\\n\\n                            \\n                            \\n                        </div>\\n\\n                        <div class=\"summary\">\\n                        As most major publishers\\' development efforts shift to any number of next-generation platforms, Tony Hawk 2 will likely stand as one of the last truly fantastic games to be released on the PlayStation.\\n                        </div>\\n\\n                        <div class=\"browse-score-clamp\">\\n                            <div class=\"clamp-metascore\">\\n                                <span class=\"title\">Metascore:</span>\\n                                \\n\\n        \\n    <a class=\"metascore_anchor\" href=\"/game/playstation/tony-hawks-pro-skater-2/critic-reviews\">\\n<div class=\"metascore_w large game positive\">98</div>\\n    </a>\\n\\n                            </div>\\n                            <div class=\"clamp-userscore\">\\n                                <span class=\"title\">User Score:</span>\\n                                        \\n    <a class=\"metascore_anchor\" href=\"/game/playstation/tony-hawks-pro-skater-2/user-reviews\">\\n<div class=\"metascore_w user large game positive\">7.5</div>\\n    </a>\\n     \\n                            </div>\\n                        </div>\\n\\n                        <i class=\"fa fa-caret-up\" aria-hidden=\"true\"></i>\\n                        <i class=\"fa fa-caret-down\" aria-hidden=\"true\"></i>\\n                        <label for=\"160779\" class=\"clamp-list-expand-label\"></label>\\n                    </td>\\n                </tr>\\n                                    <tr class=\"spacer\"></tr>\\n                             \\n                                \\n            \\n            \\n            \\n\\n                \\n             \\n                <tr>                    \\n                    <td class=\"clamp-image-wrap\">\\n                        <a href=\"/game/playstation-3/grand-theft-auto-iv\"><img src=\"https://static.metacritic.com/images/products/games/2/d08ab1308780df8de1d75badb951c60a-98.jpg\" alt=\"Grand Theft Auto IV\" /></a>\\n\\n                                                                                    <span class=\"mcmust\">\\n                                    <img src=\"/images/icons/mc-mustplay-sm.svg\" />\\n                                </span>\\n                                                                        </td>\\n\\n                    <td class=\"clamp-summary-wrap\">\\n\\n                        <input type=\"checkbox\" id=\"108362\" class=\"clamp-summary-expand\" />\\n                        <div class=\"clamp-score-wrap\">\\n                                                            \\n\\n        \\n    <a class=\"metascore_anchor\" href=\"/game/playstation-3/grand-theft-auto-iv/critic-reviews\">\\n<div class=\"metascore_w large game positive\">98</div>\\n    </a>\\n\\n                                                    </div>\\n\\n                                                    <span class=\"title numbered\">\\n                                                                    3.\\n                                                            </span>\\n                        \\n                        <a href=\"/game/playstation-3/grand-theft-auto-iv\" class=\"title\"><h3>Grand Theft Auto IV</h3></a>\\n\\n                        <div class=\"clamp-details\">\\n                            \\n                            \\n                            \\n                                                            <div class=\"platform\">\\n                                    <span class=\"label\">Platform:</span>\\n                                    <span class=\"data\">\\n                                        PlayStation 3\\n                                                                            </span>\\n                                </div>\\n                            \\n                            \\n                            <span>April 29, 2008</span>\\n\\n                            \\n                            \\n                        </div>\\n\\n                        <div class=\"summary\">\\n                        [Metacritic\\'s 2008 PS3 Game of the Year; Also known as \"GTA IV\"]  What does the American Dream mean today? For Niko Belic, fresh off the boat from Europe. It\\'s the hope he can escape his past. For his cousin, Roman, it is the vision that together they can find fortune in Liberty City, gateway to the land of opportunity. As they slip into debt and are dragged into a criminal underworld by a series of shysters, thieves and sociopaths, they discover that the reality is very different from the dream in a city that worships money and status, and is heaven for those who have them an a living nightmare for those who don\\'t. [Rockstar Games]\\n                        </div>\\n\\n                        <div class=\"browse-score-clamp\">\\n                            <div class=\"clamp-metascore\">\\n                                <span class=\"title\">Metascore:</span>\\n                                \\n\\n        \\n    <a class=\"metascore_anchor\" href=\"/game/playstation-3/grand-theft-auto-iv/critic-reviews\">\\n<div class=\"metascore_w large game positive\">98</div>\\n    </a>\\n\\n                            </div>\\n                            <div class=\"clamp-userscore\">\\n                                <span class=\"title\">User Score:</span>\\n                                        \\n    <a class=\"metascore_anchor\" href=\"/game/playstation-3/grand-theft-auto-iv/user-reviews\">\\n<div class=\"metascore_w user large game positive\">7.8</div>\\n    </a>\\n     \\n                            </div>\\n                        </div>\\n\\n                        <i class=\"fa fa-caret-up\" aria-hidden=\"true\"></i>\\n                        <i class=\"fa fa-caret-down\" aria-hidden=\"true\"></i>\\n                        <label for=\"108362\" class=\"clamp-list-expand-label\"></label>\\n                    </td>\\n                </tr>\\n                                    <tr class=\"spacer\"></tr>\\n                             \\n                                \\n            \\n            \\n            \\n\\n                \\n             \\n                <tr>                    \\n                    <td class=\"clamp-image-wrap\">\\n                        <a href=\"/game/dreamcast/soulcalibur\"><img src=\"https://static.metacritic.com/images/products/games/1/a62a50a3f751819b94f0f922619c6b95-98.jpg\" alt=\"SoulCalibur\" /></a>\\n\\n                                                                                    <span class=\"mcmust\">\\n                                    <img src=\"/images/icons/mc-mustplay-sm.svg\" />\\n                                </span>\\n                                                                        </td>\\n\\n                    <td class=\"clamp-summary-wrap\">\\n\\n                        <input type=\"checkbox\" id=\"160751\" class=\"clamp-summary-expand\" />\\n                        <div class=\"clamp-score-wrap\">\\n                                                            \\n\\n        \\n    <a class=\"metascore_anchor\" href=\"/game/dreamcast/soulcalibur/critic-reviews\">\\n<div class=\"metascore_w large game positive\">98</div>\\n    </a>\\n\\n                                                    </div>\\n\\n                                                    <span class=\"title numbered\">\\n                                                                    4.\\n                                                            </span>\\n                        \\n                        <a href=\"/game/dreamcast/soulcalibur\" class=\"title\"><h3>SoulCalibur</h3></a>\\n\\n                        <div class=\"clamp-details\">\\n                            \\n                            \\n                            \\n                                                            <div class=\"platform\">\\n                                    <span class=\"label\">Platform:</span>\\n                                    <span class=\"data\">\\n                                        Dreamcast\\n                                                                            </span>\\n                                </div>\\n                            \\n                            \\n                            <span>September 8, 1999</span>\\n\\n                            \\n                            \\n                        </div>\\n\\n                        <div class=\"summary\">\\n                        This is a tale of souls and swords, transcending the world and all its history, told for all eternity... The greatest weapons-based fighter returns, this time on Sega Dreamcast. Soul Calibur unleashes incredible graphics, fantastic fighters, and combos so amazing they\\'ll make your head spin!\\n                        </div>\\n\\n                        <div class=\"browse-score-clamp\">\\n                            <div class=\"clamp-metascore\">\\n                                <span class=\"title\">Metascore:</span>\\n                                \\n\\n        \\n    <a class=\"metascore_anchor\" href=\"/game/dreamcast/soulcalibur/critic-reviews\">\\n<div class=\"metascore_w large game positive\">98</div>\\n    </a>\\n\\n                            </div>\\n                            <div class=\"clamp-userscore\">\\n                                <span class=\"title\">User Score:</span>\\n                                        \\n    <a class=\"metascore_anchor\" href=\"/game/dreamcast/soulcalibur/user-reviews\">\\n<div class=\"metascore_w user large game positive\">8.5</div>\\n    </a>\\n     \\n                            </div>\\n                        </div>\\n\\n                        <i class=\"fa fa-caret-up\" aria-hidden=\"true\"></i>\\n                        <i class=\"fa fa-caret-down\" aria-hidden=\"true\"></i>\\n                        <label for=\"160751\" class=\"clamp-list-expand-label\"></label>\\n                    </td>\\n                </tr>\\n                                    <tr class=\"spacer\"></tr>\\n                             \\n                                \\n            \\n            \\n            \\n\\n                \\n             \\n                <tr>                    \\n                    <td class=\"clamp-image-wrap\">\\n                        <a href=\"/game/xbox-360/grand-theft-auto-iv\"><img src=\"https://static.metacritic.com/images/products/games/3/78b2451531891db4396d873d82accbeb-98.jpg\" alt=\"Grand Theft Auto IV\" /></a>\\n\\n                                                                                    <span class=\"mcmust\">\\n                                    <img src=\"/images/icons/mc-mustplay-sm.svg\" />\\n                                </span>\\n                                                                        </td>\\n\\n                    <td class=\"clamp-summary-wrap\">\\n\\n                        <input type=\"checkbox\" id=\"108363\" class=\"clamp-summary-expand\" />\\n                        <div class=\"clamp-score-wrap\">\\n                                                            \\n\\n        \\n    <a class=\"metascore_anchor\" href=\"/game/xbox-360/grand-theft-auto-iv/critic-reviews\">\\n<div class=\"metascore_w large game positive\">98</div>\\n    </a>\\n\\n                                                    </div>\\n\\n                                                    <span class=\"title numbered\">\\n                                                                    5.\\n                                                            </span>\\n                        \\n                        <a href=\"/game/xbox-360/grand-theft-auto-iv\" class=\"title\"><h3>Grand Theft Auto IV</h3></a>\\n\\n                        <div class=\"clamp-details\">\\n                            \\n                            \\n                            \\n                                                            <div class=\"platform\">\\n                                    <span class=\"label\">Platform:</span>\\n                                    <span class=\"data\">\\n                                        Xbox 360\\n                                                                            </span>\\n                                </div>\\n                            \\n                            \\n                            <span>April 29, 2008</span>\\n\\n                            \\n                            \\n                        </div>\\n\\n                        <div class=\"summary\">\\n                        [Metacritic\\'s 2008 Xbox 360 Game of the Year; Also known as \"GTA IV\"]  What does the American Dream mean today? For Niko Belic, fresh off the boat from Europe. It\\'s the hope he can escape his past. For his cousin, Roman, it is the vision that together they can find fortune in Liberty City, gateway to the land of opportunity. As they slip into debt and are dragged into a criminal underworld by a series of shysters, thieves and sociopaths, they discover that the reality is very different from the dream in a city that worships money and status, and is heaven for those who have them an a living nightmare for those who don\\'t. [Rockstar Games]\\n                        </div>\\n\\n                        <div class=\"browse-score-clamp\">\\n                            <div class=\"clamp-metascore\">\\n                                <span class=\"title\">Metascore:</span>\\n                                \\n\\n        \\n    <a class=\"metascore_anchor\" href=\"/game/xbox-360/grand-theft-auto-iv/critic-reviews\">\\n<div class=\"metascore_w large game positive\">98</div>\\n    </a>\\n\\n                            </div>\\n                            <div class=\"clamp-userscore\">\\n                                <span class=\"title\">User Score:</span>\\n                                        \\n    <a class=\"metascore_anchor\" href=\"/game/xbox-360/grand-theft-auto-iv/user-reviews\">\\n<div class=\"metascore_w user large game positive\">8.0</div>\\n    </a>\\n     \\n                            </div>\\n                        </div>\\n\\n                        <i class=\"fa fa-caret-up\" aria-hidden=\"true\"></i>\\n                        <i class=\"fa fa-caret-down\" aria-hidden=\"true\"></i>\\n                        <label for=\"108363\" class=\"clamp-list-expand-label\"></label>\\n                    </td>\\n                </tr>\\n                                    <tr class=\"spacer\"></tr>\\n                             \\n                                                    </table>\\n</div>\\n\\r\\n\\r\\n                            \\r\\n        <div id=\"leader_middle\" class=\"ad_unit\">\\r\\n\\r\\n            <script type=\"text/javascript\">\\r\\n            \\r\\n                            pushToDisplay(\\'leader_middle\\', null, \\'middle\\', false, null, false);\\r\\n                    </script>\\r\\n    \\r\\n    </div>\\r\\n    \\r\\n    \\r\\n                            \\n<div class=\"browse_list_wrapper two browse-list-large\">\\n    <table class=\"clamp-list\">\\n                                                                                                                                                                            \\n            \\n            \\n            \\n\\n                \\n             \\n                <tr>                    \\n                    <td class=\"clamp-image-wrap\">\\n                        <a href=\"/game/wii/super-mario-galaxy\"><img src=\"https://static.metacritic.com/images/products/games/9/2fe120b980872297a7a17ab582f6af7d-98.jpg\" alt=\"Super Mario Galaxy\" /></a>\\n\\n                                                                                    <span class=\"mcmust\">\\n                                    <img src=\"/images/icons/mc-mustplay-sm.svg\" />\\n                                </span>\\n                                                                        </td>\\n\\n                    <td class=\"clamp-summary-wrap\">\\n\\n                        <input type=\"checkbox\" id=\"103279\" class=\"clamp-summary-expand\" />\\n                        <div class=\"clamp-score-wrap\">\\n                                                            \\n\\n        \\n    <a class=\"metascore_anchor\" href=\"/game/wii/super-mario-galaxy/critic-reviews\">\\n<div class=\"metascore_w large game positive\">97</div>\\n    </a>\\n\\n                                                    </div>\\n\\n                                                    <span class=\"title numbered\">\\n                                                                    6.\\n                                                            </span>\\n                        \\n                        <a href=\"/game/wii/super-mario-galaxy\" class=\"title\"><h3>Super Mario Galaxy</h3></a>\\n\\n                        <div class=\"clamp-details\">\\n                            \\n                            \\n                            \\n                                                            <div class=\"platform\">\\n                                    <span class=\"label\">Platform:</span>\\n                                    <span class=\"data\">\\n                                        Wii\\n                                                                            </span>\\n                                </div>\\n                            \\n                            \\n                            <span>November 12, 2007</span>\\n\\n                            \\n                            \\n                        </div>\\n\\n                        <div class=\"summary\">\\n                        [Metacritic\\'s 2007 Wii Game of the Year] The ultimate Nintendo hero is taking the ultimate step ... out into space. Join Mario as he ushers in a new era of video games, defying gravity across all the planets in the galaxy. When some creature escapes into space with Princess Peach, Mario gives chase, exploring bizarre planets all across the galaxy. Mario, Peach and enemies new and old are here. Players run, jump and battle enemies as they explore all the planets in the galaxy. Since this game makes full use of all the features of the Wii Remote, players have to do all kinds of things to succeed: pressing buttons, swinging the Wii Remote and the Nunchuk, and even pointing at and dragging things with the pointer. Since he\\'s in space, Mario can perform mind-bending jumps unlike anything he\\'s done before. He\\'ll also have a wealth of new moves that are all based around tilting, pointing and shaking the Wii Remote. Shake, tilt and point! Mario takes advantage of all the unique aspects of the Wii Remote and Nunchuk controller, unleashing new moves as players shake the controller and even point at and drag items with the pointer. [Nintendo]\\n                        </div>\\n\\n                        <div class=\"browse-score-clamp\">\\n                            <div class=\"clamp-metascore\">\\n                                <span class=\"title\">Metascore:</span>\\n                                \\n\\n        \\n    <a class=\"metascore_anchor\" href=\"/game/wii/super-mario-galaxy/critic-reviews\">\\n<div class=\"metascore_w large game positive\">97</div>\\n    </a>\\n\\n                            </div>\\n                            <div class=\"clamp-userscore\">\\n                                <span class=\"title\">User Score:</span>\\n                                        \\n    <a class=\"metascore_anchor\" href=\"/game/wii/super-mario-galaxy/user-reviews\">\\n<div class=\"metascore_w user large game positive\">9.1</div>\\n    </a>\\n     \\n                            </div>\\n                        </div>\\n\\n                        <i class=\"fa fa-caret-up\" aria-hidden=\"true\"></i>\\n                        <i class=\"fa fa-caret-down\" aria-hidden=\"true\"></i>\\n                        <label for=\"103279\" class=\"clamp-list-expand-label\"></label>\\n                    </td>\\n                </tr>\\n                                    <tr class=\"spacer\"></tr>\\n                             \\n                                \\n            \\n            \\n            \\n\\n                \\n             \\n                <tr>                    \\n                    <td class=\"clamp-image-wrap\">\\n                        <a href=\"/game/wii/super-mario-galaxy-2\"><img src=\"https://static.metacritic.com/images/products/games/7/96ee04660e2b430798eae4f59d9bdeb2-98.jpg\" alt=\"Super Mario Galaxy 2\" /></a>\\n\\n                                                                                    <span class=\"mcmust\">\\n                                    <img src=\"/images/icons/mc-mustplay-sm.svg\" />\\n                                </span>\\n                                                                        </td>\\n\\n                    <td class=\"clamp-summary-wrap\">\\n\\n                        <input type=\"checkbox\" id=\"115127\" class=\"clamp-summary-expand\" />\\n                        <div class=\"clamp-score-wrap\">\\n                                                            \\n\\n        \\n    <a class=\"metascore_anchor\" href=\"/game/wii/super-mario-galaxy-2/critic-reviews\">\\n<div class=\"metascore_w large game positive\">97</div>\\n    </a>\\n\\n                                                    </div>\\n\\n                                                    <span class=\"title numbered\">\\n                                                                    7.\\n                                                            </span>\\n                        \\n                        <a href=\"/game/wii/super-mario-galaxy-2\" class=\"title\"><h3>Super Mario Galaxy 2</h3></a>\\n\\n                        <div class=\"clamp-details\">\\n                            \\n                            \\n                            \\n                                                            <div class=\"platform\">\\n                                    <span class=\"label\">Platform:</span>\\n                                    <span class=\"data\">\\n                                        Wii\\n                                                                            </span>\\n                                </div>\\n                            \\n                            \\n                            <span>May 23, 2010</span>\\n\\n                            \\n                            \\n                        </div>\\n\\n                        <div class=\"summary\">\\n                        Super Mario Galaxy 2, the sequel to the galaxy-hopping original game, includes the gravity-defying, physics-based exploration from the first game, but is loaded with entirely new galaxies and features to challenge players. On some stages, Mario can pair up with his dinosaur buddy Yoshi and use his tongue to grab items and spit them back at enemies. Players can also have fun with new items such as a drill that lets our hero tunnel through solid rock. [Nintendo]\\n                        </div>\\n\\n                        <div class=\"browse-score-clamp\">\\n                            <div class=\"clamp-metascore\">\\n                                <span class=\"title\">Metascore:</span>\\n                                \\n\\n        \\n    <a class=\"metascore_anchor\" href=\"/game/wii/super-mario-galaxy-2/critic-reviews\">\\n<div class=\"metascore_w large game positive\">97</div>\\n    </a>\\n\\n                            </div>\\n                            <div class=\"clamp-userscore\">\\n                                <span class=\"title\">User Score:</span>\\n                                        \\n    <a class=\"metascore_anchor\" href=\"/game/wii/super-mario-galaxy-2/user-reviews\">\\n<div class=\"metascore_w user large game positive\">9.1</div>\\n    </a>\\n     \\n                            </div>\\n                        </div>\\n\\n                        <i class=\"fa fa-caret-up\" aria-hidden=\"true\"></i>\\n                        <i class=\"fa fa-caret-down\" aria-hidden=\"true\"></i>\\n                        <label for=\"115127\" class=\"clamp-list-expand-label\"></label>\\n                    </td>\\n                </tr>\\n                                    <tr class=\"spacer\"></tr>\\n                             \\n                                \\n            \\n            \\n            \\n\\n                \\n             \\n                <tr>                    \\n                    <td class=\"clamp-image-wrap\">\\n                        <a href=\"/game/xbox-one/red-dead-redemption-2\"><img src=\"https://static.metacritic.com/images/products/games/9/24fbb5ce1d84f499b1fb0cf2c483287c-98.jpg\" alt=\"Red Dead Redemption 2\" /></a>\\n\\n                                                                                    <span class=\"mcmust\">\\n                                    <img src=\"/images/icons/mc-mustplay-sm.svg\" />\\n                                </span>\\n                                                                        </td>\\n\\n                    <td class=\"clamp-summary-wrap\">\\n\\n                        <input type=\"checkbox\" id=\"503269\" class=\"clamp-summary-expand\" />\\n                        <div class=\"clamp-score-wrap\">\\n                                                            \\n\\n        \\n    <a class=\"metascore_anchor\" href=\"/game/xbox-one/red-dead-redemption-2/critic-reviews\">\\n<div class=\"metascore_w large game positive\">97</div>\\n    </a>\\n\\n                                                    </div>\\n\\n                                                    <span class=\"title numbered\">\\n                                                                    8.\\n                                                            </span>\\n                        \\n                        <a href=\"/game/xbox-one/red-dead-redemption-2\" class=\"title\"><h3>Red Dead Redemption 2</h3></a>\\n\\n                        <div class=\"clamp-details\">\\n                            \\n                            \\n                            \\n                                                            <div class=\"platform\">\\n                                    <span class=\"label\">Platform:</span>\\n                                    <span class=\"data\">\\n                                        Xbox One\\n                                                                            </span>\\n                                </div>\\n                            \\n                            \\n                            <span>October 26, 2018</span>\\n\\n                            \\n                            \\n                        </div>\\n\\n                        <div class=\"summary\">\\n                        Developed by the creators of Grand Theft Auto V and Red Dead Redemption, Red Dead Redemption 2 is an epic tale of life in America’s unforgiving heartland. The game’s vast and atmospheric world also provides the foundation for a brand new online multiplayer experience. America, 1899. The end of the Wild West era has begun. After a robbery goes badly wrong in the western town of Blackwater, Arthur Morgan and the Van der Linde gang are forced to flee. With federal agents and the best bounty hunters in the nation massing on their heels, the gang has to rob, steal and fight their way across the rugged heartland of America in order to survive. As deepening internal fissures threaten to tear the gang apart, Arthur must make a choice between his own ideals and loyalty to the gang that raised him. [Rockstar]\\n                        </div>\\n\\n                        <div class=\"browse-score-clamp\">\\n                            <div class=\"clamp-metascore\">\\n                                <span class=\"title\">Metascore:</span>\\n                                \\n\\n        \\n    <a class=\"metascore_anchor\" href=\"/game/xbox-one/red-dead-redemption-2/critic-reviews\">\\n<div class=\"metascore_w large game positive\">97</div>\\n    </a>\\n\\n                            </div>\\n                            <div class=\"clamp-userscore\">\\n                                <span class=\"title\">User Score:</span>\\n                                        \\n    <a class=\"metascore_anchor\" href=\"/game/xbox-one/red-dead-redemption-2/user-reviews\">\\n<div class=\"metascore_w user large game positive\">8.2</div>\\n    </a>\\n     \\n                            </div>\\n                        </div>\\n\\n                        <i class=\"fa fa-caret-up\" aria-hidden=\"true\"></i>\\n                        <i class=\"fa fa-caret-down\" aria-hidden=\"true\"></i>\\n                        <label for=\"503269\" class=\"clamp-list-expand-label\"></label>\\n                    </td>\\n                </tr>\\n                                    <tr class=\"spacer\"></tr>\\n                             \\n                                \\n            \\n            \\n            \\n\\n                \\n             \\n                <tr>                    \\n                    <td class=\"clamp-image-wrap\">\\n                        <a href=\"/game/xbox-one/grand-theft-auto-v\"><img src=\"https://static.metacritic.com/images/products/games/1/7f10462040718b3054c52f7791cf1c77-98.jpg\" alt=\"Grand Theft Auto V\" /></a>\\n\\n                                                                                                </td>\\n\\n                    <td class=\"clamp-summary-wrap\">\\n\\n                        <input type=\"checkbox\" id=\"325931\" class=\"clamp-summary-expand\" />\\n                        <div class=\"clamp-score-wrap\">\\n                                                            \\n\\n        \\n    <a class=\"metascore_anchor\" href=\"/game/xbox-one/grand-theft-auto-v/critic-reviews\">\\n<div class=\"metascore_w large game positive\">97</div>\\n    </a>\\n\\n                                                    </div>\\n\\n                                                    <span class=\"title numbered\">\\n                                                                    9.\\n                                                            </span>\\n                        \\n                        <a href=\"/game/xbox-one/grand-theft-auto-v\" class=\"title\"><h3>Grand Theft Auto V</h3></a>\\n\\n                        <div class=\"clamp-details\">\\n                            \\n                            \\n                            \\n                                                            <div class=\"platform\">\\n                                    <span class=\"label\">Platform:</span>\\n                                    <span class=\"data\">\\n                                        Xbox One\\n                                                                            </span>\\n                                </div>\\n                            \\n                            \\n                            <span>November 18, 2014</span>\\n\\n                            \\n                            \\n                        </div>\\n\\n                        <div class=\"summary\">\\n                        Grand Theft Auto 5 melds storytelling and gameplay in unique ways as players repeatedly jump in and out of the lives of the game\\'s three protagonists, playing all sides of the game\\'s interwoven story.\\n                        </div>\\n\\n                        <div class=\"browse-score-clamp\">\\n                            <div class=\"clamp-metascore\">\\n                                <span class=\"title\">Metascore:</span>\\n                                \\n\\n        \\n    <a class=\"metascore_anchor\" href=\"/game/xbox-one/grand-theft-auto-v/critic-reviews\">\\n<div class=\"metascore_w large game positive\">97</div>\\n    </a>\\n\\n                            </div>\\n                            <div class=\"clamp-userscore\">\\n                                <span class=\"title\">User Score:</span>\\n                                        \\n    <a class=\"metascore_anchor\" href=\"/game/xbox-one/grand-theft-auto-v/user-reviews\">\\n<div class=\"metascore_w user large game positive\">7.9</div>\\n    </a>\\n     \\n                            </div>\\n                        </div>\\n\\n                        <i class=\"fa fa-caret-up\" aria-hidden=\"true\"></i>\\n                        <i class=\"fa fa-caret-down\" aria-hidden=\"true\"></i>\\n                        <label for=\"325931\" class=\"clamp-list-expand-label\"></label>\\n                    </td>\\n                </tr>\\n                                    <tr class=\"spacer\"></tr>\\n                             \\n                                \\n            \\n            \\n            \\n\\n                \\n             \\n                <tr>                    \\n                    <td class=\"clamp-image-wrap\">\\n                        <a href=\"/game/playstation-3/grand-theft-auto-v\"><img src=\"https://static.metacritic.com/images/products/games/5/399bb685cc7f747a3b39a35acb5dc5de-98.jpg\" alt=\"Grand Theft Auto V\" /></a>\\n\\n                                                                                    <span class=\"mcmust\">\\n                                    <img src=\"/images/icons/mc-mustplay-sm.svg\" />\\n                                </span>\\n                                                                        </td>\\n\\n                    <td class=\"clamp-summary-wrap\">\\n\\n                        <input type=\"checkbox\" id=\"183885\" class=\"clamp-summary-expand\" />\\n                        <div class=\"clamp-score-wrap\">\\n                                                            \\n\\n        \\n    <a class=\"metascore_anchor\" href=\"/game/playstation-3/grand-theft-auto-v/critic-reviews\">\\n<div class=\"metascore_w large game positive\">97</div>\\n    </a>\\n\\n                                                    </div>\\n\\n                                                    <span class=\"title numbered\">\\n                                                                    10.\\n                                                            </span>\\n                        \\n                        <a href=\"/game/playstation-3/grand-theft-auto-v\" class=\"title\"><h3>Grand Theft Auto V</h3></a>\\n\\n                        <div class=\"clamp-details\">\\n                            \\n                            \\n                            \\n                                                            <div class=\"platform\">\\n                                    <span class=\"label\">Platform:</span>\\n                                    <span class=\"data\">\\n                                        PlayStation 3\\n                                                                            </span>\\n                                </div>\\n                            \\n                            \\n                            <span>September 17, 2013</span>\\n\\n                            \\n                            \\n                        </div>\\n\\n                        <div class=\"summary\">\\n                        Los Santos is a vast, sun-soaked metropolis full of self-help gurus, starlets and once-important, formerly-known-as celebrities. The city was once the envy of the Western world, but is now struggling to stay afloat in an era of economic uncertainty and reality TV. Amidst the chaos, three unique criminals plot their own chances of survival and success:  Franklin, a former street gangster in search of real opportunities and serious cheddar; Michael, a professional ex-con whose retirement is a lot less rosy than he hoped it would be; and Trevor, a violent maniac driven by the chance of a cheap high and the next big score. Quickly running out of options, the crew risks it all in a sequence of daring and dangerous heists that could set them up for life.\\n                        </div>\\n\\n                        <div class=\"browse-score-clamp\">\\n                            <div class=\"clamp-metascore\">\\n                                <span class=\"title\">Metascore:</span>\\n                                \\n\\n        \\n    <a class=\"metascore_anchor\" href=\"/game/playstation-3/grand-theft-auto-v/critic-reviews\">\\n<div class=\"metascore_w large game positive\">97</div>\\n    </a>\\n\\n                            </div>\\n                            <div class=\"clamp-userscore\">\\n                                <span class=\"title\">User Score:</span>\\n                                        \\n    <a class=\"metascore_anchor\" href=\"/game/playstation-3/grand-theft-auto-v/user-reviews\">\\n<div class=\"metascore_w user large game positive\">8.3</div>\\n    </a>\\n     \\n                            </div>\\n                        </div>\\n\\n                        <i class=\"fa fa-caret-up\" aria-hidden=\"true\"></i>\\n                        <i class=\"fa fa-caret-down\" aria-hidden=\"true\"></i>\\n                        <label for=\"183885\" class=\"clamp-list-expand-label\"></label>\\n                    </td>\\n                </tr>\\n                                    <tr class=\"spacer\"></tr>\\n                             \\n                                                    </table>\\n</div>\\n\\r\\n\\r\\n                            \\r\\n        <div id=\"leader_middle2\" class=\"ad_unit\">\\r\\n\\r\\n            <script type=\"text/javascript\">\\r\\n            \\r\\n                            pushToDisplay(\\'leader_middle2\\', null, \\'middle2\\', false, null, false);\\r\\n                    </script>\\r\\n    \\r\\n    </div>\\r\\n    \\r\\n    \\r\\n                            \\n<div class=\"browse_list_wrapper three browse-list-large\">\\n    <table class=\"clamp-list\">\\n                                                                                                                                                                                                                                                                                                                        \\n            \\n            \\n            \\n\\n                \\n             \\n                <tr>                    \\n                    <td class=\"clamp-image-wrap\">\\n                        <a href=\"/game/pc/disco-elysium-the-final-cut\"><img src=\"https://static.metacritic.com/images/products/games/6/e3879329612427aca58cb5b7c7ab9818-98.jpg\" alt=\"Disco Elysium: The Final Cut\" /></a>\\n\\n                                                                                                </td>\\n\\n                    <td class=\"clamp-summary-wrap\">\\n\\n                        <input type=\"checkbox\" id=\"573916\" class=\"clamp-summary-expand\" />\\n                        <div class=\"clamp-score-wrap\">\\n                                                            \\n\\n        \\n    <a class=\"metascore_anchor\" href=\"/game/pc/disco-elysium-the-final-cut/critic-reviews\">\\n<div class=\"metascore_w large game positive\">97</div>\\n    </a>\\n\\n                                                    </div>\\n\\n                                                    <span class=\"title numbered\">\\n                                                                    11.\\n                                                            </span>\\n                        \\n                        <a href=\"/game/pc/disco-elysium-the-final-cut\" class=\"title\"><h3>Disco Elysium: The Final Cut</h3></a>\\n\\n                        <div class=\"clamp-details\">\\n                            \\n                            \\n                            \\n                                                            <div class=\"platform\">\\n                                    <span class=\"label\">Platform:</span>\\n                                    <span class=\"data\">\\n                                        PC\\n                                                                            </span>\\n                                </div>\\n                            \\n                            \\n                            <span>March 30, 2021</span>\\n\\n                            \\n                            \\n                        </div>\\n\\n                        <div class=\"summary\">\\n                        Disco Elysium - The Final Cut is the definitive edition of the smash-hit RPG. Pursue your political dreams in new quests, meet and question more of the city\\'s locals, and explore a whole extra area. Full voice-acting, controller support, and expanded language options also included. Get even more out of this award-winning open world. You\\'re a detective with a unique skill system at your disposal and a whole city block to carve your path across. Interrogate unforgettable characters, crack murders, or take bribes. Become a hero or an absolute disaster of a human being.\\n                        </div>\\n\\n                        <div class=\"browse-score-clamp\">\\n                            <div class=\"clamp-metascore\">\\n                                <span class=\"title\">Metascore:</span>\\n                                \\n\\n        \\n    <a class=\"metascore_anchor\" href=\"/game/pc/disco-elysium-the-final-cut/critic-reviews\">\\n<div class=\"metascore_w large game positive\">97</div>\\n    </a>\\n\\n                            </div>\\n                            <div class=\"clamp-userscore\">\\n                                <span class=\"title\">User Score:</span>\\n                                        \\n    <a class=\"metascore_anchor\" href=\"/game/pc/disco-elysium-the-final-cut/user-reviews\">\\n<div class=\"metascore_w user large game positive\">8.3</div>\\n    </a>\\n     \\n                            </div>\\n                        </div>\\n\\n                        <i class=\"fa fa-caret-up\" aria-hidden=\"true\"></i>\\n                        <i class=\"fa fa-caret-down\" aria-hidden=\"true\"></i>\\n                        <label for=\"573916\" class=\"clamp-list-expand-label\"></label>\\n                    </td>\\n                </tr>\\n                                    <tr class=\"spacer\"></tr>\\n                             \\n                                \\n            \\n            \\n            \\n\\n                \\n             \\n                <tr>                    \\n                    <td class=\"clamp-image-wrap\">\\n                        <a href=\"/game/xbox-360/grand-theft-auto-v\"><img src=\"https://static.metacritic.com/images/products/games/6/a03025b77dabe0980c17c6a3c8f540ae-98.jpg\" alt=\"Grand Theft Auto V\" /></a>\\n\\n                                                                                    <span class=\"mcmust\">\\n                                    <img src=\"/images/icons/mc-mustplay-sm.svg\" />\\n                                </span>\\n                                                                        </td>\\n\\n                    <td class=\"clamp-summary-wrap\">\\n\\n                        <input type=\"checkbox\" id=\"183886\" class=\"clamp-summary-expand\" />\\n                        <div class=\"clamp-score-wrap\">\\n                                                            \\n\\n        \\n    <a class=\"metascore_anchor\" href=\"/game/xbox-360/grand-theft-auto-v/critic-reviews\">\\n<div class=\"metascore_w large game positive\">97</div>\\n    </a>\\n\\n                                                    </div>\\n\\n                                                    <span class=\"title numbered\">\\n                                                                    12.\\n                                                            </span>\\n                        \\n                        <a href=\"/game/xbox-360/grand-theft-auto-v\" class=\"title\"><h3>Grand Theft Auto V</h3></a>\\n\\n                        <div class=\"clamp-details\">\\n                            \\n                            \\n                            \\n                                                            <div class=\"platform\">\\n                                    <span class=\"label\">Platform:</span>\\n                                    <span class=\"data\">\\n                                        Xbox 360\\n                                                                            </span>\\n                                </div>\\n                            \\n                            \\n                            <span>September 17, 2013</span>\\n\\n                            \\n                            \\n                        </div>\\n\\n                        <div class=\"summary\">\\n                        Los Santos is a sprawling sun-soaked metropolis full of self-help gurus, starlets and once-important stars. The city was once the envy of the Western world, but is now struggling to stay relevant in an era of economic uncertainty and reality TV. Amidst the chaos, three very different criminals chart their own chances of survival and success:  Franklin, a former street gangster, now looking for real opportunities and fat stacks of cash; Michael, a professional ex-con whose retirement is significantly less rosy than he hoped it would be; and Trevor, a violent maniac driven by the chance of a cheap high and the next big score. Rapidly running out of options, the crew risks everything in a series of bolt and dangerous heists that could set them up for the long haul.\\n                        </div>\\n\\n                        <div class=\"browse-score-clamp\">\\n                            <div class=\"clamp-metascore\">\\n                                <span class=\"title\">Metascore:</span>\\n                                \\n\\n        \\n    <a class=\"metascore_anchor\" href=\"/game/xbox-360/grand-theft-auto-v/critic-reviews\">\\n<div class=\"metascore_w large game positive\">97</div>\\n    </a>\\n\\n                            </div>\\n                            <div class=\"clamp-userscore\">\\n                                <span class=\"title\">User Score:</span>\\n                                        \\n    <a class=\"metascore_anchor\" href=\"/game/xbox-360/grand-theft-auto-v/user-reviews\">\\n<div class=\"metascore_w user large game positive\">8.3</div>\\n    </a>\\n     \\n                            </div>\\n                        </div>\\n\\n                        <i class=\"fa fa-caret-up\" aria-hidden=\"true\"></i>\\n                        <i class=\"fa fa-caret-down\" aria-hidden=\"true\"></i>\\n                        <label for=\"183886\" class=\"clamp-list-expand-label\"></label>\\n                    </td>\\n                </tr>\\n                                    <tr class=\"spacer\"></tr>\\n                             \\n                                \\n            \\n            \\n            \\n\\n                \\n             \\n                <tr>                    \\n                    <td class=\"clamp-image-wrap\">\\n                        <a href=\"/game/dreamcast/tony-hawks-pro-skater-2\"><img src=\"https://static.metacritic.com/images/products/games/0/3d40880e41d0c8cd6732242de27d5cb2-98.jpg\" alt=\"Tony Hawk\\'s Pro Skater 2\" /></a>\\n\\n                                                                                    <span class=\"mcmust\">\\n                                    <img src=\"/images/icons/mc-mustplay-sm.svg\" />\\n                                </span>\\n                                                                        </td>\\n\\n                    <td class=\"clamp-summary-wrap\">\\n\\n                        <input type=\"checkbox\" id=\"160870\" class=\"clamp-summary-expand\" />\\n                        <div class=\"clamp-score-wrap\">\\n                                                            \\n\\n        \\n    <a class=\"metascore_anchor\" href=\"/game/dreamcast/tony-hawks-pro-skater-2/critic-reviews\">\\n<div class=\"metascore_w large game positive\">97</div>\\n    </a>\\n\\n                                                    </div>\\n\\n                                                    <span class=\"title numbered\">\\n                                                                    13.\\n                                                            </span>\\n                        \\n                        <a href=\"/game/dreamcast/tony-hawks-pro-skater-2\" class=\"title\"><h3>Tony Hawk\\'s Pro Skater 2</h3></a>\\n\\n                        <div class=\"clamp-details\">\\n                            \\n                            \\n                            \\n                                                            <div class=\"platform\">\\n                                    <span class=\"label\">Platform:</span>\\n                                    <span class=\"data\">\\n                                        Dreamcast\\n                                                                            </span>\\n                                </div>\\n                            \\n                            \\n                            <span>November 6, 2000</span>\\n\\n                            \\n                            \\n                        </div>\\n\\n                        <div class=\"summary\">\\n                        Hawk\\'s back - with new technology, new pros and new tricks! THPS2, the legend rides on! Skate as legendary Tony Hawk or any one of 12 other pro skaters. Create your own custom skaters. Multiple play modes including 1-Player, Career and Free Skate modes, as well as 2-player modes such as Trick Attack, Graffiti Tag and Horse. Build your own custom skate parks with the real-time 3D park editor.\\n                        </div>\\n\\n                        <div class=\"browse-score-clamp\">\\n                            <div class=\"clamp-metascore\">\\n                                <span class=\"title\">Metascore:</span>\\n                                \\n\\n        \\n    <a class=\"metascore_anchor\" href=\"/game/dreamcast/tony-hawks-pro-skater-2/critic-reviews\">\\n<div class=\"metascore_w large game positive\">97</div>\\n    </a>\\n\\n                            </div>\\n                            <div class=\"clamp-userscore\">\\n                                <span class=\"title\">User Score:</span>\\n                                        \\n    <a class=\"metascore_anchor\" href=\"/game/dreamcast/tony-hawks-pro-skater-2/user-reviews\">\\n<div class=\"metascore_w user large game mixed\">6.2</div>\\n    </a>\\n     \\n                            </div>\\n                        </div>\\n\\n                        <i class=\"fa fa-caret-up\" aria-hidden=\"true\"></i>\\n                        <i class=\"fa fa-caret-down\" aria-hidden=\"true\"></i>\\n                        <label for=\"160870\" class=\"clamp-list-expand-label\"></label>\\n                    </td>\\n                </tr>\\n                                    <tr class=\"spacer\"></tr>\\n                             \\n                                \\n            \\n            \\n            \\n\\n                \\n             \\n                <tr>                    \\n                    <td class=\"clamp-image-wrap\">\\n                        <a href=\"/game/switch/the-legend-of-zelda-breath-of-the-wild\"><img src=\"https://static.metacritic.com/images/products/games/9/6d163aaa6b6cc28519ffea9195649929-98.jpg\" alt=\"The Legend of Zelda: Breath of the Wild\" /></a>\\n\\n                                                                                    <span class=\"mcmust\">\\n                                    <img src=\"/images/icons/mc-mustplay-sm.svg\" />\\n                                </span>\\n                                                                        </td>\\n\\n                    <td class=\"clamp-summary-wrap\">\\n\\n                        <input type=\"checkbox\" id=\"506409\" class=\"clamp-summary-expand\" />\\n                        <div class=\"clamp-score-wrap\">\\n                                                            \\n\\n        \\n    <a class=\"metascore_anchor\" href=\"/game/switch/the-legend-of-zelda-breath-of-the-wild/critic-reviews\">\\n<div class=\"metascore_w large game positive\">97</div>\\n    </a>\\n\\n                                                    </div>\\n\\n                                                    <span class=\"title numbered\">\\n                                                                    14.\\n                                                            </span>\\n                        \\n                        <a href=\"/game/switch/the-legend-of-zelda-breath-of-the-wild\" class=\"title\"><h3>The Legend of Zelda: Breath of the Wild</h3></a>\\n\\n                        <div class=\"clamp-details\">\\n                            \\n                            \\n                            \\n                                                            <div class=\"platform\">\\n                                    <span class=\"label\">Platform:</span>\\n                                    <span class=\"data\">\\n                                        Switch\\n                                                                            </span>\\n                                </div>\\n                            \\n                            \\n                            <span>March 3, 2017</span>\\n\\n                            \\n                            \\n                        </div>\\n\\n                        <div class=\"summary\">\\n                        Forget everything you know about The Legend of Zelda games. Step into a world of discovery, exploration and adventure in The Legend of Zelda: Breath of the Wild, a boundary-breaking new game in the acclaimed series. Travel across fields, through forests and to mountain peaks as you discover what has become of the ruined kingdom of Hyrule in this open-air adventure. Explore the wilds of Hyrule any way you like - Climb up towers and mountain peaks in search of new destinations, then set your own path to get there and plunge into the wilderness. Along the way, you\\'ll battle towering enemies, hunt wild beasts and gather ingredients for the food and elixirs you\\'ll need to sustain you on your journey. More than 100 Shrines of Trials to discover and explore - Shrines dot the landscape, waiting to be discovered in any order you want. Search for them in various ways, and solve a variety of puzzles inside. Work your way through the traps and devices inside to earn special items and other rewards that will help you on your adventure.\\r\\n*    Be prepared and properly equipped - With an entire world waiting to be explored, you\\'ll need a variety of outfits and gear to reach every corner. You may need to bundle up with warmer clothes or change into something better suited to the desert heat. Some clothing even has special effects that, for example, can make you faster and stealthier.\\r\\n*    Battling enemies requires strategy - The world is inhabited with enemies of all shapes and sizes. Each one has its own attack method and weaponry, so you must think quickly and develop the right strategies to defeat them.\\r\\n*    amiibo compatibility - Tap the Wolf Link amiibo (sold separately) to make Wolf Link appear in game. Wolf Link will attack enemies on his own and help you find items you\\'re searching for.\\n                        </div>\\n\\n                        <div class=\"browse-score-clamp\">\\n                            <div class=\"clamp-metascore\">\\n                                <span class=\"title\">Metascore:</span>\\n                                \\n\\n        \\n    <a class=\"metascore_anchor\" href=\"/game/switch/the-legend-of-zelda-breath-of-the-wild/critic-reviews\">\\n<div class=\"metascore_w large game positive\">97</div>\\n    </a>\\n\\n                            </div>\\n                            <div class=\"clamp-userscore\">\\n                                <span class=\"title\">User Score:</span>\\n                                        \\n    <a class=\"metascore_anchor\" href=\"/game/switch/the-legend-of-zelda-breath-of-the-wild/user-reviews\">\\n<div class=\"metascore_w user large game positive\">8.7</div>\\n    </a>\\n     \\n                            </div>\\n                        </div>\\n\\n                        <i class=\"fa fa-caret-up\" aria-hidden=\"true\"></i>\\n                        <i class=\"fa fa-caret-down\" aria-hidden=\"true\"></i>\\n                        <label for=\"506409\" class=\"clamp-list-expand-label\"></label>\\n                    </td>\\n                </tr>\\n                                    <tr class=\"spacer\"></tr>\\n                             \\n                                \\n            \\n            \\n            \\n\\n                \\n             \\n                <tr>                    \\n                    <td class=\"clamp-image-wrap\">\\n                        <a href=\"/game/playstation-2/tony-hawks-pro-skater-3\"><img src=\"https://static.metacritic.com/images/products/games/2/38c2011309e2cee4e5ae373456d5730b-98.jpg\" alt=\"Tony Hawk\\'s Pro Skater 3\" /></a>\\n\\n                                                                                    <span class=\"mcmust\">\\n                                    <img src=\"/images/icons/mc-mustplay-sm.svg\" />\\n                                </span>\\n                                                                        </td>\\n\\n                    <td class=\"clamp-summary-wrap\">\\n\\n                        <input type=\"checkbox\" id=\"101642\" class=\"clamp-summary-expand\" />\\n                        <div class=\"clamp-score-wrap\">\\n                                                            \\n\\n        \\n    <a class=\"metascore_anchor\" href=\"/game/playstation-2/tony-hawks-pro-skater-3/critic-reviews\">\\n<div class=\"metascore_w large game positive\">97</div>\\n    </a>\\n\\n                                                    </div>\\n\\n                                                    <span class=\"title numbered\">\\n                                                                    15.\\n                                                            </span>\\n                        \\n                        <a href=\"/game/playstation-2/tony-hawks-pro-skater-3\" class=\"title\"><h3>Tony Hawk\\'s Pro Skater 3</h3></a>\\n\\n                        <div class=\"clamp-details\">\\n                            \\n                            \\n                            \\n                                                            <div class=\"platform\">\\n                                    <span class=\"label\">Platform:</span>\\n                                    <span class=\"data\">\\n                                        PlayStation 2\\n                                                                            </span>\\n                                </div>\\n                            \\n                            \\n                            <span>October 28, 2001</span>\\n\\n                            \\n                            \\n                        </div>\\n\\n                        <div class=\"summary\">\\n                        Challenge up to four friends in online competitions over a LAN or the Internet.  Take them on in both Trick Attack and Graffiti modes. [Activision]\\n                        </div>\\n\\n                        <div class=\"browse-score-clamp\">\\n                            <div class=\"clamp-metascore\">\\n                                <span class=\"title\">Metascore:</span>\\n                                \\n\\n        \\n    <a class=\"metascore_anchor\" href=\"/game/playstation-2/tony-hawks-pro-skater-3/critic-reviews\">\\n<div class=\"metascore_w large game positive\">97</div>\\n    </a>\\n\\n                            </div>\\n                            <div class=\"clamp-userscore\">\\n                                <span class=\"title\">User Score:</span>\\n                                        \\n    <a class=\"metascore_anchor\" href=\"/game/playstation-2/tony-hawks-pro-skater-3/user-reviews\">\\n<div class=\"metascore_w user large game positive\">7.5</div>\\n    </a>\\n     \\n                            </div>\\n                        </div>\\n\\n                        <i class=\"fa fa-caret-up\" aria-hidden=\"true\"></i>\\n                        <i class=\"fa fa-caret-down\" aria-hidden=\"true\"></i>\\n                        <label for=\"101642\" class=\"clamp-list-expand-label\"></label>\\n                    </td>\\n                </tr>\\n                                    <tr class=\"spacer\"></tr>\\n                             \\n                                                    </table>\\n</div>\\n\\r\\n\\r\\n                        <div style=\"padding-bottom:30px;\">\\r\\n                                \\r\\n        <div id=\"incontent_plus_top\" class=\"ad_unit\">\\r\\n\\r\\n            <script type=\"text/javascript\">\\r\\n            \\r\\n                            pushToDisplay(\\'incontent_plus_top\\', null, \\'top\\', false, null, false);\\r\\n                    </script>\\r\\n    \\r\\n    </div>\\r\\n    \\r\\n                            </div>\\r\\n\\r\\n                            \\n<div class=\"browse_list_wrapper four browse-list-large\">\\n    <table class=\"clamp-list\">\\n                                                                                                                                                                                                                                                                                                                                                                                                                                                                    \\n            \\n            \\n            \\n\\n                \\n             \\n                <tr>                    \\n                    <td class=\"clamp-image-wrap\">\\n                        <a href=\"/game/nintendo-64/perfect-dark\"><img src=\"https://static.metacritic.com/images/products/games/1/e064722d2d4521cb762502a48691e070-98.jpg\" alt=\"Perfect Dark\" /></a>\\n\\n                                                                                    <span class=\"mcmust\">\\n                                    <img src=\"/images/icons/mc-mustplay-sm.svg\" />\\n                                </span>\\n                                                                        </td>\\n\\n                    <td class=\"clamp-summary-wrap\">\\n\\n                        <input type=\"checkbox\" id=\"160721\" class=\"clamp-summary-expand\" />\\n                        <div class=\"clamp-score-wrap\">\\n                                                            \\n\\n        \\n    <a class=\"metascore_anchor\" href=\"/game/nintendo-64/perfect-dark/critic-reviews\">\\n<div class=\"metascore_w large game positive\">97</div>\\n    </a>\\n\\n                                                    </div>\\n\\n                                                    <span class=\"title numbered\">\\n                                                                    16.\\n                                                            </span>\\n                        \\n                        <a href=\"/game/nintendo-64/perfect-dark\" class=\"title\"><h3>Perfect Dark</h3></a>\\n\\n                        <div class=\"clamp-details\">\\n                            \\n                            \\n                            \\n                                                            <div class=\"platform\">\\n                                    <span class=\"label\">Platform:</span>\\n                                    <span class=\"data\">\\n                                        Nintendo 64\\n                                                                            </span>\\n                                </div>\\n                            \\n                            \\n                            <span>May 22, 2000</span>\\n\\n                            \\n                            \\n                        </div>\\n\\n                        <div class=\"summary\">\\n                        Step into the Dark... As Carrington Institute\\'s most promising new Agent, Joanna Dark must uncover the truth behind the dataDyne Corporation\\'s recent technological breakthroughs - breakthroughs which could have serious consequences for mankind.\\n                        </div>\\n\\n                        <div class=\"browse-score-clamp\">\\n                            <div class=\"clamp-metascore\">\\n                                <span class=\"title\">Metascore:</span>\\n                                \\n\\n        \\n    <a class=\"metascore_anchor\" href=\"/game/nintendo-64/perfect-dark/critic-reviews\">\\n<div class=\"metascore_w large game positive\">97</div>\\n    </a>\\n\\n                            </div>\\n                            <div class=\"clamp-userscore\">\\n                                <span class=\"title\">User Score:</span>\\n                                        \\n    <a class=\"metascore_anchor\" href=\"/game/nintendo-64/perfect-dark/user-reviews\">\\n<div class=\"metascore_w user large game positive\">8.8</div>\\n    </a>\\n     \\n                            </div>\\n                        </div>\\n\\n                        <i class=\"fa fa-caret-up\" aria-hidden=\"true\"></i>\\n                        <i class=\"fa fa-caret-down\" aria-hidden=\"true\"></i>\\n                        <label for=\"160721\" class=\"clamp-list-expand-label\"></label>\\n                    </td>\\n                </tr>\\n                                    <tr class=\"spacer\"></tr>\\n                             \\n                                \\n            \\n            \\n            \\n\\n                \\n             \\n                <tr>                    \\n                    <td class=\"clamp-image-wrap\">\\n                        <a href=\"/game/playstation-4/red-dead-redemption-2\"><img src=\"https://static.metacritic.com/images/products/games/8/f5b1cbf43a118c429f67022f9e93b41d-98.jpg\" alt=\"Red Dead Redemption 2\" /></a>\\n\\n                                                                                    <span class=\"mcmust\">\\n                                    <img src=\"/images/icons/mc-mustplay-sm.svg\" />\\n                                </span>\\n                                                                        </td>\\n\\n                    <td class=\"clamp-summary-wrap\">\\n\\n                        <input type=\"checkbox\" id=\"503268\" class=\"clamp-summary-expand\" />\\n                        <div class=\"clamp-score-wrap\">\\n                                                            \\n\\n        \\n    <a class=\"metascore_anchor\" href=\"/game/playstation-4/red-dead-redemption-2/critic-reviews\">\\n<div class=\"metascore_w large game positive\">97</div>\\n    </a>\\n\\n                                                    </div>\\n\\n                                                    <span class=\"title numbered\">\\n                                                                    17.\\n                                                            </span>\\n                        \\n                        <a href=\"/game/playstation-4/red-dead-redemption-2\" class=\"title\"><h3>Red Dead Redemption 2</h3></a>\\n\\n                        <div class=\"clamp-details\">\\n                            \\n                            \\n                            \\n                                                            <div class=\"platform\">\\n                                    <span class=\"label\">Platform:</span>\\n                                    <span class=\"data\">\\n                                        PlayStation 4\\n                                                                            </span>\\n                                </div>\\n                            \\n                            \\n                            <span>October 26, 2018</span>\\n\\n                            \\n                            \\n                        </div>\\n\\n                        <div class=\"summary\">\\n                        Developed by the creators of Grand Theft Auto V and Red Dead Redemption, Red Dead Redemption 2 is an epic tale of life in America’s unforgiving heartland. The game’s vast and atmospheric world also provides the foundation for a brand new online multiplayer experience. America, 1899. The end of the Wild West era has begun. After a robbery goes badly wrong in the western town of Blackwater, Arthur Morgan and the Van der Linde gang are forced to flee. With federal agents and the best bounty hunters in the nation massing on their heels, the gang has to rob, steal and fight their way across the rugged heartland of America in order to survive. As deepening internal fissures threaten to tear the gang apart, Arthur must make a choice between his own ideals and loyalty to the gang that raised him. [Rockstar]\\n                        </div>\\n\\n                        <div class=\"browse-score-clamp\">\\n                            <div class=\"clamp-metascore\">\\n                                <span class=\"title\">Metascore:</span>\\n                                \\n\\n        \\n    <a class=\"metascore_anchor\" href=\"/game/playstation-4/red-dead-redemption-2/critic-reviews\">\\n<div class=\"metascore_w large game positive\">97</div>\\n    </a>\\n\\n                            </div>\\n                            <div class=\"clamp-userscore\">\\n                                <span class=\"title\">User Score:</span>\\n                                        \\n    <a class=\"metascore_anchor\" href=\"/game/playstation-4/red-dead-redemption-2/user-reviews\">\\n<div class=\"metascore_w user large game positive\">8.7</div>\\n    </a>\\n     \\n                            </div>\\n                        </div>\\n\\n                        <i class=\"fa fa-caret-up\" aria-hidden=\"true\"></i>\\n                        <i class=\"fa fa-caret-down\" aria-hidden=\"true\"></i>\\n                        <label for=\"503268\" class=\"clamp-list-expand-label\"></label>\\n                    </td>\\n                </tr>\\n                                    <tr class=\"spacer\"></tr>\\n                             \\n                                \\n            \\n            \\n            \\n\\n                \\n             \\n                <tr>                    \\n                    <td class=\"clamp-image-wrap\">\\n                        <a href=\"/game/playstation-4/grand-theft-auto-v\"><img src=\"https://static.metacritic.com/images/products/games/7/a149682ad949afdce7d25ee90d0ef848-98.jpg\" alt=\"Grand Theft Auto V\" /></a>\\n\\n                                                                                    <span class=\"mcmust\">\\n                                    <img src=\"/images/icons/mc-mustplay-sm.svg\" />\\n                                </span>\\n                                                                        </td>\\n\\n                    <td class=\"clamp-summary-wrap\">\\n\\n                        <input type=\"checkbox\" id=\"325927\" class=\"clamp-summary-expand\" />\\n                        <div class=\"clamp-score-wrap\">\\n                                                            \\n\\n        \\n    <a class=\"metascore_anchor\" href=\"/game/playstation-4/grand-theft-auto-v/critic-reviews\">\\n<div class=\"metascore_w large game positive\">97</div>\\n    </a>\\n\\n                                                    </div>\\n\\n                                                    <span class=\"title numbered\">\\n                                                                    18.\\n                                                            </span>\\n                        \\n                        <a href=\"/game/playstation-4/grand-theft-auto-v\" class=\"title\"><h3>Grand Theft Auto V</h3></a>\\n\\n                        <div class=\"clamp-details\">\\n                            \\n                            \\n                            \\n                                                            <div class=\"platform\">\\n                                    <span class=\"label\">Platform:</span>\\n                                    <span class=\"data\">\\n                                        PlayStation 4\\n                                                                            </span>\\n                                </div>\\n                            \\n                            \\n                            <span>November 18, 2014</span>\\n\\n                            \\n                            \\n                        </div>\\n\\n                        <div class=\"summary\">\\n                        The sprawling sun-soaked metropolis of Los Santos is chock full of self-help coaches, starlets and C-List celebrities, once on top of the media world, now struggling to stay relevant in time of economic malaise and lowest-common-denominator reality TV. Amidst this madness, three unique criminals plan their own chances of survival and success: Franklin, a street-level hustler in search of opportunities for serious money; Michael, an ex-con whose \"retirement\" is a less rosy than he hoped it would be; and Trevor, a violent dude driven by the chance for a quick high and the next big score. Nearly out of options, the crew risks it all in a series of daring and dangerous heists that could set them up for life - one way or the other.\\n                        </div>\\n\\n                        <div class=\"browse-score-clamp\">\\n                            <div class=\"clamp-metascore\">\\n                                <span class=\"title\">Metascore:</span>\\n                                \\n\\n        \\n    <a class=\"metascore_anchor\" href=\"/game/playstation-4/grand-theft-auto-v/critic-reviews\">\\n<div class=\"metascore_w large game positive\">97</div>\\n    </a>\\n\\n                            </div>\\n                            <div class=\"clamp-userscore\">\\n                                <span class=\"title\">User Score:</span>\\n                                        \\n    <a class=\"metascore_anchor\" href=\"/game/playstation-4/grand-theft-auto-v/user-reviews\">\\n<div class=\"metascore_w user large game positive\">8.3</div>\\n    </a>\\n     \\n                            </div>\\n                        </div>\\n\\n                        <i class=\"fa fa-caret-up\" aria-hidden=\"true\"></i>\\n                        <i class=\"fa fa-caret-down\" aria-hidden=\"true\"></i>\\n                        <label for=\"325927\" class=\"clamp-list-expand-label\"></label>\\n                    </td>\\n                </tr>\\n                                    <tr class=\"spacer\"></tr>\\n                             \\n                                \\n            \\n            \\n            \\n\\n                \\n             \\n                <tr>                    \\n                    <td class=\"clamp-image-wrap\">\\n                        <a href=\"/game/gamecube/metroid-prime\"><img src=\"https://static.metacritic.com/images/products/games/6/319fee49d72c25208b5dc3d8ae65f84e-98.jpg\" alt=\"Metroid Prime\" /></a>\\n\\n                                                                                    <span class=\"mcmust\">\\n                                    <img src=\"/images/icons/mc-mustplay-sm.svg\" />\\n                                </span>\\n                                                                        </td>\\n\\n                    <td class=\"clamp-summary-wrap\">\\n\\n                        <input type=\"checkbox\" id=\"160956\" class=\"clamp-summary-expand\" />\\n                        <div class=\"clamp-score-wrap\">\\n                                                            \\n\\n        \\n    <a class=\"metascore_anchor\" href=\"/game/gamecube/metroid-prime/critic-reviews\">\\n<div class=\"metascore_w large game positive\">97</div>\\n    </a>\\n\\n                                                    </div>\\n\\n                                                    <span class=\"title numbered\">\\n                                                                    19.\\n                                                            </span>\\n                        \\n                        <a href=\"/game/gamecube/metroid-prime\" class=\"title\"><h3>Metroid Prime</h3></a>\\n\\n                        <div class=\"clamp-details\">\\n                            \\n                            \\n                            \\n                                                            <div class=\"platform\">\\n                                    <span class=\"label\">Platform:</span>\\n                                    <span class=\"data\">\\n                                        GameCube\\n                                                                            </span>\\n                                </div>\\n                            \\n                            \\n                            <span>November 17, 2002</span>\\n\\n                            \\n                            \\n                        </div>\\n\\n                        <div class=\"summary\">\\n                        Samus returns in a new mission to unravel the mystery behind the ruined walls scattered across Tallon IV. In Metroid Prime, you\\'ll play the role of this bounty hunter and view the world through her visor, which displays information ranging from current energy levels to ammunition. Equipped with a Power Beam and Gravity Suit, you must shoot locked switches, solve puzzles, and eliminate enemies. It\\'s up to you to explore the world and recover more power-ups and weapons, which gradually open more gameplay areas.\\n                        </div>\\n\\n                        <div class=\"browse-score-clamp\">\\n                            <div class=\"clamp-metascore\">\\n                                <span class=\"title\">Metascore:</span>\\n                                \\n\\n        \\n    <a class=\"metascore_anchor\" href=\"/game/gamecube/metroid-prime/critic-reviews\">\\n<div class=\"metascore_w large game positive\">97</div>\\n    </a>\\n\\n                            </div>\\n                            <div class=\"clamp-userscore\">\\n                                <span class=\"title\">User Score:</span>\\n                                        \\n    <a class=\"metascore_anchor\" href=\"/game/gamecube/metroid-prime/user-reviews\">\\n<div class=\"metascore_w user large game positive\">8.9</div>\\n    </a>\\n     \\n                            </div>\\n                        </div>\\n\\n                        <i class=\"fa fa-caret-up\" aria-hidden=\"true\"></i>\\n                        <i class=\"fa fa-caret-down\" aria-hidden=\"true\"></i>\\n                        <label for=\"160956\" class=\"clamp-list-expand-label\"></label>\\n                    </td>\\n                </tr>\\n                                    <tr class=\"spacer\"></tr>\\n                             \\n                                \\n            \\n            \\n            \\n\\n                \\n             \\n                <tr>                    \\n                    <td class=\"clamp-image-wrap\">\\n                        <a href=\"/game/playstation-2/grand-theft-auto-iii\"><img src=\"https://static.metacritic.com/images/products/games/3/227b480f073b1c0ffba8b7a6dc79a453-98.jpg\" alt=\"Grand Theft Auto III\" /></a>\\n\\n                                                                                    <span class=\"mcmust\">\\n                                    <img src=\"/images/icons/mc-mustplay-sm.svg\" />\\n                                </span>\\n                                                                        </td>\\n\\n                    <td class=\"clamp-summary-wrap\">\\n\\n                        <input type=\"checkbox\" id=\"101503\" class=\"clamp-summary-expand\" />\\n                        <div class=\"clamp-score-wrap\">\\n                                                            \\n\\n        \\n    <a class=\"metascore_anchor\" href=\"/game/playstation-2/grand-theft-auto-iii/critic-reviews\">\\n<div class=\"metascore_w large game positive\">97</div>\\n    </a>\\n\\n                                                    </div>\\n\\n                                                    <span class=\"title numbered\">\\n                                                                    20.\\n                                                            </span>\\n                        \\n                        <a href=\"/game/playstation-2/grand-theft-auto-iii\" class=\"title\"><h3>Grand Theft Auto III</h3></a>\\n\\n                        <div class=\"clamp-details\">\\n                            \\n                            \\n                            \\n                                                            <div class=\"platform\">\\n                                    <span class=\"label\">Platform:</span>\\n                                    <span class=\"data\">\\n                                        PlayStation 2\\n                                                                            </span>\\n                                </div>\\n                            \\n                            \\n                            <span>October 22, 2001</span>\\n\\n                            \\n                            \\n                        </div>\\n\\n                        <div class=\"summary\">\\n                        Players are put at the heart of their very own gangster movie, and let loose in a fully-realised 3 dimensional city with a cast of hundreds, 50 plus vehicles, ranging from sports cars to ice cream trucks and from boats to buses, 3 hours of music, including opera, reggae, house, drum and bass, pop and disco, and a huge array of street ready weapons.  [Rockstar Games]\\n                        </div>\\n\\n                        <div class=\"browse-score-clamp\">\\n                            <div class=\"clamp-metascore\">\\n                                <span class=\"title\">Metascore:</span>\\n                                \\n\\n        \\n    <a class=\"metascore_anchor\" href=\"/game/playstation-2/grand-theft-auto-iii/critic-reviews\">\\n<div class=\"metascore_w large game positive\">97</div>\\n    </a>\\n\\n                            </div>\\n                            <div class=\"clamp-userscore\">\\n                                <span class=\"title\">User Score:</span>\\n                                        \\n    <a class=\"metascore_anchor\" href=\"/game/playstation-2/grand-theft-auto-iii/user-reviews\">\\n<div class=\"metascore_w user large game positive\">8.4</div>\\n    </a>\\n     \\n                            </div>\\n                        </div>\\n\\n                        <i class=\"fa fa-caret-up\" aria-hidden=\"true\"></i>\\n                        <i class=\"fa fa-caret-down\" aria-hidden=\"true\"></i>\\n                        <label for=\"101503\" class=\"clamp-list-expand-label\"></label>\\n                    </td>\\n                </tr>\\n                                    <tr class=\"spacer\"></tr>\\n                             \\n                                \\n            \\n            \\n            \\n\\n                \\n             \\n                <tr>                    \\n                    <td class=\"clamp-image-wrap\">\\n                        <a href=\"/game/switch/super-mario-odyssey\"><img src=\"https://static.metacritic.com/images/products/games/0/95d6598e9d4f35b872429b25d2d044d0-98.jpg\" alt=\"Super Mario Odyssey\" /></a>\\n\\n                                                                                    <span class=\"mcmust\">\\n                                    <img src=\"/images/icons/mc-mustplay-sm.svg\" />\\n                                </span>\\n                                                                        </td>\\n\\n                    <td class=\"clamp-summary-wrap\">\\n\\n                        <input type=\"checkbox\" id=\"506420\" class=\"clamp-summary-expand\" />\\n                        <div class=\"clamp-score-wrap\">\\n                                                            \\n\\n        \\n    <a class=\"metascore_anchor\" href=\"/game/switch/super-mario-odyssey/critic-reviews\">\\n<div class=\"metascore_w large game positive\">97</div>\\n    </a>\\n\\n                                                    </div>\\n\\n                                                    <span class=\"title numbered\">\\n                                                                    21.\\n                                                            </span>\\n                        \\n                        <a href=\"/game/switch/super-mario-odyssey\" class=\"title\"><h3>Super Mario Odyssey</h3></a>\\n\\n                        <div class=\"clamp-details\">\\n                            \\n                            \\n                            \\n                                                            <div class=\"platform\">\\n                                    <span class=\"label\">Platform:</span>\\n                                    <span class=\"data\">\\n                                        Switch\\n                                                                            </span>\\n                                </div>\\n                            \\n                            \\n                            <span>October 27, 2017</span>\\n\\n                            \\n                            \\n                        </div>\\n\\n                        <div class=\"summary\">\\n                        New Evolution of Mario Sandbox-Style Gameplay. Mario embarks on a new journey through unknown worlds, running and jumping through huge 3D worlds in the first sandbox-style Mario game since Super Mario 64 and Super Mario Sunshine. Set sail between expansive worlds aboard an airship, and perform all-new actions, such as throwing Mario\\'s cap.\\n                        </div>\\n\\n                        <div class=\"browse-score-clamp\">\\n                            <div class=\"clamp-metascore\">\\n                                <span class=\"title\">Metascore:</span>\\n                                \\n\\n        \\n    <a class=\"metascore_anchor\" href=\"/game/switch/super-mario-odyssey/critic-reviews\">\\n<div class=\"metascore_w large game positive\">97</div>\\n    </a>\\n\\n                            </div>\\n                            <div class=\"clamp-userscore\">\\n                                <span class=\"title\">User Score:</span>\\n                                        \\n    <a class=\"metascore_anchor\" href=\"/game/switch/super-mario-odyssey/user-reviews\">\\n<div class=\"metascore_w user large game positive\">8.9</div>\\n    </a>\\n     \\n                            </div>\\n                        </div>\\n\\n                        <i class=\"fa fa-caret-up\" aria-hidden=\"true\"></i>\\n                        <i class=\"fa fa-caret-down\" aria-hidden=\"true\"></i>\\n                        <label for=\"506420\" class=\"clamp-list-expand-label\"></label>\\n                    </td>\\n                </tr>\\n                                    <tr class=\"spacer\"></tr>\\n                             \\n                                \\n            \\n            \\n            \\n\\n                \\n             \\n                <tr>                    \\n                    <td class=\"clamp-image-wrap\">\\n                        <a href=\"/game/xbox/halo-combat-evolved\"><img src=\"https://static.metacritic.com/images/products/games/9/608a28ac37e2b3fc92291ca176867f67-98.jpg\" alt=\"Halo: Combat Evolved\" /></a>\\n\\n                                                                                    <span class=\"mcmust\">\\n                                    <img src=\"/images/icons/mc-mustplay-sm.svg\" />\\n                                </span>\\n                                                                        </td>\\n\\n                    <td class=\"clamp-summary-wrap\">\\n\\n                        <input type=\"checkbox\" id=\"161019\" class=\"clamp-summary-expand\" />\\n                        <div class=\"clamp-score-wrap\">\\n                                                            \\n\\n        \\n    <a class=\"metascore_anchor\" href=\"/game/xbox/halo-combat-evolved/critic-reviews\">\\n<div class=\"metascore_w large game positive\">97</div>\\n    </a>\\n\\n                                                    </div>\\n\\n                                                    <span class=\"title numbered\">\\n                                                                    22.\\n                                                            </span>\\n                        \\n                        <a href=\"/game/xbox/halo-combat-evolved\" class=\"title\"><h3>Halo: Combat Evolved</h3></a>\\n\\n                        <div class=\"clamp-details\">\\n                            \\n                            \\n                            \\n                                                            <div class=\"platform\">\\n                                    <span class=\"label\">Platform:</span>\\n                                    <span class=\"data\">\\n                                        Xbox\\n                                                                            </span>\\n                                </div>\\n                            \\n                            \\n                            <span>November 14, 2001</span>\\n\\n                            \\n                            \\n                        </div>\\n\\n                        <div class=\"summary\">\\n                        Enter the mysterious world of Halo, an alien planet shaped like a ring.  As mankind\\'s super soldier Master Chief, you must uncover the secrets of Halo and fend off the attacking Covenant.  During your missions, you\\'ll battle on foot, in vehicles, inside, and outside with alien and human weaponry.  Your objectives include attacking enemy outposts, raiding underground labs for advanced technology, rescuing fallen comrades, and sniping enemy forces.  Halo also lets you battle three other players via intense split screen combat or fight cooperatively with a friend through the single-player missions.  \\n                        </div>\\n\\n                        <div class=\"browse-score-clamp\">\\n                            <div class=\"clamp-metascore\">\\n                                <span class=\"title\">Metascore:</span>\\n                                \\n\\n        \\n    <a class=\"metascore_anchor\" href=\"/game/xbox/halo-combat-evolved/critic-reviews\">\\n<div class=\"metascore_w large game positive\">97</div>\\n    </a>\\n\\n                            </div>\\n                            <div class=\"clamp-userscore\">\\n                                <span class=\"title\">User Score:</span>\\n                                        \\n    <a class=\"metascore_anchor\" href=\"/game/xbox/halo-combat-evolved/user-reviews\">\\n<div class=\"metascore_w user large game positive\">8.7</div>\\n    </a>\\n     \\n                            </div>\\n                        </div>\\n\\n                        <i class=\"fa fa-caret-up\" aria-hidden=\"true\"></i>\\n                        <i class=\"fa fa-caret-down\" aria-hidden=\"true\"></i>\\n                        <label for=\"161019\" class=\"clamp-list-expand-label\"></label>\\n                    </td>\\n                </tr>\\n                                    <tr class=\"spacer\"></tr>\\n                             \\n                                \\n            \\n            \\n            \\n\\n                \\n             \\n                <tr>                    \\n                    <td class=\"clamp-image-wrap\">\\n                        <a href=\"/game/dreamcast/nfl-2k1\"><img src=\"https://static.metacritic.com/images/products/games/4/18d735e823ff5b4bb6568596e3b902dc-98.jpg\" alt=\"NFL 2K1\" /></a>\\n\\n                                                                                    <span class=\"mcmust\">\\n                                    <img src=\"/images/icons/mc-mustplay-sm.svg\" />\\n                                </span>\\n                                                                        </td>\\n\\n                    <td class=\"clamp-summary-wrap\">\\n\\n                        <input type=\"checkbox\" id=\"161974\" class=\"clamp-summary-expand\" />\\n                        <div class=\"clamp-score-wrap\">\\n                                                            \\n\\n        \\n    <a class=\"metascore_anchor\" href=\"/game/dreamcast/nfl-2k1/critic-reviews\">\\n<div class=\"metascore_w large game positive\">97</div>\\n    </a>\\n\\n                                                    </div>\\n\\n                                                    <span class=\"title numbered\">\\n                                                                    23.\\n                                                            </span>\\n                        \\n                        <a href=\"/game/dreamcast/nfl-2k1\" class=\"title\"><h3>NFL 2K1</h3></a>\\n\\n                        <div class=\"clamp-details\">\\n                            \\n                            \\n                            \\n                                                            <div class=\"platform\">\\n                                    <span class=\"label\">Platform:</span>\\n                                    <span class=\"data\">\\n                                        Dreamcast\\n                                                                            </span>\\n                                </div>\\n                            \\n                            \\n                            <span>September 7, 2000</span>\\n\\n                            \\n                            \\n                        </div>\\n\\n                        <div class=\"summary\">\\n                        In the end, NFL 2K1 is a deeper, more refined version of the original game.\\n                        </div>\\n\\n                        <div class=\"browse-score-clamp\">\\n                            <div class=\"clamp-metascore\">\\n                                <span class=\"title\">Metascore:</span>\\n                                \\n\\n        \\n    <a class=\"metascore_anchor\" href=\"/game/dreamcast/nfl-2k1/critic-reviews\">\\n<div class=\"metascore_w large game positive\">97</div>\\n    </a>\\n\\n                            </div>\\n                            <div class=\"clamp-userscore\">\\n                                <span class=\"title\">User Score:</span>\\n                                        \\n    <a class=\"metascore_anchor\" href=\"/game/dreamcast/nfl-2k1/user-reviews\">\\n<div class=\"metascore_w user large game mixed\">6.3</div>\\n    </a>\\n     \\n                            </div>\\n                        </div>\\n\\n                        <i class=\"fa fa-caret-up\" aria-hidden=\"true\"></i>\\n                        <i class=\"fa fa-caret-down\" aria-hidden=\"true\"></i>\\n                        <label for=\"161974\" class=\"clamp-list-expand-label\"></label>\\n                    </td>\\n                </tr>\\n                                    <tr class=\"spacer\"></tr>\\n                             \\n                                \\n            \\n            \\n            \\n\\n                \\n             \\n                <tr>                    \\n                    <td class=\"clamp-image-wrap\">\\n                        <a href=\"/game/pc/half-life-2\"><img src=\"https://static.metacritic.com/images/products/games/8/3154ea81c0d3578b829a6640ac5ecfe7-98.jpg\" alt=\"Half-Life 2\" /></a>\\n\\n                                                                                    <span class=\"mcmust\">\\n                                    <img src=\"/images/icons/mc-mustplay-sm.svg\" />\\n                                </span>\\n                                                                        </td>\\n\\n                    <td class=\"clamp-summary-wrap\">\\n\\n                        <input type=\"checkbox\" id=\"103028\" class=\"clamp-summary-expand\" />\\n                        <div class=\"clamp-score-wrap\">\\n                                                            \\n\\n        \\n    <a class=\"metascore_anchor\" href=\"/game/pc/half-life-2/critic-reviews\">\\n<div class=\"metascore_w large game positive\">96</div>\\n    </a>\\n\\n                                                    </div>\\n\\n                                                    <span class=\"title numbered\">\\n                                                                    24.\\n                                                            </span>\\n                        \\n                        <a href=\"/game/pc/half-life-2\" class=\"title\"><h3>Half-Life 2</h3></a>\\n\\n                        <div class=\"clamp-details\">\\n                            \\n                            \\n                            \\n                                                            <div class=\"platform\">\\n                                    <span class=\"label\">Platform:</span>\\n                                    <span class=\"data\">\\n                                        PC\\n                                                                            </span>\\n                                </div>\\n                            \\n                            \\n                            <span>November 16, 2004</span>\\n\\n                            \\n                            \\n                        </div>\\n\\n                        <div class=\"summary\">\\n                        [Metacritic\\'s 2004 PC Game of the Year]  By taking the suspense, challenge and visceral charge of the original, and adding startling new realism and responsiveness, Half-Life 2 opens the door to a world where the player\\'s presence affects everything around him, from the physical environment to the behaviors -- even the emotions -- of both friends and enemies. The player again picks up the crowbar of research scientist Gordon Freeman, who finds himself on an alien-infested Earth being picked to the bone, its resources depleted, its populace dwindling. Freeman is thrust into the unenviable role of rescuing the world from the wrong he unleashed back at Black Mesa. And a lot of people -- people he cares about -- are counting on him. [Vivendi Universal]\\n                        </div>\\n\\n                        <div class=\"browse-score-clamp\">\\n                            <div class=\"clamp-metascore\">\\n                                <span class=\"title\">Metascore:</span>\\n                                \\n\\n        \\n    <a class=\"metascore_anchor\" href=\"/game/pc/half-life-2/critic-reviews\">\\n<div class=\"metascore_w large game positive\">96</div>\\n    </a>\\n\\n                            </div>\\n                            <div class=\"clamp-userscore\">\\n                                <span class=\"title\">User Score:</span>\\n                                        \\n    <a class=\"metascore_anchor\" href=\"/game/pc/half-life-2/user-reviews\">\\n<div class=\"metascore_w user large game positive\">9.2</div>\\n    </a>\\n     \\n                            </div>\\n                        </div>\\n\\n                        <i class=\"fa fa-caret-up\" aria-hidden=\"true\"></i>\\n                        <i class=\"fa fa-caret-down\" aria-hidden=\"true\"></i>\\n                        <label for=\"103028\" class=\"clamp-list-expand-label\"></label>\\n                    </td>\\n                </tr>\\n                                    <tr class=\"spacer\"></tr>\\n                             \\n                                \\n            \\n            \\n            \\n\\n                \\n             \\n                <tr>                    \\n                    <td class=\"clamp-image-wrap\">\\n                        <a href=\"/game/pc/grand-theft-auto-v\"><img src=\"https://static.metacritic.com/images/products/games/2/bab786f634eee57a1c68be2dddf3d1e5-98.jpg\" alt=\"Grand Theft Auto V\" /></a>\\n\\n                                                                                    <span class=\"mcmust\">\\n                                    <img src=\"/images/icons/mc-mustplay-sm.svg\" />\\n                                </span>\\n                                                                        </td>\\n\\n                    <td class=\"clamp-summary-wrap\">\\n\\n                        <input type=\"checkbox\" id=\"325932\" class=\"clamp-summary-expand\" />\\n                        <div class=\"clamp-score-wrap\">\\n                                                            \\n\\n        \\n    <a class=\"metascore_anchor\" href=\"/game/pc/grand-theft-auto-v/critic-reviews\">\\n<div class=\"metascore_w large game positive\">96</div>\\n    </a>\\n\\n                                                    </div>\\n\\n                                                    <span class=\"title numbered\">\\n                                                                    25.\\n                                                            </span>\\n                        \\n                        <a href=\"/game/pc/grand-theft-auto-v\" class=\"title\"><h3>Grand Theft Auto V</h3></a>\\n\\n                        <div class=\"clamp-details\">\\n                            \\n                            \\n                            \\n                                                            <div class=\"platform\">\\n                                    <span class=\"label\">Platform:</span>\\n                                    <span class=\"data\">\\n                                        PC\\n                                                                            </span>\\n                                </div>\\n                            \\n                            \\n                            <span>April 13, 2015</span>\\n\\n                            \\n                            \\n                        </div>\\n\\n                        <div class=\"summary\">\\n                        Los Santos: a sprawling sun-soaked metropolis full of self-help gurus, starlets and fading celebrities, once the envy of the Western world, now struggling to stay alive in a time of economic uncertainty and cheap reality TV. Amidst the turmoil, three very unique criminals plot their own chances of survival and success: Franklin, a street hustler looking for tangible opportunities and serious money; Michael, a professional ex-con whose retirement is less rosy than he figured it would be; and Trevor, a violent dude driven by the opportunity for a cheap high and his next big score. With options at a premium, the crew risks it all in a myriad of daring and dangerous heists that could set them up for life.\\n                        </div>\\n\\n                        <div class=\"browse-score-clamp\">\\n                            <div class=\"clamp-metascore\">\\n                                <span class=\"title\">Metascore:</span>\\n                                \\n\\n        \\n    <a class=\"metascore_anchor\" href=\"/game/pc/grand-theft-auto-v/critic-reviews\">\\n<div class=\"metascore_w large game positive\">96</div>\\n    </a>\\n\\n                            </div>\\n                            <div class=\"clamp-userscore\">\\n                                <span class=\"title\">User Score:</span>\\n                                        \\n    <a class=\"metascore_anchor\" href=\"/game/pc/grand-theft-auto-v/user-reviews\">\\n<div class=\"metascore_w user large game positive\">7.8</div>\\n    </a>\\n     \\n                            </div>\\n                        </div>\\n\\n                        <i class=\"fa fa-caret-up\" aria-hidden=\"true\"></i>\\n                        <i class=\"fa fa-caret-down\" aria-hidden=\"true\"></i>\\n                        <label for=\"325932\" class=\"clamp-list-expand-label\"></label>\\n                    </td>\\n                </tr>\\n                                    <tr class=\"spacer\"></tr>\\n                             \\n                                \\n            \\n            \\n            \\n\\n                \\n             \\n                <tr>                    \\n                    <td class=\"clamp-image-wrap\">\\n                        <a href=\"/game/wii-u/the-legend-of-zelda-breath-of-the-wild\"><img src=\"https://static.metacritic.com/images/products/games/1/fa623f980d44795931b47cee835b1e9e-98.jpg\" alt=\"The Legend of Zelda: Breath of the Wild\" /></a>\\n\\n                                                                                                </td>\\n\\n                    <td class=\"clamp-summary-wrap\">\\n\\n                        <input type=\"checkbox\" id=\"182391\" class=\"clamp-summary-expand\" />\\n                        <div class=\"clamp-score-wrap\">\\n                                                            \\n\\n        \\n    <a class=\"metascore_anchor\" href=\"/game/wii-u/the-legend-of-zelda-breath-of-the-wild/critic-reviews\">\\n<div class=\"metascore_w large game positive\">96</div>\\n    </a>\\n\\n                                                    </div>\\n\\n                                                    <span class=\"title numbered\">\\n                                                                    26.\\n                                                            </span>\\n                        \\n                        <a href=\"/game/wii-u/the-legend-of-zelda-breath-of-the-wild\" class=\"title\"><h3>The Legend of Zelda: Breath of the Wild</h3></a>\\n\\n                        <div class=\"clamp-details\">\\n                            \\n                            \\n                            \\n                                                            <div class=\"platform\">\\n                                    <span class=\"label\">Platform:</span>\\n                                    <span class=\"data\">\\n                                        Wii U\\n                                                                            </span>\\n                                </div>\\n                            \\n                            \\n                            <span>March 3, 2017</span>\\n\\n                            \\n                            \\n                        </div>\\n\\n                        <div class=\"summary\">\\n                        Ignore everything you know about The Legend of Zelda games. Step into a world of discovery, exploration and adventure in The Legend of Zelda: Breath of the Wild. Travel across fields, through forests and to mountain peaks as you discover what has become of the ruined kingdom of Hyrule in this stunning open-air adventure. Explore the wilds of Hyrule any way you like - Climb up towers and mountain peaks in search of new destinations, then set your own path to get there and plunge into the wilderness. Along the way, you\\'ll battle towering enemies, hunt wild beasts and gather ingredients for the food and elixirs you\\'ll need to sustain you on your journey. More than 100 Shrines of Trials to discover and explore - Shrines dot the landscape, waiting to be discovered in any order you want. Search for them in various ways, and solve a variety of puzzles inside. Work your way through the traps and devices inside to earn special items and other rewards that will help you on your adventure. Be prepared and properly equipped - With an entire world waiting to be explored, you\\'ll need a variety of outfits and gear to reach every corner. You may need to bundle up with warmer clothes or change into something better suited to the desert heat. Some clothing even has special effects that, for example, can make you faster and stealthier. [Nintendo]\\n                        </div>\\n\\n                        <div class=\"browse-score-clamp\">\\n                            <div class=\"clamp-metascore\">\\n                                <span class=\"title\">Metascore:</span>\\n                                \\n\\n        \\n    <a class=\"metascore_anchor\" href=\"/game/wii-u/the-legend-of-zelda-breath-of-the-wild/critic-reviews\">\\n<div class=\"metascore_w large game positive\">96</div>\\n    </a>\\n\\n                            </div>\\n                            <div class=\"clamp-userscore\">\\n                                <span class=\"title\">User Score:</span>\\n                                        \\n    <a class=\"metascore_anchor\" href=\"/game/wii-u/the-legend-of-zelda-breath-of-the-wild/user-reviews\">\\n<div class=\"metascore_w user large game positive\">8.3</div>\\n    </a>\\n     \\n                            </div>\\n                        </div>\\n\\n                        <i class=\"fa fa-caret-up\" aria-hidden=\"true\"></i>\\n                        <i class=\"fa fa-caret-down\" aria-hidden=\"true\"></i>\\n                        <label for=\"182391\" class=\"clamp-list-expand-label\"></label>\\n                    </td>\\n                </tr>\\n                                    <tr class=\"spacer\"></tr>\\n                             \\n                                \\n            \\n            \\n            \\n\\n                \\n             \\n                <tr>                    \\n                    <td class=\"clamp-image-wrap\">\\n                        <a href=\"/game/xbox-360/bioshock\"><img src=\"https://static.metacritic.com/images/products/games/8/beb94c19496b1e7b633f7bf7285f42ea-98.jpg\" alt=\"BioShock\" /></a>\\n\\n                                                                                    <span class=\"mcmust\">\\n                                    <img src=\"/images/icons/mc-mustplay-sm.svg\" />\\n                                </span>\\n                                                                        </td>\\n\\n                    <td class=\"clamp-summary-wrap\">\\n\\n                        <input type=\"checkbox\" id=\"107718\" class=\"clamp-summary-expand\" />\\n                        <div class=\"clamp-score-wrap\">\\n                                                            \\n\\n        \\n    <a class=\"metascore_anchor\" href=\"/game/xbox-360/bioshock/critic-reviews\">\\n<div class=\"metascore_w large game positive\">96</div>\\n    </a>\\n\\n                                                    </div>\\n\\n                                                    <span class=\"title numbered\">\\n                                                                    27.\\n                                                            </span>\\n                        \\n                        <a href=\"/game/xbox-360/bioshock\" class=\"title\"><h3>BioShock</h3></a>\\n\\n                        <div class=\"clamp-details\">\\n                            \\n                            \\n                            \\n                                                            <div class=\"platform\">\\n                                    <span class=\"label\">Platform:</span>\\n                                    <span class=\"data\">\\n                                        Xbox 360\\n                                                                            </span>\\n                                </div>\\n                            \\n                            \\n                            <span>August 21, 2007</span>\\n\\n                            \\n                            \\n                        </div>\\n\\n                        <div class=\"summary\">\\n                        [Metacritic\\'s 2007 Xbox 360 Game of the Year] Going beyond \"run and gun corridors,\" \"monster-closet AIs\" and static worlds, BioShock creates a living, unique and unpredictable FPS experience. After your plane crashes into icy uncharted waters, you discover a rusted bathysphere and descend into Rapture, a city hidden beneath the sea. Constructed as an idealistic society for a hand picked group of scientists, artists and industrialists, the idealism is no more. Now the city is littered with corpses, wildly powerful guardians roam the corridors as little girls loot the dead, and genetically mutated citizens ambush you at every turn. Take control of your world by hacking mechanical devices, commandeering security turrets and crafting unique items critical to your very survival. Upgrade your weapons with ionic gels, explosives and toxins to customize them to the enemy and environment. Genetically modify your body through dozens of Plasmid Stations scattered throughout the city, empowering you with fantastic and often grotesque abilities. Explore a living world powered by Ecological A.I., where the inhabitants have interesting and consequential relationships with one another that impact your gameplay experience. Experience truly next generation graphics that vividly illustrate the forlorn art deco city, highlighted by the most detailed and realistic water effects ever developed in a video game. Make meaningful choices and mature decisions, ultimately culminating in the grand question: do you exploit the innocent survivors of Rapture...or save them? [2K Games]\\n                        </div>\\n\\n                        <div class=\"browse-score-clamp\">\\n                            <div class=\"clamp-metascore\">\\n                                <span class=\"title\">Metascore:</span>\\n                                \\n\\n        \\n    <a class=\"metascore_anchor\" href=\"/game/xbox-360/bioshock/critic-reviews\">\\n<div class=\"metascore_w large game positive\">96</div>\\n    </a>\\n\\n                            </div>\\n                            <div class=\"clamp-userscore\">\\n                                <span class=\"title\">User Score:</span>\\n                                        \\n    <a class=\"metascore_anchor\" href=\"/game/xbox-360/bioshock/user-reviews\">\\n<div class=\"metascore_w user large game positive\">9.0</div>\\n    </a>\\n     \\n                            </div>\\n                        </div>\\n\\n                        <i class=\"fa fa-caret-up\" aria-hidden=\"true\"></i>\\n                        <i class=\"fa fa-caret-down\" aria-hidden=\"true\"></i>\\n                        <label for=\"107718\" class=\"clamp-list-expand-label\"></label>\\n                    </td>\\n                </tr>\\n                                    <tr class=\"spacer\"></tr>\\n                             \\n                                \\n            \\n            \\n            \\n\\n                \\n             \\n                <tr>                    \\n                    <td class=\"clamp-image-wrap\">\\n                        <a href=\"/game/nintendo-64/goldeneye-007\"><img src=\"https://static.metacritic.com/images/products/games/7/31a33b1d22da218508d3962b8c227f9c-98.jpg\" alt=\"GoldenEye 007\" /></a>\\n\\n                                                                                    <span class=\"mcmust\">\\n                                    <img src=\"/images/icons/mc-mustplay-sm.svg\" />\\n                                </span>\\n                                                                        </td>\\n\\n                    <td class=\"clamp-summary-wrap\">\\n\\n                        <input type=\"checkbox\" id=\"160677\" class=\"clamp-summary-expand\" />\\n                        <div class=\"clamp-score-wrap\">\\n                                                            \\n\\n        \\n    <a class=\"metascore_anchor\" href=\"/game/nintendo-64/goldeneye-007/critic-reviews\">\\n<div class=\"metascore_w large game positive\">96</div>\\n    </a>\\n\\n                                                    </div>\\n\\n                                                    <span class=\"title numbered\">\\n                                                                    28.\\n                                                            </span>\\n                        \\n                        <a href=\"/game/nintendo-64/goldeneye-007\" class=\"title\"><h3>GoldenEye 007</h3></a>\\n\\n                        <div class=\"clamp-details\">\\n                            \\n                            \\n                            \\n                                                            <div class=\"platform\">\\n                                    <span class=\"label\">Platform:</span>\\n                                    <span class=\"data\">\\n                                        Nintendo 64\\n                                                                            </span>\\n                                </div>\\n                            \\n                            \\n                            <span>August 25, 1997</span>\\n\\n                            \\n                            \\n                        </div>\\n\\n                        <div class=\"summary\">\\n                        You are Bond. James Bond. You are assigned covert operations connected with the GoldenEye weapons satellite. M will brief you on your mission and objectives from London. Q Branch will support your efforts with a plentiful supply of weapons and gadgets. Moneypenny offers you light-hearted best wishes and you\\'re off! Your mission begins in the heavily guarded chemical warfare facility at the Byelomorye Dam in the USSR. Look and shoot in any direction as you navigate 12 interactive 3-D environments. Use stealth and force as you see fit in matters of international security. Consider the military personnel expendable. You are licensed to kill!\\n                        </div>\\n\\n                        <div class=\"browse-score-clamp\">\\n                            <div class=\"clamp-metascore\">\\n                                <span class=\"title\">Metascore:</span>\\n                                \\n\\n        \\n    <a class=\"metascore_anchor\" href=\"/game/nintendo-64/goldeneye-007/critic-reviews\">\\n<div class=\"metascore_w large game positive\">96</div>\\n    </a>\\n\\n                            </div>\\n                            <div class=\"clamp-userscore\">\\n                                <span class=\"title\">User Score:</span>\\n                                        \\n    <a class=\"metascore_anchor\" href=\"/game/nintendo-64/goldeneye-007/user-reviews\">\\n<div class=\"metascore_w user large game positive\">9.0</div>\\n    </a>\\n     \\n                            </div>\\n                        </div>\\n\\n                        <i class=\"fa fa-caret-up\" aria-hidden=\"true\"></i>\\n                        <i class=\"fa fa-caret-down\" aria-hidden=\"true\"></i>\\n                        <label for=\"160677\" class=\"clamp-list-expand-label\"></label>\\n                    </td>\\n                </tr>\\n                                    <tr class=\"spacer\"></tr>\\n                             \\n                                \\n            \\n            \\n            \\n\\n                \\n             \\n                <tr>                    \\n                    <td class=\"clamp-image-wrap\">\\n                        <a href=\"/game/playstation-3/uncharted-2-among-thieves\"><img src=\"https://static.metacritic.com/images/products/games/5/bcd9564959c78dc1f80bb54950bda4ec-98.jpg\" alt=\"Uncharted 2: Among Thieves\" /></a>\\n\\n                                                                                    <span class=\"mcmust\">\\n                                    <img src=\"/images/icons/mc-mustplay-sm.svg\" />\\n                                </span>\\n                                                                        </td>\\n\\n                    <td class=\"clamp-summary-wrap\">\\n\\n                        <input type=\"checkbox\" id=\"113585\" class=\"clamp-summary-expand\" />\\n                        <div class=\"clamp-score-wrap\">\\n                                                            \\n\\n        \\n    <a class=\"metascore_anchor\" href=\"/game/playstation-3/uncharted-2-among-thieves/critic-reviews\">\\n<div class=\"metascore_w large game positive\">96</div>\\n    </a>\\n\\n                                                    </div>\\n\\n                                                    <span class=\"title numbered\">\\n                                                                    29.\\n                                                            </span>\\n                        \\n                        <a href=\"/game/playstation-3/uncharted-2-among-thieves\" class=\"title\"><h3>Uncharted 2: Among Thieves</h3></a>\\n\\n                        <div class=\"clamp-details\">\\n                            \\n                            \\n                            \\n                                                            <div class=\"platform\">\\n                                    <span class=\"label\">Platform:</span>\\n                                    <span class=\"data\">\\n                                        PlayStation 3\\n                                                                            </span>\\n                                </div>\\n                            \\n                            \\n                            <span>October 13, 2009</span>\\n\\n                            \\n                            \\n                        </div>\\n\\n                        <div class=\"summary\">\\n                        Fortune hunter Nathan Drake returns in Uncharted 2: Among Thieves, a third-person action-adventure/shooter created by award-winning developer Naughty Dog. Down on his luck, Drake is lured back into the treacherous world of thieves and mercenary treasure-seekers he had sought to leave behind. When a mysterious artifact propels Drake on an expedition to find the legendary Himalayan valley of Shambhala, he finds himself embroiled in a dangerous game of cat-and-mouse against a fugitive war criminal who’s after more than just the fabled riches of the lost city. Caught in a web of deception and plunged into an increasingly deadly pursuit that tests the limits of his endurance, Drake will be forced to risk everything - but has his luck finally run out? [SCEA]\\n                        </div>\\n\\n                        <div class=\"browse-score-clamp\">\\n                            <div class=\"clamp-metascore\">\\n                                <span class=\"title\">Metascore:</span>\\n                                \\n\\n        \\n    <a class=\"metascore_anchor\" href=\"/game/playstation-3/uncharted-2-among-thieves/critic-reviews\">\\n<div class=\"metascore_w large game positive\">96</div>\\n    </a>\\n\\n                            </div>\\n                            <div class=\"clamp-userscore\">\\n                                <span class=\"title\">User Score:</span>\\n                                        \\n    <a class=\"metascore_anchor\" href=\"/game/playstation-3/uncharted-2-among-thieves/user-reviews\">\\n<div class=\"metascore_w user large game positive\">8.8</div>\\n    </a>\\n     \\n                            </div>\\n                        </div>\\n\\n                        <i class=\"fa fa-caret-up\" aria-hidden=\"true\"></i>\\n                        <i class=\"fa fa-caret-down\" aria-hidden=\"true\"></i>\\n                        <label for=\"113585\" class=\"clamp-list-expand-label\"></label>\\n                    </td>\\n                </tr>\\n                                    <tr class=\"spacer\"></tr>\\n                             \\n                                \\n            \\n            \\n            \\n\\n                \\n             \\n                <tr>                    \\n                    <td class=\"clamp-image-wrap\">\\n                        <a href=\"/game/gamecube/resident-evil-4\"><img src=\"https://static.metacritic.com/images/products/games/5/435703cf4e3b925b9a7cfea3d78d4b95-98.jpg\" alt=\"Resident Evil 4\" /></a>\\n\\n                                                                                    <span class=\"mcmust\">\\n                                    <img src=\"/images/icons/mc-mustplay-sm.svg\" />\\n                                </span>\\n                                                                        </td>\\n\\n                    <td class=\"clamp-summary-wrap\">\\n\\n                        <input type=\"checkbox\" id=\"161225\" class=\"clamp-summary-expand\" />\\n                        <div class=\"clamp-score-wrap\">\\n                                                            \\n\\n        \\n    <a class=\"metascore_anchor\" href=\"/game/gamecube/resident-evil-4/critic-reviews\">\\n<div class=\"metascore_w large game positive\">96</div>\\n    </a>\\n\\n                                                    </div>\\n\\n                                                    <span class=\"title numbered\">\\n                                                                    30.\\n                                                            </span>\\n                        \\n                        <a href=\"/game/gamecube/resident-evil-4\" class=\"title\"><h3>Resident Evil 4</h3></a>\\n\\n                        <div class=\"clamp-details\">\\n                            \\n                            \\n                            \\n                                                            <div class=\"platform\">\\n                                    <span class=\"label\">Platform:</span>\\n                                    <span class=\"data\">\\n                                        GameCube\\n                                                                            </span>\\n                                </div>\\n                            \\n                            \\n                            <span>January 11, 2005</span>\\n\\n                            \\n                            \\n                        </div>\\n\\n                        <div class=\"summary\">\\n                        Resident Evil 4 marks a new chapter in the Resident Evil series. You\\'ll rejoin Leon S. Kennedy six years after his first mission as a rookie cop from Resident Evil 2. Now a US agent, Leon is on a top secret mission to investigate the disappearance of the president\\'s daughter. As Leon, you must make your way to a mysterious location in Europe, where new enemies await. Take them down by using enhanced aim-and-shoot features and a new action button.\\n                        </div>\\n\\n                        <div class=\"browse-score-clamp\">\\n                            <div class=\"clamp-metascore\">\\n                                <span class=\"title\">Metascore:</span>\\n                                \\n\\n        \\n    <a class=\"metascore_anchor\" href=\"/game/gamecube/resident-evil-4/critic-reviews\">\\n<div class=\"metascore_w large game positive\">96</div>\\n    </a>\\n\\n                            </div>\\n                            <div class=\"clamp-userscore\">\\n                                <span class=\"title\">User Score:</span>\\n                                        \\n    <a class=\"metascore_anchor\" href=\"/game/gamecube/resident-evil-4/user-reviews\">\\n<div class=\"metascore_w user large game positive\">9.2</div>\\n    </a>\\n     \\n                            </div>\\n                        </div>\\n\\n                        <i class=\"fa fa-caret-up\" aria-hidden=\"true\"></i>\\n                        <i class=\"fa fa-caret-down\" aria-hidden=\"true\"></i>\\n                        <label for=\"161225\" class=\"clamp-list-expand-label\"></label>\\n                    </td>\\n                </tr>\\n                                    <tr class=\"spacer\"></tr>\\n                             \\n                                \\n            \\n            \\n            \\n\\n                \\n             \\n                <tr>                    \\n                    <td class=\"clamp-image-wrap\">\\n                        <a href=\"/game/xbox-360/the-orange-box\"><img src=\"https://static.metacritic.com/images/products/games/5/a1e86e73c40d4ce70191b86ccbf9295f-98.jpg\" alt=\"The Orange Box\" /></a>\\n\\n                                                                                    <span class=\"mcmust\">\\n                                    <img src=\"/images/icons/mc-mustplay-sm.svg\" />\\n                                </span>\\n                                                                        </td>\\n\\n                    <td class=\"clamp-summary-wrap\">\\n\\n                        <input type=\"checkbox\" id=\"108735\" class=\"clamp-summary-expand\" />\\n                        <div class=\"clamp-score-wrap\">\\n                                                            \\n\\n        \\n    <a class=\"metascore_anchor\" href=\"/game/xbox-360/the-orange-box/critic-reviews\">\\n<div class=\"metascore_w large game positive\">96</div>\\n    </a>\\n\\n                                                    </div>\\n\\n                                                    <span class=\"title numbered\">\\n                                                                    31.\\n                                                            </span>\\n                        \\n                        <a href=\"/game/xbox-360/the-orange-box\" class=\"title\"><h3>The Orange Box</h3></a>\\n\\n                        <div class=\"clamp-details\">\\n                            \\n                            \\n                            \\n                                                            <div class=\"platform\">\\n                                    <span class=\"label\">Platform:</span>\\n                                    <span class=\"data\">\\n                                        Xbox 360\\n                                                                            </span>\\n                                </div>\\n                            \\n                            \\n                            <span>October 10, 2007</span>\\n\\n                            \\n                            \\n                        </div>\\n\\n                        <div class=\"summary\">\\n                        Games included in The Orange Box compilation: The original Half-Life 2 - The player again picks up the crowbar of research scientist Gordon Freeman, who finds himself on an alien-infested Earth being picked to the bone, its resources depleted, its populace dwindling. Freeman is thrust into the unenviable role of rescuing the world from the wrong he unleashed back at Black Mesa. And a lot of people - people he cares about - are counting on him. Half-Life 2: Episode One - The player reprises his role of Dr. Freeman, who must immediately face the repercussions of his actions in City 17 and the Citadel. Freeman reconnects with Alyx Vance and her robot, Dog, as they continue their support of the resistance\\'s battle against the Combine forces.  Half-Life 2: Episode Two -- the second installment in Valve\\'s episodic trilogy advances the award-winning story, leading the player to new locations outside of City 17. Portal - a pioneering type of single player action game that rewrites the rules for how players approach and manipulate their environment – much like how Half-Life 2\\'s Gravity Gun reinvented the way gamers interact with objects in the game. Team Fortress 2 - an all-new version of the legendary title that spawned team based multiplayer action games. The game\\'s daring new art style features the most advanced graphics of any Source-based game released to date. [Valve Software]\\n                        </div>\\n\\n                        <div class=\"browse-score-clamp\">\\n                            <div class=\"clamp-metascore\">\\n                                <span class=\"title\">Metascore:</span>\\n                                \\n\\n        \\n    <a class=\"metascore_anchor\" href=\"/game/xbox-360/the-orange-box/critic-reviews\">\\n<div class=\"metascore_w large game positive\">96</div>\\n    </a>\\n\\n                            </div>\\n                            <div class=\"clamp-userscore\">\\n                                <span class=\"title\">User Score:</span>\\n                                        \\n    <a class=\"metascore_anchor\" href=\"/game/xbox-360/the-orange-box/user-reviews\">\\n<div class=\"metascore_w user large game positive\">8.9</div>\\n    </a>\\n     \\n                            </div>\\n                        </div>\\n\\n                        <i class=\"fa fa-caret-up\" aria-hidden=\"true\"></i>\\n                        <i class=\"fa fa-caret-down\" aria-hidden=\"true\"></i>\\n                        <label for=\"108735\" class=\"clamp-list-expand-label\"></label>\\n                    </td>\\n                </tr>\\n                                    <tr class=\"spacer\"></tr>\\n                             \\n                                \\n            \\n            \\n            \\n\\n                \\n             \\n                <tr>                    \\n                    <td class=\"clamp-image-wrap\">\\n                        <a href=\"/game/pc/the-orange-box\"><img src=\"https://static.metacritic.com/images/products/games/5/cf1e9a839c0b223409d505c354dfe59b-98.jpg\" alt=\"The Orange Box\" /></a>\\n\\n                                                                                    <span class=\"mcmust\">\\n                                    <img src=\"/images/icons/mc-mustplay-sm.svg\" />\\n                                </span>\\n                                                                        </td>\\n\\n                    <td class=\"clamp-summary-wrap\">\\n\\n                        <input type=\"checkbox\" id=\"109675\" class=\"clamp-summary-expand\" />\\n                        <div class=\"clamp-score-wrap\">\\n                                                            \\n\\n        \\n    <a class=\"metascore_anchor\" href=\"/game/pc/the-orange-box/critic-reviews\">\\n<div class=\"metascore_w large game positive\">96</div>\\n    </a>\\n\\n                                                    </div>\\n\\n                                                    <span class=\"title numbered\">\\n                                                                    32.\\n                                                            </span>\\n                        \\n                        <a href=\"/game/pc/the-orange-box\" class=\"title\"><h3>The Orange Box</h3></a>\\n\\n                        <div class=\"clamp-details\">\\n                            \\n                            \\n                            \\n                                                            <div class=\"platform\">\\n                                    <span class=\"label\">Platform:</span>\\n                                    <span class=\"data\">\\n                                        PC\\n                                                                            </span>\\n                                </div>\\n                            \\n                            \\n                            <span>October 10, 2007</span>\\n\\n                            \\n                            \\n                        </div>\\n\\n                        <div class=\"summary\">\\n                        Games included in The Orange Box compilation: The original Half-Life 2 - The player again picks up the crowbar of research scientist Gordon Freeman, who finds himself on an alien-infested Earth being picked to the bone, its resources depleted, its populace dwindling. Freeman is thrust into the unenviable role of rescuing the world from the wrong he unleashed back at Black Mesa. And a lot of people - people he cares about - are counting on him. Half-Life 2: Episode One - The player reprises his role of Dr. Freeman, who must immediately face the repercussions of his actions in City 17 and the Citadel. Freeman reconnects with Alyx Vance and her robot, Dog, as they continue their support of the resistance\\'s battle against the Combine forces.  Half-Life 2: Episode Two -- the second installment in Valve\\'s episodic trilogy advances the award-winning story, leading the player to new locations outside of City 17. Portal - a pioneering type of single player action game that rewrites the rules for how players approach and manipulate their environment – much like how Half-Life 2\\'s Gravity Gun reinvented the way gamers interact with objects in the game. Team Fortress 2 - an all-new version of the legendary title that spawned team based multiplayer action games. The game\\'s daring new art style features the most advanced graphics of any Source-based game released to date. [Valve Software]\\n                        </div>\\n\\n                        <div class=\"browse-score-clamp\">\\n                            <div class=\"clamp-metascore\">\\n                                <span class=\"title\">Metascore:</span>\\n                                \\n\\n        \\n    <a class=\"metascore_anchor\" href=\"/game/pc/the-orange-box/critic-reviews\">\\n<div class=\"metascore_w large game positive\">96</div>\\n    </a>\\n\\n                            </div>\\n                            <div class=\"clamp-userscore\">\\n                                <span class=\"title\">User Score:</span>\\n                                        \\n    <a class=\"metascore_anchor\" href=\"/game/pc/the-orange-box/user-reviews\">\\n<div class=\"metascore_w user large game positive\">9.1</div>\\n    </a>\\n     \\n                            </div>\\n                        </div>\\n\\n                        <i class=\"fa fa-caret-up\" aria-hidden=\"true\"></i>\\n                        <i class=\"fa fa-caret-down\" aria-hidden=\"true\"></i>\\n                        <label for=\"109675\" class=\"clamp-list-expand-label\"></label>\\n                    </td>\\n                </tr>\\n                                    <tr class=\"spacer\"></tr>\\n                             \\n                                \\n            \\n            \\n            \\n\\n                \\n             \\n                <tr>                    \\n                    <td class=\"clamp-image-wrap\">\\n                        <a href=\"/game/playstation-3/batman-arkham-city\"><img src=\"https://static.metacritic.com/images/products/games/2/eda8575517197b9f2e2ae7d2cbd8ce28-98.jpg\" alt=\"Batman: Arkham City\" /></a>\\n\\n                                                                                    <span class=\"mcmust\">\\n                                    <img src=\"/images/icons/mc-mustplay-sm.svg\" />\\n                                </span>\\n                                                                        </td>\\n\\n                    <td class=\"clamp-summary-wrap\">\\n\\n                        <input type=\"checkbox\" id=\"131112\" class=\"clamp-summary-expand\" />\\n                        <div class=\"clamp-score-wrap\">\\n                                                            \\n\\n        \\n    <a class=\"metascore_anchor\" href=\"/game/playstation-3/batman-arkham-city/critic-reviews\">\\n<div class=\"metascore_w large game positive\">96</div>\\n    </a>\\n\\n                                                    </div>\\n\\n                                                    <span class=\"title numbered\">\\n                                                                    33.\\n                                                            </span>\\n                        \\n                        <a href=\"/game/playstation-3/batman-arkham-city\" class=\"title\"><h3>Batman: Arkham City</h3></a>\\n\\n                        <div class=\"clamp-details\">\\n                            \\n                            \\n                            \\n                                                            <div class=\"platform\">\\n                                    <span class=\"label\">Platform:</span>\\n                                    <span class=\"data\">\\n                                        PlayStation 3\\n                                                                            </span>\\n                                </div>\\n                            \\n                            \\n                            <span>October 18, 2011</span>\\n\\n                            \\n                            \\n                        </div>\\n\\n                        <div class=\"summary\">\\n                        Developed by Rocksteady Studios, Batman: Arkham City builds upon the intense, atmospheric foundation of Batman: Arkham Asylum, sending players soaring into Arkham City, the new maximum security \"home\" for all of Gotham City\\'s thugs, gangsters and insane criminal masterminds. Set inside the heavily fortified walls of a sprawling district in the heart of Gotham City, this highly anticipated sequel introduces a brand-new story that draws together a new all-star cast of classic characters and murderous villains from the Batman universe, as well as a vast range of new and enhanced gameplay features to deliver the ultimate experience as the Dark Knight. \\n                        </div>\\n\\n                        <div class=\"browse-score-clamp\">\\n                            <div class=\"clamp-metascore\">\\n                                <span class=\"title\">Metascore:</span>\\n                                \\n\\n        \\n    <a class=\"metascore_anchor\" href=\"/game/playstation-3/batman-arkham-city/critic-reviews\">\\n<div class=\"metascore_w large game positive\">96</div>\\n    </a>\\n\\n                            </div>\\n                            <div class=\"clamp-userscore\">\\n                                <span class=\"title\">User Score:</span>\\n                                        \\n    <a class=\"metascore_anchor\" href=\"/game/playstation-3/batman-arkham-city/user-reviews\">\\n<div class=\"metascore_w user large game positive\">8.8</div>\\n    </a>\\n     \\n                            </div>\\n                        </div>\\n\\n                        <i class=\"fa fa-caret-up\" aria-hidden=\"true\"></i>\\n                        <i class=\"fa fa-caret-down\" aria-hidden=\"true\"></i>\\n                        <label for=\"131112\" class=\"clamp-list-expand-label\"></label>\\n                    </td>\\n                </tr>\\n                                    <tr class=\"spacer\"></tr>\\n                             \\n                                \\n            \\n            \\n            \\n\\n                \\n             \\n                <tr>                    \\n                    <td class=\"clamp-image-wrap\">\\n                        <a href=\"/game/switch/portal-companion-collection\"><img src=\"https://static.metacritic.com/images/products/games/0/0fd9dd168f28144ddfc481f6299eeaf6-98.jpg\" alt=\"Portal Companion Collection\" /></a>\\n\\n                                                                                                </td>\\n\\n                    <td class=\"clamp-summary-wrap\">\\n\\n                        <input type=\"checkbox\" id=\"610180\" class=\"clamp-summary-expand\" />\\n                        <div class=\"clamp-score-wrap\">\\n                                                            \\n\\n        \\n    <a class=\"metascore_anchor\" href=\"/game/switch/portal-companion-collection/critic-reviews\">\\n<div class=\"metascore_w large game positive\">96</div>\\n    </a>\\n\\n                                                    </div>\\n\\n                                                    <span class=\"title numbered\">\\n                                                                    34.\\n                                                            </span>\\n                        \\n                        <a href=\"/game/switch/portal-companion-collection\" class=\"title\"><h3>Portal Companion Collection</h3></a>\\n\\n                        <div class=\"clamp-details\">\\n                            \\n                            \\n                            \\n                                                            <div class=\"platform\">\\n                                    <span class=\"label\">Platform:</span>\\n                                    <span class=\"data\">\\n                                        Switch\\n                                                                            </span>\\n                                </div>\\n                            \\n                            \\n                            <span>June 28, 2022</span>\\n\\n                            \\n                            \\n                        </div>\\n\\n                        <div class=\"summary\">\\n                        Including Portal and Portal 2, the Companion Collection comes to Nintendo Switch™ with all the groundbreaking gameplay, dark humor, and exploration that earned the series hundreds of awards. In Portal, you’ll use a highly experimental portal device to solve physical puzzles and challenges. Maneuver objects--and yourself--through space to puzzle your way through the mysterious Aperture Science Laboratories.\\r\\n\\r\\nReturn to Aperture Laboratories in Portal 2 where you’ll once again face off with the lethally inventive, power-mad A.I. named GLaDOS. Meet an expanded cast of characters as you think your way through dangerous, never-before-seen areas of the laboratories and a wider variety of portal puzzles. Plus Portal 2 also includes a co-operative game mode with local, split-screen and online multiplayer so you and a friend can think with portals.\\n                        </div>\\n\\n                        <div class=\"browse-score-clamp\">\\n                            <div class=\"clamp-metascore\">\\n                                <span class=\"title\">Metascore:</span>\\n                                \\n\\n        \\n    <a class=\"metascore_anchor\" href=\"/game/switch/portal-companion-collection/critic-reviews\">\\n<div class=\"metascore_w large game positive\">96</div>\\n    </a>\\n\\n                            </div>\\n                            <div class=\"clamp-userscore\">\\n                                <span class=\"title\">User Score:</span>\\n                                        \\n    <a class=\"metascore_anchor\" href=\"/game/switch/portal-companion-collection/user-reviews\">\\n<div class=\"metascore_w user large game positive\">8.1</div>\\n    </a>\\n     \\n                            </div>\\n                        </div>\\n\\n                        <i class=\"fa fa-caret-up\" aria-hidden=\"true\"></i>\\n                        <i class=\"fa fa-caret-down\" aria-hidden=\"true\"></i>\\n                        <label for=\"610180\" class=\"clamp-list-expand-label\"></label>\\n                    </td>\\n                </tr>\\n                                    <tr class=\"spacer\"></tr>\\n                             \\n                                \\n            \\n            \\n            \\n\\n                \\n             \\n                <tr>                    \\n                    <td class=\"clamp-image-wrap\">\\n                        <a href=\"/game/playstation/tekken-3\"><img src=\"https://static.metacritic.com/images/products/games/0/fd71737a311c55b0bf05a3e9ecbc1653-98.jpg\" alt=\"Tekken 3\" /></a>\\n\\n                                                                                    <span class=\"mcmust\">\\n                                    <img src=\"/images/icons/mc-mustplay-sm.svg\" />\\n                                </span>\\n                                                                        </td>\\n\\n                    <td class=\"clamp-summary-wrap\">\\n\\n                        <input type=\"checkbox\" id=\"160770\" class=\"clamp-summary-expand\" />\\n                        <div class=\"clamp-score-wrap\">\\n                                                            \\n\\n        \\n    <a class=\"metascore_anchor\" href=\"/game/playstation/tekken-3/critic-reviews\">\\n<div class=\"metascore_w large game positive\">96</div>\\n    </a>\\n\\n                                                    </div>\\n\\n                                                    <span class=\"title numbered\">\\n                                                                    35.\\n                                                            </span>\\n                        \\n                        <a href=\"/game/playstation/tekken-3\" class=\"title\"><h3>Tekken 3</h3></a>\\n\\n                        <div class=\"clamp-details\">\\n                            \\n                            \\n                            \\n                                                            <div class=\"platform\">\\n                                    <span class=\"label\">Platform:</span>\\n                                    <span class=\"data\">\\n                                        PlayStation\\n                                                                            </span>\\n                                </div>\\n                            \\n                            \\n                            <span>April 29, 1998</span>\\n\\n                            \\n                            \\n                        </div>\\n\\n                        <div class=\"summary\">\\n                        An ancient evil force has reawakened, attacking in secret and feeding on the souls of mighty warriors. To lure it out of hiding will take the greatest fighting contest the world has ever seen...Tekken 3. Some are fighting for revenge, some for honor, Ultimately, all are fighting for their lives and the fate of all mankind.\\n                        </div>\\n\\n                        <div class=\"browse-score-clamp\">\\n                            <div class=\"clamp-metascore\">\\n                                <span class=\"title\">Metascore:</span>\\n                                \\n\\n        \\n    <a class=\"metascore_anchor\" href=\"/game/playstation/tekken-3/critic-reviews\">\\n<div class=\"metascore_w large game positive\">96</div>\\n    </a>\\n\\n                            </div>\\n                            <div class=\"clamp-userscore\">\\n                                <span class=\"title\">User Score:</span>\\n                                        \\n    <a class=\"metascore_anchor\" href=\"/game/playstation/tekken-3/user-reviews\">\\n<div class=\"metascore_w user large game positive\">9.1</div>\\n    </a>\\n     \\n                            </div>\\n                        </div>\\n\\n                        <i class=\"fa fa-caret-up\" aria-hidden=\"true\"></i>\\n                        <i class=\"fa fa-caret-down\" aria-hidden=\"true\"></i>\\n                        <label for=\"160770\" class=\"clamp-list-expand-label\"></label>\\n                    </td>\\n                </tr>\\n                                    <tr class=\"spacer\"></tr>\\n                             \\n                                \\n            \\n            \\n            \\n\\n                \\n             \\n                <tr>                    \\n                    <td class=\"clamp-image-wrap\">\\n                        <a href=\"/game/xbox-series-x/elden-ring\"><img src=\"https://static.metacritic.com/images/products/games/6/c900d44c97dfd16cc1fb1a08f7e5813e-98.jpg\" alt=\"Elden Ring\" /></a>\\n\\n                                                                                    <span class=\"mcmust\">\\n                                    <img src=\"/images/icons/mc-mustplay-sm.svg\" />\\n                                </span>\\n                                                                        </td>\\n\\n                    <td class=\"clamp-summary-wrap\">\\n\\n                        <input type=\"checkbox\" id=\"585716\" class=\"clamp-summary-expand\" />\\n                        <div class=\"clamp-score-wrap\">\\n                                                            \\n\\n        \\n    <a class=\"metascore_anchor\" href=\"/game/xbox-series-x/elden-ring/critic-reviews\">\\n<div class=\"metascore_w large game positive\">96</div>\\n    </a>\\n\\n                                                    </div>\\n\\n                                                    <span class=\"title numbered\">\\n                                                                    36.\\n                                                            </span>\\n                        \\n                        <a href=\"/game/xbox-series-x/elden-ring\" class=\"title\"><h3>Elden Ring</h3></a>\\n\\n                        <div class=\"clamp-details\">\\n                            \\n                            \\n                            \\n                                                            <div class=\"platform\">\\n                                    <span class=\"label\">Platform:</span>\\n                                    <span class=\"data\">\\n                                        Xbox Series X\\n                                                                            </span>\\n                                </div>\\n                            \\n                            \\n                            <span>February 25, 2022</span>\\n\\n                            \\n                            \\n                        </div>\\n\\n                        <div class=\"summary\">\\n                        A New World Created By Hidetaka Miyazaki And George R. R. Martin. ELDEN RING, developed by FromSoftware, Inc. and BANDAI NAMCO Entertainment Inc., is a fantasy action-RPG adventure set within a world created by Hidetaka Miyazaki creator of the influential DARK SOULS video game series; and George R.R. Martin author of The New York Times best-selling fantasy series, A Song of Ice and Fire. Danger and discovery lurk around every corner in FromSoftware\\'s largest game to-date.  Hidetaka Miyazaki, President and Game Director of FromSoftware Inc. Known for directing critically-acclaimed games in beloved franchises including Armored Core, Dark Souls, and Sekiro: Shadows Die Twice.  George R.R. Martin is the #1 New York Times bestselling author of many novels, including the acclaimed series A Song of Ice and Fire - A Game of Thrones, A Clash of Kings, A Storm of Swords, A Feast For Crows, and A Dance with Dragons. As a writer-producer, he has worked on The Twilight Zone, Beauty and the Beast, and various feature films and pilots that were never made.\\n                        </div>\\n\\n                        <div class=\"browse-score-clamp\">\\n                            <div class=\"clamp-metascore\">\\n                                <span class=\"title\">Metascore:</span>\\n                                \\n\\n        \\n    <a class=\"metascore_anchor\" href=\"/game/xbox-series-x/elden-ring/critic-reviews\">\\n<div class=\"metascore_w large game positive\">96</div>\\n    </a>\\n\\n                            </div>\\n                            <div class=\"clamp-userscore\">\\n                                <span class=\"title\">User Score:</span>\\n                                        \\n    <a class=\"metascore_anchor\" href=\"/game/xbox-series-x/elden-ring/user-reviews\">\\n<div class=\"metascore_w user large game positive\">7.7</div>\\n    </a>\\n     \\n                            </div>\\n                        </div>\\n\\n                        <i class=\"fa fa-caret-up\" aria-hidden=\"true\"></i>\\n                        <i class=\"fa fa-caret-down\" aria-hidden=\"true\"></i>\\n                        <label for=\"585716\" class=\"clamp-list-expand-label\"></label>\\n                    </td>\\n                </tr>\\n                                    <tr class=\"spacer\"></tr>\\n                             \\n                                \\n            \\n            \\n            \\n\\n                \\n             \\n                <tr>                    \\n                    <td class=\"clamp-image-wrap\">\\n                        <a href=\"/game/xbox-360/mass-effect-2\"><img src=\"https://static.metacritic.com/images/products/games/2/7178937e2ea07ddd2ae3e46bdf746dc7-98.jpg\" alt=\"Mass Effect 2\" /></a>\\n\\n                                                                                    <span class=\"mcmust\">\\n                                    <img src=\"/images/icons/mc-mustplay-sm.svg\" />\\n                                </span>\\n                                                                        </td>\\n\\n                    <td class=\"clamp-summary-wrap\">\\n\\n                        <input type=\"checkbox\" id=\"111762\" class=\"clamp-summary-expand\" />\\n                        <div class=\"clamp-score-wrap\">\\n                                                            \\n\\n        \\n    <a class=\"metascore_anchor\" href=\"/game/xbox-360/mass-effect-2/critic-reviews\">\\n<div class=\"metascore_w large game positive\">96</div>\\n    </a>\\n\\n                                                    </div>\\n\\n                                                    <span class=\"title numbered\">\\n                                                                    37.\\n                                                            </span>\\n                        \\n                        <a href=\"/game/xbox-360/mass-effect-2\" class=\"title\"><h3>Mass Effect 2</h3></a>\\n\\n                        <div class=\"clamp-details\">\\n                            \\n                            \\n                            \\n                                                            <div class=\"platform\">\\n                                    <span class=\"label\">Platform:</span>\\n                                    <span class=\"data\">\\n                                        Xbox 360\\n                                                                            </span>\\n                                </div>\\n                            \\n                            \\n                            <span>January 26, 2010</span>\\n\\n                            \\n                            \\n                        </div>\\n\\n                        <div class=\"summary\">\\n                        The Mass Effect trilogy is a science fiction adventure set in a vast universe filled with dangerous alien life forms and mysterious uncharted planets. In this dark second chapter, Saren’s evil army of Geth soldiers has just been defeated, and humans, who are still struggling to make their mark on the galactic stage, are now faced with an even greater peril. [BioWare]\\n                        </div>\\n\\n                        <div class=\"browse-score-clamp\">\\n                            <div class=\"clamp-metascore\">\\n                                <span class=\"title\">Metascore:</span>\\n                                \\n\\n        \\n    <a class=\"metascore_anchor\" href=\"/game/xbox-360/mass-effect-2/critic-reviews\">\\n<div class=\"metascore_w large game positive\">96</div>\\n    </a>\\n\\n                            </div>\\n                            <div class=\"clamp-userscore\">\\n                                <span class=\"title\">User Score:</span>\\n                                        \\n    <a class=\"metascore_anchor\" href=\"/game/xbox-360/mass-effect-2/user-reviews\">\\n<div class=\"metascore_w user large game positive\">8.9</div>\\n    </a>\\n     \\n                            </div>\\n                        </div>\\n\\n                        <i class=\"fa fa-caret-up\" aria-hidden=\"true\"></i>\\n                        <i class=\"fa fa-caret-down\" aria-hidden=\"true\"></i>\\n                        <label for=\"111762\" class=\"clamp-list-expand-label\"></label>\\n                    </td>\\n                </tr>\\n                                    <tr class=\"spacer\"></tr>\\n                             \\n                                \\n            \\n            \\n            \\n\\n                \\n             \\n                <tr>                    \\n                    <td class=\"clamp-image-wrap\">\\n                        <a href=\"/game/switch/the-house-in-fata-morgana---dreams-of-the-revenants-edition--\"><img src=\"https://static.metacritic.com/images/products/games/3/f4af18f409aae2c0ca6ba733e0eb50bf-98.jpg\" alt=\"The House in Fata Morgana - Dreams of the Revenants Edition -\" /></a>\\n\\n                                                                                                </td>\\n\\n                    <td class=\"clamp-summary-wrap\">\\n\\n                        <input type=\"checkbox\" id=\"554223\" class=\"clamp-summary-expand\" />\\n                        <div class=\"clamp-score-wrap\">\\n                                                            \\n\\n        \\n    <a class=\"metascore_anchor\" href=\"/game/switch/the-house-in-fata-morgana---dreams-of-the-revenants-edition--/critic-reviews\">\\n<div class=\"metascore_w large game positive\">96</div>\\n    </a>\\n\\n                                                    </div>\\n\\n                                                    <span class=\"title numbered\">\\n                                                                    38.\\n                                                            </span>\\n                        \\n                        <a href=\"/game/switch/the-house-in-fata-morgana---dreams-of-the-revenants-edition--\" class=\"title\"><h3>The House in Fata Morgana - Dreams of the Revenants Edition -</h3></a>\\n\\n                        <div class=\"clamp-details\">\\n                            \\n                            \\n                            \\n                                                            <div class=\"platform\">\\n                                    <span class=\"label\">Platform:</span>\\n                                    <span class=\"data\">\\n                                        Switch\\n                                                                            </span>\\n                                </div>\\n                            \\n                            \\n                            <span>April 9, 2021</span>\\n\\n                            \\n                            \\n                        </div>\\n\\n                        <div class=\"summary\">\\n                        A gothic suspense tale set in a cursed mansion. ‘The House in Fata Morgana’ is a full-length visual novel spanning nearly a millennium that deals in tragedy, human nature, and insanity. This version includes three games and more:\\r\\n    1: The House in Fata Morgana: the main storyline.\\r\\n    2: A Requiem for Innocence: a prequel shedding light on the origins of Fata Morgana’s terrible curse.\\r\\n    3: Reincarnation: a sequel featuring the central cast members reincarnated in the present day. *The part including voices\\r\\n    4: Other additional short stories.\\n                        </div>\\n\\n                        <div class=\"browse-score-clamp\">\\n                            <div class=\"clamp-metascore\">\\n                                <span class=\"title\">Metascore:</span>\\n                                \\n\\n        \\n    <a class=\"metascore_anchor\" href=\"/game/switch/the-house-in-fata-morgana---dreams-of-the-revenants-edition--/critic-reviews\">\\n<div class=\"metascore_w large game positive\">96</div>\\n    </a>\\n\\n                            </div>\\n                            <div class=\"clamp-userscore\">\\n                                <span class=\"title\">User Score:</span>\\n                                        \\n    <a class=\"metascore_anchor\" href=\"/game/switch/the-house-in-fata-morgana---dreams-of-the-revenants-edition--/user-reviews\">\\n<div class=\"metascore_w user large game positive\">8.6</div>\\n    </a>\\n     \\n                            </div>\\n                        </div>\\n\\n                        <i class=\"fa fa-caret-up\" aria-hidden=\"true\"></i>\\n                        <i class=\"fa fa-caret-down\" aria-hidden=\"true\"></i>\\n                        <label for=\"554223\" class=\"clamp-list-expand-label\"></label>\\n                    </td>\\n                </tr>\\n                                    <tr class=\"spacer\"></tr>\\n                             \\n                                \\n            \\n            \\n            \\n\\n                \\n             \\n                <tr>                    \\n                    <td class=\"clamp-image-wrap\">\\n                        <a href=\"/game/gamecube/the-legend-of-zelda-twilight-princess\"><img src=\"https://static.metacritic.com/images/products/games/2/2291fd278c02e177f572a8dda8a09f1f-98.jpg\" alt=\"The Legend of Zelda: Twilight Princess\" /></a>\\n\\n                                                                                    <span class=\"mcmust\">\\n                                    <img src=\"/images/icons/mc-mustplay-sm.svg\" />\\n                                </span>\\n                                                                        </td>\\n\\n                    <td class=\"clamp-summary-wrap\">\\n\\n                        <input type=\"checkbox\" id=\"162532\" class=\"clamp-summary-expand\" />\\n                        <div class=\"clamp-score-wrap\">\\n                                                            \\n\\n        \\n    <a class=\"metascore_anchor\" href=\"/game/gamecube/the-legend-of-zelda-twilight-princess/critic-reviews\">\\n<div class=\"metascore_w large game positive\">96</div>\\n    </a>\\n\\n                                                    </div>\\n\\n                                                    <span class=\"title numbered\">\\n                                                                    39.\\n                                                            </span>\\n                        \\n                        <a href=\"/game/gamecube/the-legend-of-zelda-twilight-princess\" class=\"title\"><h3>The Legend of Zelda: Twilight Princess</h3></a>\\n\\n                        <div class=\"clamp-details\">\\n                            \\n                            \\n                            \\n                                                            <div class=\"platform\">\\n                                    <span class=\"label\">Platform:</span>\\n                                    <span class=\"data\">\\n                                        GameCube\\n                                                                            </span>\\n                                </div>\\n                            \\n                            \\n                            <span>December 11, 2006</span>\\n\\n                            \\n                            \\n                        </div>\\n\\n                        <div class=\"summary\">\\n                        In the next chapter in the Legend of Zelda series, Link can transform into a wolf to scour the darkened land of Hyrule. With the help of Midna, a mysterious being, you must guide Link through hordes of foul creatures and challenging bosses using new moves and a new horseback combat system.  Many puzzles stand between Link and the fulfillment of his quest, so you must sharpen your wits as you hunt for weapons and items.\\n                        </div>\\n\\n                        <div class=\"browse-score-clamp\">\\n                            <div class=\"clamp-metascore\">\\n                                <span class=\"title\">Metascore:</span>\\n                                \\n\\n        \\n    <a class=\"metascore_anchor\" href=\"/game/gamecube/the-legend-of-zelda-twilight-princess/critic-reviews\">\\n<div class=\"metascore_w large game positive\">96</div>\\n    </a>\\n\\n                            </div>\\n                            <div class=\"clamp-userscore\">\\n                                <span class=\"title\">User Score:</span>\\n                                        \\n    <a class=\"metascore_anchor\" href=\"/game/gamecube/the-legend-of-zelda-twilight-princess/user-reviews\">\\n<div class=\"metascore_w user large game positive\">8.9</div>\\n    </a>\\n     \\n                            </div>\\n                        </div>\\n\\n                        <i class=\"fa fa-caret-up\" aria-hidden=\"true\"></i>\\n                        <i class=\"fa fa-caret-down\" aria-hidden=\"true\"></i>\\n                        <label for=\"162532\" class=\"clamp-list-expand-label\"></label>\\n                    </td>\\n                </tr>\\n                                    <tr class=\"spacer\"></tr>\\n                             \\n                                \\n            \\n            \\n            \\n\\n                \\n             \\n                <tr>                    \\n                    <td class=\"clamp-image-wrap\">\\n                        <a href=\"/game/playstation-5/elden-ring\"><img src=\"https://static.metacritic.com/images/products/games/7/cf21bb68e9006d17f7b7bff4cdafe6f6-98.jpg\" alt=\"Elden Ring\" /></a>\\n\\n                                                                                    <span class=\"mcmust\">\\n                                    <img src=\"/images/icons/mc-mustplay-sm.svg\" />\\n                                </span>\\n                                                                        </td>\\n\\n                    <td class=\"clamp-summary-wrap\">\\n\\n                        <input type=\"checkbox\" id=\"585717\" class=\"clamp-summary-expand\" />\\n                        <div class=\"clamp-score-wrap\">\\n                                                            \\n\\n        \\n    <a class=\"metascore_anchor\" href=\"/game/playstation-5/elden-ring/critic-reviews\">\\n<div class=\"metascore_w large game positive\">96</div>\\n    </a>\\n\\n                                                    </div>\\n\\n                                                    <span class=\"title numbered\">\\n                                                                    40.\\n                                                            </span>\\n                        \\n                        <a href=\"/game/playstation-5/elden-ring\" class=\"title\"><h3>Elden Ring</h3></a>\\n\\n                        <div class=\"clamp-details\">\\n                            \\n                            \\n                            \\n                                                            <div class=\"platform\">\\n                                    <span class=\"label\">Platform:</span>\\n                                    <span class=\"data\">\\n                                        PlayStation 5\\n                                                                            </span>\\n                                </div>\\n                            \\n                            \\n                            <span>February 25, 2022</span>\\n\\n                            \\n                            \\n                        </div>\\n\\n                        <div class=\"summary\">\\n                        A New World Created By Hidetaka Miyazaki And George R. R. Martin. ELDEN RING, developed by FromSoftware, Inc. and BANDAI NAMCO Entertainment Inc., is a fantasy action-RPG adventure set within a world created by Hidetaka Miyazaki creator of the influential DARK SOULS video game series; and George R.R. Martin author of The New York Times best-selling fantasy series, A Song of Ice and Fire. Danger and discovery lurk around every corner in FromSoftware\\'s largest game to-date.  Hidetaka Miyazaki, President and Game Director of FromSoftware Inc. Known for directing critically-acclaimed games in beloved franchises including Armored Core, Dark Souls, and Sekiro: Shadows Die Twice.  George R.R. Martin is the #1 New York Times bestselling author of many novels, including the acclaimed series A Song of Ice and Fire - A Game of Thrones, A Clash of Kings, A Storm of Swords, A Feast For Crows, and A Dance with Dragons. As a writer-producer, he has worked on The Twilight Zone, Beauty and the Beast, and various feature films and pilots that were never made.\\n                        </div>\\n\\n                        <div class=\"browse-score-clamp\">\\n                            <div class=\"clamp-metascore\">\\n                                <span class=\"title\">Metascore:</span>\\n                                \\n\\n        \\n    <a class=\"metascore_anchor\" href=\"/game/playstation-5/elden-ring/critic-reviews\">\\n<div class=\"metascore_w large game positive\">96</div>\\n    </a>\\n\\n                            </div>\\n                            <div class=\"clamp-userscore\">\\n                                <span class=\"title\">User Score:</span>\\n                                        \\n    <a class=\"metascore_anchor\" href=\"/game/playstation-5/elden-ring/user-reviews\">\\n<div class=\"metascore_w user large game positive\">7.7</div>\\n    </a>\\n     \\n                            </div>\\n                        </div>\\n\\n                        <i class=\"fa fa-caret-up\" aria-hidden=\"true\"></i>\\n                        <i class=\"fa fa-caret-down\" aria-hidden=\"true\"></i>\\n                        <label for=\"585717\" class=\"clamp-list-expand-label\"></label>\\n                    </td>\\n                </tr>\\n                                    <tr class=\"spacer\"></tr>\\n                             \\n                                \\n            \\n            \\n            \\n\\n                \\n             \\n                <tr>                    \\n                    <td class=\"clamp-image-wrap\">\\n                        <a href=\"/game/xbox-360/the-elder-scrolls-v-skyrim\"><img src=\"https://static.metacritic.com/images/products/games/5/3239d08e358b28f67cc70d0d41a9b2db-98.jpg\" alt=\"The Elder Scrolls V: Skyrim\" /></a>\\n\\n                                                                                    <span class=\"mcmust\">\\n                                    <img src=\"/images/icons/mc-mustplay-sm.svg\" />\\n                                </span>\\n                                                                        </td>\\n\\n                    <td class=\"clamp-summary-wrap\">\\n\\n                        <input type=\"checkbox\" id=\"167515\" class=\"clamp-summary-expand\" />\\n                        <div class=\"clamp-score-wrap\">\\n                                                            \\n\\n        \\n    <a class=\"metascore_anchor\" href=\"/game/xbox-360/the-elder-scrolls-v-skyrim/critic-reviews\">\\n<div class=\"metascore_w large game positive\">96</div>\\n    </a>\\n\\n                                                    </div>\\n\\n                                                    <span class=\"title numbered\">\\n                                                                    41.\\n                                                            </span>\\n                        \\n                        <a href=\"/game/xbox-360/the-elder-scrolls-v-skyrim\" class=\"title\"><h3>The Elder Scrolls V: Skyrim</h3></a>\\n\\n                        <div class=\"clamp-details\">\\n                            \\n                            \\n                            \\n                                                            <div class=\"platform\">\\n                                    <span class=\"label\">Platform:</span>\\n                                    <span class=\"data\">\\n                                        Xbox 360\\n                                                                            </span>\\n                                </div>\\n                            \\n                            \\n                            <span>November 11, 2011</span>\\n\\n                            \\n                            \\n                        </div>\\n\\n                        <div class=\"summary\">\\n                        The next chapter in the Elder Scrolls saga arrives from the Bethesda Game Studios. Skyrim reimagines the open-world fantasy epic, bringing to life a complete virtual world open for you to explore any way you choose. Play any type of character you can imagine, and do whatever you want; the legendary freedom of choice, storytelling, and adventure of The Elder Scrolls is realized like never before. Skyrim\\'s new game engine brings to life a complete virtual world with rolling clouds, rugged mountains, bustling cities, lush fields, and ancient dungeons. Choose from hundreds of weapons, spells, and abilities. The new character system allows you to play any way you want and define yourself through your actions. Battle ancient dragons like you\\'ve never seen. As Dragonborn, learn their secrets and harness their power for yourself.\\n                        </div>\\n\\n                        <div class=\"browse-score-clamp\">\\n                            <div class=\"clamp-metascore\">\\n                                <span class=\"title\">Metascore:</span>\\n                                \\n\\n        \\n    <a class=\"metascore_anchor\" href=\"/game/xbox-360/the-elder-scrolls-v-skyrim/critic-reviews\">\\n<div class=\"metascore_w large game positive\">96</div>\\n    </a>\\n\\n                            </div>\\n                            <div class=\"clamp-userscore\">\\n                                <span class=\"title\">User Score:</span>\\n                                        \\n    <a class=\"metascore_anchor\" href=\"/game/xbox-360/the-elder-scrolls-v-skyrim/user-reviews\">\\n<div class=\"metascore_w user large game positive\">8.6</div>\\n    </a>\\n     \\n                            </div>\\n                        </div>\\n\\n                        <i class=\"fa fa-caret-up\" aria-hidden=\"true\"></i>\\n                        <i class=\"fa fa-caret-down\" aria-hidden=\"true\"></i>\\n                        <label for=\"167515\" class=\"clamp-list-expand-label\"></label>\\n                    </td>\\n                </tr>\\n                                    <tr class=\"spacer\"></tr>\\n                             \\n                                \\n            \\n            \\n            \\n\\n                \\n             \\n                <tr>                    \\n                    <td class=\"clamp-image-wrap\">\\n                        <a href=\"/game/pc/half-life\"><img src=\"https://static.metacritic.com/images/products/games/5/5764f80ddd3e67da3b29eb759e8a4737-98.jpg\" alt=\"Half-Life\" /></a>\\n\\n                                                                                    <span class=\"mcmust\">\\n                                    <img src=\"/images/icons/mc-mustplay-sm.svg\" />\\n                                </span>\\n                                                                        </td>\\n\\n                    <td class=\"clamp-summary-wrap\">\\n\\n                        <input type=\"checkbox\" id=\"100055\" class=\"clamp-summary-expand\" />\\n                        <div class=\"clamp-score-wrap\">\\n                                                            \\n\\n        \\n    <a class=\"metascore_anchor\" href=\"/game/pc/half-life/critic-reviews\">\\n<div class=\"metascore_w large game positive\">96</div>\\n    </a>\\n\\n                                                    </div>\\n\\n                                                    <span class=\"title numbered\">\\n                                                                    42.\\n                                                            </span>\\n                        \\n                        <a href=\"/game/pc/half-life\" class=\"title\"><h3>Half-Life</h3></a>\\n\\n                        <div class=\"clamp-details\">\\n                            \\n                            \\n                            \\n                                                            <div class=\"platform\">\\n                                    <span class=\"label\">Platform:</span>\\n                                    <span class=\"data\">\\n                                        PC\\n                                                                            </span>\\n                                </div>\\n                            \\n                            \\n                            <span>November 19, 1998</span>\\n\\n                            \\n                            \\n                        </div>\\n\\n                        <div class=\"summary\">\\n                        Half-Life combines great storytelling in the tradition of Stephen King with intense action and advanced technology to create a frighteningly realistic world where players need to think smart to survive. Half-Life has won more than 50 Game of the Year awards from publications around the world, and was named \\'Best PC Game Ever\\' in PC Gamer\\'s November 1999 issue. [Sierra]\\n                        </div>\\n\\n                        <div class=\"browse-score-clamp\">\\n                            <div class=\"clamp-metascore\">\\n                                <span class=\"title\">Metascore:</span>\\n                                \\n\\n        \\n    <a class=\"metascore_anchor\" href=\"/game/pc/half-life/critic-reviews\">\\n<div class=\"metascore_w large game positive\">96</div>\\n    </a>\\n\\n                            </div>\\n                            <div class=\"clamp-userscore\">\\n                                <span class=\"title\">User Score:</span>\\n                                        \\n    <a class=\"metascore_anchor\" href=\"/game/pc/half-life/user-reviews\">\\n<div class=\"metascore_w user large game positive\">9.1</div>\\n    </a>\\n     \\n                            </div>\\n                        </div>\\n\\n                        <i class=\"fa fa-caret-up\" aria-hidden=\"true\"></i>\\n                        <i class=\"fa fa-caret-down\" aria-hidden=\"true\"></i>\\n                        <label for=\"100055\" class=\"clamp-list-expand-label\"></label>\\n                    </td>\\n                </tr>\\n                                    <tr class=\"spacer\"></tr>\\n                             \\n                                \\n            \\n            \\n            \\n\\n                \\n             \\n                <tr>                    \\n                    <td class=\"clamp-image-wrap\">\\n                        <a href=\"/game/playstation-2/resident-evil-4\"><img src=\"https://static.metacritic.com/images/products/games/2/1b1a9d67d4ef046b5320670c890849cb-98.jpg\" alt=\"Resident Evil 4\" /></a>\\n\\n                                                                                    <span class=\"mcmust\">\\n                                    <img src=\"/images/icons/mc-mustplay-sm.svg\" />\\n                                </span>\\n                                                                        </td>\\n\\n                    <td class=\"clamp-summary-wrap\">\\n\\n                        <input type=\"checkbox\" id=\"105402\" class=\"clamp-summary-expand\" />\\n                        <div class=\"clamp-score-wrap\">\\n                                                            \\n\\n        \\n    <a class=\"metascore_anchor\" href=\"/game/playstation-2/resident-evil-4/critic-reviews\">\\n<div class=\"metascore_w large game positive\">96</div>\\n    </a>\\n\\n                                                    </div>\\n\\n                                                    <span class=\"title numbered\">\\n                                                                    43.\\n                                                            </span>\\n                        \\n                        <a href=\"/game/playstation-2/resident-evil-4\" class=\"title\"><h3>Resident Evil 4</h3></a>\\n\\n                        <div class=\"clamp-details\">\\n                            \\n                            \\n                            \\n                                                            <div class=\"platform\">\\n                                    <span class=\"label\">Platform:</span>\\n                                    <span class=\"data\">\\n                                        PlayStation 2\\n                                                                            </span>\\n                                </div>\\n                            \\n                            \\n                            <span>October 25, 2005</span>\\n\\n                            \\n                            \\n                        </div>\\n\\n                        <div class=\"summary\">\\n                        In Resident Evil 4 players are reacquainted with Leon S. Kennedy, Raccoon City Police Department\\'s idealistic rookie cop from \"Resident Evil 2.\" It has been six years since the destruction of Raccoon City and in that time, the U.S. government has been able to destroy the nefarious Umbrella Corporation. Fast forward to 2004 and players rejoin Leon, who is now a U.S. agent with a top-secret mission. He has been tasked to look into the abduction of the President\\'s daughter and his investigation has led him to a mysterious location in Europe. As Leon encounters unimaginable horrors, he must find out who or what is behind everything. [Capcom]\\n                        </div>\\n\\n                        <div class=\"browse-score-clamp\">\\n                            <div class=\"clamp-metascore\">\\n                                <span class=\"title\">Metascore:</span>\\n                                \\n\\n        \\n    <a class=\"metascore_anchor\" href=\"/game/playstation-2/resident-evil-4/critic-reviews\">\\n<div class=\"metascore_w large game positive\">96</div>\\n    </a>\\n\\n                            </div>\\n                            <div class=\"clamp-userscore\">\\n                                <span class=\"title\">User Score:</span>\\n                                        \\n    <a class=\"metascore_anchor\" href=\"/game/playstation-2/resident-evil-4/user-reviews\">\\n<div class=\"metascore_w user large game positive\">9.3</div>\\n    </a>\\n     \\n                            </div>\\n                        </div>\\n\\n                        <i class=\"fa fa-caret-up\" aria-hidden=\"true\"></i>\\n                        <i class=\"fa fa-caret-down\" aria-hidden=\"true\"></i>\\n                        <label for=\"105402\" class=\"clamp-list-expand-label\"></label>\\n                    </td>\\n                </tr>\\n                                    <tr class=\"spacer\"></tr>\\n                             \\n                                \\n            \\n            \\n            \\n\\n                \\n             \\n                <tr>                    \\n                    <td class=\"clamp-image-wrap\">\\n                        <a href=\"/game/gamecube/the-legend-of-zelda-the-wind-waker\"><img src=\"https://static.metacritic.com/images/products/games/9/c4c9d1e723bdedc5a5a8795b3d289299-98.jpg\" alt=\"The Legend of Zelda: The Wind Waker\" /></a>\\n\\n                                                                                    <span class=\"mcmust\">\\n                                    <img src=\"/images/icons/mc-mustplay-sm.svg\" />\\n                                </span>\\n                                                                        </td>\\n\\n                    <td class=\"clamp-summary-wrap\">\\n\\n                        <input type=\"checkbox\" id=\"160999\" class=\"clamp-summary-expand\" />\\n                        <div class=\"clamp-score-wrap\">\\n                                                            \\n\\n        \\n    <a class=\"metascore_anchor\" href=\"/game/gamecube/the-legend-of-zelda-the-wind-waker/critic-reviews\">\\n<div class=\"metascore_w large game positive\">96</div>\\n    </a>\\n\\n                                                    </div>\\n\\n                                                    <span class=\"title numbered\">\\n                                                                    44.\\n                                                            </span>\\n                        \\n                        <a href=\"/game/gamecube/the-legend-of-zelda-the-wind-waker\" class=\"title\"><h3>The Legend of Zelda: The Wind Waker</h3></a>\\n\\n                        <div class=\"clamp-details\">\\n                            \\n                            \\n                            \\n                                                            <div class=\"platform\">\\n                                    <span class=\"label\">Platform:</span>\\n                                    <span class=\"data\">\\n                                        GameCube\\n                                                                            </span>\\n                                </div>\\n                            \\n                            \\n                            <span>March 24, 2003</span>\\n\\n                            \\n                            \\n                        </div>\\n\\n                        <div class=\"summary\">\\n                        In this ninth entry in the Legend of Zelda series, Link debuts on GameCube with a fun new cel-shaded look, but the game stays true to the respected heritage of the series. The classic mix of sword-swinging action, perplexing puzzles and stirring story lines remains intact, but the stunning cel-shaded graphics give the people and places of Link\\'s watery world a wildly artistic new look. And for the very first time, Link sails freely on the high seas. Join Link on his most epic and scenic adventure yet. Face unimaginable monsters, explore puzzling dungeons, and meet a cast of unforgettable characters as he searches for his kidnapped sister, Aryll. \\n                        </div>\\n\\n                        <div class=\"browse-score-clamp\">\\n                            <div class=\"clamp-metascore\">\\n                                <span class=\"title\">Metascore:</span>\\n                                \\n\\n        \\n    <a class=\"metascore_anchor\" href=\"/game/gamecube/the-legend-of-zelda-the-wind-waker/critic-reviews\">\\n<div class=\"metascore_w large game positive\">96</div>\\n    </a>\\n\\n                            </div>\\n                            <div class=\"clamp-userscore\">\\n                                <span class=\"title\">User Score:</span>\\n                                        \\n    <a class=\"metascore_anchor\" href=\"/game/gamecube/the-legend-of-zelda-the-wind-waker/user-reviews\">\\n<div class=\"metascore_w user large game positive\">8.9</div>\\n    </a>\\n     \\n                            </div>\\n                        </div>\\n\\n                        <i class=\"fa fa-caret-up\" aria-hidden=\"true\"></i>\\n                        <i class=\"fa fa-caret-down\" aria-hidden=\"true\"></i>\\n                        <label for=\"160999\" class=\"clamp-list-expand-label\"></label>\\n                    </td>\\n                </tr>\\n                                    <tr class=\"spacer\"></tr>\\n                             \\n                                \\n            \\n            \\n            \\n\\n                \\n             \\n                <tr>                    \\n                    <td class=\"clamp-image-wrap\">\\n                        <a href=\"/game/playstation/gran-turismo\"><img src=\"https://static.metacritic.com/images/products/games/8/dea46d06f8c66a24ada212f4f9b0d710-98.jpg\" alt=\"Gran Turismo\" /></a>\\n\\n                                                                                    <span class=\"mcmust\">\\n                                    <img src=\"/images/icons/mc-mustplay-sm.svg\" />\\n                                </span>\\n                                                                        </td>\\n\\n                    <td class=\"clamp-summary-wrap\">\\n\\n                        <input type=\"checkbox\" id=\"160678\" class=\"clamp-summary-expand\" />\\n                        <div class=\"clamp-score-wrap\">\\n                                                            \\n\\n        \\n    <a class=\"metascore_anchor\" href=\"/game/playstation/gran-turismo/critic-reviews\">\\n<div class=\"metascore_w large game positive\">96</div>\\n    </a>\\n\\n                                                    </div>\\n\\n                                                    <span class=\"title numbered\">\\n                                                                    45.\\n                                                            </span>\\n                        \\n                        <a href=\"/game/playstation/gran-turismo\" class=\"title\"><h3>Gran Turismo</h3></a>\\n\\n                        <div class=\"clamp-details\">\\n                            \\n                            \\n                            \\n                                                            <div class=\"platform\">\\n                                    <span class=\"label\">Platform:</span>\\n                                    <span class=\"data\">\\n                                        PlayStation\\n                                                                            </span>\\n                                </div>\\n                            \\n                            \\n                            <span>April 30, 1998</span>\\n\\n                            \\n                            \\n                        </div>\\n\\n                        <div class=\"summary\">\\n                        Welcome to the most advanced racing game ever created! Encounter exhilarating high-speed racing in 11 stunning environments. Feel handling agility and throttle response so convincing, the car seems to be an extension of yourself. Experience the extraordinary world of Gran Turismo!\\n                        </div>\\n\\n                        <div class=\"browse-score-clamp\">\\n                            <div class=\"clamp-metascore\">\\n                                <span class=\"title\">Metascore:</span>\\n                                \\n\\n        \\n    <a class=\"metascore_anchor\" href=\"/game/playstation/gran-turismo/critic-reviews\">\\n<div class=\"metascore_w large game positive\">96</div>\\n    </a>\\n\\n                            </div>\\n                            <div class=\"clamp-userscore\">\\n                                <span class=\"title\">User Score:</span>\\n                                        \\n    <a class=\"metascore_anchor\" href=\"/game/playstation/gran-turismo/user-reviews\">\\n<div class=\"metascore_w user large game positive\">8.6</div>\\n    </a>\\n     \\n                            </div>\\n                        </div>\\n\\n                        <i class=\"fa fa-caret-up\" aria-hidden=\"true\"></i>\\n                        <i class=\"fa fa-caret-down\" aria-hidden=\"true\"></i>\\n                        <label for=\"160678\" class=\"clamp-list-expand-label\"></label>\\n                    </td>\\n                </tr>\\n                                    <tr class=\"spacer\"></tr>\\n                             \\n                                \\n            \\n            \\n            \\n\\n                \\n             \\n                <tr>                    \\n                    <td class=\"clamp-image-wrap\">\\n                        <a href=\"/game/pc/bioshock\"><img src=\"https://static.metacritic.com/images/products/games/4/6e40cbab3978d4fe0c1390f8b46f23cc-98.jpg\" alt=\"BioShock\" /></a>\\n\\n                                                                                    <span class=\"mcmust\">\\n                                    <img src=\"/images/icons/mc-mustplay-sm.svg\" />\\n                                </span>\\n                                                                        </td>\\n\\n                    <td class=\"clamp-summary-wrap\">\\n\\n                        <input type=\"checkbox\" id=\"105294\" class=\"clamp-summary-expand\" />\\n                        <div class=\"clamp-score-wrap\">\\n                                                            \\n\\n        \\n    <a class=\"metascore_anchor\" href=\"/game/pc/bioshock/critic-reviews\">\\n<div class=\"metascore_w large game positive\">96</div>\\n    </a>\\n\\n                                                    </div>\\n\\n                                                    <span class=\"title numbered\">\\n                                                                    46.\\n                                                            </span>\\n                        \\n                        <a href=\"/game/pc/bioshock\" class=\"title\"><h3>BioShock</h3></a>\\n\\n                        <div class=\"clamp-details\">\\n                            \\n                            \\n                            \\n                                                            <div class=\"platform\">\\n                                    <span class=\"label\">Platform:</span>\\n                                    <span class=\"data\">\\n                                        PC\\n                                                                            </span>\\n                                </div>\\n                            \\n                            \\n                            <span>August 21, 2007</span>\\n\\n                            \\n                            \\n                        </div>\\n\\n                        <div class=\"summary\">\\n                        Going beyond \"run and gun corridors,\" \"monster-closet AIs\" and static worlds, BioShock creates a living, unique and unpredictable FPS experience. After your plane crashes into icy uncharted waters, you discover a rusted bathysphere and descend into Rapture, a city hidden beneath the sea. Constructed as an idealistic society for a hand picked group of scientists, artists and industrialists, the idealism is no more. Now the city is littered with corpses, wildly powerful guardians roam the corridors as little girls loot the dead, and genetically mutated citizens ambush you at every turn. Take control of your world by hacking mechanical devices, commandeering security turrets and crafting unique items critical to your very survival. Upgrade your weapons with ionic gels, explosives and toxins to customize them to the enemy and environment. Genetically modify your body through dozens of Plasmid Stations scattered throughout the city, empowering you with fantastic and often grotesque abilities. Explore a living world powered by Ecological A.I., where the inhabitants have interesting and consequential relationships with one another that impact your gameplay experience. Experience truly next generation graphics that vividly illustrate the forlorn art deco city, highlighted by the most detailed and realistic water effects ever developed in a video game. Make meaningful choices and mature decisions, ultimately culminating in the grand question: do you exploit the innocent survivors of Rapture...or save them? [2K Games]\\n                        </div>\\n\\n                        <div class=\"browse-score-clamp\">\\n                            <div class=\"clamp-metascore\">\\n                                <span class=\"title\">Metascore:</span>\\n                                \\n\\n        \\n    <a class=\"metascore_anchor\" href=\"/game/pc/bioshock/critic-reviews\">\\n<div class=\"metascore_w large game positive\">96</div>\\n    </a>\\n\\n                            </div>\\n                            <div class=\"clamp-userscore\">\\n                                <span class=\"title\">User Score:</span>\\n                                        \\n    <a class=\"metascore_anchor\" href=\"/game/pc/bioshock/user-reviews\">\\n<div class=\"metascore_w user large game positive\">8.6</div>\\n    </a>\\n     \\n                            </div>\\n                        </div>\\n\\n                        <i class=\"fa fa-caret-up\" aria-hidden=\"true\"></i>\\n                        <i class=\"fa fa-caret-down\" aria-hidden=\"true\"></i>\\n                        <label for=\"105294\" class=\"clamp-list-expand-label\"></label>\\n                    </td>\\n                </tr>\\n                                    <tr class=\"spacer\"></tr>\\n                             \\n                                \\n            \\n            \\n            \\n\\n                \\n             \\n                <tr>                    \\n                    <td class=\"clamp-image-wrap\">\\n                        <a href=\"/game/playstation-2/metal-gear-solid-2-sons-of-liberty\"><img src=\"https://static.metacritic.com/images/products/games/9/20c772e77d9728b33faace026d13f835-98.jpg\" alt=\"Metal Gear Solid 2: Sons of Liberty\" /></a>\\n\\n                                                                                    <span class=\"mcmust\">\\n                                    <img src=\"/images/icons/mc-mustplay-sm.svg\" />\\n                                </span>\\n                                                                        </td>\\n\\n                    <td class=\"clamp-summary-wrap\">\\n\\n                        <input type=\"checkbox\" id=\"102899\" class=\"clamp-summary-expand\" />\\n                        <div class=\"clamp-score-wrap\">\\n                                                            \\n\\n        \\n    <a class=\"metascore_anchor\" href=\"/game/playstation-2/metal-gear-solid-2-sons-of-liberty/critic-reviews\">\\n<div class=\"metascore_w large game positive\">96</div>\\n    </a>\\n\\n                                                    </div>\\n\\n                                                    <span class=\"title numbered\">\\n                                                                    47.\\n                                                            </span>\\n                        \\n                        <a href=\"/game/playstation-2/metal-gear-solid-2-sons-of-liberty\" class=\"title\"><h3>Metal Gear Solid 2: Sons of Liberty</h3></a>\\n\\n                        <div class=\"clamp-details\">\\n                            \\n                            \\n                            \\n                                                            <div class=\"platform\">\\n                                    <span class=\"label\">Platform:</span>\\n                                    <span class=\"data\">\\n                                        PlayStation 2\\n                                                                            </span>\\n                                </div>\\n                            \\n                            \\n                            <span>November 12, 2001</span>\\n\\n                            \\n                            \\n                        </div>\\n\\n                        <div class=\"summary\">\\n                        Since the incident on Shadow Moses Island, Metal Gear\\'s top-secret technology has been leaked into the black market through the machinations of Revolver Ocelot. As a result, countless variations of Metal Gears have sprung up in every corner of the globe, making the weapon an increasingly common component of the armed forces of nuclear powers. \\r\\nIn the midst of all of this, Solid Snake, now a member of the anti-Metal Gear group \"Philanthropy,\" has learned that a new prototype Metal Gear has been developed by the U.S. Marines and is being transported in secret to an unknown destination. To learn more about this new machine, Snake must infiltrate the transport, disguised as a tanker, as it makes its way down the Hudson River. Just as Snake is about to begin his mission, however, the ship is seized by a mysterious and well-armed group bent on stealing the new Metal Gear for their own, nefarious purposes. [Konami]\\n                        </div>\\n\\n                        <div class=\"browse-score-clamp\">\\n                            <div class=\"clamp-metascore\">\\n                                <span class=\"title\">Metascore:</span>\\n                                \\n\\n        \\n    <a class=\"metascore_anchor\" href=\"/game/playstation-2/metal-gear-solid-2-sons-of-liberty/critic-reviews\">\\n<div class=\"metascore_w large game positive\">96</div>\\n    </a>\\n\\n                            </div>\\n                            <div class=\"clamp-userscore\">\\n                                <span class=\"title\">User Score:</span>\\n                                        \\n    <a class=\"metascore_anchor\" href=\"/game/playstation-2/metal-gear-solid-2-sons-of-liberty/user-reviews\">\\n<div class=\"metascore_w user large game positive\">8.8</div>\\n    </a>\\n     \\n                            </div>\\n                        </div>\\n\\n                        <i class=\"fa fa-caret-up\" aria-hidden=\"true\"></i>\\n                        <i class=\"fa fa-caret-down\" aria-hidden=\"true\"></i>\\n                        <label for=\"102899\" class=\"clamp-list-expand-label\"></label>\\n                    </td>\\n                </tr>\\n                                    <tr class=\"spacer\"></tr>\\n                             \\n                                \\n            \\n            \\n            \\n\\n                \\n             \\n                <tr>                    \\n                    <td class=\"clamp-image-wrap\">\\n                        <a href=\"/game/xbox/grand-theft-auto-double-pack\"><img src=\"https://static.metacritic.com/images/products/games/4/5f9a719ed9b81c375c57aa8a8b5bbb5e-98.jpg\" alt=\"Grand Theft Auto Double Pack\" /></a>\\n\\n                                                                                    <span class=\"mcmust\">\\n                                    <img src=\"/images/icons/mc-mustplay-sm.svg\" />\\n                                </span>\\n                                                                        </td>\\n\\n                    <td class=\"clamp-summary-wrap\">\\n\\n                        <input type=\"checkbox\" id=\"160994\" class=\"clamp-summary-expand\" />\\n                        <div class=\"clamp-score-wrap\">\\n                                                            \\n\\n        \\n    <a class=\"metascore_anchor\" href=\"/game/xbox/grand-theft-auto-double-pack/critic-reviews\">\\n<div class=\"metascore_w large game positive\">96</div>\\n    </a>\\n\\n                                                    </div>\\n\\n                                                    <span class=\"title numbered\">\\n                                                                    48.\\n                                                            </span>\\n                        \\n                        <a href=\"/game/xbox/grand-theft-auto-double-pack\" class=\"title\"><h3>Grand Theft Auto Double Pack</h3></a>\\n\\n                        <div class=\"clamp-details\">\\n                            \\n                            \\n                            \\n                                                            <div class=\"platform\">\\n                                    <span class=\"label\">Platform:</span>\\n                                    <span class=\"data\">\\n                                        Xbox\\n                                                                            </span>\\n                                </div>\\n                            \\n                            \\n                            <span>October 31, 2003</span>\\n\\n                            \\n                            \\n                        </div>\\n\\n                        <div class=\"summary\">\\n                        From the dark and seedy streets of Liberty City\\'s underworld to the glamorous hedonism of Vice City of the 1980s, the Grand Theft Auto double-pack takes you through the huge worlds of Grand Theft Auto III and it\\'s sequel Vice City. The highly controversial Grand Theft Auto III gives you the freedom to go anywhere and jack anyone, putting the dark, intriguing and ruthless world of crime at your fingertips. Vice City is an entirely new game set in the \\'80s, preserving and adding to the free-roaming gameplay, cinematic graphics and immersive audio experience that made the Grand Theft Auto III so popular.\\n                        </div>\\n\\n                        <div class=\"browse-score-clamp\">\\n                            <div class=\"clamp-metascore\">\\n                                <span class=\"title\">Metascore:</span>\\n                                \\n\\n        \\n    <a class=\"metascore_anchor\" href=\"/game/xbox/grand-theft-auto-double-pack/critic-reviews\">\\n<div class=\"metascore_w large game positive\">96</div>\\n    </a>\\n\\n                            </div>\\n                            <div class=\"clamp-userscore\">\\n                                <span class=\"title\">User Score:</span>\\n                                        \\n    <a class=\"metascore_anchor\" href=\"/game/xbox/grand-theft-auto-double-pack/user-reviews\">\\n<div class=\"metascore_w user large game positive\">8.1</div>\\n    </a>\\n     \\n                            </div>\\n                        </div>\\n\\n                        <i class=\"fa fa-caret-up\" aria-hidden=\"true\"></i>\\n                        <i class=\"fa fa-caret-down\" aria-hidden=\"true\"></i>\\n                        <label for=\"160994\" class=\"clamp-list-expand-label\"></label>\\n                    </td>\\n                </tr>\\n                                    <tr class=\"spacer\"></tr>\\n                             \\n                                \\n            \\n            \\n            \\n\\n                \\n             \\n                <tr>                    \\n                    <td class=\"clamp-image-wrap\">\\n                        <a href=\"/game/pc/baldurs-gate-ii-shadows-of-amn\"><img src=\"https://static.metacritic.com/images/products/games/9/fee92d54ce517ca92f49122771fd4aa5-98.jpg\" alt=\"Baldur\\'s Gate II: Shadows of Amn\" /></a>\\n\\n                                                                                    <span class=\"mcmust\">\\n                                    <img src=\"/images/icons/mc-mustplay-sm.svg\" />\\n                                </span>\\n                                                                        </td>\\n\\n                    <td class=\"clamp-summary-wrap\">\\n\\n                        <input type=\"checkbox\" id=\"101179\" class=\"clamp-summary-expand\" />\\n                        <div class=\"clamp-score-wrap\">\\n                                                            \\n\\n        \\n    <a class=\"metascore_anchor\" href=\"/game/pc/baldurs-gate-ii-shadows-of-amn/critic-reviews\">\\n<div class=\"metascore_w large game positive\">95</div>\\n    </a>\\n\\n                                                    </div>\\n\\n                                                    <span class=\"title numbered\">\\n                                                                    49.\\n                                                            </span>\\n                        \\n                        <a href=\"/game/pc/baldurs-gate-ii-shadows-of-amn\" class=\"title\"><h3>Baldur\\'s Gate II: Shadows of Amn</h3></a>\\n\\n                        <div class=\"clamp-details\">\\n                            \\n                            \\n                            \\n                                                            <div class=\"platform\">\\n                                    <span class=\"label\">Platform:</span>\\n                                    <span class=\"data\">\\n                                        PC\\n                                                                            </span>\\n                                </div>\\n                            \\n                            \\n                            <span>September 24, 2000</span>\\n\\n                            \\n                            \\n                        </div>\\n\\n                        <div class=\"summary\">\\n                        An epic continuation of the story that began in \"Baldur\\'s Gate,\" this RPG is set along the southern portion of the Sword Coast, a detailed and rich area of the Forgotten Realms called Amn. It features 300 spells and 130-plus monster types compared to only 130 spells and 60 monster types in Baldur\\'s Gate. [Interplay]\\n                        </div>\\n\\n                        <div class=\"browse-score-clamp\">\\n                            <div class=\"clamp-metascore\">\\n                                <span class=\"title\">Metascore:</span>\\n                                \\n\\n        \\n    <a class=\"metascore_anchor\" href=\"/game/pc/baldurs-gate-ii-shadows-of-amn/critic-reviews\">\\n<div class=\"metascore_w large game positive\">95</div>\\n    </a>\\n\\n                            </div>\\n                            <div class=\"clamp-userscore\">\\n                                <span class=\"title\">User Score:</span>\\n                                        \\n    <a class=\"metascore_anchor\" href=\"/game/pc/baldurs-gate-ii-shadows-of-amn/user-reviews\">\\n<div class=\"metascore_w user large game positive\">9.1</div>\\n    </a>\\n     \\n                            </div>\\n                        </div>\\n\\n                        <i class=\"fa fa-caret-up\" aria-hidden=\"true\"></i>\\n                        <i class=\"fa fa-caret-down\" aria-hidden=\"true\"></i>\\n                        <label for=\"101179\" class=\"clamp-list-expand-label\"></label>\\n                    </td>\\n                </tr>\\n                                    <tr class=\"spacer\"></tr>\\n                             \\n                                \\n            \\n            \\n            \\n\\n                \\n             \\n                <tr>                    \\n                    <td class=\"clamp-image-wrap\">\\n                        <a href=\"/game/playstation-2/grand-theft-auto-san-andreas\"><img src=\"https://static.metacritic.com/images/products/games/6/1336a2d42299de601351bd802152440c-98.jpg\" alt=\"Grand Theft Auto: San Andreas\" /></a>\\n\\n                                                                                    <span class=\"mcmust\">\\n                                    <img src=\"/images/icons/mc-mustplay-sm.svg\" />\\n                                </span>\\n                                                                        </td>\\n\\n                    <td class=\"clamp-summary-wrap\">\\n\\n                        <input type=\"checkbox\" id=\"103156\" class=\"clamp-summary-expand\" />\\n                        <div class=\"clamp-score-wrap\">\\n                                                            \\n\\n        \\n    <a class=\"metascore_anchor\" href=\"/game/playstation-2/grand-theft-auto-san-andreas/critic-reviews\">\\n<div class=\"metascore_w large game positive\">95</div>\\n    </a>\\n\\n                                                    </div>\\n\\n                                                    <span class=\"title numbered\">\\n                                                                    50.\\n                                                            </span>\\n                        \\n                        <a href=\"/game/playstation-2/grand-theft-auto-san-andreas\" class=\"title\"><h3>Grand Theft Auto: San Andreas</h3></a>\\n\\n                        <div class=\"clamp-details\">\\n                            \\n                            \\n                            \\n                                                            <div class=\"platform\">\\n                                    <span class=\"label\">Platform:</span>\\n                                    <span class=\"data\">\\n                                        PlayStation 2\\n                                                                            </span>\\n                                </div>\\n                            \\n                            \\n                            <span>October 26, 2004</span>\\n\\n                            \\n                            \\n                        </div>\\n\\n                        <div class=\"summary\">\\n                        [Metacritic\\'s 2004 PS2 Game of the Year]  Five years ago Carl Johnson escaped from the pressures of life in Los Santos, San Andreas... a city tearing itself apart with gang trouble, drugs and corruption. Where filmstars and millionaires do their best to avoid the dealers and gangbangers. Now, it\\'s the early 90s. Carl\\'s got to go home. His mother has been murdered, his family has fallen apart and his childhood friends are all heading towards disaster. On his return to the neighborhood, a couple of corrupt cops frame him for homicide. CJ is forced on a journey that takes him across the entire state of San Andreas, to save his family and to take control of the streets. [Rockstar]\\n                        </div>\\n\\n                        <div class=\"browse-score-clamp\">\\n                            <div class=\"clamp-metascore\">\\n                                <span class=\"title\">Metascore:</span>\\n                                \\n\\n        \\n    <a class=\"metascore_anchor\" href=\"/game/playstation-2/grand-theft-auto-san-andreas/critic-reviews\">\\n<div class=\"metascore_w large game positive\">95</div>\\n    </a>\\n\\n                            </div>\\n                            <div class=\"clamp-userscore\">\\n                                <span class=\"title\">User Score:</span>\\n                                        \\n    <a class=\"metascore_anchor\" href=\"/game/playstation-2/grand-theft-auto-san-andreas/user-reviews\">\\n<div class=\"metascore_w user large game positive\">9.1</div>\\n    </a>\\n     \\n                            </div>\\n                        </div>\\n\\n                        <i class=\"fa fa-caret-up\" aria-hidden=\"true\"></i>\\n                        <i class=\"fa fa-caret-down\" aria-hidden=\"true\"></i>\\n                        <label for=\"103156\" class=\"clamp-list-expand-label\"></label>\\n                    </td>\\n                </tr>\\n                                    <tr class=\"spacer\"></tr>\\n                             \\n                                \\n            \\n            \\n            \\n\\n                \\n             \\n                <tr>                    \\n                    <td class=\"clamp-image-wrap\">\\n                        <a href=\"/game/playstation-2/grand-theft-auto-vice-city\"><img src=\"https://static.metacritic.com/images/products/games/8/a051e01269f5e5ce7159b9d189618a7d-98.jpg\" alt=\"Grand Theft Auto: Vice City\" /></a>\\n\\n                                                                                    <span class=\"mcmust\">\\n                                    <img src=\"/images/icons/mc-mustplay-sm.svg\" />\\n                                </span>\\n                                                                        </td>\\n\\n                    <td class=\"clamp-summary-wrap\">\\n\\n                        <input type=\"checkbox\" id=\"102338\" class=\"clamp-summary-expand\" />\\n                        <div class=\"clamp-score-wrap\">\\n                                                            \\n\\n        \\n    <a class=\"metascore_anchor\" href=\"/game/playstation-2/grand-theft-auto-vice-city/critic-reviews\">\\n<div class=\"metascore_w large game positive\">95</div>\\n    </a>\\n\\n                                                    </div>\\n\\n                                                    <span class=\"title numbered\">\\n                                                                    51.\\n                                                            </span>\\n                        \\n                        <a href=\"/game/playstation-2/grand-theft-auto-vice-city\" class=\"title\"><h3>Grand Theft Auto: Vice City</h3></a>\\n\\n                        <div class=\"clamp-details\">\\n                            \\n                            \\n                            \\n                                                            <div class=\"platform\">\\n                                    <span class=\"label\">Platform:</span>\\n                                    <span class=\"data\">\\n                                        PlayStation 2\\n                                                                            </span>\\n                                </div>\\n                            \\n                            \\n                            <span>October 27, 2002</span>\\n\\n                            \\n                            \\n                        </div>\\n\\n                        <div class=\"summary\">\\n                        [Metacritic\\'s 2002 PS2 Game of the Year ] Welcome to Vice City. Welcome to the 1980s. Having just made it back onto the streets of Liberty City after a long stretch in maximum security, Tommy Vercetti is sent to Vice City by his old boss, Sonny Forelli. They were understandably nervous about his re-appearance in Liberty City, so a trip down south seemed like a good idea. But all does not go smoothly upon his arrival in the glamorous, hedonistic metropolis of Vice City. He\\'s set up and is left with no money and no merchandise. Sonny wants his money back, but the biker gangs, Cuban gangsters, and corrupt politicians stand in his way. Most of Vice City seems to want Tommy dead. His only answer is to fight back and take over the city himself. Vice City offers vehicular pleasures to suit every taste. For the speed enthusiast, there\\'s high-performance cars and motorbikes. For the sportsman, a powerboat or a golf buggy lets you enjoy the great outdoors. For those that need that sense of freedom and escape, why not charter a helicopter and see the beauty of Vice City from the air? [Rockstar]\\n                        </div>\\n\\n                        <div class=\"browse-score-clamp\">\\n                            <div class=\"clamp-metascore\">\\n                                <span class=\"title\">Metascore:</span>\\n                                \\n\\n        \\n    <a class=\"metascore_anchor\" href=\"/game/playstation-2/grand-theft-auto-vice-city/critic-reviews\">\\n<div class=\"metascore_w large game positive\">95</div>\\n    </a>\\n\\n                            </div>\\n                            <div class=\"clamp-userscore\">\\n                                <span class=\"title\">User Score:</span>\\n                                        \\n    <a class=\"metascore_anchor\" href=\"/game/playstation-2/grand-theft-auto-vice-city/user-reviews\">\\n<div class=\"metascore_w user large game positive\">8.8</div>\\n    </a>\\n     \\n                            </div>\\n                        </div>\\n\\n                        <i class=\"fa fa-caret-up\" aria-hidden=\"true\"></i>\\n                        <i class=\"fa fa-caret-down\" aria-hidden=\"true\"></i>\\n                        <label for=\"102338\" class=\"clamp-list-expand-label\"></label>\\n                    </td>\\n                </tr>\\n                                    <tr class=\"spacer\"></tr>\\n                             \\n                                \\n            \\n            \\n            \\n\\n                \\n             \\n                <tr>                    \\n                    <td class=\"clamp-image-wrap\">\\n                        <a href=\"/game/playstation-3/littlebigplanet\"><img src=\"https://static.metacritic.com/images/products/games/9/7c8510a3ca7ac878e48304ad5fe52fbb-98.jpg\" alt=\"LittleBigPlanet\" /></a>\\n\\n                                                                                    <span class=\"mcmust\">\\n                                    <img src=\"/images/icons/mc-mustplay-sm.svg\" />\\n                                </span>\\n                                                                        </td>\\n\\n                    <td class=\"clamp-summary-wrap\">\\n\\n                        <input type=\"checkbox\" id=\"109799\" class=\"clamp-summary-expand\" />\\n                        <div class=\"clamp-score-wrap\">\\n                                                            \\n\\n        \\n    <a class=\"metascore_anchor\" href=\"/game/playstation-3/littlebigplanet/critic-reviews\">\\n<div class=\"metascore_w large game positive\">95</div>\\n    </a>\\n\\n                                                    </div>\\n\\n                                                    <span class=\"title numbered\">\\n                                                                    52.\\n                                                            </span>\\n                        \\n                        <a href=\"/game/playstation-3/littlebigplanet\" class=\"title\"><h3>LittleBigPlanet</h3></a>\\n\\n                        <div class=\"clamp-details\">\\n                            \\n                            \\n                            \\n                                                            <div class=\"platform\">\\n                                    <span class=\"label\">Platform:</span>\\n                                    <span class=\"data\">\\n                                        PlayStation 3\\n                                                                            </span>\\n                                </div>\\n                            \\n                            \\n                            <span>October 27, 2008</span>\\n\\n                            \\n                            \\n                        </div>\\n\\n                        <div class=\"summary\">\\n                        In LittleBigPlanet Players meet on a blue and green planet scattered with individual plots – and use their character\\'s amazing abilities to play, create and share what they build with other gamers throughout the world via the Playstation Network. The LittleBigPlanet experience starts with players learning about their character’s powers to interact physically with the environment. There are places to explore, creative resources to collect and puzzles to solve – all requiring a combination of brains and collaborative teamwork. As soon as players begin their creative skills will grow and they will soon be ready to start creating and modifying their surroundings – the first step to sharing them with the whole community.Characters have the power to move anything in this glued and stitched-together 3D landscape; they have the power to design, shape and build both objects and entire locations for others to view and play. There’s no complicated level editor; all of these skills can be learned by simply playing the game. Creativity is part of the gameplay experience and playing is part of the creative experience. Players can make their world as open or as secretive to explore as they like. When it’s ready, they can invite anyone within the LittleBigPlanet community to come and explore their patch – or can go and explore everybody else\\'s. [SCEA]\\n                        </div>\\n\\n                        <div class=\"browse-score-clamp\">\\n                            <div class=\"clamp-metascore\">\\n                                <span class=\"title\">Metascore:</span>\\n                                \\n\\n        \\n    <a class=\"metascore_anchor\" href=\"/game/playstation-3/littlebigplanet/critic-reviews\">\\n<div class=\"metascore_w large game positive\">95</div>\\n    </a>\\n\\n                            </div>\\n                            <div class=\"clamp-userscore\">\\n                                <span class=\"title\">User Score:</span>\\n                                        \\n    <a class=\"metascore_anchor\" href=\"/game/playstation-3/littlebigplanet/user-reviews\">\\n<div class=\"metascore_w user large game mixed\">6.8</div>\\n    </a>\\n     \\n                            </div>\\n                        </div>\\n\\n                        <i class=\"fa fa-caret-up\" aria-hidden=\"true\"></i>\\n                        <i class=\"fa fa-caret-down\" aria-hidden=\"true\"></i>\\n                        <label for=\"109799\" class=\"clamp-list-expand-label\"></label>\\n                    </td>\\n                </tr>\\n                                    <tr class=\"spacer\"></tr>\\n                             \\n                                \\n            \\n            \\n            \\n\\n                \\n             \\n                <tr>                    \\n                    <td class=\"clamp-image-wrap\">\\n                        <a href=\"/game/gamecube/the-legend-of-zelda-collectors-edition\"><img src=\"https://static.metacritic.com/images/products/games/1/b752da9ceb16a38ced912d788267c929-98.jpg\" alt=\"The Legend of Zelda Collector\\'s Edition\" /></a>\\n\\n                                                                                                </td>\\n\\n                    <td class=\"clamp-summary-wrap\">\\n\\n                        <input type=\"checkbox\" id=\"162311\" class=\"clamp-summary-expand\" />\\n                        <div class=\"clamp-score-wrap\">\\n                                                            \\n\\n        \\n    <a class=\"metascore_anchor\" href=\"/game/gamecube/the-legend-of-zelda-collectors-edition/critic-reviews\">\\n<div class=\"metascore_w large game positive\">95</div>\\n    </a>\\n\\n                                                    </div>\\n\\n                                                    <span class=\"title numbered\">\\n                                                                    53.\\n                                                            </span>\\n                        \\n                        <a href=\"/game/gamecube/the-legend-of-zelda-collectors-edition\" class=\"title\"><h3>The Legend of Zelda Collector\\'s Edition</h3></a>\\n\\n                        <div class=\"clamp-details\">\\n                            \\n                            \\n                            \\n                                                            <div class=\"platform\">\\n                                    <span class=\"label\">Platform:</span>\\n                                    <span class=\"data\">\\n                                        GameCube\\n                                                                            </span>\\n                                </div>\\n                            \\n                            \\n                            <span>November 17, 2003</span>\\n\\n                            \\n                            \\n                        </div>\\n\\n                        <div class=\"summary\">\\n                        Receive Four Complete Classic Zelda games all on one disc when you buy the Zelda GameCube Bundle: The Legend of Zelda, Zelda II - The adventure of Link, The Legend of Zelda: Ocarina of Time, The Legend of Zelda: Majora\\'s Mask. The disc also includes: Playable Demo of the Legend of Zelda: The Wind Waker, Zelda Retrospective Movie, The Legend of Zelda: The Wind Waker Movie Preview.\\n                        </div>\\n\\n                        <div class=\"browse-score-clamp\">\\n                            <div class=\"clamp-metascore\">\\n                                <span class=\"title\">Metascore:</span>\\n                                \\n\\n        \\n    <a class=\"metascore_anchor\" href=\"/game/gamecube/the-legend-of-zelda-collectors-edition/critic-reviews\">\\n<div class=\"metascore_w large game positive\">95</div>\\n    </a>\\n\\n                            </div>\\n                            <div class=\"clamp-userscore\">\\n                                <span class=\"title\">User Score:</span>\\n                                        \\n    <a class=\"metascore_anchor\" href=\"/game/gamecube/the-legend-of-zelda-collectors-edition/user-reviews\">\\n<div class=\"metascore_w user large game positive\">8.9</div>\\n    </a>\\n     \\n                            </div>\\n                        </div>\\n\\n                        <i class=\"fa fa-caret-up\" aria-hidden=\"true\"></i>\\n                        <i class=\"fa fa-caret-down\" aria-hidden=\"true\"></i>\\n                        <label for=\"162311\" class=\"clamp-list-expand-label\"></label>\\n                    </td>\\n                </tr>\\n                                    <tr class=\"spacer\"></tr>\\n                             \\n                                \\n            \\n            \\n            \\n\\n                \\n             \\n                <tr>                    \\n                    <td class=\"clamp-image-wrap\">\\n                        <a href=\"/game/playstation-3/red-dead-redemption\"><img src=\"https://static.metacritic.com/images/products/games/2/a79df5c46863517adc95c787d668149e-98.jpg\" alt=\"Red Dead Redemption\" /></a>\\n\\n                                                                                    <span class=\"mcmust\">\\n                                    <img src=\"/images/icons/mc-mustplay-sm.svg\" />\\n                                </span>\\n                                                                        </td>\\n\\n                    <td class=\"clamp-summary-wrap\">\\n\\n                        <input type=\"checkbox\" id=\"114022\" class=\"clamp-summary-expand\" />\\n                        <div class=\"clamp-score-wrap\">\\n                                                            \\n\\n        \\n    <a class=\"metascore_anchor\" href=\"/game/playstation-3/red-dead-redemption/critic-reviews\">\\n<div class=\"metascore_w large game positive\">95</div>\\n    </a>\\n\\n                                                    </div>\\n\\n                                                    <span class=\"title numbered\">\\n                                                                    54.\\n                                                            </span>\\n                        \\n                        <a href=\"/game/playstation-3/red-dead-redemption\" class=\"title\"><h3>Red Dead Redemption</h3></a>\\n\\n                        <div class=\"clamp-details\">\\n                            \\n                            \\n                            \\n                                                            <div class=\"platform\">\\n                                    <span class=\"label\">Platform:</span>\\n                                    <span class=\"data\">\\n                                        PlayStation 3\\n                                                                            </span>\\n                                </div>\\n                            \\n                            \\n                            <span>May 18, 2010</span>\\n\\n                            \\n                            \\n                        </div>\\n\\n                        <div class=\"summary\">\\n                        Developed by Rockstar San Diego, as a follow up to the 2004 hit game Red Dead Revolver, Red Dead Redemption is a Western epic, set at the turn of the 20th century when the lawless and chaotic badlands began to give way to the expanding reach of government and the spread of the Industrial Age.  The story of former outlaw, John Marston, Red Dead Redemption takes players on a great adventure across the American frontier. Utilizing Rockstar\\'s proprietary Rockstar Advanced Game Engine (RAGE), Red Dead Redemption features an open-world environment for players to explore, including frontier towns, rolling prairies teeming with wildlife, and perilous mountain passes - each packed with an endless flow of varied distractions. Along the way, players experience the heat of gunfights and battles, meet a host of unique characters, struggle against the harshness of one of the world’s last remaining wildernesses, and ultimately pick their own precarious path through an epic story about the death of the Wild West and the gunslingers that inhabited it. [Rockstar Games]\\n                        </div>\\n\\n                        <div class=\"browse-score-clamp\">\\n                            <div class=\"clamp-metascore\">\\n                                <span class=\"title\">Metascore:</span>\\n                                \\n\\n        \\n    <a class=\"metascore_anchor\" href=\"/game/playstation-3/red-dead-redemption/critic-reviews\">\\n<div class=\"metascore_w large game positive\">95</div>\\n    </a>\\n\\n                            </div>\\n                            <div class=\"clamp-userscore\">\\n                                <span class=\"title\">User Score:</span>\\n                                        \\n    <a class=\"metascore_anchor\" href=\"/game/playstation-3/red-dead-redemption/user-reviews\">\\n<div class=\"metascore_w user large game positive\">8.9</div>\\n    </a>\\n     \\n                            </div>\\n                        </div>\\n\\n                        <i class=\"fa fa-caret-up\" aria-hidden=\"true\"></i>\\n                        <i class=\"fa fa-caret-down\" aria-hidden=\"true\"></i>\\n                        <label for=\"114022\" class=\"clamp-list-expand-label\"></label>\\n                    </td>\\n                </tr>\\n                                    <tr class=\"spacer\"></tr>\\n                             \\n                                \\n            \\n            \\n            \\n\\n                \\n             \\n                <tr>                    \\n                    <td class=\"clamp-image-wrap\">\\n                        <a href=\"/game/playstation-2/gran-turismo-3-a-spec\"><img src=\"https://static.metacritic.com/images/products/games/4/b88c306c53289d8c99b7d6a93d5ac4e1-98.jpg\" alt=\"Gran Turismo 3: A-Spec\" /></a>\\n\\n                                                                                    <span class=\"mcmust\">\\n                                    <img src=\"/images/icons/mc-mustplay-sm.svg\" />\\n                                </span>\\n                                                                        </td>\\n\\n                    <td class=\"clamp-summary-wrap\">\\n\\n                        <input type=\"checkbox\" id=\"100594\" class=\"clamp-summary-expand\" />\\n                        <div class=\"clamp-score-wrap\">\\n                                                            \\n\\n        \\n    <a class=\"metascore_anchor\" href=\"/game/playstation-2/gran-turismo-3-a-spec/critic-reviews\">\\n<div class=\"metascore_w large game positive\">95</div>\\n    </a>\\n\\n                                                    </div>\\n\\n                                                    <span class=\"title numbered\">\\n                                                                    55.\\n                                                            </span>\\n                        \\n                        <a href=\"/game/playstation-2/gran-turismo-3-a-spec\" class=\"title\"><h3>Gran Turismo 3: A-Spec</h3></a>\\n\\n                        <div class=\"clamp-details\">\\n                            \\n                            \\n                            \\n                                                            <div class=\"platform\">\\n                                    <span class=\"label\">Platform:</span>\\n                                    <span class=\"data\">\\n                                        PlayStation 2\\n                                                                            </span>\\n                                </div>\\n                            \\n                            \\n                            <span>July 9, 2001</span>\\n\\n                            \\n                            \\n                        </div>\\n\\n                        <div class=\"summary\">\\n                        With the addition of two new courses (a downtown Tokyo circuit and the Monte Carlo Grand Prix course), an impressive range of cars (from Vipers to Cooper Minis), and a soundtrack featuring everything from Lenny Kravitz to Jimi Hendrix, this highly anticipated title is finally ready to be driven.\\n                        </div>\\n\\n                        <div class=\"browse-score-clamp\">\\n                            <div class=\"clamp-metascore\">\\n                                <span class=\"title\">Metascore:</span>\\n                                \\n\\n        \\n    <a class=\"metascore_anchor\" href=\"/game/playstation-2/gran-turismo-3-a-spec/critic-reviews\">\\n<div class=\"metascore_w large game positive\">95</div>\\n    </a>\\n\\n                            </div>\\n                            <div class=\"clamp-userscore\">\\n                                <span class=\"title\">User Score:</span>\\n                                        \\n    <a class=\"metascore_anchor\" href=\"/game/playstation-2/gran-turismo-3-a-spec/user-reviews\">\\n<div class=\"metascore_w user large game positive\">8.4</div>\\n    </a>\\n     \\n                            </div>\\n                        </div>\\n\\n                        <i class=\"fa fa-caret-up\" aria-hidden=\"true\"></i>\\n                        <i class=\"fa fa-caret-down\" aria-hidden=\"true\"></i>\\n                        <label for=\"100594\" class=\"clamp-list-expand-label\"></label>\\n                    </td>\\n                </tr>\\n                                    <tr class=\"spacer\"></tr>\\n                             \\n                                \\n            \\n            \\n            \\n\\n                \\n             \\n                <tr>                    \\n                    <td class=\"clamp-image-wrap\">\\n                        <a href=\"/game/xbox/halo-2\"><img src=\"https://static.metacritic.com/images/products/games/5/0bc9de91c1ea552966f25a5c10e8179f-98.jpg\" alt=\"Halo 2\" /></a>\\n\\n                                                                                    <span class=\"mcmust\">\\n                                    <img src=\"/images/icons/mc-mustplay-sm.svg\" />\\n                                </span>\\n                                                                        </td>\\n\\n                    <td class=\"clamp-summary-wrap\">\\n\\n                        <input type=\"checkbox\" id=\"161665\" class=\"clamp-summary-expand\" />\\n                        <div class=\"clamp-score-wrap\">\\n                                                            \\n\\n        \\n    <a class=\"metascore_anchor\" href=\"/game/xbox/halo-2/critic-reviews\">\\n<div class=\"metascore_w large game positive\">95</div>\\n    </a>\\n\\n                                                    </div>\\n\\n                                                    <span class=\"title numbered\">\\n                                                                    56.\\n                                                            </span>\\n                        \\n                        <a href=\"/game/xbox/halo-2\" class=\"title\"><h3>Halo 2</h3></a>\\n\\n                        <div class=\"clamp-details\">\\n                            \\n                            \\n                            \\n                                                            <div class=\"platform\">\\n                                    <span class=\"label\">Platform:</span>\\n                                    <span class=\"data\">\\n                                        Xbox\\n                                                                            </span>\\n                                </div>\\n                            \\n                            \\n                            <span>November 9, 2004</span>\\n\\n                            \\n                            \\n                        </div>\\n\\n                        <div class=\"summary\">\\n                        The Covenant alien race threatens to destroy all humankind, and the only thing standing in its way is Master Chief, a genetically enhanced supersoldier. Master Chief returns in Halo 2, which features new vehicles, weapons, environments, and more. This time, you can interact with your environment, wield two weapons at the same time, board opponents\\' vehicles, and even switch sides to play the role of a Covenant Elite. Halo 2 also supports broadband multiplayer action via Xbox Live. \\n                        </div>\\n\\n                        <div class=\"browse-score-clamp\">\\n                            <div class=\"clamp-metascore\">\\n                                <span class=\"title\">Metascore:</span>\\n                                \\n\\n        \\n    <a class=\"metascore_anchor\" href=\"/game/xbox/halo-2/critic-reviews\">\\n<div class=\"metascore_w large game positive\">95</div>\\n    </a>\\n\\n                            </div>\\n                            <div class=\"clamp-userscore\">\\n                                <span class=\"title\">User Score:</span>\\n                                        \\n    <a class=\"metascore_anchor\" href=\"/game/xbox/halo-2/user-reviews\">\\n<div class=\"metascore_w user large game positive\">8.7</div>\\n    </a>\\n     \\n                            </div>\\n                        </div>\\n\\n                        <i class=\"fa fa-caret-up\" aria-hidden=\"true\"></i>\\n                        <i class=\"fa fa-caret-down\" aria-hidden=\"true\"></i>\\n                        <label for=\"161665\" class=\"clamp-list-expand-label\"></label>\\n                    </td>\\n                </tr>\\n                                    <tr class=\"spacer\"></tr>\\n                             \\n                                \\n            \\n            \\n            \\n\\n                \\n             \\n                <tr>                    \\n                    <td class=\"clamp-image-wrap\">\\n                        <a href=\"/game/pc/persona-5-royal\"><img src=\"https://static.metacritic.com/images/products/games/2/c16caf7c23f604f602a45024889fb4a9-98.jpg\" alt=\"Persona 5 Royal\" /></a>\\n\\n                                                                                                </td>\\n\\n                    <td class=\"clamp-summary-wrap\">\\n\\n                        <input type=\"checkbox\" id=\"609422\" class=\"clamp-summary-expand\" />\\n                        <div class=\"clamp-score-wrap\">\\n                                                            \\n\\n        \\n    <a class=\"metascore_anchor\" href=\"/game/pc/persona-5-royal/critic-reviews\">\\n<div class=\"metascore_w large game positive\">95</div>\\n    </a>\\n\\n                                                    </div>\\n\\n                                                    <span class=\"title numbered\">\\n                                                                    57.\\n                                                            </span>\\n                        \\n                        <a href=\"/game/pc/persona-5-royal\" class=\"title\"><h3>Persona 5 Royal</h3></a>\\n\\n                        <div class=\"clamp-details\">\\n                            \\n                            \\n                            \\n                                                            <div class=\"platform\">\\n                                    <span class=\"label\">Platform:</span>\\n                                    <span class=\"data\">\\n                                        PC\\n                                                                            </span>\\n                                </div>\\n                            \\n                            \\n                            <span>October 21, 2022</span>\\n\\n                            \\n                            \\n                        </div>\\n\\n                        <div class=\"summary\">\\n                        Prepare for an all-new RPG experience in Persona 5 Royal based in the universe of the award-winning series, Persona! Don the mask of Joker and join the Phantom Thieves of Hearts. Break free from the chains of modern society and stage grand heists to infiltrate the minds of the corrupt and make them change their ways! Persona 5 Royal is packed with new characters, confidants, story depth, new locations to explore, and a new grappling hook mechanic for stealthy access to new areas. With a new semester at Shujin Academy, get ready to strengthen your abilities in the metaverse and in your daily life. Persona 5 Royal presents a unique visual style and award nominated composer Shoji Meguro returns with an all-new soundtrack. Explore Tokyo, unlock new Personas, customize your own personal Thieves Den, discover a never-before-seen story arc, cutscenes, alternate endings, and more! Even for the most seasoned Phantom Thieves among us, Persona 5 Royal is a new challenge to defy conventions, discover the power within, and fight for justice. Wear the mask. Reveal your truth.\\n                        </div>\\n\\n                        <div class=\"browse-score-clamp\">\\n                            <div class=\"clamp-metascore\">\\n                                <span class=\"title\">Metascore:</span>\\n                                \\n\\n        \\n    <a class=\"metascore_anchor\" href=\"/game/pc/persona-5-royal/critic-reviews\">\\n<div class=\"metascore_w large game positive\">95</div>\\n    </a>\\n\\n                            </div>\\n                            <div class=\"clamp-userscore\">\\n                                <span class=\"title\">User Score:</span>\\n                                        \\n    <a class=\"metascore_anchor\" href=\"/game/pc/persona-5-royal/user-reviews\">\\n<div class=\"metascore_w user large game positive\">8.4</div>\\n    </a>\\n     \\n                            </div>\\n                        </div>\\n\\n                        <i class=\"fa fa-caret-up\" aria-hidden=\"true\"></i>\\n                        <i class=\"fa fa-caret-down\" aria-hidden=\"true\"></i>\\n                        <label for=\"609422\" class=\"clamp-list-expand-label\"></label>\\n                    </td>\\n                </tr>\\n                                    <tr class=\"spacer\"></tr>\\n                             \\n                                \\n            \\n            \\n            \\n\\n                \\n             \\n                <tr>                    \\n                    <td class=\"clamp-image-wrap\">\\n                        <a href=\"/game/game-boy-advance/the-legend-of-zelda-a-link-to-the-past\"><img src=\"https://static.metacritic.com/images/products/games/8/e3de1753570b889cc3f3742191dd6af3-98.jpg\" alt=\"The Legend of Zelda: A Link to the Past\" /></a>\\n\\n                                                                                    <span class=\"mcmust\">\\n                                    <img src=\"/images/icons/mc-mustplay-sm.svg\" />\\n                                </span>\\n                                                                        </td>\\n\\n                    <td class=\"clamp-summary-wrap\">\\n\\n                        <input type=\"checkbox\" id=\"161588\" class=\"clamp-summary-expand\" />\\n                        <div class=\"clamp-score-wrap\">\\n                                                            \\n\\n        \\n    <a class=\"metascore_anchor\" href=\"/game/game-boy-advance/the-legend-of-zelda-a-link-to-the-past/critic-reviews\">\\n<div class=\"metascore_w large game positive\">95</div>\\n    </a>\\n\\n                                                    </div>\\n\\n                                                    <span class=\"title numbered\">\\n                                                                    58.\\n                                                            </span>\\n                        \\n                        <a href=\"/game/game-boy-advance/the-legend-of-zelda-a-link-to-the-past\" class=\"title\"><h3>The Legend of Zelda: A Link to the Past</h3></a>\\n\\n                        <div class=\"clamp-details\">\\n                            \\n                            \\n                            \\n                                                            <div class=\"platform\">\\n                                    <span class=\"label\">Platform:</span>\\n                                    <span class=\"data\">\\n                                        Game Boy Advance\\n                                                                            </span>\\n                                </div>\\n                            \\n                            \\n                            <span>December 3, 2002</span>\\n\\n                            \\n                            \\n                        </div>\\n\\n                        <div class=\"summary\">\\n                        Now you have a link to one of the greatest adventures in The Legend of Zelda series.  The Legend of Zelda: A Link to the Past revives the classic SNES game on the Game Boy Advance and adds a new multiplayer mode.  In a Link to the Past, Link travels between the light world and the dark world, conquering fierce monsters and uncovering Hyrule\\'s deepest secrets along the way.  Also included is Four Swords, which lets you play with up to three other players, slashing through dungeons and collecting rupees.  Whether you choose solo or competitive play, The Legend of Zelda will keep you occupied with its brain-bending puzzles and fun swashbuckling action.\\n                        </div>\\n\\n                        <div class=\"browse-score-clamp\">\\n                            <div class=\"clamp-metascore\">\\n                                <span class=\"title\">Metascore:</span>\\n                                \\n\\n        \\n    <a class=\"metascore_anchor\" href=\"/game/game-boy-advance/the-legend-of-zelda-a-link-to-the-past/critic-reviews\">\\n<div class=\"metascore_w large game positive\">95</div>\\n    </a>\\n\\n                            </div>\\n                            <div class=\"clamp-userscore\">\\n                                <span class=\"title\">User Score:</span>\\n                                        \\n    <a class=\"metascore_anchor\" href=\"/game/game-boy-advance/the-legend-of-zelda-a-link-to-the-past/user-reviews\">\\n<div class=\"metascore_w user large game positive\">9.0</div>\\n    </a>\\n     \\n                            </div>\\n                        </div>\\n\\n                        <i class=\"fa fa-caret-up\" aria-hidden=\"true\"></i>\\n                        <i class=\"fa fa-caret-down\" aria-hidden=\"true\"></i>\\n                        <label for=\"161588\" class=\"clamp-list-expand-label\"></label>\\n                    </td>\\n                </tr>\\n                                    <tr class=\"spacer\"></tr>\\n                             \\n                                \\n            \\n            \\n            \\n\\n                \\n             \\n                <tr>                    \\n                    <td class=\"clamp-image-wrap\">\\n                        <a href=\"/game/nintendo-64/the-legend-of-zelda-majoras-mask\"><img src=\"https://static.metacritic.com/images/products/games/1/d3ab93207df2def4a5d7f60a3a16a35c-98.jpg\" alt=\"The Legend of Zelda: Majora\\'s Mask\" /></a>\\n\\n                                                                                    <span class=\"mcmust\">\\n                                    <img src=\"/images/icons/mc-mustplay-sm.svg\" />\\n                                </span>\\n                                                                        </td>\\n\\n                    <td class=\"clamp-summary-wrap\">\\n\\n                        <input type=\"checkbox\" id=\"160691\" class=\"clamp-summary-expand\" />\\n                        <div class=\"clamp-score-wrap\">\\n                                                            \\n\\n        \\n    <a class=\"metascore_anchor\" href=\"/game/nintendo-64/the-legend-of-zelda-majoras-mask/critic-reviews\">\\n<div class=\"metascore_w large game positive\">95</div>\\n    </a>\\n\\n                                                    </div>\\n\\n                                                    <span class=\"title numbered\">\\n                                                                    59.\\n                                                            </span>\\n                        \\n                        <a href=\"/game/nintendo-64/the-legend-of-zelda-majoras-mask\" class=\"title\"><h3>The Legend of Zelda: Majora\\'s Mask</h3></a>\\n\\n                        <div class=\"clamp-details\">\\n                            \\n                            \\n                            \\n                                                            <div class=\"platform\">\\n                                    <span class=\"label\">Platform:</span>\\n                                    <span class=\"data\">\\n                                        Nintendo 64\\n                                                                            </span>\\n                                </div>\\n                            \\n                            \\n                            <span>October 25, 2000</span>\\n\\n                            \\n                            \\n                        </div>\\n\\n                        <div class=\"summary\">\\n                        Thrown into a parallel world by the mischievous actions of a possessed Skull Kid, Link finds a land in grave danger. The dark power of a relic called Majora\\'s Mask has wreaked havoc on the citizens of Termina, but their most urgent problem is a suicidal moon crashing toward the world. Link has only 72 hours to find a way to stop its descent.\\n                        </div>\\n\\n                        <div class=\"browse-score-clamp\">\\n                            <div class=\"clamp-metascore\">\\n                                <span class=\"title\">Metascore:</span>\\n                                \\n\\n        \\n    <a class=\"metascore_anchor\" href=\"/game/nintendo-64/the-legend-of-zelda-majoras-mask/critic-reviews\">\\n<div class=\"metascore_w large game positive\">95</div>\\n    </a>\\n\\n                            </div>\\n                            <div class=\"clamp-userscore\">\\n                                <span class=\"title\">User Score:</span>\\n                                        \\n    <a class=\"metascore_anchor\" href=\"/game/nintendo-64/the-legend-of-zelda-majoras-mask/user-reviews\">\\n<div class=\"metascore_w user large game positive\">9.1</div>\\n    </a>\\n     \\n                            </div>\\n                        </div>\\n\\n                        <i class=\"fa fa-caret-up\" aria-hidden=\"true\"></i>\\n                        <i class=\"fa fa-caret-down\" aria-hidden=\"true\"></i>\\n                        <label for=\"160691\" class=\"clamp-list-expand-label\"></label>\\n                    </td>\\n                </tr>\\n                                    <tr class=\"spacer\"></tr>\\n                             \\n                                \\n            \\n            \\n            \\n\\n                \\n             \\n                <tr>                    \\n                    <td class=\"clamp-image-wrap\">\\n                        <a href=\"/game/playstation-3/the-last-of-us\"><img src=\"https://static.metacritic.com/images/products/games/9/18523f08edc05b0a344edf5f6e6f49d3-98.jpg\" alt=\"The Last of Us\" /></a>\\n\\n                                                                                    <span class=\"mcmust\">\\n                                    <img src=\"/images/icons/mc-mustplay-sm.svg\" />\\n                                </span>\\n                                                                        </td>\\n\\n                    <td class=\"clamp-summary-wrap\">\\n\\n                        <input type=\"checkbox\" id=\"197529\" class=\"clamp-summary-expand\" />\\n                        <div class=\"clamp-score-wrap\">\\n                                                            \\n\\n        \\n    <a class=\"metascore_anchor\" href=\"/game/playstation-3/the-last-of-us/critic-reviews\">\\n<div class=\"metascore_w large game positive\">95</div>\\n    </a>\\n\\n                                                    </div>\\n\\n                                                    <span class=\"title numbered\">\\n                                                                    60.\\n                                                            </span>\\n                        \\n                        <a href=\"/game/playstation-3/the-last-of-us\" class=\"title\"><h3>The Last of Us</h3></a>\\n\\n                        <div class=\"clamp-details\">\\n                            \\n                            \\n                            \\n                                                            <div class=\"platform\">\\n                                    <span class=\"label\">Platform:</span>\\n                                    <span class=\"data\">\\n                                        PlayStation 3\\n                                                                            </span>\\n                                </div>\\n                            \\n                            \\n                            <span>June 14, 2013</span>\\n\\n                            \\n                            \\n                        </div>\\n\\n                        <div class=\"summary\">\\n                        Twenty years after a pandemic radically transformed known civilization, infected humans run amuck and survivors kill one another for sustenance and weapons - literally whatever they can get their hands on. Joel, a salty survivor, is hired to smuggle a fourteen-year-old girl, Ellie, out of a rough military quarantine, but what begins as a simple job quickly turns into a brutal journey across the country.\\n                        </div>\\n\\n                        <div class=\"browse-score-clamp\">\\n                            <div class=\"clamp-metascore\">\\n                                <span class=\"title\">Metascore:</span>\\n                                \\n\\n        \\n    <a class=\"metascore_anchor\" href=\"/game/playstation-3/the-last-of-us/critic-reviews\">\\n<div class=\"metascore_w large game positive\">95</div>\\n    </a>\\n\\n                            </div>\\n                            <div class=\"clamp-userscore\">\\n                                <span class=\"title\">User Score:</span>\\n                                        \\n    <a class=\"metascore_anchor\" href=\"/game/playstation-3/the-last-of-us/user-reviews\">\\n<div class=\"metascore_w user large game positive\">9.2</div>\\n    </a>\\n     \\n                            </div>\\n                        </div>\\n\\n                        <i class=\"fa fa-caret-up\" aria-hidden=\"true\"></i>\\n                        <i class=\"fa fa-caret-down\" aria-hidden=\"true\"></i>\\n                        <label for=\"197529\" class=\"clamp-list-expand-label\"></label>\\n                    </td>\\n                </tr>\\n                                    <tr class=\"spacer\"></tr>\\n                             \\n                                \\n            \\n            \\n            \\n\\n                \\n             \\n                <tr>                    \\n                    <td class=\"clamp-image-wrap\">\\n                        <a href=\"/game/wii/the-legend-of-zelda-twilight-princess\"><img src=\"https://static.metacritic.com/images/products/games/9/0c945776f87b847d4d322c1e02e5fa95-98.jpg\" alt=\"The Legend of Zelda: Twilight Princess\" /></a>\\n\\n                                                                                    <span class=\"mcmust\">\\n                                    <img src=\"/images/icons/mc-mustplay-sm.svg\" />\\n                                </span>\\n                                                                        </td>\\n\\n                    <td class=\"clamp-summary-wrap\">\\n\\n                        <input type=\"checkbox\" id=\"106819\" class=\"clamp-summary-expand\" />\\n                        <div class=\"clamp-score-wrap\">\\n                                                            \\n\\n        \\n    <a class=\"metascore_anchor\" href=\"/game/wii/the-legend-of-zelda-twilight-princess/critic-reviews\">\\n<div class=\"metascore_w large game positive\">95</div>\\n    </a>\\n\\n                                                    </div>\\n\\n                                                    <span class=\"title numbered\">\\n                                                                    61.\\n                                                            </span>\\n                        \\n                        <a href=\"/game/wii/the-legend-of-zelda-twilight-princess\" class=\"title\"><h3>The Legend of Zelda: Twilight Princess</h3></a>\\n\\n                        <div class=\"clamp-details\">\\n                            \\n                            \\n                            \\n                                                            <div class=\"platform\">\\n                                    <span class=\"label\">Platform:</span>\\n                                    <span class=\"data\">\\n                                        Wii\\n                                                                            </span>\\n                                </div>\\n                            \\n                            \\n                            <span>November 19, 2006</span>\\n\\n                            \\n                            \\n                        </div>\\n\\n                        <div class=\"summary\">\\n                        When an evil darkness enshrouds the land of Hyrule, a young farm boy named Link must awaken the hero - and the animal - within. When Link travels to the Twilight Realm, he transforms into a wolf and must scour the land with the help of a mysterious girl named Midna. Using the power and unique control of the Wii console, The Legend of Zelda: Twilight Princess features precise aiming control using the Wii Remote. The Wii Remote and the Nunchuk controller are used for a variety of game activities, including fishing and special sword attacks. Players ride into battle against troops of foul creatures using an amazing horseback combat system, then take on massive bosses that must be seen to be believed. [Nintendo]\\n                        </div>\\n\\n                        <div class=\"browse-score-clamp\">\\n                            <div class=\"clamp-metascore\">\\n                                <span class=\"title\">Metascore:</span>\\n                                \\n\\n        \\n    <a class=\"metascore_anchor\" href=\"/game/wii/the-legend-of-zelda-twilight-princess/critic-reviews\">\\n<div class=\"metascore_w large game positive\">95</div>\\n    </a>\\n\\n                            </div>\\n                            <div class=\"clamp-userscore\">\\n                                <span class=\"title\">User Score:</span>\\n                                        \\n    <a class=\"metascore_anchor\" href=\"/game/wii/the-legend-of-zelda-twilight-princess/user-reviews\">\\n<div class=\"metascore_w user large game positive\">9.0</div>\\n    </a>\\n     \\n                            </div>\\n                        </div>\\n\\n                        <i class=\"fa fa-caret-up\" aria-hidden=\"true\"></i>\\n                        <i class=\"fa fa-caret-down\" aria-hidden=\"true\"></i>\\n                        <label for=\"106819\" class=\"clamp-list-expand-label\"></label>\\n                    </td>\\n                </tr>\\n                                    <tr class=\"spacer\"></tr>\\n                             \\n                                \\n            \\n            \\n            \\n\\n                \\n             \\n                <tr>                    \\n                    <td class=\"clamp-image-wrap\">\\n                        <a href=\"/game/playstation-2/madden-nfl-2003\"><img src=\"https://static.metacritic.com/images/products/games/4/8db3e5281c1278fa0a62e7feefff0aa6-98.jpg\" alt=\"Madden NFL 2003\" /></a>\\n\\n                                                                                    <span class=\"mcmust\">\\n                                    <img src=\"/images/icons/mc-mustplay-sm.svg\" />\\n                                </span>\\n                                                                        </td>\\n\\n                    <td class=\"clamp-summary-wrap\">\\n\\n                        <input type=\"checkbox\" id=\"102224\" class=\"clamp-summary-expand\" />\\n                        <div class=\"clamp-score-wrap\">\\n                                                            \\n\\n        \\n    <a class=\"metascore_anchor\" href=\"/game/playstation-2/madden-nfl-2003/critic-reviews\">\\n<div class=\"metascore_w large game positive\">95</div>\\n    </a>\\n\\n                                                    </div>\\n\\n                                                    <span class=\"title numbered\">\\n                                                                    62.\\n                                                            </span>\\n                        \\n                        <a href=\"/game/playstation-2/madden-nfl-2003\" class=\"title\"><h3>Madden NFL 2003</h3></a>\\n\\n                        <div class=\"clamp-details\">\\n                            \\n                            \\n                            \\n                                                            <div class=\"platform\">\\n                                    <span class=\"label\">Platform:</span>\\n                                    <span class=\"data\">\\n                                        PlayStation 2\\n                                                                            </span>\\n                                </div>\\n                            \\n                            \\n                            <span>August 12, 2002</span>\\n\\n                            \\n                            \\n                        </div>\\n\\n                        <div class=\"summary\">\\n                        Take Your Game Online: Access an online community where you can meet, chat, and play head-to-head against other gamers. Audio Dream Team: Dynamic play-by-play and analysis by Madden and Michaels. All-New Mini-camp: Hop on John Madden\\'s Cruiser Tour Bus and travel to all NFL cities to complete skilled tasks. Create-A-Playbook: Customize receiver routes, player formations, and your team\\'s entire playbook. Deepest Franchise Mode Ever: Play 30 years of Franchise mode and draft players each season with tips from your scouts. [EA Sports]\\n                        </div>\\n\\n                        <div class=\"browse-score-clamp\">\\n                            <div class=\"clamp-metascore\">\\n                                <span class=\"title\">Metascore:</span>\\n                                \\n\\n        \\n    <a class=\"metascore_anchor\" href=\"/game/playstation-2/madden-nfl-2003/critic-reviews\">\\n<div class=\"metascore_w large game positive\">95</div>\\n    </a>\\n\\n                            </div>\\n                            <div class=\"clamp-userscore\">\\n                                <span class=\"title\">User Score:</span>\\n                                        \\n    <a class=\"metascore_anchor\" href=\"/game/playstation-2/madden-nfl-2003/user-reviews\">\\n<div class=\"metascore_w user large game positive\">7.6</div>\\n    </a>\\n     \\n                            </div>\\n                        </div>\\n\\n                        <i class=\"fa fa-caret-up\" aria-hidden=\"true\"></i>\\n                        <i class=\"fa fa-caret-down\" aria-hidden=\"true\"></i>\\n                        <label for=\"102224\" class=\"clamp-list-expand-label\"></label>\\n                    </td>\\n                </tr>\\n                                    <tr class=\"spacer\"></tr>\\n                             \\n                                \\n            \\n            \\n            \\n\\n                \\n             \\n                <tr>                    \\n                    <td class=\"clamp-image-wrap\">\\n                        <a href=\"/game/game-boy-advance/tony-hawks-pro-skater-2\"><img src=\"https://static.metacritic.com/images/products/games/8/46d1467ea09a779ef6500471e7a11c38-98.jpg\" alt=\"Tony Hawk\\'s Pro Skater 2\" /></a>\\n\\n                                                                                    <span class=\"mcmust\">\\n                                    <img src=\"/images/icons/mc-mustplay-sm.svg\" />\\n                                </span>\\n                                                                        </td>\\n\\n                    <td class=\"clamp-summary-wrap\">\\n\\n                        <input type=\"checkbox\" id=\"161008\" class=\"clamp-summary-expand\" />\\n                        <div class=\"clamp-score-wrap\">\\n                                                            \\n\\n        \\n    <a class=\"metascore_anchor\" href=\"/game/game-boy-advance/tony-hawks-pro-skater-2/critic-reviews\">\\n<div class=\"metascore_w large game positive\">95</div>\\n    </a>\\n\\n                                                    </div>\\n\\n                                                    <span class=\"title numbered\">\\n                                                                    63.\\n                                                            </span>\\n                        \\n                        <a href=\"/game/game-boy-advance/tony-hawks-pro-skater-2\" class=\"title\"><h3>Tony Hawk\\'s Pro Skater 2</h3></a>\\n\\n                        <div class=\"clamp-details\">\\n                            \\n                            \\n                            \\n                                                            <div class=\"platform\">\\n                                    <span class=\"label\">Platform:</span>\\n                                    <span class=\"data\">\\n                                        Game Boy Advance\\n                                                                            </span>\\n                                </div>\\n                            \\n                            \\n                            <span>May 30, 2001</span>\\n\\n                            \\n                            \\n                        </div>\\n\\n                        <div class=\"summary\">\\n                        Hawks back, in the worlds first 3D handheld skating game, and hes brought new pros (Caballero, Koston, Mullen), New tricks (Bluntsides, BS/FS Nose-and Tailsides, Heelflip Varials, Airwalks, and more), and new terrain (Insane street and vert levels) Tony Hawks Pro Skater 2 for Game Boy Advance. Get your hands on a legend.\\n                        </div>\\n\\n                        <div class=\"browse-score-clamp\">\\n                            <div class=\"clamp-metascore\">\\n                                <span class=\"title\">Metascore:</span>\\n                                \\n\\n        \\n    <a class=\"metascore_anchor\" href=\"/game/game-boy-advance/tony-hawks-pro-skater-2/critic-reviews\">\\n<div class=\"metascore_w large game positive\">95</div>\\n    </a>\\n\\n                            </div>\\n                            <div class=\"clamp-userscore\">\\n                                <span class=\"title\">User Score:</span>\\n                                        \\n    <a class=\"metascore_anchor\" href=\"/game/game-boy-advance/tony-hawks-pro-skater-2/user-reviews\">\\n<div class=\"metascore_w user large game mixed\">6.8</div>\\n    </a>\\n     \\n                            </div>\\n                        </div>\\n\\n                        <i class=\"fa fa-caret-up\" aria-hidden=\"true\"></i>\\n                        <i class=\"fa fa-caret-down\" aria-hidden=\"true\"></i>\\n                        <label for=\"161008\" class=\"clamp-list-expand-label\"></label>\\n                    </td>\\n                </tr>\\n                                    <tr class=\"spacer\"></tr>\\n                             \\n                                \\n            \\n            \\n            \\n\\n                \\n             \\n                <tr>                    \\n                    <td class=\"clamp-image-wrap\">\\n                        <a href=\"/game/playstation-4/persona-5-royal\"><img src=\"https://static.metacritic.com/images/products/games/2/1d340c792338fa16de96bd8b60d3cab5-98.jpg\" alt=\"Persona 5 Royal\" /></a>\\n\\n                                                                                    <span class=\"mcmust\">\\n                                    <img src=\"/images/icons/mc-mustplay-sm.svg\" />\\n                                </span>\\n                                                                        </td>\\n\\n                    <td class=\"clamp-summary-wrap\">\\n\\n                        <input type=\"checkbox\" id=\"541442\" class=\"clamp-summary-expand\" />\\n                        <div class=\"clamp-score-wrap\">\\n                                                            \\n\\n        \\n    <a class=\"metascore_anchor\" href=\"/game/playstation-4/persona-5-royal/critic-reviews\">\\n<div class=\"metascore_w large game positive\">95</div>\\n    </a>\\n\\n                                                    </div>\\n\\n                                                    <span class=\"title numbered\">\\n                                                                    64.\\n                                                            </span>\\n                        \\n                        <a href=\"/game/playstation-4/persona-5-royal\" class=\"title\"><h3>Persona 5 Royal</h3></a>\\n\\n                        <div class=\"clamp-details\">\\n                            \\n                            \\n                            \\n                                                            <div class=\"platform\">\\n                                    <span class=\"label\">Platform:</span>\\n                                    <span class=\"data\">\\n                                        PlayStation 4\\n                                                                            </span>\\n                                </div>\\n                            \\n                            \\n                            <span>March 31, 2020</span>\\n\\n                            \\n                            \\n                        </div>\\n\\n                        <div class=\"summary\">\\n                        Prepare for an all-new RPG experience in Persona 5 Royal based in the universe of the award-winning series, Persona! Don the mask of Joker and join the Phantom Thieves of Hearts. Break free from the chains of modern society and stage grand heists to infiltrate the minds of the corrupt and make them change their ways! Persona 5 Royal is packed with new characters, confidants, story depth, new locations to explore, and a new grappling hook mechanic for stealthy access to new areas. With a new semester at Shujin Academy, get ready to strengthen your abilities in the metaverse and in your daily life. Persona 5 Royal presents a unique visual style and award nominated composer Shoji Meguro returns with an all-new soundtrack. Explore Tokyo, unlock new Personas, customize your own personal Thieves Den, discover a never-before-seen story arc, cutscenes, alternate endings, and more! Even for the most seasoned Phantom Thieves among us, Persona 5 Royal is a new challenge to defy conventions, discover the power within, and fight for justice. Wear the mask. Reveal your truth.\\n                        </div>\\n\\n                        <div class=\"browse-score-clamp\">\\n                            <div class=\"clamp-metascore\">\\n                                <span class=\"title\">Metascore:</span>\\n                                \\n\\n        \\n    <a class=\"metascore_anchor\" href=\"/game/playstation-4/persona-5-royal/critic-reviews\">\\n<div class=\"metascore_w large game positive\">95</div>\\n    </a>\\n\\n                            </div>\\n                            <div class=\"clamp-userscore\">\\n                                <span class=\"title\">User Score:</span>\\n                                        \\n    <a class=\"metascore_anchor\" href=\"/game/playstation-4/persona-5-royal/user-reviews\">\\n<div class=\"metascore_w user large game positive\">8.5</div>\\n    </a>\\n     \\n                            </div>\\n                        </div>\\n\\n                        <i class=\"fa fa-caret-up\" aria-hidden=\"true\"></i>\\n                        <i class=\"fa fa-caret-down\" aria-hidden=\"true\"></i>\\n                        <label for=\"541442\" class=\"clamp-list-expand-label\"></label>\\n                    </td>\\n                </tr>\\n                                    <tr class=\"spacer\"></tr>\\n                             \\n                                \\n            \\n            \\n            \\n\\n                \\n             \\n                <tr>                    \\n                    <td class=\"clamp-image-wrap\">\\n                        <a href=\"/game/playstation-4/the-last-of-us-remastered\"><img src=\"https://static.metacritic.com/images/products/games/6/dcb5d2f7d2f23d0d4aa8fd809af6b12e-98.jpg\" alt=\"The Last of Us Remastered\" /></a>\\n\\n                                                                                    <span class=\"mcmust\">\\n                                    <img src=\"/images/icons/mc-mustplay-sm.svg\" />\\n                                </span>\\n                                                                        </td>\\n\\n                    <td class=\"clamp-summary-wrap\">\\n\\n                        <input type=\"checkbox\" id=\"305096\" class=\"clamp-summary-expand\" />\\n                        <div class=\"clamp-score-wrap\">\\n                                                            \\n\\n        \\n    <a class=\"metascore_anchor\" href=\"/game/playstation-4/the-last-of-us-remastered/critic-reviews\">\\n<div class=\"metascore_w large game positive\">95</div>\\n    </a>\\n\\n                                                    </div>\\n\\n                                                    <span class=\"title numbered\">\\n                                                                    65.\\n                                                            </span>\\n                        \\n                        <a href=\"/game/playstation-4/the-last-of-us-remastered\" class=\"title\"><h3>The Last of Us Remastered</h3></a>\\n\\n                        <div class=\"clamp-details\">\\n                            \\n                            \\n                            \\n                                                            <div class=\"platform\">\\n                                    <span class=\"label\">Platform:</span>\\n                                    <span class=\"data\">\\n                                        PlayStation 4\\n                                                                            </span>\\n                                </div>\\n                            \\n                            \\n                            <span>July 29, 2014</span>\\n\\n                            \\n                            \\n                        </div>\\n\\n                        <div class=\"summary\">\\n                        The Last of Us has been rebuilt for the PlayStation4 system. Now featuring full 1080p, higher resolution character models, improved shadows and lighting, in addition to several other gameplay improvements. 20 years after a pandemic has radically changed known civilization, infected humans run wild and survivors are killing each other for food, weapons; whatever they can get their hands on. Joel, a violent survivor, is hired to smuggle a 14 year-old girl, Ellie, out of an oppressive military quarantine zone, but what starts as a small job soon transforms into a brutal journey across the U.S. The Last of Us Remastered includes the Abandoned Territories Map Pack, Reclaimed Territories Map Pack, and the critically acclaimed The Last of Us: Left Behind Single Player campaign that combines themes of survival, loyalty, and love with tense, survival-action gameplay.\\r\\n\\r\\nRemastered Features:\\r\\n-Explore a brutal post-pandemic world, fully realized with the power of PlayStation4 system\\r\\n-Includes additional game content: over $30 in value\\r\\n-Delve into Ellies past in Left Behind, the single-player prequel chapter\\r\\n-Eight new multiplayer maps in the Abandoned and Reclaimed Territories packs\\r\\n-In-game cinematic commentary from the cast and creative director\\n                        </div>\\n\\n                        <div class=\"browse-score-clamp\">\\n                            <div class=\"clamp-metascore\">\\n                                <span class=\"title\">Metascore:</span>\\n                                \\n\\n        \\n    <a class=\"metascore_anchor\" href=\"/game/playstation-4/the-last-of-us-remastered/critic-reviews\">\\n<div class=\"metascore_w large game positive\">95</div>\\n    </a>\\n\\n                            </div>\\n                            <div class=\"clamp-userscore\">\\n                                <span class=\"title\">User Score:</span>\\n                                        \\n    <a class=\"metascore_anchor\" href=\"/game/playstation-4/the-last-of-us-remastered/user-reviews\">\\n<div class=\"metascore_w user large game positive\">9.2</div>\\n    </a>\\n     \\n                            </div>\\n                        </div>\\n\\n                        <i class=\"fa fa-caret-up\" aria-hidden=\"true\"></i>\\n                        <i class=\"fa fa-caret-down\" aria-hidden=\"true\"></i>\\n                        <label for=\"305096\" class=\"clamp-list-expand-label\"></label>\\n                    </td>\\n                </tr>\\n                                    <tr class=\"spacer\"></tr>\\n                             \\n                                \\n            \\n            \\n            \\n\\n                \\n             \\n                <tr>                    \\n                    <td class=\"clamp-image-wrap\">\\n                        <a href=\"/game/pc/portal-2\"><img src=\"https://static.metacritic.com/images/products/games/8/8ebc9aa5758d569f33e543d9fb629545-98.jpg\" alt=\"Portal 2\" /></a>\\n\\n                                                                                    <span class=\"mcmust\">\\n                                    <img src=\"/images/icons/mc-mustplay-sm.svg\" />\\n                                </span>\\n                                                                        </td>\\n\\n                    <td class=\"clamp-summary-wrap\">\\n\\n                        <input type=\"checkbox\" id=\"142928\" class=\"clamp-summary-expand\" />\\n                        <div class=\"clamp-score-wrap\">\\n                                                            \\n\\n        \\n    <a class=\"metascore_anchor\" href=\"/game/pc/portal-2/critic-reviews\">\\n<div class=\"metascore_w large game positive\">95</div>\\n    </a>\\n\\n                                                    </div>\\n\\n                                                    <span class=\"title numbered\">\\n                                                                    66.\\n                                                            </span>\\n                        \\n                        <a href=\"/game/pc/portal-2\" class=\"title\"><h3>Portal 2</h3></a>\\n\\n                        <div class=\"clamp-details\">\\n                            \\n                            \\n                            \\n                                                            <div class=\"platform\">\\n                                    <span class=\"label\">Platform:</span>\\n                                    <span class=\"data\">\\n                                        PC\\n                                                                            </span>\\n                                </div>\\n                            \\n                            \\n                            <span>April 18, 2011</span>\\n\\n                            \\n                            \\n                        </div>\\n\\n                        <div class=\"summary\">\\n                        Valve is working on a full-length sequel to its award-winning, mind-bending puzzle action game for the Xbox 360 and PC.\\n                        </div>\\n\\n                        <div class=\"browse-score-clamp\">\\n                            <div class=\"clamp-metascore\">\\n                                <span class=\"title\">Metascore:</span>\\n                                \\n\\n        \\n    <a class=\"metascore_anchor\" href=\"/game/pc/portal-2/critic-reviews\">\\n<div class=\"metascore_w large game positive\">95</div>\\n    </a>\\n\\n                            </div>\\n                            <div class=\"clamp-userscore\">\\n                                <span class=\"title\">User Score:</span>\\n                                        \\n    <a class=\"metascore_anchor\" href=\"/game/pc/portal-2/user-reviews\">\\n<div class=\"metascore_w user large game positive\">9.1</div>\\n    </a>\\n     \\n                            </div>\\n                        </div>\\n\\n                        <i class=\"fa fa-caret-up\" aria-hidden=\"true\"></i>\\n                        <i class=\"fa fa-caret-down\" aria-hidden=\"true\"></i>\\n                        <label for=\"142928\" class=\"clamp-list-expand-label\"></label>\\n                    </td>\\n                </tr>\\n                                    <tr class=\"spacer\"></tr>\\n                             \\n                                \\n            \\n            \\n            \\n\\n                \\n             \\n                <tr>                    \\n                    <td class=\"clamp-image-wrap\">\\n                        <a href=\"/game/xbox-360/red-dead-redemption\"><img src=\"https://static.metacritic.com/images/products/games/1/1aba85e322bb75caf4fcc3f15528963e-98.jpg\" alt=\"Red Dead Redemption\" /></a>\\n\\n                                                                                    <span class=\"mcmust\">\\n                                    <img src=\"/images/icons/mc-mustplay-sm.svg\" />\\n                                </span>\\n                                                                        </td>\\n\\n                    <td class=\"clamp-summary-wrap\">\\n\\n                        <input type=\"checkbox\" id=\"114021\" class=\"clamp-summary-expand\" />\\n                        <div class=\"clamp-score-wrap\">\\n                                                            \\n\\n        \\n    <a class=\"metascore_anchor\" href=\"/game/xbox-360/red-dead-redemption/critic-reviews\">\\n<div class=\"metascore_w large game positive\">95</div>\\n    </a>\\n\\n                                                    </div>\\n\\n                                                    <span class=\"title numbered\">\\n                                                                    67.\\n                                                            </span>\\n                        \\n                        <a href=\"/game/xbox-360/red-dead-redemption\" class=\"title\"><h3>Red Dead Redemption</h3></a>\\n\\n                        <div class=\"clamp-details\">\\n                            \\n                            \\n                            \\n                                                            <div class=\"platform\">\\n                                    <span class=\"label\">Platform:</span>\\n                                    <span class=\"data\">\\n                                        Xbox 360\\n                                                                            </span>\\n                                </div>\\n                            \\n                            \\n                            <span>May 18, 2010</span>\\n\\n                            \\n                            \\n                        </div>\\n\\n                        <div class=\"summary\">\\n                        Developed by Rockstar San Diego, as a follow up to the 2004 hit game Red Dead Revolver, Red Dead Redemption is a Western epic, set at the turn of the 20th century when the lawless and chaotic badlands began to give way to the expanding reach of government and the spread of the Industrial Age.  The story of former outlaw, John Marston, Red Dead Redemption takes players on a great adventure across the American frontier. Utilizing Rockstar\\'s proprietary Rockstar Advanced Game Engine (RAGE), Red Dead Redemption features an open-world environment for players to explore, including frontier towns, rolling prairies teeming with wildlife, and perilous mountain passes - each packed with an endless flow of varied distractions. Along the way, players experience the heat of gunfights and battles, meet a host of unique characters, struggle against the harshness of one of the world’s last remaining wildernesses, and ultimately pick their own precarious path through an epic story about the death of the Wild West and the gunslingers that inhabited it. [Rockstar Games]\\n                        </div>\\n\\n                        <div class=\"browse-score-clamp\">\\n                            <div class=\"clamp-metascore\">\\n                                <span class=\"title\">Metascore:</span>\\n                                \\n\\n        \\n    <a class=\"metascore_anchor\" href=\"/game/xbox-360/red-dead-redemption/critic-reviews\">\\n<div class=\"metascore_w large game positive\">95</div>\\n    </a>\\n\\n                            </div>\\n                            <div class=\"clamp-userscore\">\\n                                <span class=\"title\">User Score:</span>\\n                                        \\n    <a class=\"metascore_anchor\" href=\"/game/xbox-360/red-dead-redemption/user-reviews\">\\n<div class=\"metascore_w user large game positive\">9.0</div>\\n    </a>\\n     \\n                            </div>\\n                        </div>\\n\\n                        <i class=\"fa fa-caret-up\" aria-hidden=\"true\"></i>\\n                        <i class=\"fa fa-caret-down\" aria-hidden=\"true\"></i>\\n                        <label for=\"114021\" class=\"clamp-list-expand-label\"></label>\\n                    </td>\\n                </tr>\\n                                    <tr class=\"spacer\"></tr>\\n                             \\n                                \\n            \\n            \\n            \\n\\n                \\n             \\n                <tr>                    \\n                    <td class=\"clamp-image-wrap\">\\n                        <a href=\"/game/switch/metroid-prime-remastered\"><img src=\"https://static.metacritic.com/images/products/games/8/95d20ca71b70da978acda0a572ea82a1-98.jpg\" alt=\"Metroid Prime Remastered\" /></a>\\n\\n                                                                                    <span class=\"mcmust\">\\n                                    <img src=\"/images/icons/mc-mustplay-sm.svg\" />\\n                                </span>\\n                                                                        </td>\\n\\n                    <td class=\"clamp-summary-wrap\">\\n\\n                        <input type=\"checkbox\" id=\"627128\" class=\"clamp-summary-expand\" />\\n                        <div class=\"clamp-score-wrap\">\\n                                                            \\n\\n        \\n    <a class=\"metascore_anchor\" href=\"/game/switch/metroid-prime-remastered/critic-reviews\">\\n<div class=\"metascore_w large game positive\">95</div>\\n    </a>\\n\\n                                                    </div>\\n\\n                                                    <span class=\"title numbered\">\\n                                                                    68.\\n                                                            </span>\\n                        \\n                        <a href=\"/game/switch/metroid-prime-remastered\" class=\"title\"><h3>Metroid Prime Remastered</h3></a>\\n\\n                        <div class=\"clamp-details\">\\n                            \\n                            \\n                            \\n                                                            <div class=\"platform\">\\n                                    <span class=\"label\">Platform:</span>\\n                                    <span class=\"data\">\\n                                        Switch\\n                                                                            </span>\\n                                </div>\\n                            \\n                            \\n                            <span>February 8, 2023</span>\\n\\n                            \\n                            \\n                        </div>\\n\\n                        <div class=\"summary\">\\n                        Intergalactic bounty hunter Samus Aran receives a distress signal from a wrecked frigate in orbit around planet Tallon IV. Upon investigation, the frigate reveals itself to be a Space Pirate research vessel home to terrifying genetic experiments using the mysterious Phazon substance. There, Samus encounters her nemesis, Meta Ridley, whom she pursues to the surface of Tallon IV. It\\'s up to her alone to explore the planet\\'s interconnected regions, investigate its dark secrets, and end the intergalactic threat posed by Phazon.\\r\\n\\r\\nExperience this critically acclaimed first-person adventure like never before with remastered visuals, audio, controls, and more.\\n                        </div>\\n\\n                        <div class=\"browse-score-clamp\">\\n                            <div class=\"clamp-metascore\">\\n                                <span class=\"title\">Metascore:</span>\\n                                \\n\\n        \\n    <a class=\"metascore_anchor\" href=\"/game/switch/metroid-prime-remastered/critic-reviews\">\\n<div class=\"metascore_w large game positive\">95</div>\\n    </a>\\n\\n                            </div>\\n                            <div class=\"clamp-userscore\">\\n                                <span class=\"title\">User Score:</span>\\n                                        \\n    <a class=\"metascore_anchor\" href=\"/game/switch/metroid-prime-remastered/user-reviews\">\\n<div class=\"metascore_w user large game positive\">8.8</div>\\n    </a>\\n     \\n                            </div>\\n                        </div>\\n\\n                        <i class=\"fa fa-caret-up\" aria-hidden=\"true\"></i>\\n                        <i class=\"fa fa-caret-down\" aria-hidden=\"true\"></i>\\n                        <label for=\"627128\" class=\"clamp-list-expand-label\"></label>\\n                    </td>\\n                </tr>\\n                                    <tr class=\"spacer\"></tr>\\n                             \\n                                \\n            \\n            \\n            \\n\\n                \\n             \\n                <tr>                    \\n                    <td class=\"clamp-image-wrap\">\\n                        <a href=\"/game/xbox-360/portal-2\"><img src=\"https://static.metacritic.com/images/products/games/9/79841223c9df97d146152dab6ad135ec-98.jpg\" alt=\"Portal 2\" /></a>\\n\\n                                                                                    <span class=\"mcmust\">\\n                                    <img src=\"/images/icons/mc-mustplay-sm.svg\" />\\n                                </span>\\n                                                                        </td>\\n\\n                    <td class=\"clamp-summary-wrap\">\\n\\n                        <input type=\"checkbox\" id=\"142929\" class=\"clamp-summary-expand\" />\\n                        <div class=\"clamp-score-wrap\">\\n                                                            \\n\\n        \\n    <a class=\"metascore_anchor\" href=\"/game/xbox-360/portal-2/critic-reviews\">\\n<div class=\"metascore_w large game positive\">95</div>\\n    </a>\\n\\n                                                    </div>\\n\\n                                                    <span class=\"title numbered\">\\n                                                                    69.\\n                                                            </span>\\n                        \\n                        <a href=\"/game/xbox-360/portal-2\" class=\"title\"><h3>Portal 2</h3></a>\\n\\n                        <div class=\"clamp-details\">\\n                            \\n                            \\n                            \\n                                                            <div class=\"platform\">\\n                                    <span class=\"label\">Platform:</span>\\n                                    <span class=\"data\">\\n                                        Xbox 360\\n                                                                            </span>\\n                                </div>\\n                            \\n                            \\n                            <span>April 19, 2011</span>\\n\\n                            \\n                            \\n                        </div>\\n\\n                        <div class=\"summary\">\\n                        Valve is working on a full-length sequel to its award-winning, mind-bending puzzle action game for the Xbox 360 and PC.\\n                        </div>\\n\\n                        <div class=\"browse-score-clamp\">\\n                            <div class=\"clamp-metascore\">\\n                                <span class=\"title\">Metascore:</span>\\n                                \\n\\n        \\n    <a class=\"metascore_anchor\" href=\"/game/xbox-360/portal-2/critic-reviews\">\\n<div class=\"metascore_w large game positive\">95</div>\\n    </a>\\n\\n                            </div>\\n                            <div class=\"clamp-userscore\">\\n                                <span class=\"title\">User Score:</span>\\n                                        \\n    <a class=\"metascore_anchor\" href=\"/game/xbox-360/portal-2/user-reviews\">\\n<div class=\"metascore_w user large game positive\">8.8</div>\\n    </a>\\n     \\n                            </div>\\n                        </div>\\n\\n                        <i class=\"fa fa-caret-up\" aria-hidden=\"true\"></i>\\n                        <i class=\"fa fa-caret-down\" aria-hidden=\"true\"></i>\\n                        <label for=\"142929\" class=\"clamp-list-expand-label\"></label>\\n                    </td>\\n                </tr>\\n                                    <tr class=\"spacer\"></tr>\\n                             \\n                                \\n            \\n            \\n            \\n\\n                \\n             \\n                <tr>                    \\n                    <td class=\"clamp-image-wrap\">\\n                        <a href=\"/game/xbox-one/metal-gear-solid-v-the-phantom-pain\"><img src=\"https://static.metacritic.com/images/products/games/6/b6604eade078dd9167f2ed683a00fb62-98.jpg\" alt=\"Metal Gear Solid V: The Phantom Pain\" /></a>\\n\\n                                                                                                </td>\\n\\n                    <td class=\"clamp-summary-wrap\">\\n\\n                        <input type=\"checkbox\" id=\"245226\" class=\"clamp-summary-expand\" />\\n                        <div class=\"clamp-score-wrap\">\\n                                                            \\n\\n        \\n    <a class=\"metascore_anchor\" href=\"/game/xbox-one/metal-gear-solid-v-the-phantom-pain/critic-reviews\">\\n<div class=\"metascore_w large game positive\">95</div>\\n    </a>\\n\\n                                                    </div>\\n\\n                                                    <span class=\"title numbered\">\\n                                                                    70.\\n                                                            </span>\\n                        \\n                        <a href=\"/game/xbox-one/metal-gear-solid-v-the-phantom-pain\" class=\"title\"><h3>Metal Gear Solid V: The Phantom Pain</h3></a>\\n\\n                        <div class=\"clamp-details\">\\n                            \\n                            \\n                            \\n                                                            <div class=\"platform\">\\n                                    <span class=\"label\">Platform:</span>\\n                                    <span class=\"data\">\\n                                        Xbox One\\n                                                                            </span>\\n                                </div>\\n                            \\n                            \\n                            <span>September 1, 2015</span>\\n\\n                            \\n                            \\n                        </div>\\n\\n                        <div class=\"summary\">\\n                        Following the prologue METAL GEAR SOLID V: GROUND ZEROES, METAL GEAR SOLID V: THE PHANTOM PAIN concludes the METAL GEAR SOLID V experience by following the story of the protagonist of the series, Big Boss (a.k.a. Snake). The METAL GEAR SOLID V experience is Creator and Director Hideo Kojima\\'s first time incorporating open world gameplay to the groundbreaking METAL GEAR franchise.\\n                        </div>\\n\\n                        <div class=\"browse-score-clamp\">\\n                            <div class=\"clamp-metascore\">\\n                                <span class=\"title\">Metascore:</span>\\n                                \\n\\n        \\n    <a class=\"metascore_anchor\" href=\"/game/xbox-one/metal-gear-solid-v-the-phantom-pain/critic-reviews\">\\n<div class=\"metascore_w large game positive\">95</div>\\n    </a>\\n\\n                            </div>\\n                            <div class=\"clamp-userscore\">\\n                                <span class=\"title\">User Score:</span>\\n                                        \\n    <a class=\"metascore_anchor\" href=\"/game/xbox-one/metal-gear-solid-v-the-phantom-pain/user-reviews\">\\n<div class=\"metascore_w user large game positive\">7.6</div>\\n    </a>\\n     \\n                            </div>\\n                        </div>\\n\\n                        <i class=\"fa fa-caret-up\" aria-hidden=\"true\"></i>\\n                        <i class=\"fa fa-caret-down\" aria-hidden=\"true\"></i>\\n                        <label for=\"245226\" class=\"clamp-list-expand-label\"></label>\\n                    </td>\\n                </tr>\\n                                    <tr class=\"spacer\"></tr>\\n                             \\n                                \\n            \\n            \\n            \\n\\n                \\n             \\n                <tr>                    \\n                    <td class=\"clamp-image-wrap\">\\n                        <a href=\"/game/playstation-3/portal-2\"><img src=\"https://static.metacritic.com/images/products/games/0/882c6aa262652fa072560624e0d9d96b-98.jpg\" alt=\"Portal 2\" /></a>\\n\\n                                                                                    <span class=\"mcmust\">\\n                                    <img src=\"/images/icons/mc-mustplay-sm.svg\" />\\n                                </span>\\n                                                                        </td>\\n\\n                    <td class=\"clamp-summary-wrap\">\\n\\n                        <input type=\"checkbox\" id=\"151320\" class=\"clamp-summary-expand\" />\\n                        <div class=\"clamp-score-wrap\">\\n                                                            \\n\\n        \\n    <a class=\"metascore_anchor\" href=\"/game/playstation-3/portal-2/critic-reviews\">\\n<div class=\"metascore_w large game positive\">95</div>\\n    </a>\\n\\n                                                    </div>\\n\\n                                                    <span class=\"title numbered\">\\n                                                                    71.\\n                                                            </span>\\n                        \\n                        <a href=\"/game/playstation-3/portal-2\" class=\"title\"><h3>Portal 2</h3></a>\\n\\n                        <div class=\"clamp-details\">\\n                            \\n                            \\n                            \\n                                                            <div class=\"platform\">\\n                                    <span class=\"label\">Platform:</span>\\n                                    <span class=\"data\">\\n                                        PlayStation 3\\n                                                                            </span>\\n                                </div>\\n                            \\n                            \\n                            <span>April 19, 2011</span>\\n\\n                            \\n                            \\n                        </div>\\n\\n                        <div class=\"summary\">\\n                        Portal 2 is the sequel to the title named &quot;Game of the Year&quot; 2007 by over 30 publications around the world. Portal 2 promises to break new ground in next generation gaming by expanding the award-winning recipe of innovative gameplay, immersive story, and creative inclusion of music while also introducing multiplayer co-op game modes. \\n                        </div>\\n\\n                        <div class=\"browse-score-clamp\">\\n                            <div class=\"clamp-metascore\">\\n                                <span class=\"title\">Metascore:</span>\\n                                \\n\\n        \\n    <a class=\"metascore_anchor\" href=\"/game/playstation-3/portal-2/critic-reviews\">\\n<div class=\"metascore_w large game positive\">95</div>\\n    </a>\\n\\n                            </div>\\n                            <div class=\"clamp-userscore\">\\n                                <span class=\"title\">User Score:</span>\\n                                        \\n    <a class=\"metascore_anchor\" href=\"/game/playstation-3/portal-2/user-reviews\">\\n<div class=\"metascore_w user large game positive\">8.7</div>\\n    </a>\\n     \\n                            </div>\\n                        </div>\\n\\n                        <i class=\"fa fa-caret-up\" aria-hidden=\"true\"></i>\\n                        <i class=\"fa fa-caret-down\" aria-hidden=\"true\"></i>\\n                        <label for=\"151320\" class=\"clamp-list-expand-label\"></label>\\n                    </td>\\n                </tr>\\n                                    <tr class=\"spacer\"></tr>\\n                             \\n                                \\n            \\n            \\n            \\n\\n                \\n             \\n                <tr>                    \\n                    <td class=\"clamp-image-wrap\">\\n                        <a href=\"/game/switch/tetris-effect-connected\"><img src=\"https://static.metacritic.com/images/products/games/0/c43ea9b06c8a4e6fda2c4a3260c2022f-98.jpg\" alt=\"Tetris Effect: Connected\" /></a>\\n\\n                                                                                    <span class=\"mcmust\">\\n                                    <img src=\"/images/icons/mc-mustplay-sm.svg\" />\\n                                </span>\\n                                                                        </td>\\n\\n                    <td class=\"clamp-summary-wrap\">\\n\\n                        <input type=\"checkbox\" id=\"589680\" class=\"clamp-summary-expand\" />\\n                        <div class=\"clamp-score-wrap\">\\n                                                            \\n\\n        \\n    <a class=\"metascore_anchor\" href=\"/game/switch/tetris-effect-connected/critic-reviews\">\\n<div class=\"metascore_w large game positive\">94</div>\\n    </a>\\n\\n                                                    </div>\\n\\n                                                    <span class=\"title numbered\">\\n                                                                    72.\\n                                                            </span>\\n                        \\n                        <a href=\"/game/switch/tetris-effect-connected\" class=\"title\"><h3>Tetris Effect: Connected</h3></a>\\n\\n                        <div class=\"clamp-details\">\\n                            \\n                            \\n                            \\n                                                            <div class=\"platform\">\\n                                    <span class=\"label\">Platform:</span>\\n                                    <span class=\"data\">\\n                                        Switch\\n                                                                            </span>\\n                                </div>\\n                            \\n                            \\n                            <span>October 8, 2021</span>\\n\\n                            \\n                            \\n                        </div>\\n\\n                        <div class=\"summary\">\\n                        Tetris Effect: Connected is the original Tetris Effect with all-new co-op and competitive online and local multiplayer modes. This is Tetris like you\\'ve never seen it, or heard it, or felt it beforean incredibly addictive, unique and breathtakingly gorgeous reinvention of one of the most popular puzzle games of all time.\\n                        </div>\\n\\n                        <div class=\"browse-score-clamp\">\\n                            <div class=\"clamp-metascore\">\\n                                <span class=\"title\">Metascore:</span>\\n                                \\n\\n        \\n    <a class=\"metascore_anchor\" href=\"/game/switch/tetris-effect-connected/critic-reviews\">\\n<div class=\"metascore_w large game positive\">94</div>\\n    </a>\\n\\n                            </div>\\n                            <div class=\"clamp-userscore\">\\n                                <span class=\"title\">User Score:</span>\\n                                        \\n    <a class=\"metascore_anchor\" href=\"/game/switch/tetris-effect-connected/user-reviews\">\\n<div class=\"metascore_w user large game positive\">7.9</div>\\n    </a>\\n     \\n                            </div>\\n                        </div>\\n\\n                        <i class=\"fa fa-caret-up\" aria-hidden=\"true\"></i>\\n                        <i class=\"fa fa-caret-down\" aria-hidden=\"true\"></i>\\n                        <label for=\"589680\" class=\"clamp-list-expand-label\"></label>\\n                    </td>\\n                </tr>\\n                                    <tr class=\"spacer\"></tr>\\n                             \\n                                \\n            \\n            \\n            \\n\\n                \\n             \\n                <tr>                    \\n                    <td class=\"clamp-image-wrap\">\\n                        <a href=\"/game/wii/world-of-goo\"><img src=\"https://static.metacritic.com/images/products/games/9/6ce015a2c6528ab4e62d0704297db70e-98.jpg\" alt=\"World of Goo\" /></a>\\n\\n                                                                                    <span class=\"mcmust\">\\n                                    <img src=\"/images/icons/mc-mustplay-sm.svg\" />\\n                                </span>\\n                                                                        </td>\\n\\n                    <td class=\"clamp-summary-wrap\">\\n\\n                        <input type=\"checkbox\" id=\"112119\" class=\"clamp-summary-expand\" />\\n                        <div class=\"clamp-score-wrap\">\\n                                                            \\n\\n        \\n    <a class=\"metascore_anchor\" href=\"/game/wii/world-of-goo/critic-reviews\">\\n<div class=\"metascore_w large game positive\">94</div>\\n    </a>\\n\\n                                                    </div>\\n\\n                                                    <span class=\"title numbered\">\\n                                                                    73.\\n                                                            </span>\\n                        \\n                        <a href=\"/game/wii/world-of-goo\" class=\"title\"><h3>World of Goo</h3></a>\\n\\n                        <div class=\"clamp-details\">\\n                            \\n                            \\n                            \\n                                                            <div class=\"platform\">\\n                                    <span class=\"label\">Platform:</span>\\n                                    <span class=\"data\">\\n                                        Wii\\n                                                                            </span>\\n                                </div>\\n                            \\n                            \\n                            <span>October 13, 2008</span>\\n\\n                            \\n                            \\n                        </div>\\n\\n                        <div class=\"summary\">\\n                        [WiiWare]  World of Goo is a physics based puzzle / construction game. The millions of Goo Balls that live in the beautiful World of Goo don\\'t know that they are in a game, or that they are extremely delicious. [2D Boy]\\n                        </div>\\n\\n                        <div class=\"browse-score-clamp\">\\n                            <div class=\"clamp-metascore\">\\n                                <span class=\"title\">Metascore:</span>\\n                                \\n\\n        \\n    <a class=\"metascore_anchor\" href=\"/game/wii/world-of-goo/critic-reviews\">\\n<div class=\"metascore_w large game positive\">94</div>\\n    </a>\\n\\n                            </div>\\n                            <div class=\"clamp-userscore\">\\n                                <span class=\"title\">User Score:</span>\\n                                        \\n    <a class=\"metascore_anchor\" href=\"/game/wii/world-of-goo/user-reviews\">\\n<div class=\"metascore_w user large game positive\">8.7</div>\\n    </a>\\n     \\n                            </div>\\n                        </div>\\n\\n                        <i class=\"fa fa-caret-up\" aria-hidden=\"true\"></i>\\n                        <i class=\"fa fa-caret-down\" aria-hidden=\"true\"></i>\\n                        <label for=\"112119\" class=\"clamp-list-expand-label\"></label>\\n                    </td>\\n                </tr>\\n                                    <tr class=\"spacer\"></tr>\\n                             \\n                                \\n            \\n            \\n            \\n\\n                \\n             \\n                <tr>                    \\n                    <td class=\"clamp-image-wrap\">\\n                        <a href=\"/game/pc/the-elder-scrolls-v-skyrim\"><img src=\"https://static.metacritic.com/images/products/games/7/5988ee04196a686e107b46174f94a3ae-98.jpg\" alt=\"The Elder Scrolls V: Skyrim\" /></a>\\n\\n                                                                                    <span class=\"mcmust\">\\n                                    <img src=\"/images/icons/mc-mustplay-sm.svg\" />\\n                                </span>\\n                                                                        </td>\\n\\n                    <td class=\"clamp-summary-wrap\">\\n\\n                        <input type=\"checkbox\" id=\"167517\" class=\"clamp-summary-expand\" />\\n                        <div class=\"clamp-score-wrap\">\\n                                                            \\n\\n        \\n    <a class=\"metascore_anchor\" href=\"/game/pc/the-elder-scrolls-v-skyrim/critic-reviews\">\\n<div class=\"metascore_w large game positive\">94</div>\\n    </a>\\n\\n                                                    </div>\\n\\n                                                    <span class=\"title numbered\">\\n                                                                    74.\\n                                                            </span>\\n                        \\n                        <a href=\"/game/pc/the-elder-scrolls-v-skyrim\" class=\"title\"><h3>The Elder Scrolls V: Skyrim</h3></a>\\n\\n                        <div class=\"clamp-details\">\\n                            \\n                            \\n                            \\n                                                            <div class=\"platform\">\\n                                    <span class=\"label\">Platform:</span>\\n                                    <span class=\"data\">\\n                                        PC\\n                                                                            </span>\\n                                </div>\\n                            \\n                            \\n                            <span>November 10, 2011</span>\\n\\n                            \\n                            \\n                        </div>\\n\\n                        <div class=\"summary\">\\n                        The next chapter in the Elder Scrolls saga arrives from the Bethesda Game Studios. Skyrim reimagines the open-world fantasy epic, bringing to life a complete virtual world open for you to explore any way you choose. Play any type of character you can imagine, and do whatever you want; the legendary freedom of choice, storytelling, and adventure of The Elder Scrolls is realized like never before. Skyrim\\'s new game engine brings to life a complete virtual world with rolling clouds, rugged mountains, bustling cities, lush fields, and ancient dungeons. Choose from hundreds of weapons, spells, and abilities. The new character system allows you to play any way you want and define yourself through your actions. Battle ancient dragons like you\\'ve never seen. As Dragonborn, learn their secrets and harness their power for yourself.\\n                        </div>\\n\\n                        <div class=\"browse-score-clamp\">\\n                            <div class=\"clamp-metascore\">\\n                                <span class=\"title\">Metascore:</span>\\n                                \\n\\n        \\n    <a class=\"metascore_anchor\" href=\"/game/pc/the-elder-scrolls-v-skyrim/critic-reviews\">\\n<div class=\"metascore_w large game positive\">94</div>\\n    </a>\\n\\n                            </div>\\n                            <div class=\"clamp-userscore\">\\n                                <span class=\"title\">User Score:</span>\\n                                        \\n    <a class=\"metascore_anchor\" href=\"/game/pc/the-elder-scrolls-v-skyrim/user-reviews\">\\n<div class=\"metascore_w user large game positive\">8.4</div>\\n    </a>\\n     \\n                            </div>\\n                        </div>\\n\\n                        <i class=\"fa fa-caret-up\" aria-hidden=\"true\"></i>\\n                        <i class=\"fa fa-caret-down\" aria-hidden=\"true\"></i>\\n                        <label for=\"167517\" class=\"clamp-list-expand-label\"></label>\\n                    </td>\\n                </tr>\\n                                    <tr class=\"spacer\"></tr>\\n                             \\n                                \\n            \\n            \\n            \\n\\n                \\n             \\n                <tr>                    \\n                    <td class=\"clamp-image-wrap\">\\n                        <a href=\"/game/playstation-3/bioshock-infinite\"><img src=\"https://static.metacritic.com/images/products/games/6/841b8d4d89581b2e289906f5e7536213-98.jpg\" alt=\"BioShock Infinite\" /></a>\\n\\n                                                                                    <span class=\"mcmust\">\\n                                    <img src=\"/images/icons/mc-mustplay-sm.svg\" />\\n                                </span>\\n                                                                        </td>\\n\\n                    <td class=\"clamp-summary-wrap\">\\n\\n                        <input type=\"checkbox\" id=\"154576\" class=\"clamp-summary-expand\" />\\n                        <div class=\"clamp-score-wrap\">\\n                                                            \\n\\n        \\n    <a class=\"metascore_anchor\" href=\"/game/playstation-3/bioshock-infinite/critic-reviews\">\\n<div class=\"metascore_w large game positive\">94</div>\\n    </a>\\n\\n                                                    </div>\\n\\n                                                    <span class=\"title numbered\">\\n                                                                    75.\\n                                                            </span>\\n                        \\n                        <a href=\"/game/playstation-3/bioshock-infinite\" class=\"title\"><h3>BioShock Infinite</h3></a>\\n\\n                        <div class=\"clamp-details\">\\n                            \\n                            \\n                            \\n                                                            <div class=\"platform\">\\n                                    <span class=\"label\">Platform:</span>\\n                                    <span class=\"data\">\\n                                        PlayStation 3\\n                                                                            </span>\\n                                </div>\\n                            \\n                            \\n                            <span>March 26, 2013</span>\\n\\n                            \\n                            \\n                        </div>\\n\\n                        <div class=\"summary\">\\n                        Once conceived as a floating symbol of American ideals at a time when the United States was emerging as a world power, Columbia has been dispatched to distant shores with great fanfare by a captivated public.  What begins as a brand new endeavor of hope turns drastically wrong as the city soon disappears into the clouds to whereabouts unknown. The player assumes the role of former Pinkerton agent Booker DeWitt, sent to the lost city to rescue Elizabeth, a young woman imprisoned there since childhood. He develops a relationship with Elizabeth, augmenting his abilities with hers so the pair may escape from a city that is literally falling from the sky. DeWitt must learn to fight foes in high-speed Sky-Line battles, engage in combat both indoors and amongst the clouds, and engage the power of dozens of new weapons and abilities.\\r\\n\\n                        </div>\\n\\n                        <div class=\"browse-score-clamp\">\\n                            <div class=\"clamp-metascore\">\\n                                <span class=\"title\">Metascore:</span>\\n                                \\n\\n        \\n    <a class=\"metascore_anchor\" href=\"/game/playstation-3/bioshock-infinite/critic-reviews\">\\n<div class=\"metascore_w large game positive\">94</div>\\n    </a>\\n\\n                            </div>\\n                            <div class=\"clamp-userscore\">\\n                                <span class=\"title\">User Score:</span>\\n                                        \\n    <a class=\"metascore_anchor\" href=\"/game/playstation-3/bioshock-infinite/user-reviews\">\\n<div class=\"metascore_w user large game positive\">8.5</div>\\n    </a>\\n     \\n                            </div>\\n                        </div>\\n\\n                        <i class=\"fa fa-caret-up\" aria-hidden=\"true\"></i>\\n                        <i class=\"fa fa-caret-down\" aria-hidden=\"true\"></i>\\n                        <label for=\"154576\" class=\"clamp-list-expand-label\"></label>\\n                    </td>\\n                </tr>\\n                                    <tr class=\"spacer\"></tr>\\n                             \\n                                \\n            \\n            \\n            \\n\\n                \\n             \\n                <tr>                    \\n                    <td class=\"clamp-image-wrap\">\\n                        <a href=\"/game/playstation/final-fantasy-ix\"><img src=\"https://static.metacritic.com/images/products/games/8/2dc9a8dc7361425ed3cb3868d2a552c3-98.jpg\" alt=\"Final Fantasy IX\" /></a>\\n\\n                                                                                    <span class=\"mcmust\">\\n                                    <img src=\"/images/icons/mc-mustplay-sm.svg\" />\\n                                </span>\\n                                                                        </td>\\n\\n                    <td class=\"clamp-summary-wrap\">\\n\\n                        <input type=\"checkbox\" id=\"160668\" class=\"clamp-summary-expand\" />\\n                        <div class=\"clamp-score-wrap\">\\n                                                            \\n\\n        \\n    <a class=\"metascore_anchor\" href=\"/game/playstation/final-fantasy-ix/critic-reviews\">\\n<div class=\"metascore_w large game positive\">94</div>\\n    </a>\\n\\n                                                    </div>\\n\\n                                                    <span class=\"title numbered\">\\n                                                                    76.\\n                                                            </span>\\n                        \\n                        <a href=\"/game/playstation/final-fantasy-ix\" class=\"title\"><h3>Final Fantasy IX</h3></a>\\n\\n                        <div class=\"clamp-details\">\\n                            \\n                            \\n                            \\n                                                            <div class=\"platform\">\\n                                    <span class=\"label\">Platform:</span>\\n                                    <span class=\"data\">\\n                                        PlayStation\\n                                                                            </span>\\n                                </div>\\n                            \\n                            \\n                            <span>November 13, 2000</span>\\n\\n                            \\n                            \\n                        </div>\\n\\n                        <div class=\"summary\">\\n                        The last Final Fantasy for the PlayStation, Final Fantasy IX returns to the pure fantasy roots that spawned the series.  This latest installment features highly detailed characters, vehicles, and environments, and breathtaking cinema-graphics.  The addition of brand new features such as the story-enhancing Active Time Event system and the return of minigames that grant additional gameplay make Final Fantasy IX not only a memorable gaming experience, but also a significant step forward in the series.\\n                        </div>\\n\\n                        <div class=\"browse-score-clamp\">\\n                            <div class=\"clamp-metascore\">\\n                                <span class=\"title\">Metascore:</span>\\n                                \\n\\n        \\n    <a class=\"metascore_anchor\" href=\"/game/playstation/final-fantasy-ix/critic-reviews\">\\n<div class=\"metascore_w large game positive\">94</div>\\n    </a>\\n\\n                            </div>\\n                            <div class=\"clamp-userscore\">\\n                                <span class=\"title\">User Score:</span>\\n                                        \\n    <a class=\"metascore_anchor\" href=\"/game/playstation/final-fantasy-ix/user-reviews\">\\n<div class=\"metascore_w user large game positive\">9.0</div>\\n    </a>\\n     \\n                            </div>\\n                        </div>\\n\\n                        <i class=\"fa fa-caret-up\" aria-hidden=\"true\"></i>\\n                        <i class=\"fa fa-caret-down\" aria-hidden=\"true\"></i>\\n                        <label for=\"160668\" class=\"clamp-list-expand-label\"></label>\\n                    </td>\\n                </tr>\\n                                    <tr class=\"spacer\"></tr>\\n                             \\n                                \\n            \\n            \\n            \\n\\n                \\n             \\n                <tr>                    \\n                    <td class=\"clamp-image-wrap\">\\n                        <a href=\"/game/playstation-3/call-of-duty-modern-warfare-2\"><img src=\"https://static.metacritic.com/images/products/games/9/7b8e5f3e8d0991c5314cdc4d37b8b041-98.jpg\" alt=\"Call of Duty: Modern Warfare 2\" /></a>\\n\\n                                                                                    <span class=\"mcmust\">\\n                                    <img src=\"/images/icons/mc-mustplay-sm.svg\" />\\n                                </span>\\n                                                                        </td>\\n\\n                    <td class=\"clamp-summary-wrap\">\\n\\n                        <input type=\"checkbox\" id=\"112899\" class=\"clamp-summary-expand\" />\\n                        <div class=\"clamp-score-wrap\">\\n                                                            \\n\\n        \\n    <a class=\"metascore_anchor\" href=\"/game/playstation-3/call-of-duty-modern-warfare-2/critic-reviews\">\\n<div class=\"metascore_w large game positive\">94</div>\\n    </a>\\n\\n                                                    </div>\\n\\n                                                    <span class=\"title numbered\">\\n                                                                    77.\\n                                                            </span>\\n                        \\n                        <a href=\"/game/playstation-3/call-of-duty-modern-warfare-2\" class=\"title\"><h3>Call of Duty: Modern Warfare 2</h3></a>\\n\\n                        <div class=\"clamp-details\">\\n                            \\n                            \\n                            \\n                                                            <div class=\"platform\">\\n                                    <span class=\"label\">Platform:</span>\\n                                    <span class=\"data\">\\n                                        PlayStation 3\\n                                                                            </span>\\n                                </div>\\n                            \\n                            \\n                            <span>November 10, 2009</span>\\n\\n                            \\n                            \\n                        </div>\\n\\n                        <div class=\"summary\">\\n                        Modern Warfare 2 continues the gripping and heart-racing action as players face off against a new threat dedicated to bringing the world to the brink of collapse. An entirely new gameplay mode which supports 2-player co-operative play online that is unique from the single player story campaign. Special Ops pits players into a gauntlet of time-trial and objective-based missions. Rank-up as players unlock new Special Ops missions, each more difficult. Missions include highlights from the single player campaign, fan favorites from Call of Duty 4: Modern Warfare and all new, exclusive missions. Setting a new bar for online multiplayer, Modern Warfare 2 multiplayer delivers new capabilities, customization, gamestates and modes, including: Create-a-Class Evolved. Secondary Weapons - Machine Pistols, Shotguns, Handguns, Launchers. Riot Shields. Equipment - Throwing Knives, Blast Shield, Tactical Insertion. Perk Upgrades. Bling (Dual Attachments). Customizable Killstreaks - AC130, Sentry Gun, Predator Missile, Counter-UAV, Care Package. Accolades (Post match reports). [Activision]\\n                        </div>\\n\\n                        <div class=\"browse-score-clamp\">\\n                            <div class=\"clamp-metascore\">\\n                                <span class=\"title\">Metascore:</span>\\n                                \\n\\n        \\n    <a class=\"metascore_anchor\" href=\"/game/playstation-3/call-of-duty-modern-warfare-2/critic-reviews\">\\n<div class=\"metascore_w large game positive\">94</div>\\n    </a>\\n\\n                            </div>\\n                            <div class=\"clamp-userscore\">\\n                                <span class=\"title\">User Score:</span>\\n                                        \\n    <a class=\"metascore_anchor\" href=\"/game/playstation-3/call-of-duty-modern-warfare-2/user-reviews\">\\n<div class=\"metascore_w user large game mixed\">6.8</div>\\n    </a>\\n     \\n                            </div>\\n                        </div>\\n\\n                        <i class=\"fa fa-caret-up\" aria-hidden=\"true\"></i>\\n                        <i class=\"fa fa-caret-down\" aria-hidden=\"true\"></i>\\n                        <label for=\"112899\" class=\"clamp-list-expand-label\"></label>\\n                    </td>\\n                </tr>\\n                                    <tr class=\"spacer\"></tr>\\n                             \\n                                \\n            \\n            \\n            \\n\\n                \\n             \\n                <tr>                    \\n                    <td class=\"clamp-image-wrap\">\\n                        <a href=\"/game/playstation-4/god-of-war\"><img src=\"https://static.metacritic.com/images/products/games/8/452903806353a11fbecc0089ac94ef13-98.jpg\" alt=\"God of War\" /></a>\\n\\n                                                                                    <span class=\"mcmust\">\\n                                    <img src=\"/images/icons/mc-mustplay-sm.svg\" />\\n                                </span>\\n                                                                        </td>\\n\\n                    <td class=\"clamp-summary-wrap\">\\n\\n                        <input type=\"checkbox\" id=\"499358\" class=\"clamp-summary-expand\" />\\n                        <div class=\"clamp-score-wrap\">\\n                                                            \\n\\n        \\n    <a class=\"metascore_anchor\" href=\"/game/playstation-4/god-of-war/critic-reviews\">\\n<div class=\"metascore_w large game positive\">94</div>\\n    </a>\\n\\n                                                    </div>\\n\\n                                                    <span class=\"title numbered\">\\n                                                                    78.\\n                                                            </span>\\n                        \\n                        <a href=\"/game/playstation-4/god-of-war\" class=\"title\"><h3>God of War</h3></a>\\n\\n                        <div class=\"clamp-details\">\\n                            \\n                            \\n                            \\n                                                            <div class=\"platform\">\\n                                    <span class=\"label\">Platform:</span>\\n                                    <span class=\"data\">\\n                                        PlayStation 4\\n                                                                            </span>\\n                                </div>\\n                            \\n                            \\n                            <span>April 20, 2018</span>\\n\\n                            \\n                            \\n                        </div>\\n\\n                        <div class=\"summary\">\\n                        His vengeance against the gods of Olympus far behind him, Kratos now lives as a man in the lands of Norse Gods and monsters. It is in this harsh, unforgiving world that he must fight to survive… and teach his son to do the same. As mentor and protector to a son determined to earn his respect, Kratos is faced with an unexpected opportunity to master the rage that has long defined him. Questioning the dark lineage he’s passed on to his son, he hopes to make amends for the shortcomings of his past. Set within the untamed forests, mountains, and realms of Norse lore, God of War features a distinctly new setting with its own pantheon of creatures, monsters, and gods. [Playstation.com]\\n                        </div>\\n\\n                        <div class=\"browse-score-clamp\">\\n                            <div class=\"clamp-metascore\">\\n                                <span class=\"title\">Metascore:</span>\\n                                \\n\\n        \\n    <a class=\"metascore_anchor\" href=\"/game/playstation-4/god-of-war/critic-reviews\">\\n<div class=\"metascore_w large game positive\">94</div>\\n    </a>\\n\\n                            </div>\\n                            <div class=\"clamp-userscore\">\\n                                <span class=\"title\">User Score:</span>\\n                                        \\n    <a class=\"metascore_anchor\" href=\"/game/playstation-4/god-of-war/user-reviews\">\\n<div class=\"metascore_w user large game positive\">9.1</div>\\n    </a>\\n     \\n                            </div>\\n                        </div>\\n\\n                        <i class=\"fa fa-caret-up\" aria-hidden=\"true\"></i>\\n                        <i class=\"fa fa-caret-down\" aria-hidden=\"true\"></i>\\n                        <label for=\"499358\" class=\"clamp-list-expand-label\"></label>\\n                    </td>\\n                </tr>\\n                                    <tr class=\"spacer\"></tr>\\n                             \\n                                \\n            \\n            \\n            \\n\\n                \\n             \\n                <tr>                    \\n                    <td class=\"clamp-image-wrap\">\\n                        <a href=\"/game/playstation-2/tony-hawks-pro-skater-4\"><img src=\"https://static.metacritic.com/images/products/games/2/0af941658097bb22888c8385b3b27ca0-98.jpg\" alt=\"Tony Hawk\\'s Pro Skater 4\" /></a>\\n\\n                                                                                    <span class=\"mcmust\">\\n                                    <img src=\"/images/icons/mc-mustplay-sm.svg\" />\\n                                </span>\\n                                                                        </td>\\n\\n                    <td class=\"clamp-summary-wrap\">\\n\\n                        <input type=\"checkbox\" id=\"102292\" class=\"clamp-summary-expand\" />\\n                        <div class=\"clamp-score-wrap\">\\n                                                            \\n\\n        \\n    <a class=\"metascore_anchor\" href=\"/game/playstation-2/tony-hawks-pro-skater-4/critic-reviews\">\\n<div class=\"metascore_w large game positive\">94</div>\\n    </a>\\n\\n                                                    </div>\\n\\n                                                    <span class=\"title numbered\">\\n                                                                    79.\\n                                                            </span>\\n                        \\n                        <a href=\"/game/playstation-2/tony-hawks-pro-skater-4\" class=\"title\"><h3>Tony Hawk\\'s Pro Skater 4</h3></a>\\n\\n                        <div class=\"clamp-details\">\\n                            \\n                            \\n                            \\n                                                            <div class=\"platform\">\\n                                    <span class=\"label\">Platform:</span>\\n                                    <span class=\"data\">\\n                                        PlayStation 2\\n                                                                            </span>\\n                                </div>\\n                            \\n                            \\n                            <span>October 23, 2002</span>\\n\\n                            \\n                            \\n                        </div>\\n\\n                        <div class=\"summary\">\\n                        Build your skills, earn respect, and show that you\\'ve got what it takes to Go Pro.  190 progressively harder goals. No time clock, no constraints. Pro-specific challenges. Evolving levels. Interact with other skaters. Multi-player modes. Customize your game...Your career is what you make of it. [Activision]\\n                        </div>\\n\\n                        <div class=\"browse-score-clamp\">\\n                            <div class=\"clamp-metascore\">\\n                                <span class=\"title\">Metascore:</span>\\n                                \\n\\n        \\n    <a class=\"metascore_anchor\" href=\"/game/playstation-2/tony-hawks-pro-skater-4/critic-reviews\">\\n<div class=\"metascore_w large game positive\">94</div>\\n    </a>\\n\\n                            </div>\\n                            <div class=\"clamp-userscore\">\\n                                <span class=\"title\">User Score:</span>\\n                                        \\n    <a class=\"metascore_anchor\" href=\"/game/playstation-2/tony-hawks-pro-skater-4/user-reviews\">\\n<div class=\"metascore_w user large game positive\">8.3</div>\\n    </a>\\n     \\n                            </div>\\n                        </div>\\n\\n                        <i class=\"fa fa-caret-up\" aria-hidden=\"true\"></i>\\n                        <i class=\"fa fa-caret-down\" aria-hidden=\"true\"></i>\\n                        <label for=\"102292\" class=\"clamp-list-expand-label\"></label>\\n                    </td>\\n                </tr>\\n                                    <tr class=\"spacer\"></tr>\\n                             \\n                                \\n            \\n            \\n            \\n\\n                \\n             \\n                <tr>                    \\n                    <td class=\"clamp-image-wrap\">\\n                        <a href=\"/game/playstation-2/devil-may-cry\"><img src=\"https://static.metacritic.com/images/products/games/4/e80ce3e272d0176ba2c7686f9de5b5b1-98.jpg\" alt=\"Devil May Cry\" /></a>\\n\\n                                                                                    <span class=\"mcmust\">\\n                                    <img src=\"/images/icons/mc-mustplay-sm.svg\" />\\n                                </span>\\n                                                                        </td>\\n\\n                    <td class=\"clamp-summary-wrap\">\\n\\n                        <input type=\"checkbox\" id=\"101394\" class=\"clamp-summary-expand\" />\\n                        <div class=\"clamp-score-wrap\">\\n                                                            \\n\\n        \\n    <a class=\"metascore_anchor\" href=\"/game/playstation-2/devil-may-cry/critic-reviews\">\\n<div class=\"metascore_w large game positive\">94</div>\\n    </a>\\n\\n                                                    </div>\\n\\n                                                    <span class=\"title numbered\">\\n                                                                    80.\\n                                                            </span>\\n                        \\n                        <a href=\"/game/playstation-2/devil-may-cry\" class=\"title\"><h3>Devil May Cry</h3></a>\\n\\n                        <div class=\"clamp-details\">\\n                            \\n                            \\n                            \\n                                                            <div class=\"platform\">\\n                                    <span class=\"label\">Platform:</span>\\n                                    <span class=\"data\">\\n                                        PlayStation 2\\n                                                                            </span>\\n                                </div>\\n                            \\n                            \\n                            <span>October 16, 2001</span>\\n\\n                            \\n                            \\n                        </div>\\n\\n                        <div class=\"summary\">\\n                        In a large American metropolis, a man named Dante, a private investigator of the supernatural, is seeking revenge for the death of his mother and brother. The world is waiting, for Dante is no ordinary man, and with his father\\'s sword in hand, he must enter the demon realm and avenge mankind.  [Capcom]\\n                        </div>\\n\\n                        <div class=\"browse-score-clamp\">\\n                            <div class=\"clamp-metascore\">\\n                                <span class=\"title\">Metascore:</span>\\n                                \\n\\n        \\n    <a class=\"metascore_anchor\" href=\"/game/playstation-2/devil-may-cry/critic-reviews\">\\n<div class=\"metascore_w large game positive\">94</div>\\n    </a>\\n\\n                            </div>\\n                            <div class=\"clamp-userscore\">\\n                                <span class=\"title\">User Score:</span>\\n                                        \\n    <a class=\"metascore_anchor\" href=\"/game/playstation-2/devil-may-cry/user-reviews\">\\n<div class=\"metascore_w user large game positive\">8.6</div>\\n    </a>\\n     \\n                            </div>\\n                        </div>\\n\\n                        <i class=\"fa fa-caret-up\" aria-hidden=\"true\"></i>\\n                        <i class=\"fa fa-caret-down\" aria-hidden=\"true\"></i>\\n                        <label for=\"101394\" class=\"clamp-list-expand-label\"></label>\\n                    </td>\\n                </tr>\\n                                    <tr class=\"spacer\"></tr>\\n                             \\n                                \\n            \\n            \\n            \\n\\n                \\n             \\n                <tr>                    \\n                    <td class=\"clamp-image-wrap\">\\n                        <a href=\"/game/playstation-3/call-of-duty-4-modern-warfare\"><img src=\"https://static.metacritic.com/images/products/games/3/4e5f0e4a6bb9bf71c5e2f1d8e398e219-98.jpg\" alt=\"Call of Duty 4: Modern Warfare\" /></a>\\n\\n                                                                                    <span class=\"mcmust\">\\n                                    <img src=\"/images/icons/mc-mustplay-sm.svg\" />\\n                                </span>\\n                                                                        </td>\\n\\n                    <td class=\"clamp-summary-wrap\">\\n\\n                        <input type=\"checkbox\" id=\"110053\" class=\"clamp-summary-expand\" />\\n                        <div class=\"clamp-score-wrap\">\\n                                                            \\n\\n        \\n    <a class=\"metascore_anchor\" href=\"/game/playstation-3/call-of-duty-4-modern-warfare/critic-reviews\">\\n<div class=\"metascore_w large game positive\">94</div>\\n    </a>\\n\\n                                                    </div>\\n\\n                                                    <span class=\"title numbered\">\\n                                                                    81.\\n                                                            </span>\\n                        \\n                        <a href=\"/game/playstation-3/call-of-duty-4-modern-warfare\" class=\"title\"><h3>Call of Duty 4: Modern Warfare</h3></a>\\n\\n                        <div class=\"clamp-details\">\\n                            \\n                            \\n                            \\n                                                            <div class=\"platform\">\\n                                    <span class=\"label\">Platform:</span>\\n                                    <span class=\"data\">\\n                                        PlayStation 3\\n                                                                            </span>\\n                                </div>\\n                            \\n                            \\n                            <span>November 5, 2007</span>\\n\\n                            \\n                            \\n                        </div>\\n\\n                        <div class=\"summary\">\\n                        [Metacritic\\'s 2007 PS3 Game of the Year]  As Call of Duty 4: Modern Warfare\\'s single player campaign unfolds, the player is introduced to new gameplay at every turn – one moment you are fast-roping from your Black Hawk helicopter after storming into the war zone with an armada of choppers, the next you are a sniper, under concealment, in a Ghillie suit miles behind enemy lines, the next you are engaging hostiles from an AC-130 gunship thousands of feet above the battlefield. Mixed with explosive action, Call of Duty 4: Modern Warfare also delivers special effects, including use of depth of field, rim-lighting, character self-shadowing, real time post-processing, texture streaming as well as physics-enabled effects. Infinity Ward deployed a dedicated team from the start to deliver a new level of depth to multiplayer. Building on the hit \"Call of Duty 2\" online experience, Call of Duty 4: Modern Warfare\\'s new multiplayer provides the community an addictive and accessible experience to gamers of all levels. [Activision]\\n                        </div>\\n\\n                        <div class=\"browse-score-clamp\">\\n                            <div class=\"clamp-metascore\">\\n                                <span class=\"title\">Metascore:</span>\\n                                \\n\\n        \\n    <a class=\"metascore_anchor\" href=\"/game/playstation-3/call-of-duty-4-modern-warfare/critic-reviews\">\\n<div class=\"metascore_w large game positive\">94</div>\\n    </a>\\n\\n                            </div>\\n                            <div class=\"clamp-userscore\">\\n                                <span class=\"title\">User Score:</span>\\n                                        \\n    <a class=\"metascore_anchor\" href=\"/game/playstation-3/call-of-duty-4-modern-warfare/user-reviews\">\\n<div class=\"metascore_w user large game positive\">8.4</div>\\n    </a>\\n     \\n                            </div>\\n                        </div>\\n\\n                        <i class=\"fa fa-caret-up\" aria-hidden=\"true\"></i>\\n                        <i class=\"fa fa-caret-down\" aria-hidden=\"true\"></i>\\n                        <label for=\"110053\" class=\"clamp-list-expand-label\"></label>\\n                    </td>\\n                </tr>\\n                                    <tr class=\"spacer\"></tr>\\n                             \\n                                \\n            \\n            \\n            \\n\\n                \\n             \\n                <tr>                    \\n                    <td class=\"clamp-image-wrap\">\\n                        <a href=\"/game/playstation-2/madden-nfl-2002\"><img src=\"https://static.metacritic.com/images/products/games/5/bade80b25fd38bb88392c0b49ac8f678-98.jpg\" alt=\"Madden NFL 2002\" /></a>\\n\\n                                                                                    <span class=\"mcmust\">\\n                                    <img src=\"/images/icons/mc-mustplay-sm.svg\" />\\n                                </span>\\n                                                                        </td>\\n\\n                    <td class=\"clamp-summary-wrap\">\\n\\n                        <input type=\"checkbox\" id=\"101655\" class=\"clamp-summary-expand\" />\\n                        <div class=\"clamp-score-wrap\">\\n                                                            \\n\\n        \\n    <a class=\"metascore_anchor\" href=\"/game/playstation-2/madden-nfl-2002/critic-reviews\">\\n<div class=\"metascore_w large game positive\">94</div>\\n    </a>\\n\\n                                                    </div>\\n\\n                                                    <span class=\"title numbered\">\\n                                                                    82.\\n                                                            </span>\\n                        \\n                        <a href=\"/game/playstation-2/madden-nfl-2002\" class=\"title\"><h3>Madden NFL 2002</h3></a>\\n\\n                        <div class=\"clamp-details\">\\n                            \\n                            \\n                            \\n                                                            <div class=\"platform\">\\n                                    <span class=\"label\">Platform:</span>\\n                                    <span class=\"data\">\\n                                        PlayStation 2\\n                                                                            </span>\\n                                </div>\\n                            \\n                            \\n                            <span>August 19, 2001</span>\\n\\n                            \\n                            \\n                        </div>\\n\\n                        <div class=\"summary\">\\n                        The industry football standard returns featuring the Houston Texans, new player face and body technology, the ability to create your own team with custom helmets, uniforms, and stadiums, and a new training mode that let\\'s you learn from Madden, the master himself.\\n                        </div>\\n\\n                        <div class=\"browse-score-clamp\">\\n                            <div class=\"clamp-metascore\">\\n                                <span class=\"title\">Metascore:</span>\\n                                \\n\\n        \\n    <a class=\"metascore_anchor\" href=\"/game/playstation-2/madden-nfl-2002/critic-reviews\">\\n<div class=\"metascore_w large game positive\">94</div>\\n    </a>\\n\\n                            </div>\\n                            <div class=\"clamp-userscore\">\\n                                <span class=\"title\">User Score:</span>\\n                                        \\n    <a class=\"metascore_anchor\" href=\"/game/playstation-2/madden-nfl-2002/user-reviews\">\\n<div class=\"metascore_w user large game mixed\">7.3</div>\\n    </a>\\n     \\n                            </div>\\n                        </div>\\n\\n                        <i class=\"fa fa-caret-up\" aria-hidden=\"true\"></i>\\n                        <i class=\"fa fa-caret-down\" aria-hidden=\"true\"></i>\\n                        <label for=\"101655\" class=\"clamp-list-expand-label\"></label>\\n                    </td>\\n                </tr>\\n                                    <tr class=\"spacer\"></tr>\\n                             \\n                                \\n            \\n            \\n            \\n\\n                \\n             \\n                <tr>                    \\n                    <td class=\"clamp-image-wrap\">\\n                        <a href=\"/game/xbox-360/batman-arkham-city\"><img src=\"https://static.metacritic.com/images/products/games/1/b707e552149fd03b161be6ec73b94935-98.jpg\" alt=\"Batman: Arkham City\" /></a>\\n\\n                                                                                    <span class=\"mcmust\">\\n                                    <img src=\"/images/icons/mc-mustplay-sm.svg\" />\\n                                </span>\\n                                                                        </td>\\n\\n                    <td class=\"clamp-summary-wrap\">\\n\\n                        <input type=\"checkbox\" id=\"131111\" class=\"clamp-summary-expand\" />\\n                        <div class=\"clamp-score-wrap\">\\n                                                            \\n\\n        \\n    <a class=\"metascore_anchor\" href=\"/game/xbox-360/batman-arkham-city/critic-reviews\">\\n<div class=\"metascore_w large game positive\">94</div>\\n    </a>\\n\\n                                                    </div>\\n\\n                                                    <span class=\"title numbered\">\\n                                                                    83.\\n                                                            </span>\\n                        \\n                        <a href=\"/game/xbox-360/batman-arkham-city\" class=\"title\"><h3>Batman: Arkham City</h3></a>\\n\\n                        <div class=\"clamp-details\">\\n                            \\n                            \\n                            \\n                                                            <div class=\"platform\">\\n                                    <span class=\"label\">Platform:</span>\\n                                    <span class=\"data\">\\n                                        Xbox 360\\n                                                                            </span>\\n                                </div>\\n                            \\n                            \\n                            <span>October 18, 2011</span>\\n\\n                            \\n                            \\n                        </div>\\n\\n                        <div class=\"summary\">\\n                        Developed by Rocksteady Studios, Batman: Arkham City builds upon the intense, atmospheric foundation of Batman: Arkham Asylum, sending players soaring into Arkham City, the new maximum security \"home\" for all of Gotham City\\'s thugs, gangsters and insane criminal masterminds. Set inside the heavily fortified walls of a sprawling district in the heart of Gotham City, this highly anticipated sequel introduces a brand-new story that draws together a new all-star cast of classic characters and murderous villains from the Batman universe, as well as a vast range of new and enhanced gameplay features to deliver the ultimate experience as the Dark Knight. \\n                        </div>\\n\\n                        <div class=\"browse-score-clamp\">\\n                            <div class=\"clamp-metascore\">\\n                                <span class=\"title\">Metascore:</span>\\n                                \\n\\n        \\n    <a class=\"metascore_anchor\" href=\"/game/xbox-360/batman-arkham-city/critic-reviews\">\\n<div class=\"metascore_w large game positive\">94</div>\\n    </a>\\n\\n                            </div>\\n                            <div class=\"clamp-userscore\">\\n                                <span class=\"title\">User Score:</span>\\n                                        \\n    <a class=\"metascore_anchor\" href=\"/game/xbox-360/batman-arkham-city/user-reviews\">\\n<div class=\"metascore_w user large game positive\">8.8</div>\\n    </a>\\n     \\n                            </div>\\n                        </div>\\n\\n                        <i class=\"fa fa-caret-up\" aria-hidden=\"true\"></i>\\n                        <i class=\"fa fa-caret-down\" aria-hidden=\"true\"></i>\\n                        <label for=\"131111\" class=\"clamp-list-expand-label\"></label>\\n                    </td>\\n                </tr>\\n                                    <tr class=\"spacer\"></tr>\\n                             \\n                                \\n            \\n            \\n            \\n\\n                \\n             \\n                <tr>                    \\n                    <td class=\"clamp-image-wrap\">\\n                        <a href=\"/game/xbox-series-x/persona-5-royal\"><img src=\"https://static.metacritic.com/images/products/games/0/c9c8d46573b2620e2188c0efcfe8673a-98.jpg\" alt=\"Persona 5 Royal\" /></a>\\n\\n                                                                                                </td>\\n\\n                    <td class=\"clamp-summary-wrap\">\\n\\n                        <input type=\"checkbox\" id=\"609420\" class=\"clamp-summary-expand\" />\\n                        <div class=\"clamp-score-wrap\">\\n                                                            \\n\\n        \\n    <a class=\"metascore_anchor\" href=\"/game/xbox-series-x/persona-5-royal/critic-reviews\">\\n<div class=\"metascore_w large game positive\">94</div>\\n    </a>\\n\\n                                                    </div>\\n\\n                                                    <span class=\"title numbered\">\\n                                                                    84.\\n                                                            </span>\\n                        \\n                        <a href=\"/game/xbox-series-x/persona-5-royal\" class=\"title\"><h3>Persona 5 Royal</h3></a>\\n\\n                        <div class=\"clamp-details\">\\n                            \\n                            \\n                            \\n                                                            <div class=\"platform\">\\n                                    <span class=\"label\">Platform:</span>\\n                                    <span class=\"data\">\\n                                        Xbox Series X\\n                                                                            </span>\\n                                </div>\\n                            \\n                            \\n                            <span>October 21, 2022</span>\\n\\n                            \\n                            \\n                        </div>\\n\\n                        <div class=\"summary\">\\n                        Prepare for an all-new RPG experience in Persona 5 Royal based in the universe of the award-winning series, Persona! Don the mask of Joker and join the Phantom Thieves of Hearts. Break free from the chains of modern society and stage grand heists to infiltrate the minds of the corrupt and make them change their ways! Persona 5 Royal is packed with new characters, confidants, story depth, new locations to explore, and a new grappling hook mechanic for stealthy access to new areas. With a new semester at Shujin Academy, get ready to strengthen your abilities in the metaverse and in your daily life. Persona 5 Royal presents a unique visual style and award nominated composer Shoji Meguro returns with an all-new soundtrack. Explore Tokyo, unlock new Personas, customize your own personal Thieves Den, discover a never-before-seen story arc, cutscenes, alternate endings, and more! Even for the most seasoned Phantom Thieves among us, Persona 5 Royal is a new challenge to defy conventions, discover the power within, and fight for justice. Wear the mask. Reveal your truth.\\n                        </div>\\n\\n                        <div class=\"browse-score-clamp\">\\n                            <div class=\"clamp-metascore\">\\n                                <span class=\"title\">Metascore:</span>\\n                                \\n\\n        \\n    <a class=\"metascore_anchor\" href=\"/game/xbox-series-x/persona-5-royal/critic-reviews\">\\n<div class=\"metascore_w large game positive\">94</div>\\n    </a>\\n\\n                            </div>\\n                            <div class=\"clamp-userscore\">\\n                                <span class=\"title\">User Score:</span>\\n                                        \\n    <a class=\"metascore_anchor\" href=\"/game/xbox-series-x/persona-5-royal/user-reviews\">\\n<div class=\"metascore_w user large game positive\">8.4</div>\\n    </a>\\n     \\n                            </div>\\n                        </div>\\n\\n                        <i class=\"fa fa-caret-up\" aria-hidden=\"true\"></i>\\n                        <i class=\"fa fa-caret-down\" aria-hidden=\"true\"></i>\\n                        <label for=\"609420\" class=\"clamp-list-expand-label\"></label>\\n                    </td>\\n                </tr>\\n                                    <tr class=\"spacer\"></tr>\\n                             \\n                                \\n            \\n            \\n            \\n\\n                \\n             \\n                <tr>                    \\n                    <td class=\"clamp-image-wrap\">\\n                        <a href=\"/game/pc/mass-effect-2\"><img src=\"https://static.metacritic.com/images/products/games/1/e2a90286a8a5a8d39aede79430f56575-98.jpg\" alt=\"Mass Effect 2\" /></a>\\n\\n                                                                                    <span class=\"mcmust\">\\n                                    <img src=\"/images/icons/mc-mustplay-sm.svg\" />\\n                                </span>\\n                                                                        </td>\\n\\n                    <td class=\"clamp-summary-wrap\">\\n\\n                        <input type=\"checkbox\" id=\"111761\" class=\"clamp-summary-expand\" />\\n                        <div class=\"clamp-score-wrap\">\\n                                                            \\n\\n        \\n    <a class=\"metascore_anchor\" href=\"/game/pc/mass-effect-2/critic-reviews\">\\n<div class=\"metascore_w large game positive\">94</div>\\n    </a>\\n\\n                                                    </div>\\n\\n                                                    <span class=\"title numbered\">\\n                                                                    85.\\n                                                            </span>\\n                        \\n                        <a href=\"/game/pc/mass-effect-2\" class=\"title\"><h3>Mass Effect 2</h3></a>\\n\\n                        <div class=\"clamp-details\">\\n                            \\n                            \\n                            \\n                                                            <div class=\"platform\">\\n                                    <span class=\"label\">Platform:</span>\\n                                    <span class=\"data\">\\n                                        PC\\n                                                                            </span>\\n                                </div>\\n                            \\n                            \\n                            <span>January 26, 2010</span>\\n\\n                            \\n                            \\n                        </div>\\n\\n                        <div class=\"summary\">\\n                        The Mass Effect trilogy is a science fiction adventure set in a vast universe filled with dangerous alien life forms and mysterious uncharted planets. In this dark second chapter, Saren’s evil army of Geth soldiers has just been defeated, and humans, who are still struggling to make their mark on the galactic stage, are now faced with an even greater peril. [BioWare]\\n                        </div>\\n\\n                        <div class=\"browse-score-clamp\">\\n                            <div class=\"clamp-metascore\">\\n                                <span class=\"title\">Metascore:</span>\\n                                \\n\\n        \\n    <a class=\"metascore_anchor\" href=\"/game/pc/mass-effect-2/critic-reviews\">\\n<div class=\"metascore_w large game positive\">94</div>\\n    </a>\\n\\n                            </div>\\n                            <div class=\"clamp-userscore\">\\n                                <span class=\"title\">User Score:</span>\\n                                        \\n    <a class=\"metascore_anchor\" href=\"/game/pc/mass-effect-2/user-reviews\">\\n<div class=\"metascore_w user large game positive\">8.9</div>\\n    </a>\\n     \\n                            </div>\\n                        </div>\\n\\n                        <i class=\"fa fa-caret-up\" aria-hidden=\"true\"></i>\\n                        <i class=\"fa fa-caret-down\" aria-hidden=\"true\"></i>\\n                        <label for=\"111761\" class=\"clamp-list-expand-label\"></label>\\n                    </td>\\n                </tr>\\n                                    <tr class=\"spacer\"></tr>\\n                             \\n                                \\n            \\n            \\n            \\n\\n                \\n             \\n                <tr>                    \\n                    <td class=\"clamp-image-wrap\">\\n                        <a href=\"/game/3ds/the-legend-of-zelda-ocarina-of-time-3d\"><img src=\"https://static.metacritic.com/images/products/games/0/4b6d1d1a1f09f9feb540f1337278a155-98.jpg\" alt=\"The Legend of Zelda: Ocarina of Time 3D\" /></a>\\n\\n                                                                                    <span class=\"mcmust\">\\n                                    <img src=\"/images/icons/mc-mustplay-sm.svg\" />\\n                                </span>\\n                                                                        </td>\\n\\n                    <td class=\"clamp-summary-wrap\">\\n\\n                        <input type=\"checkbox\" id=\"172500\" class=\"clamp-summary-expand\" />\\n                        <div class=\"clamp-score-wrap\">\\n                                                            \\n\\n        \\n    <a class=\"metascore_anchor\" href=\"/game/3ds/the-legend-of-zelda-ocarina-of-time-3d/critic-reviews\">\\n<div class=\"metascore_w large game positive\">94</div>\\n    </a>\\n\\n                                                    </div>\\n\\n                                                    <span class=\"title numbered\">\\n                                                                    86.\\n                                                            </span>\\n                        \\n                        <a href=\"/game/3ds/the-legend-of-zelda-ocarina-of-time-3d\" class=\"title\"><h3>The Legend of Zelda: Ocarina of Time 3D</h3></a>\\n\\n                        <div class=\"clamp-details\">\\n                            \\n                            \\n                            \\n                                                            <div class=\"platform\">\\n                                    <span class=\"label\">Platform:</span>\\n                                    <span class=\"data\">\\n                                        3DS\\n                                                                            </span>\\n                                </div>\\n                            \\n                            \\n                            <span>June 19, 2011</span>\\n\\n                            \\n                            \\n                        </div>\\n\\n                        <div class=\"summary\">\\n                        The Legend of Zelda: Ocarina of Time 3D takes the best-reviewed game of all time for a brand-new experience. Now in 3D all of the graphic textures and colors have been vastly improved, taking advantage of the considerable graphic power of the Nintendo 3DS system. This game tells the epic story of Hyrule and Link™, Zelda™, and Ganondorf in remarkable depth and gives context to the many tales of their struggles. As such, this title represents a perfect entry point for players new to the Zelda franchise. Phenomenally Improved Graphics Beyond even the incredible 3D effect, every graphic texture and character model has been lovingly built from the ground up to create the most dynamic and vivid vision of Zelda’s kingdom yet. This is Hyrule as you’ve always imagined it. Playing the Ocarina Link needs to play the eponymous Ocarina of Time many, many times over the course of the game. This involves a specific series of button presses to play one of the twelve songs in the game. In the original title, you would need to assign the ocarina to an item slot, then likely review the button prompts to your song, then play them from memory. The Nintendo 3DS version has the ocarina constantly available on the Touch Screen, and playing with the button prompts for each song right in front of you. Enhanced Game play While the greatest care has been taken to preserve the classic game play and story, a number of new features make this the definitive version of this extraordinary game.\\n                        </div>\\n\\n                        <div class=\"browse-score-clamp\">\\n                            <div class=\"clamp-metascore\">\\n                                <span class=\"title\">Metascore:</span>\\n                                \\n\\n        \\n    <a class=\"metascore_anchor\" href=\"/game/3ds/the-legend-of-zelda-ocarina-of-time-3d/critic-reviews\">\\n<div class=\"metascore_w large game positive\">94</div>\\n    </a>\\n\\n                            </div>\\n                            <div class=\"clamp-userscore\">\\n                                <span class=\"title\">User Score:</span>\\n                                        \\n    <a class=\"metascore_anchor\" href=\"/game/3ds/the-legend-of-zelda-ocarina-of-time-3d/user-reviews\">\\n<div class=\"metascore_w user large game positive\">9.1</div>\\n    </a>\\n     \\n                            </div>\\n                        </div>\\n\\n                        <i class=\"fa fa-caret-up\" aria-hidden=\"true\"></i>\\n                        <i class=\"fa fa-caret-down\" aria-hidden=\"true\"></i>\\n                        <label for=\"172500\" class=\"clamp-list-expand-label\"></label>\\n                    </td>\\n                </tr>\\n                                    <tr class=\"spacer\"></tr>\\n                             \\n                                \\n            \\n            \\n            \\n\\n                \\n             \\n                <tr>                    \\n                    <td class=\"clamp-image-wrap\">\\n                        <a href=\"/game/playstation/chrono-cross\"><img src=\"https://static.metacritic.com/images/products/games/1/4d458337d5127394cea7b9f8b444d8f2-98.jpg\" alt=\"Chrono Cross\" /></a>\\n\\n                                                                                    <span class=\"mcmust\">\\n                                    <img src=\"/images/icons/mc-mustplay-sm.svg\" />\\n                                </span>\\n                                                                        </td>\\n\\n                    <td class=\"clamp-summary-wrap\">\\n\\n                        <input type=\"checkbox\" id=\"160641\" class=\"clamp-summary-expand\" />\\n                        <div class=\"clamp-score-wrap\">\\n                                                            \\n\\n        \\n    <a class=\"metascore_anchor\" href=\"/game/playstation/chrono-cross/critic-reviews\">\\n<div class=\"metascore_w large game positive\">94</div>\\n    </a>\\n\\n                                                    </div>\\n\\n                                                    <span class=\"title numbered\">\\n                                                                    87.\\n                                                            </span>\\n                        \\n                        <a href=\"/game/playstation/chrono-cross\" class=\"title\"><h3>Chrono Cross</h3></a>\\n\\n                        <div class=\"clamp-details\">\\n                            \\n                            \\n                            \\n                                                            <div class=\"platform\">\\n                                    <span class=\"label\">Platform:</span>\\n                                    <span class=\"data\">\\n                                        PlayStation\\n                                                                            </span>\\n                                </div>\\n                            \\n                            \\n                            <span>August 15, 2000</span>\\n\\n                            \\n                            \\n                        </div>\\n\\n                        <div class=\"summary\">\\n                        Featuring a storyline developed by the creator of Chrono Trigger and Xenogears, Chrono Cross has been christened the &quot;Best RPG Creation&quot; by its development team. With multiple scenarios cast along a single story thread, and many different endings, each replay can result in an entirely new adventure. In addition, a brand new battle system makes combat smooth and innovative by introducing an element field system and combo system that gives the player unparalleled flexibility in their fighting options. The elimination of random battles also quickens the pace of the game, and places the choice of where to battle in the player\\'s hands. With character designs by a famed Japanese illustrator and music by the original Chrono Trigger composer, Chrono Cross features visuals and sounds that bring its magic to life.\\n                        </div>\\n\\n                        <div class=\"browse-score-clamp\">\\n                            <div class=\"clamp-metascore\">\\n                                <span class=\"title\">Metascore:</span>\\n                                \\n\\n        \\n    <a class=\"metascore_anchor\" href=\"/game/playstation/chrono-cross/critic-reviews\">\\n<div class=\"metascore_w large game positive\">94</div>\\n    </a>\\n\\n                            </div>\\n                            <div class=\"clamp-userscore\">\\n                                <span class=\"title\">User Score:</span>\\n                                        \\n    <a class=\"metascore_anchor\" href=\"/game/playstation/chrono-cross/user-reviews\">\\n<div class=\"metascore_w user large game positive\">8.8</div>\\n    </a>\\n     \\n                            </div>\\n                        </div>\\n\\n                        <i class=\"fa fa-caret-up\" aria-hidden=\"true\"></i>\\n                        <i class=\"fa fa-caret-down\" aria-hidden=\"true\"></i>\\n                        <label for=\"160641\" class=\"clamp-list-expand-label\"></label>\\n                    </td>\\n                </tr>\\n                                    <tr class=\"spacer\"></tr>\\n                             \\n                                \\n            \\n            \\n            \\n\\n                \\n             \\n                <tr>                    \\n                    <td class=\"clamp-image-wrap\">\\n                        <a href=\"/game/xbox-one/celeste\"><img src=\"https://static.metacritic.com/images/products/games/7/c2d4b3e49ee25930e854dcd662411520-98.jpg\" alt=\"Celeste\" /></a>\\n\\n                                                                                                </td>\\n\\n                    <td class=\"clamp-summary-wrap\">\\n\\n                        <input type=\"checkbox\" id=\"518827\" class=\"clamp-summary-expand\" />\\n                        <div class=\"clamp-score-wrap\">\\n                                                            \\n\\n        \\n    <a class=\"metascore_anchor\" href=\"/game/xbox-one/celeste/critic-reviews\">\\n<div class=\"metascore_w large game positive\">94</div>\\n    </a>\\n\\n                                                    </div>\\n\\n                                                    <span class=\"title numbered\">\\n                                                                    88.\\n                                                            </span>\\n                        \\n                        <a href=\"/game/xbox-one/celeste\" class=\"title\"><h3>Celeste</h3></a>\\n\\n                        <div class=\"clamp-details\">\\n                            \\n                            \\n                            \\n                                                            <div class=\"platform\">\\n                                    <span class=\"label\">Platform:</span>\\n                                    <span class=\"data\">\\n                                        Xbox One\\n                                                                            </span>\\n                                </div>\\n                            \\n                            \\n                            <span>January 26, 2018</span>\\n\\n                            \\n                            \\n                        </div>\\n\\n                        <div class=\"summary\">\\n                        Help Madeline survive her journey to the top of Celeste Mountain in this super-tight, hand-crafted platformer from the creators of TowerFall.\\n                        </div>\\n\\n                        <div class=\"browse-score-clamp\">\\n                            <div class=\"clamp-metascore\">\\n                                <span class=\"title\">Metascore:</span>\\n                                \\n\\n        \\n    <a class=\"metascore_anchor\" href=\"/game/xbox-one/celeste/critic-reviews\">\\n<div class=\"metascore_w large game positive\">94</div>\\n    </a>\\n\\n                            </div>\\n                            <div class=\"clamp-userscore\">\\n                                <span class=\"title\">User Score:</span>\\n                                        \\n    <a class=\"metascore_anchor\" href=\"/game/xbox-one/celeste/user-reviews\">\\n<div class=\"metascore_w user large game positive\">7.7</div>\\n    </a>\\n     \\n                            </div>\\n                        </div>\\n\\n                        <i class=\"fa fa-caret-up\" aria-hidden=\"true\"></i>\\n                        <i class=\"fa fa-caret-down\" aria-hidden=\"true\"></i>\\n                        <label for=\"518827\" class=\"clamp-list-expand-label\"></label>\\n                    </td>\\n                </tr>\\n                                    <tr class=\"spacer\"></tr>\\n                             \\n                                \\n            \\n            \\n            \\n\\n                \\n             \\n                <tr>                    \\n                    <td class=\"clamp-image-wrap\">\\n                        <a href=\"/game/playstation-3/bioshock\"><img src=\"https://static.metacritic.com/images/products/games/9/b0e29872db264f3793559037aed1527b-98.jpg\" alt=\"BioShock\" /></a>\\n\\n                                                                                    <span class=\"mcmust\">\\n                                    <img src=\"/images/icons/mc-mustplay-sm.svg\" />\\n                                </span>\\n                                                                        </td>\\n\\n                    <td class=\"clamp-summary-wrap\">\\n\\n                        <input type=\"checkbox\" id=\"107719\" class=\"clamp-summary-expand\" />\\n                        <div class=\"clamp-score-wrap\">\\n                                                            \\n\\n        \\n    <a class=\"metascore_anchor\" href=\"/game/playstation-3/bioshock/critic-reviews\">\\n<div class=\"metascore_w large game positive\">94</div>\\n    </a>\\n\\n                                                    </div>\\n\\n                                                    <span class=\"title numbered\">\\n                                                                    89.\\n                                                            </span>\\n                        \\n                        <a href=\"/game/playstation-3/bioshock\" class=\"title\"><h3>BioShock</h3></a>\\n\\n                        <div class=\"clamp-details\">\\n                            \\n                            \\n                            \\n                                                            <div class=\"platform\">\\n                                    <span class=\"label\">Platform:</span>\\n                                    <span class=\"data\">\\n                                        PlayStation 3\\n                                                                            </span>\\n                                </div>\\n                            \\n                            \\n                            <span>October 21, 2008</span>\\n\\n                            \\n                            \\n                        </div>\\n\\n                        <div class=\"summary\">\\n                        Going beyond \"run and gun corridors,\" \"monster-closet AIs\" and static worlds, BioShock creates a living, unique and unpredictable FPS experience. After your plane crashes into icy uncharted waters, you discover a rusted bathysphere and descend into Rapture, a city hidden beneath the sea. Constructed as an idealistic society for a hand picked group of scientists, artists and industrialists, the idealism is no more. Now the city is littered with corpses, wildly powerful guardians roam the corridors as little girls loot the dead, and genetically mutated citizens ambush you at every turn. Take control of your world by hacking mechanical devices, commandeering security turrets and crafting unique items critical to your very survival. Upgrade your weapons with ionic gels, explosives and toxins to customize them to the enemy and environment. Genetically modify your body through dozens of Plasmid Stations scattered throughout the city, empowering you with fantastic and often grotesque abilities. Explore a living world powered by Ecological A.I., where the inhabitants have interesting and consequential relationships with one another that impact your gameplay experience. Experience truly next generation graphics that vividly illustrate the forlorn art deco city, highlighted by the most detailed and realistic water effects ever developed in a video game. Make meaningful choices and mature decisions, ultimately culminating in the grand question: do you exploit the innocent survivors of Rapture...or save them? [2K Games]\\n                        </div>\\n\\n                        <div class=\"browse-score-clamp\">\\n                            <div class=\"clamp-metascore\">\\n                                <span class=\"title\">Metascore:</span>\\n                                \\n\\n        \\n    <a class=\"metascore_anchor\" href=\"/game/playstation-3/bioshock/critic-reviews\">\\n<div class=\"metascore_w large game positive\">94</div>\\n    </a>\\n\\n                            </div>\\n                            <div class=\"clamp-userscore\">\\n                                <span class=\"title\">User Score:</span>\\n                                        \\n    <a class=\"metascore_anchor\" href=\"/game/playstation-3/bioshock/user-reviews\">\\n<div class=\"metascore_w user large game positive\">9.0</div>\\n    </a>\\n     \\n                            </div>\\n                        </div>\\n\\n                        <i class=\"fa fa-caret-up\" aria-hidden=\"true\"></i>\\n                        <i class=\"fa fa-caret-down\" aria-hidden=\"true\"></i>\\n                        <label for=\"107719\" class=\"clamp-list-expand-label\"></label>\\n                    </td>\\n                </tr>\\n                                    <tr class=\"spacer\"></tr>\\n                             \\n                                \\n            \\n            \\n            \\n\\n                \\n             \\n                <tr>                    \\n                    <td class=\"clamp-image-wrap\">\\n                        <a href=\"/game/playstation-3/mass-effect-2\"><img src=\"https://static.metacritic.com/images/products/games/0/45fa44d3386c1d7144d3599a7364bd36-98.jpg\" alt=\"Mass Effect 2\" /></a>\\n\\n                                                                                    <span class=\"mcmust\">\\n                                    <img src=\"/images/icons/mc-mustplay-sm.svg\" />\\n                                </span>\\n                                                                        </td>\\n\\n                    <td class=\"clamp-summary-wrap\">\\n\\n                        <input type=\"checkbox\" id=\"154720\" class=\"clamp-summary-expand\" />\\n                        <div class=\"clamp-score-wrap\">\\n                                                            \\n\\n        \\n    <a class=\"metascore_anchor\" href=\"/game/playstation-3/mass-effect-2/critic-reviews\">\\n<div class=\"metascore_w large game positive\">94</div>\\n    </a>\\n\\n                                                    </div>\\n\\n                                                    <span class=\"title numbered\">\\n                                                                    90.\\n                                                            </span>\\n                        \\n                        <a href=\"/game/playstation-3/mass-effect-2\" class=\"title\"><h3>Mass Effect 2</h3></a>\\n\\n                        <div class=\"clamp-details\">\\n                            \\n                            \\n                            \\n                                                            <div class=\"platform\">\\n                                    <span class=\"label\">Platform:</span>\\n                                    <span class=\"data\">\\n                                        PlayStation 3\\n                                                                            </span>\\n                                </div>\\n                            \\n                            \\n                            <span>January 17, 2011</span>\\n\\n                            \\n                            \\n                        </div>\\n\\n                        <div class=\"summary\">\\n                        The Mass Effect trilogy is an emotionally charged science fiction adventure set in a vast universe filled with dangerous alien life and mysterious, uncharted planets. In Mass Effect 2, players will once again step into the role of the heroic Commander Shepard, commanding their crew of some of the most dangerous operatives from across the galaxy on a mission so challenging that it\\'s potentially suicidal. Featuring intense shooter action, a rich futuristic storyline, space exploration and emotionally engaging character interaction, the game delivers an unparalleled cinematic experience. \\n                        </div>\\n\\n                        <div class=\"browse-score-clamp\">\\n                            <div class=\"clamp-metascore\">\\n                                <span class=\"title\">Metascore:</span>\\n                                \\n\\n        \\n    <a class=\"metascore_anchor\" href=\"/game/playstation-3/mass-effect-2/critic-reviews\">\\n<div class=\"metascore_w large game positive\">94</div>\\n    </a>\\n\\n                            </div>\\n                            <div class=\"clamp-userscore\">\\n                                <span class=\"title\">User Score:</span>\\n                                        \\n    <a class=\"metascore_anchor\" href=\"/game/playstation-3/mass-effect-2/user-reviews\">\\n<div class=\"metascore_w user large game positive\">8.7</div>\\n    </a>\\n     \\n                            </div>\\n                        </div>\\n\\n                        <i class=\"fa fa-caret-up\" aria-hidden=\"true\"></i>\\n                        <i class=\"fa fa-caret-down\" aria-hidden=\"true\"></i>\\n                        <label for=\"154720\" class=\"clamp-list-expand-label\"></label>\\n                    </td>\\n                </tr>\\n                                    <tr class=\"spacer\"></tr>\\n                             \\n                                \\n            \\n            \\n            \\n\\n                \\n             \\n                <tr>                    \\n                    <td class=\"clamp-image-wrap\">\\n                        <a href=\"/game/pc/grand-theft-auto-vice-city\"><img src=\"https://static.metacritic.com/images/products/games/4/a11e316b5dce587c8664323b4fd3230e-98.jpg\" alt=\"Grand Theft Auto: Vice City\" /></a>\\n\\n                                                                                    <span class=\"mcmust\">\\n                                    <img src=\"/images/icons/mc-mustplay-sm.svg\" />\\n                                </span>\\n                                                                        </td>\\n\\n                    <td class=\"clamp-summary-wrap\">\\n\\n                        <input type=\"checkbox\" id=\"102374\" class=\"clamp-summary-expand\" />\\n                        <div class=\"clamp-score-wrap\">\\n                                                            \\n\\n        \\n    <a class=\"metascore_anchor\" href=\"/game/pc/grand-theft-auto-vice-city/critic-reviews\">\\n<div class=\"metascore_w large game positive\">94</div>\\n    </a>\\n\\n                                                    </div>\\n\\n                                                    <span class=\"title numbered\">\\n                                                                    91.\\n                                                            </span>\\n                        \\n                        <a href=\"/game/pc/grand-theft-auto-vice-city\" class=\"title\"><h3>Grand Theft Auto: Vice City</h3></a>\\n\\n                        <div class=\"clamp-details\">\\n                            \\n                            \\n                            \\n                                                            <div class=\"platform\">\\n                                    <span class=\"label\">Platform:</span>\\n                                    <span class=\"data\">\\n                                        PC\\n                                                                            </span>\\n                                </div>\\n                            \\n                            \\n                            <span>May 12, 2003</span>\\n\\n                            \\n                            \\n                        </div>\\n\\n                        <div class=\"summary\">\\n                        [Metacritic\\'s 2003 PC Game of the Year] The PC version has enhanced features including improved graphics and sound, additional PC controls, as well as several options for players to customize the game. \"Welcome to Vice City. Welcome to the 1980s.\" Having just made it back onto the streets of Liberty City after a long stretch in maximum security, Tommy Vercetti is sent to Vice City by his old boss, Sonny Forelli. They were understandably nervous about his re-appearance in Liberty City, so a trip down south seemed like a good idea. But all does not go smoothly upon his arrival in the glamorous, hedonistic metropolis of Vice City. He\\'s set up and is left with no money and no merchandise. Sonny wants his money back, but the biker gangs, Cuban gangsters, and corrupt politicians stand in his way. Most of Vice City seems to want Tommy dead. His only answer is to fight back and take over the city himself. Vice City offers vehicular pleasures to suit every taste. For the speed enthusiast, there\\'s high-performance cars and motorbikes. For the sportsman, a powerboat or a golf buggy lets you enjoy the great outdoors. For those that need that sense of freedom and escape, why not charter a helicopter and see the beauty of Vice City from the air? [Rockstar]\\n                        </div>\\n\\n                        <div class=\"browse-score-clamp\">\\n                            <div class=\"clamp-metascore\">\\n                                <span class=\"title\">Metascore:</span>\\n                                \\n\\n        \\n    <a class=\"metascore_anchor\" href=\"/game/pc/grand-theft-auto-vice-city/critic-reviews\">\\n<div class=\"metascore_w large game positive\">94</div>\\n    </a>\\n\\n                            </div>\\n                            <div class=\"clamp-userscore\">\\n                                <span class=\"title\">User Score:</span>\\n                                        \\n    <a class=\"metascore_anchor\" href=\"/game/pc/grand-theft-auto-vice-city/user-reviews\">\\n<div class=\"metascore_w user large game positive\">8.7</div>\\n    </a>\\n     \\n                            </div>\\n                        </div>\\n\\n                        <i class=\"fa fa-caret-up\" aria-hidden=\"true\"></i>\\n                        <i class=\"fa fa-caret-down\" aria-hidden=\"true\"></i>\\n                        <label for=\"102374\" class=\"clamp-list-expand-label\"></label>\\n                    </td>\\n                </tr>\\n                                    <tr class=\"spacer\"></tr>\\n                             \\n                                \\n            \\n            \\n            \\n\\n                \\n             \\n                <tr>                    \\n                    <td class=\"clamp-image-wrap\">\\n                        <a href=\"/game/playstation-2/madden-nfl-2004\"><img src=\"https://static.metacritic.com/images/products/games/7/511dce1d2f29806ff6d85441be83eac7-98.jpg\" alt=\"Madden NFL 2004\" /></a>\\n\\n                                                                                    <span class=\"mcmust\">\\n                                    <img src=\"/images/icons/mc-mustplay-sm.svg\" />\\n                                </span>\\n                                                                        </td>\\n\\n                    <td class=\"clamp-summary-wrap\">\\n\\n                        <input type=\"checkbox\" id=\"103067\" class=\"clamp-summary-expand\" />\\n                        <div class=\"clamp-score-wrap\">\\n                                                            \\n\\n        \\n    <a class=\"metascore_anchor\" href=\"/game/playstation-2/madden-nfl-2004/critic-reviews\">\\n<div class=\"metascore_w large game positive\">94</div>\\n    </a>\\n\\n                                                    </div>\\n\\n                                                    <span class=\"title numbered\">\\n                                                                    92.\\n                                                            </span>\\n                        \\n                        <a href=\"/game/playstation-2/madden-nfl-2004\" class=\"title\"><h3>Madden NFL 2004</h3></a>\\n\\n                        <div class=\"clamp-details\">\\n                            \\n                            \\n                            \\n                                                            <div class=\"platform\">\\n                                    <span class=\"label\">Platform:</span>\\n                                    <span class=\"data\">\\n                                        PlayStation 2\\n                                                                            </span>\\n                                </div>\\n                            \\n                            \\n                            <span>August 12, 2003</span>\\n\\n                            \\n                            \\n                        </div>\\n\\n                        <div class=\"summary\">\\n                        [Metacritic\\'s 2003 Playstation 2 Game of the Year] Key Features for 2004 include New Playmaker Control - Make pre-snap adjustments to your receiver routes, direct receiver routes during a scramble, direct blocking down field during a run, or read and react to the offense to deliver a crushing tackle; New Owner Mode - Hire your own staff, set your team\\'s ticket prices, build your own stadium, reward key players with signing bonuses and boost player attributes in Mini-Camp drills; Most Realistic NFL Playbooks Ever -  Tons of new trick plays, multiple formation variations, and the deepest NFL playbooks from all 32 officially licensed Coaches Club Head Coaches; New Animations and Enhancements - New QB scramble transitions to improve throwing on the run, stumbles, open field blocks, whirlwind defensive reaction moves, sideline wrap tackles, and out of bound pushes. [Electronic Arts]\\n                        </div>\\n\\n                        <div class=\"browse-score-clamp\">\\n                            <div class=\"clamp-metascore\">\\n                                <span class=\"title\">Metascore:</span>\\n                                \\n\\n        \\n    <a class=\"metascore_anchor\" href=\"/game/playstation-2/madden-nfl-2004/critic-reviews\">\\n<div class=\"metascore_w large game positive\">94</div>\\n    </a>\\n\\n                            </div>\\n                            <div class=\"clamp-userscore\">\\n                                <span class=\"title\">User Score:</span>\\n                                        \\n    <a class=\"metascore_anchor\" href=\"/game/playstation-2/madden-nfl-2004/user-reviews\">\\n<div class=\"metascore_w user large game positive\">8.2</div>\\n    </a>\\n     \\n                            </div>\\n                        </div>\\n\\n                        <i class=\"fa fa-caret-up\" aria-hidden=\"true\"></i>\\n                        <i class=\"fa fa-caret-down\" aria-hidden=\"true\"></i>\\n                        <label for=\"103067\" class=\"clamp-list-expand-label\"></label>\\n                    </td>\\n                </tr>\\n                                    <tr class=\"spacer\"></tr>\\n                             \\n                                \\n            \\n            \\n            \\n\\n                \\n             \\n                <tr>                    \\n                    <td class=\"clamp-image-wrap\">\\n                        <a href=\"/game/xbox-360/gears-of-war\"><img src=\"https://static.metacritic.com/images/products/games/5/4e6253bf2efe800e05d4c2270a52a674-98.jpg\" alt=\"Gears of War\" /></a>\\n\\n                                                                                    <span class=\"mcmust\">\\n                                    <img src=\"/images/icons/mc-mustplay-sm.svg\" />\\n                                </span>\\n                                                                        </td>\\n\\n                    <td class=\"clamp-summary-wrap\">\\n\\n                        <input type=\"checkbox\" id=\"106645\" class=\"clamp-summary-expand\" />\\n                        <div class=\"clamp-score-wrap\">\\n                                                            \\n\\n        \\n    <a class=\"metascore_anchor\" href=\"/game/xbox-360/gears-of-war/critic-reviews\">\\n<div class=\"metascore_w large game positive\">94</div>\\n    </a>\\n\\n                                                    </div>\\n\\n                                                    <span class=\"title numbered\">\\n                                                                    93.\\n                                                            </span>\\n                        \\n                        <a href=\"/game/xbox-360/gears-of-war\" class=\"title\"><h3>Gears of War</h3></a>\\n\\n                        <div class=\"clamp-details\">\\n                            \\n                            \\n                            \\n                                                            <div class=\"platform\">\\n                                    <span class=\"label\">Platform:</span>\\n                                    <span class=\"data\">\\n                                        Xbox 360\\n                                                                            </span>\\n                                </div>\\n                            \\n                            \\n                            <span>November 7, 2006</span>\\n\\n                            \\n                            \\n                        </div>\\n\\n                        <div class=\"summary\">\\n                        Gears of War blends tactical action with survival horror and thrusts gamers into a deep and harrowing story of humankind\\'s epic battle for survival against the Locust Horde, a nightmarish race of creatures that surface from the bowels of the planet. Lead war hero Marcus Fenix and his fire team as they face the onslaught of merciless warrior fiends. A revolutionary tactical combat system and breathtaking, high-definition visuals from the Unreal Engine 3 immerse you in a horrifying story of war and survival. A.I. teammates are indiscernable from human players. Voice recognition and real-time lip synching heighten the experience. The battlefield is a lethal place. To survive, suppress your enemy with blindfire, take cover in interactive environments, or use weapons and teammates to outwit your foes. [Microsoft]\\n                        </div>\\n\\n                        <div class=\"browse-score-clamp\">\\n                            <div class=\"clamp-metascore\">\\n                                <span class=\"title\">Metascore:</span>\\n                                \\n\\n        \\n    <a class=\"metascore_anchor\" href=\"/game/xbox-360/gears-of-war/critic-reviews\">\\n<div class=\"metascore_w large game positive\">94</div>\\n    </a>\\n\\n                            </div>\\n                            <div class=\"clamp-userscore\">\\n                                <span class=\"title\">User Score:</span>\\n                                        \\n    <a class=\"metascore_anchor\" href=\"/game/xbox-360/gears-of-war/user-reviews\">\\n<div class=\"metascore_w user large game positive\">8.4</div>\\n    </a>\\n     \\n                            </div>\\n                        </div>\\n\\n                        <i class=\"fa fa-caret-up\" aria-hidden=\"true\"></i>\\n                        <i class=\"fa fa-caret-down\" aria-hidden=\"true\"></i>\\n                        <label for=\"106645\" class=\"clamp-list-expand-label\"></label>\\n                    </td>\\n                </tr>\\n                                    <tr class=\"spacer\"></tr>\\n                             \\n                                \\n            \\n            \\n            \\n\\n                \\n             \\n                <tr>                    \\n                    <td class=\"clamp-image-wrap\">\\n                        <a href=\"/game/xbox-360/the-elder-scrolls-iv-oblivion\"><img src=\"https://static.metacritic.com/images/products/games/2/180b7a5751235c7f2322eb652070c833-98.jpg\" alt=\"The Elder Scrolls IV: Oblivion\" /></a>\\n\\n                                                                                    <span class=\"mcmust\">\\n                                    <img src=\"/images/icons/mc-mustplay-sm.svg\" />\\n                                </span>\\n                                                                        </td>\\n\\n                    <td class=\"clamp-summary-wrap\">\\n\\n                        <input type=\"checkbox\" id=\"106222\" class=\"clamp-summary-expand\" />\\n                        <div class=\"clamp-score-wrap\">\\n                                                            \\n\\n        \\n    <a class=\"metascore_anchor\" href=\"/game/xbox-360/the-elder-scrolls-iv-oblivion/critic-reviews\">\\n<div class=\"metascore_w large game positive\">94</div>\\n    </a>\\n\\n                                                    </div>\\n\\n                                                    <span class=\"title numbered\">\\n                                                                    94.\\n                                                            </span>\\n                        \\n                        <a href=\"/game/xbox-360/the-elder-scrolls-iv-oblivion\" class=\"title\"><h3>The Elder Scrolls IV: Oblivion</h3></a>\\n\\n                        <div class=\"clamp-details\">\\n                            \\n                            \\n                            \\n                                                            <div class=\"platform\">\\n                                    <span class=\"label\">Platform:</span>\\n                                    <span class=\"data\">\\n                                        Xbox 360\\n                                                                            </span>\\n                                </div>\\n                            \\n                            \\n                            <span>March 20, 2006</span>\\n\\n                            \\n                            \\n                        </div>\\n\\n                        <div class=\"summary\">\\n                        Oblivion is a single-player game that takes place in Tamriel\\'s capital province, Cyrodiil. You are given the task of finding the hidden heir to a throne that sits empty, the previous emperor having been killed by an unknown assassin. With no true Emperor, the gates to Oblivion (the equivalent of hell in the world of Tamriel) open, and demons begin to invade Cyrodiil and attack its people and towns. It\\'s up to you to find the lost heir to the throne and unravel the sinister plot that threatens to destroy all of Tamriel. In keeping with the Elder Scrolls tradition, players have the option to experience the main quest at their own pace, and there are plenty of opportunities to explore the vast world and make your own way. Numerous factions can be joined, such as the thieves or mages guilds, and each contains its own complete storyline and the chance to rise to the head of the faction and reap further rewards. Oblivion features a groundbreaking new AI system, called Radiant AI, which gives non-player characters (NPCs) the ability to make their own choices based on the world around them. They decide where to eat or who to talk to and what they say. They sleep, go to church, and even steal items, all based on their individual characteristics. Full facial animations and lip-synching, combined with full speech for all dialog, allows NPCs to come to life like never before. [Bethesda]\\n                        </div>\\n\\n                        <div class=\"browse-score-clamp\">\\n                            <div class=\"clamp-metascore\">\\n                                <span class=\"title\">Metascore:</span>\\n                                \\n\\n        \\n    <a class=\"metascore_anchor\" href=\"/game/xbox-360/the-elder-scrolls-iv-oblivion/critic-reviews\">\\n<div class=\"metascore_w large game positive\">94</div>\\n    </a>\\n\\n                            </div>\\n                            <div class=\"clamp-userscore\">\\n                                <span class=\"title\">User Score:</span>\\n                                        \\n    <a class=\"metascore_anchor\" href=\"/game/xbox-360/the-elder-scrolls-iv-oblivion/user-reviews\">\\n<div class=\"metascore_w user large game positive\">8.8</div>\\n    </a>\\n     \\n                            </div>\\n                        </div>\\n\\n                        <i class=\"fa fa-caret-up\" aria-hidden=\"true\"></i>\\n                        <i class=\"fa fa-caret-down\" aria-hidden=\"true\"></i>\\n                        <label for=\"106222\" class=\"clamp-list-expand-label\"></label>\\n                    </td>\\n                </tr>\\n                                    <tr class=\"spacer\"></tr>\\n                             \\n                                \\n            \\n            \\n            \\n\\n                \\n             \\n                <tr>                    \\n                    <td class=\"clamp-image-wrap\">\\n                        <a href=\"/game/switch/persona-5-royal\"><img src=\"https://static.metacritic.com/images/products/games/2/f6bdfc45e376d1a9d53a44d531e64ab1-98.jpg\" alt=\"Persona 5 Royal\" /></a>\\n\\n                                                                                    <span class=\"mcmust\">\\n                                    <img src=\"/images/icons/mc-mustplay-sm.svg\" />\\n                                </span>\\n                                                                        </td>\\n\\n                    <td class=\"clamp-summary-wrap\">\\n\\n                        <input type=\"checkbox\" id=\"610182\" class=\"clamp-summary-expand\" />\\n                        <div class=\"clamp-score-wrap\">\\n                                                            \\n\\n        \\n    <a class=\"metascore_anchor\" href=\"/game/switch/persona-5-royal/critic-reviews\">\\n<div class=\"metascore_w large game positive\">94</div>\\n    </a>\\n\\n                                                    </div>\\n\\n                                                    <span class=\"title numbered\">\\n                                                                    95.\\n                                                            </span>\\n                        \\n                        <a href=\"/game/switch/persona-5-royal\" class=\"title\"><h3>Persona 5 Royal</h3></a>\\n\\n                        <div class=\"clamp-details\">\\n                            \\n                            \\n                            \\n                                                            <div class=\"platform\">\\n                                    <span class=\"label\">Platform:</span>\\n                                    <span class=\"data\">\\n                                        Switch\\n                                                                            </span>\\n                                </div>\\n                            \\n                            \\n                            <span>October 21, 2022</span>\\n\\n                            \\n                            \\n                        </div>\\n\\n                        <div class=\"summary\">\\n                        Forced to transfer to a high school in Tokyo, the protagonist has a strange dream. \"You truly are a prisoner of fate. In the near future, ruin awaits you.\" With the goal of \"rehabilitation\" looming overhead, he must save others from distorted desires by donning the mask of a Phantom Thief. \\r\\n\\r\\nPrepare for an all-new RPG experience in Persona 5 Royal based in the universe of the award-winning series, Persona! \\r\\n\\r\\nDon the mask of Joker and join the Phantom Thieves of Hearts. Break free from the chains of modern society and stage grand heists to infiltrate the minds of the corrupt and make them change their ways! Persona 5 Royal is packed with new characters, confidants, story depth, new locations to explore, and a new grappling hook mechanic for stealthy access to new areas. With a new semester at Shujin Academy, get ready to strengthen your abilities in the metaverse and in your daily life. \\r\\n\\r\\nPersona 5 Royal presents a unique visual style and award nominated composer Shoji Meguro returns with an all-new soundtrack. Explore Tokyo, unlock new Personas, customize your own personal Thieves Den, discover a never-before-seen story arc, cutscenes, alternate endings, and more! Even for the most seasoned Phantom Thieves among us, Persona 5 Royal is a new challenge to defy conventions, discover the power within, and fight for justice. Wear the mask. Reveal your truth.\\n                        </div>\\n\\n                        <div class=\"browse-score-clamp\">\\n                            <div class=\"clamp-metascore\">\\n                                <span class=\"title\">Metascore:</span>\\n                                \\n\\n        \\n    <a class=\"metascore_anchor\" href=\"/game/switch/persona-5-royal/critic-reviews\">\\n<div class=\"metascore_w large game positive\">94</div>\\n    </a>\\n\\n                            </div>\\n                            <div class=\"clamp-userscore\">\\n                                <span class=\"title\">User Score:</span>\\n                                        \\n    <a class=\"metascore_anchor\" href=\"/game/switch/persona-5-royal/user-reviews\">\\n<div class=\"metascore_w user large game positive\">8.3</div>\\n    </a>\\n     \\n                            </div>\\n                        </div>\\n\\n                        <i class=\"fa fa-caret-up\" aria-hidden=\"true\"></i>\\n                        <i class=\"fa fa-caret-down\" aria-hidden=\"true\"></i>\\n                        <label for=\"610182\" class=\"clamp-list-expand-label\"></label>\\n                    </td>\\n                </tr>\\n                                    <tr class=\"spacer\"></tr>\\n                             \\n                                \\n            \\n            \\n            \\n\\n                \\n             \\n                <tr>                    \\n                    <td class=\"clamp-image-wrap\">\\n                        <a href=\"/game/pc/sid-meiers-civilization-ii\"><img src=\"https://static.metacritic.com/images/products/games/2/a316dd672da65f4bec1495e9078467e7-98.jpg\" alt=\"Sid Meier\\'s Civilization II\" /></a>\\n\\n                                                                                                </td>\\n\\n                    <td class=\"clamp-summary-wrap\">\\n\\n                        <input type=\"checkbox\" id=\"100422\" class=\"clamp-summary-expand\" />\\n                        <div class=\"clamp-score-wrap\">\\n                                                            \\n\\n        \\n    <a class=\"metascore_anchor\" href=\"/game/pc/sid-meiers-civilization-ii/critic-reviews\">\\n<div class=\"metascore_w large game positive\">94</div>\\n    </a>\\n\\n                                                    </div>\\n\\n                                                    <span class=\"title numbered\">\\n                                                                    96.\\n                                                            </span>\\n                        \\n                        <a href=\"/game/pc/sid-meiers-civilization-ii\" class=\"title\"><h3>Sid Meier\\'s Civilization II</h3></a>\\n\\n                        <div class=\"clamp-details\">\\n                            \\n                            \\n                            \\n                                                            <div class=\"platform\">\\n                                    <span class=\"label\">Platform:</span>\\n                                    <span class=\"data\">\\n                                        PC\\n                                                                            </span>\\n                                </div>\\n                            \\n                            \\n                            <span>February 29, 1996</span>\\n\\n                            \\n                            \\n                        </div>\\n\\n                        <div class=\"summary\">\\n                        An empire-building turn-based strategy game. The game starts at the Old Stone Age in 4000 BC. Your tribe begins with a Settlers unit and has no knowledge about the surrounding area. As you found new cities and explore the surroundings, you may find hostile barbarians, villages, and other competing cultures. [Civ Fantatics\\' Center]\\n                        </div>\\n\\n                        <div class=\"browse-score-clamp\">\\n                            <div class=\"clamp-metascore\">\\n                                <span class=\"title\">Metascore:</span>\\n                                \\n\\n        \\n    <a class=\"metascore_anchor\" href=\"/game/pc/sid-meiers-civilization-ii/critic-reviews\">\\n<div class=\"metascore_w large game positive\">94</div>\\n    </a>\\n\\n                            </div>\\n                            <div class=\"clamp-userscore\">\\n                                <span class=\"title\">User Score:</span>\\n                                        \\n    <a class=\"metascore_anchor\" href=\"/game/pc/sid-meiers-civilization-ii/user-reviews\">\\n<div class=\"metascore_w user large game positive\">8.7</div>\\n    </a>\\n     \\n                            </div>\\n                        </div>\\n\\n                        <i class=\"fa fa-caret-up\" aria-hidden=\"true\"></i>\\n                        <i class=\"fa fa-caret-down\" aria-hidden=\"true\"></i>\\n                        <label for=\"100422\" class=\"clamp-list-expand-label\"></label>\\n                    </td>\\n                </tr>\\n                                    <tr class=\"spacer\"></tr>\\n                             \\n                                \\n            \\n            \\n            \\n\\n                \\n             \\n                <tr>                    \\n                    <td class=\"clamp-image-wrap\">\\n                        <a href=\"/game/pc/quake\"><img src=\"https://static.metacritic.com/images/products/games/3/019b99bac78077f18f055b1c4019c0c7-98.jpg\" alt=\"Quake\" /></a>\\n\\n                                                                                                </td>\\n\\n                    <td class=\"clamp-summary-wrap\">\\n\\n                        <input type=\"checkbox\" id=\"100003\" class=\"clamp-summary-expand\" />\\n                        <div class=\"clamp-score-wrap\">\\n                                                            \\n\\n        \\n    <a class=\"metascore_anchor\" href=\"/game/pc/quake/critic-reviews\">\\n<div class=\"metascore_w large game positive\">94</div>\\n    </a>\\n\\n                                                    </div>\\n\\n                                                    <span class=\"title numbered\">\\n                                                                    97.\\n                                                            </span>\\n                        \\n                        <a href=\"/game/pc/quake\" class=\"title\"><h3>Quake</h3></a>\\n\\n                        <div class=\"clamp-details\">\\n                            \\n                            \\n                            \\n                                                            <div class=\"platform\">\\n                                    <span class=\"label\">Platform:</span>\\n                                    <span class=\"data\">\\n                                        PC\\n                                                                            </span>\\n                                </div>\\n                            \\n                            \\n                            <span>June 22, 1996</span>\\n\\n                            \\n                            \\n                        </div>\\n\\n                        <div class=\"summary\">\\n                        Rage through 32 single player levels and 6 deathmatch levels of sheer terror and fully immersive sound and lighting. Arm yourself against the cannibalistic Ogre, fiendish Vore and indestructible Schambler using letal nails, fierce Thunderbolts and abominable Rocket and Grenade Launchers. [id Software]\\n                        </div>\\n\\n                        <div class=\"browse-score-clamp\">\\n                            <div class=\"clamp-metascore\">\\n                                <span class=\"title\">Metascore:</span>\\n                                \\n\\n        \\n    <a class=\"metascore_anchor\" href=\"/game/pc/quake/critic-reviews\">\\n<div class=\"metascore_w large game positive\">94</div>\\n    </a>\\n\\n                            </div>\\n                            <div class=\"clamp-userscore\">\\n                                <span class=\"title\">User Score:</span>\\n                                        \\n    <a class=\"metascore_anchor\" href=\"/game/pc/quake/user-reviews\">\\n<div class=\"metascore_w user large game positive\">8.7</div>\\n    </a>\\n     \\n                            </div>\\n                        </div>\\n\\n                        <i class=\"fa fa-caret-up\" aria-hidden=\"true\"></i>\\n                        <i class=\"fa fa-caret-down\" aria-hidden=\"true\"></i>\\n                        <label for=\"100003\" class=\"clamp-list-expand-label\"></label>\\n                    </td>\\n                </tr>\\n                                    <tr class=\"spacer\"></tr>\\n                             \\n                                \\n            \\n            \\n            \\n\\n                \\n             \\n                <tr>                    \\n                    <td class=\"clamp-image-wrap\">\\n                        <a href=\"/game/xbox-360/call-of-duty-4-modern-warfare\"><img src=\"https://static.metacritic.com/images/products/games/2/4c04508ffbb8d2f01fc7abc652f6d53d-98.jpg\" alt=\"Call of Duty 4: Modern Warfare\" /></a>\\n\\n                                                                                    <span class=\"mcmust\">\\n                                    <img src=\"/images/icons/mc-mustplay-sm.svg\" />\\n                                </span>\\n                                                                        </td>\\n\\n                    <td class=\"clamp-summary-wrap\">\\n\\n                        <input type=\"checkbox\" id=\"110052\" class=\"clamp-summary-expand\" />\\n                        <div class=\"clamp-score-wrap\">\\n                                                            \\n\\n        \\n    <a class=\"metascore_anchor\" href=\"/game/xbox-360/call-of-duty-4-modern-warfare/critic-reviews\">\\n<div class=\"metascore_w large game positive\">94</div>\\n    </a>\\n\\n                                                    </div>\\n\\n                                                    <span class=\"title numbered\">\\n                                                                    98.\\n                                                            </span>\\n                        \\n                        <a href=\"/game/xbox-360/call-of-duty-4-modern-warfare\" class=\"title\"><h3>Call of Duty 4: Modern Warfare</h3></a>\\n\\n                        <div class=\"clamp-details\">\\n                            \\n                            \\n                            \\n                                                            <div class=\"platform\">\\n                                    <span class=\"label\">Platform:</span>\\n                                    <span class=\"data\">\\n                                        Xbox 360\\n                                                                            </span>\\n                                </div>\\n                            \\n                            \\n                            <span>November 5, 2007</span>\\n\\n                            \\n                            \\n                        </div>\\n\\n                        <div class=\"summary\">\\n                        As Call of Duty 4: Modern Warfare\\'s single player campaign unfolds, the player is introduced to new gameplay at every turn – one moment you are fast-roping from your Black Hawk helicopter after storming into the war zone with an armada of choppers, the next you are a sniper, under concealment, in a Ghillie suit miles behind enemy lines, the next you are engaging hostiles from an AC-130 gunship thousands of feet above the battlefield. Mixed with explosive action, Call of Duty 4: Modern Warfare also delivers special effects, including use of depth of field, rim-lighting, character self-shadowing, real time post-processing, texture streaming as well as physics-enabled effects. Infinity Ward deployed a dedicated team from the start to deliver a new level of depth to multiplayer. Building on the hit \"Call of Duty 2\" online experience, Call of Duty 4: Modern Warfare\\'s new multiplayer provides the community an addictive and accessible experience to gamers of all levels. [Activision]\\n                        </div>\\n\\n                        <div class=\"browse-score-clamp\">\\n                            <div class=\"clamp-metascore\">\\n                                <span class=\"title\">Metascore:</span>\\n                                \\n\\n        \\n    <a class=\"metascore_anchor\" href=\"/game/xbox-360/call-of-duty-4-modern-warfare/critic-reviews\">\\n<div class=\"metascore_w large game positive\">94</div>\\n    </a>\\n\\n                            </div>\\n                            <div class=\"clamp-userscore\">\\n                                <span class=\"title\">User Score:</span>\\n                                        \\n    <a class=\"metascore_anchor\" href=\"/game/xbox-360/call-of-duty-4-modern-warfare/user-reviews\">\\n<div class=\"metascore_w user large game positive\">8.5</div>\\n    </a>\\n     \\n                            </div>\\n                        </div>\\n\\n                        <i class=\"fa fa-caret-up\" aria-hidden=\"true\"></i>\\n                        <i class=\"fa fa-caret-down\" aria-hidden=\"true\"></i>\\n                        <label for=\"110052\" class=\"clamp-list-expand-label\"></label>\\n                    </td>\\n                </tr>\\n                                    <tr class=\"spacer\"></tr>\\n                             \\n                                \\n            \\n            \\n            \\n\\n                \\n             \\n                <tr>                    \\n                    <td class=\"clamp-image-wrap\">\\n                        <a href=\"/game/pc/bioshock-infinite\"><img src=\"https://static.metacritic.com/images/products/games/8/d6db22b96a880fa7fb6d577591e181e2-98.jpg\" alt=\"BioShock Infinite\" /></a>\\n\\n                                                                                    <span class=\"mcmust\">\\n                                    <img src=\"/images/icons/mc-mustplay-sm.svg\" />\\n                                </span>\\n                                                                        </td>\\n\\n                    <td class=\"clamp-summary-wrap\">\\n\\n                        <input type=\"checkbox\" id=\"154578\" class=\"clamp-summary-expand\" />\\n                        <div class=\"clamp-score-wrap\">\\n                                                            \\n\\n        \\n    <a class=\"metascore_anchor\" href=\"/game/pc/bioshock-infinite/critic-reviews\">\\n<div class=\"metascore_w large game positive\">94</div>\\n    </a>\\n\\n                                                    </div>\\n\\n                                                    <span class=\"title numbered\">\\n                                                                    99.\\n                                                            </span>\\n                        \\n                        <a href=\"/game/pc/bioshock-infinite\" class=\"title\"><h3>BioShock Infinite</h3></a>\\n\\n                        <div class=\"clamp-details\">\\n                            \\n                            \\n                            \\n                                                            <div class=\"platform\">\\n                                    <span class=\"label\">Platform:</span>\\n                                    <span class=\"data\">\\n                                        PC\\n                                                                            </span>\\n                                </div>\\n                            \\n                            \\n                            <span>March 25, 2013</span>\\n\\n                            \\n                            \\n                        </div>\\n\\n                        <div class=\"summary\">\\n                        Initially conceived as a floating symbol of American ideals at a time when the United States was emerging as a world power, Columbia is sent to distant shores with great fanfare by a captivated public.  What begins as a fresh new endeavor of hope turns drastically wrong as the city soon disappears into the clouds to whereabouts unknown. The player takes on the role of former Pinkerton agent Booker DeWitt, sent to the lost city to rescue Elizabeth, a young lady imprisoned there since her childhood. He develops a relationship with Elizabeth, enhancing his abilities with hers so the pair may escape from a city that is literally falling from the sky. DeWitt has to learn to fight foes in high-speed Sky-Line battles, engage in combat both indoors and amongst the clouds, and harness the power of a myriad of new weapons and abilities.\\r\\n\\n                        </div>\\n\\n                        <div class=\"browse-score-clamp\">\\n                            <div class=\"clamp-metascore\">\\n                                <span class=\"title\">Metascore:</span>\\n                                \\n\\n        \\n    <a class=\"metascore_anchor\" href=\"/game/pc/bioshock-infinite/critic-reviews\">\\n<div class=\"metascore_w large game positive\">94</div>\\n    </a>\\n\\n                            </div>\\n                            <div class=\"clamp-userscore\">\\n                                <span class=\"title\">User Score:</span>\\n                                        \\n    <a class=\"metascore_anchor\" href=\"/game/pc/bioshock-infinite/user-reviews\">\\n<div class=\"metascore_w user large game positive\">8.6</div>\\n    </a>\\n     \\n                            </div>\\n                        </div>\\n\\n                        <i class=\"fa fa-caret-up\" aria-hidden=\"true\"></i>\\n                        <i class=\"fa fa-caret-down\" aria-hidden=\"true\"></i>\\n                        <label for=\"154578\" class=\"clamp-list-expand-label\"></label>\\n                    </td>\\n                </tr>\\n                                    <tr class=\"spacer\"></tr>\\n                             \\n                                \\n            \\n            \\n            \\n\\n                \\n             \\n                <tr>                    \\n                    <td class=\"clamp-image-wrap\">\\n                        <a href=\"/game/xbox-360/halo-3\"><img src=\"https://static.metacritic.com/images/products/games/6/23421b773cd4739a8a3c4e064fc93d9f-98.jpg\" alt=\"Halo 3\" /></a>\\n\\n                                                                                    <span class=\"mcmust\">\\n                                    <img src=\"/images/icons/mc-mustplay-sm.svg\" />\\n                                </span>\\n                                                                        </td>\\n\\n                    <td class=\"clamp-summary-wrap\">\\n\\n                        <input type=\"checkbox\" id=\"106026\" class=\"clamp-summary-expand\" />\\n                        <div class=\"clamp-score-wrap\">\\n                                                            \\n\\n        \\n    <a class=\"metascore_anchor\" href=\"/game/xbox-360/halo-3/critic-reviews\">\\n<div class=\"metascore_w large game positive\">94</div>\\n    </a>\\n\\n                                                    </div>\\n\\n                                                    <span class=\"title numbered\">\\n                                                                    100.\\n                                                            </span>\\n                        \\n                        <a href=\"/game/xbox-360/halo-3\" class=\"title\"><h3>Halo 3</h3></a>\\n\\n                        <div class=\"clamp-details\">\\n                            \\n                            \\n                            \\n                                                            <div class=\"platform\">\\n                                    <span class=\"label\">Platform:</span>\\n                                    <span class=\"data\">\\n                                        Xbox 360\\n                                                                            </span>\\n                                </div>\\n                            \\n                            \\n                            <span>September 25, 2007</span>\\n\\n                            \\n                            \\n                        </div>\\n\\n                        <div class=\"summary\">\\n                        Halo 3 is the third game in the Halo Trilogy and provides the thrilling conclusion to the events begun in \"Halo: Combat Evolved.\" Halo 3 picks up where \"Halo 2\" left off. The Master Chief is returning to Earth to finish the fight. The Covenant occupation of Earth has uncovered a massive and ancient object beneath the African sands - an object who\\'s secrets have yet to be revealed. Earth\\'s forces are battered and beaten. The Master Chief\\'s AI companion Cortana is still trapped in the clutches of the Gravemind - a horrifying Flood intelligence, and a civil war is raging in the heart of the Covenant. This is how the world ends... [Bungie]\\n                        </div>\\n\\n                        <div class=\"browse-score-clamp\">\\n                            <div class=\"clamp-metascore\">\\n                                <span class=\"title\">Metascore:</span>\\n                                \\n\\n        \\n    <a class=\"metascore_anchor\" href=\"/game/xbox-360/halo-3/critic-reviews\">\\n<div class=\"metascore_w large game positive\">94</div>\\n    </a>\\n\\n                            </div>\\n                            <div class=\"clamp-userscore\">\\n                                <span class=\"title\">User Score:</span>\\n                                        \\n    <a class=\"metascore_anchor\" href=\"/game/xbox-360/halo-3/user-reviews\">\\n<div class=\"metascore_w user large game positive\">8.2</div>\\n    </a>\\n     \\n                            </div>\\n                        </div>\\n\\n                        <i class=\"fa fa-caret-up\" aria-hidden=\"true\"></i>\\n                        <i class=\"fa fa-caret-down\" aria-hidden=\"true\"></i>\\n                        <label for=\"106026\" class=\"clamp-list-expand-label\"></label>\\n                    </td>\\n                </tr>\\n                             \\n            </table>\\n</div>\\n\\r\\n\\r\\n                        <div class=\"marg_top1\">\\r\\n                            <div class=\"page_nav\">\\n    <div class=\"page_nav_wrap\">\\n        <div class=\"page_flipper\">\\n                            <span class=\"flipper prev\"><span class=\"action\"><span class=\"text\">prev</span></span></span>\\n                                        <span class=\"flipper next\"><a class=\"action\" rel=\"next\" href=\"/browse/games/score/metascore/all/all/filtered?page=1\"><span class=\"text\">next</span></a></span>\\n                    </div>\\n        <div class=\"pages\">\\n            <div class=\"label\">Page:</div>\\n            <ul class=\"pages\"><li class=\"page first_page active_page\"><span class=\"page_num\">1</span></li><li class=\"page\"><a class=\"page_num\" href=\"/browse/games/score/metascore/all/all/filtered?page=1\">2</a></li><li class=\"page\"><a class=\"page_num\" href=\"/browse/games/score/metascore/all/all/filtered?page=2\">3</a></li><li class=\"page\"><a class=\"page_num\" href=\"/browse/games/score/metascore/all/all/filtered?page=3\">4</a></li><li class=\"page\"><a class=\"page_num\" href=\"/browse/games/score/metascore/all/all/filtered?page=4\">5</a></li><li class=\"page\"><a class=\"page_num\" href=\"/browse/games/score/metascore/all/all/filtered?page=5\">6</a></li><li class=\"page\"><a class=\"page_num\" href=\"/browse/games/score/metascore/all/all/filtered?page=6\">7</a></li><li class=\"page\"><a class=\"page_num\" href=\"/browse/games/score/metascore/all/all/filtered?page=7\">8</a></li><li class=\"page\"><a class=\"page_num\" href=\"/browse/games/score/metascore/all/all/filtered?page=8\">9</a></li><li class=\"page last_page\"><span class=\"page_gap\">&hellip;</span><a class=\"page_num\" href=\"/browse/games/score/metascore/all/all/filtered?page=200\">201</a></li></ul>\\n        </div>\\n    </div>\\n</div>\\n                        </div>            \\r\\n                        <p class=\"filter_disclaimer\">Titles with fewer than 7 critic reviews are excluded.</p>\\r\\n                                    </div>\\r\\n            </div>\\r\\n\\r\\n            <div class=\"side_col\">\\r\\n                                    \\n    <div class=\"product_list_right_rail\">\\n            <div class=\"title_bump pad_btm1\">\\n            <div class=\"section_title\">\\n                <div class=\"oswald\">Coming Soon</div>\\n            </div>\\n        </div>\\n            <ol>\\n                                \\n            <li class=\"product clr\">\\n                                    <div class=\"product_image large\">\\n                        <a href=\"/game/pc/contraband-police\">\\n                            <img src=\"https://static.metacritic.com/images/products/games/2/4b031ca9f34c7b188b82032c4144ee4b-98.jpg\" alt=\"Contraband Police Image\" />\\n                        </a>\\n                    </div>\\n                                                <div class=\"product_stats\">\\n                                                    <h3 class=\"product_title\">\\n                                <a href=\"/game/pc/contraband-police\">Contraband Police</a>\\n                            </h3>\\n                                                            <div class=\"more_stats extended_stats\">\\n            <ul class=\"more_stats\">\\n                                    <li class=\"stat release_date\">\\n                        <span class=\"label\">Release Date:</span>\\n                        <span class=\"data\">Mar 8, 2023</span>\\n                    </li>\\n                                                                                                                                                        <li class=\"stat platform_list\">\\n                        <span class=\"label\">Platform:</span>\\n                        <span class=\"data\"><a href=\"/game/pc\">PC</a></span>\\n                    </li>\\n                                                                            </ul>\\n        </div>\\n    \\n                </div}>\\n            </li>\\n                                \\n            <li class=\"product clr\">\\n                                    <div class=\"product_image large\">\\n                        <a href=\"/game/playstation-4/dead-island-2\">\\n                            <img src=\"https://static.metacritic.com/images/products/games/1/6af59e817c7447f8e0bcb151500818aa-98.jpg\" alt=\"Dead Island 2 Image\" />\\n                        </a>\\n                    </div>\\n                                                <div class=\"product_stats\">\\n                                                    <h3 class=\"product_title\">\\n                                <a href=\"/game/playstation-4/dead-island-2\">Dead Island 2</a>\\n                            </h3>\\n                                                            <div class=\"more_stats extended_stats\">\\n            <ul class=\"more_stats\">\\n                                    <li class=\"stat release_date\">\\n                        <span class=\"label\">Release Date:</span>\\n                        <span class=\"data\">Apr 21, 2023</span>\\n                    </li>\\n                                                    <li class=\"stat maturity_rating\">\\n                        <span class=\"label\">Rating:</span>\\n                        <span class=\"data\">M</span>\\n                    </li>\\n                                                                                                                                        <li class=\"stat platform_list\">\\n                        <span class=\"label\">Platform:</span>\\n                        <span class=\"data\"><a href=\"/game/playstation-4\">PS4</a></span>\\n                    </li>\\n                                                                    <li class=\"stat\">\\n                        <a href=\"/game/playstation-4/dead-island-2/trailers\">View Trailers &raquo;</a>\\n                    </li>\\n                                            </ul>\\n        </div>\\n    \\n                </div}>\\n            </li>\\n                                \\n            <li class=\"product clr\">\\n                                    <div class=\"product_image large\">\\n                        <a href=\"/game/pc/dead-island-2\">\\n                            <img src=\"https://static.metacritic.com/images/products/games/0/94a0a9fbdf870a4ad546e40010d9f4d2-98.jpg\" alt=\"Dead Island 2 Image\" />\\n                        </a>\\n                    </div>\\n                                                <div class=\"product_stats\">\\n                                                    <h3 class=\"product_title\">\\n                                <a href=\"/game/pc/dead-island-2\">Dead Island 2</a>\\n                            </h3>\\n                                                            <div class=\"more_stats extended_stats\">\\n            <ul class=\"more_stats\">\\n                                    <li class=\"stat release_date\">\\n                        <span class=\"label\">Release Date:</span>\\n                        <span class=\"data\">Apr 21, 2023</span>\\n                    </li>\\n                                                    <li class=\"stat maturity_rating\">\\n                        <span class=\"label\">Rating:</span>\\n                        <span class=\"data\">M</span>\\n                    </li>\\n                                                                                                                                        <li class=\"stat platform_list\">\\n                        <span class=\"label\">Platform:</span>\\n                        <span class=\"data\"><a href=\"/game/pc\">PC</a></span>\\n                    </li>\\n                                                                    <li class=\"stat\">\\n                        <a href=\"/game/pc/dead-island-2/trailers\">View Trailers &raquo;</a>\\n                    </li>\\n                                            </ul>\\n        </div>\\n    \\n                </div}>\\n            </li>\\n            </ol>\\n</div>\\n\\n\\n\\n    \\r\\n        <div id=\"mpu_plus_top\" class=\"ad_unit\">\\r\\n\\r\\n            <script type=\"text/javascript\">\\r\\n            \\r\\n                            pushToDisplay(\\'mpu_plus_top\\', null, \\'top\\', false, null, false);\\r\\n                    </script>\\r\\n    \\r\\n    </div>\\r\\n    \\r\\n    \\n\\n    <div class=\"bump_section pad_top2 pad_btm2\">\\n        <div class=\"title_bump pad_btm1\">\\n            <div class=\"section_title\">\\n                <div class=\"oswald\">Essential Links</div>\\n            </div>\\n        </div>\\n                    <ol class=\"essential_links\">\\n                                                            <li>\\n                            <a  href=\"/feature/video-game-of-the-year-awards-tracker\">Video Game Awards</a>\\n                        </li>\\n                                                                                                                                                        <li>\\n                            <a  href=\"/pictures/2022-game-publisher-rankings\">2022 Game Publisher Rankings</a>\\n                        </li>\\n                                                                                <li>\\n                            <a  href=\"https://www.metacritic.com/feature/best-videogames-of-the-decade-2010s\">Best Games of the Decade</a>\\n                        </li>\\n                                                                                <li>\\n                            <a  href=\"/pictures/worst-games-of-2022\">Worst Games of 2022</a>\\n                        </li>\\n                                                                                                                    <li>\\n                            <a  href=\"/feature/steam-deck-hardware-review\">Hardware Review: Steam Deck</a>\\n                        </li>\\n                                                </ol>\\n                            <ol class=\"essential_articles\">\\n                                                                                                <li>\\n                            <a href=\"https://www.metacritic.com/feature/major-upcoming-video-game-release-dates-xbox-ps4-pc-switch\">Release Dates for Notable Upcoming Games</a>\\n                        </li>\\n                                                                                <li>\\n                            <a href=\"https://www.metacritic.com/feature/new-free-games-playstation-xbox-pc-switch\">New Free & Subscription Games</a>\\n                        </li>\\n                                                    <li class=\"more_articles clr pad_btm2\">\\n                    <a href=\"/feature\" class=\"fr\">More articles &raquo;</a>\\n                </li>\\n            </ol>\\n            </div>\\n\\n\\n\\n \\n    <div class=\"product_list_right_rail\">\\n            <div class=\"title_bump pad_btm1\">\\n            <div class=\"section_title\">\\n                <div class=\"oswald\">Highs and Lows</div>\\n            </div>\\n        </div>\\n                <div class=\"title_bump pad_btm1\">\\n            <div class=\"section_subtitle\">\\n                <div class=\"oswald\">Highest of the Month</div>\\n            </div>\\n        </div>\\n        <ol>\\n                                \\n            <li class=\"product clr\">\\n                                    <div class=\"product_image small\">\\n                        <a href=\"/game/playstation-5/wo-long-fallen-dynasty\">\\n                            <img src=\"https://static.metacritic.com/images/products/games/5/7fc47ba8773fc536b16e599801dfee25-53.jpg\" alt=\"Wo Long: Fallen Dynasty Image\" />\\n                        </a>\\n                    </div>\\n                                                    <a class=\"basic_stat product_score\" href=\"/game/playstation-5/wo-long-fallen-dynasty\">\\n                        \\n\\n        \\n<span class=\"metascore_w medium game positive\">81</span>\\n\\n                    </a>\\n                                <div class=\"product_stats has_score\">\\n                                                    <h3 class=\"product_title\">\\n                                <a href=\"/game/playstation-5/wo-long-fallen-dynasty\">Wo Long: Fallen Dynasty</a>\\n                            </h3>\\n                                                            <div class=\"more_stats extended_stats\">\\n            <ul class=\"more_stats\">\\n                                    <li class=\"stat release_date\">\\n                        <span class=\"label\">Release Date:</span>\\n                        <span class=\"data\">Mar 3, 2023</span>\\n                    </li>\\n                                                    <li class=\"stat maturity_rating\">\\n                        <span class=\"label\">Rating:</span>\\n                        <span class=\"data\">M</span>\\n                    </li>\\n                                                                                                                                        <li class=\"stat platform_list\">\\n                        <span class=\"label\">Platform:</span>\\n                        <span class=\"data\"><a href=\"/game/playstation-5\">PS5</a></span>\\n                    </li>\\n                                                                    <li class=\"stat\">\\n                        <a href=\"/game/playstation-5/wo-long-fallen-dynasty/trailers\">View Trailers &raquo;</a>\\n                    </li>\\n                                            </ul>\\n        </div>\\n    \\n                </div}>\\n            </li>\\n                                \\n            <li class=\"product clr\">\\n                                    <div class=\"product_image small\">\\n                        <a href=\"/game/xbox-series-x/wo-long-fallen-dynasty\">\\n                            <img src=\"https://static.metacritic.com/images/products/games/3/8afdcf9740282acb67f476f56d8556c8-53.jpg\" alt=\"Wo Long: Fallen Dynasty Image\" />\\n                        </a>\\n                    </div>\\n                                                    <a class=\"basic_stat product_score\" href=\"/game/xbox-series-x/wo-long-fallen-dynasty\">\\n                        \\n\\n        \\n<span class=\"metascore_w medium game positive\">81</span>\\n\\n                    </a>\\n                                <div class=\"product_stats has_score\">\\n                                                    <h3 class=\"product_title\">\\n                                <a href=\"/game/xbox-series-x/wo-long-fallen-dynasty\">Wo Long: Fallen Dynasty</a>\\n                            </h3>\\n                                                            <div class=\"more_stats extended_stats\">\\n            <ul class=\"more_stats\">\\n                                    <li class=\"stat release_date\">\\n                        <span class=\"label\">Release Date:</span>\\n                        <span class=\"data\">Mar 3, 2023</span>\\n                    </li>\\n                                                    <li class=\"stat maturity_rating\">\\n                        <span class=\"label\">Rating:</span>\\n                        <span class=\"data\">M</span>\\n                    </li>\\n                                                                                                                                        <li class=\"stat platform_list\">\\n                        <span class=\"label\">Platform:</span>\\n                        <span class=\"data\"><a href=\"/game/xbox-series-x\">XBSX</a></span>\\n                    </li>\\n                                                                    <li class=\"stat\">\\n                        <a href=\"/game/xbox-series-x/wo-long-fallen-dynasty/trailers\">View Trailers &raquo;</a>\\n                    </li>\\n                                            </ul>\\n        </div>\\n    \\n                </div}>\\n            </li>\\n                                \\n            <li class=\"product clr\">\\n                                    <div class=\"product_image small\">\\n                        <a href=\"/game/pc/wo-long-fallen-dynasty\">\\n                            <img src=\"https://static.metacritic.com/images/products/games/4/6ae14769116af7d37c5f1ff2871cb7cb-53.jpg\" alt=\"Wo Long: Fallen Dynasty Image\" />\\n                        </a>\\n                    </div>\\n                                                    <a class=\"basic_stat product_score\" href=\"/game/pc/wo-long-fallen-dynasty\">\\n                        \\n\\n        \\n<span class=\"metascore_w medium game positive\">81</span>\\n\\n                    </a>\\n                                <div class=\"product_stats has_score\">\\n                                                    <h3 class=\"product_title\">\\n                                <a href=\"/game/pc/wo-long-fallen-dynasty\">Wo Long: Fallen Dynasty</a>\\n                            </h3>\\n                                                            <div class=\"more_stats extended_stats\">\\n            <ul class=\"more_stats\">\\n                                    <li class=\"stat release_date\">\\n                        <span class=\"label\">Release Date:</span>\\n                        <span class=\"data\">Mar 3, 2023</span>\\n                    </li>\\n                                                    <li class=\"stat maturity_rating\">\\n                        <span class=\"label\">Rating:</span>\\n                        <span class=\"data\">M</span>\\n                    </li>\\n                                                                                                                                        <li class=\"stat platform_list\">\\n                        <span class=\"label\">Platform:</span>\\n                        <span class=\"data\"><a href=\"/game/pc\">PC</a></span>\\n                    </li>\\n                                                                    <li class=\"stat\">\\n                        <a href=\"/game/pc/wo-long-fallen-dynasty/trailers\">View Trailers &raquo;</a>\\n                    </li>\\n                                            </ul>\\n        </div>\\n    \\n                </div}>\\n            </li>\\n                                \\n            <li class=\"product clr\">\\n                                    <div class=\"product_image small\">\\n                        <a href=\"/game/switch/megs-monster\">\\n                            <img src=\"https://static.metacritic.com/images/products/games/6/5f8aff6cefb136cb21f6ab086d132658-53.jpg\" alt=\"Meg\\'s Monster Image\" />\\n                        </a>\\n                    </div>\\n                                                    <a class=\"basic_stat product_score\" href=\"/game/switch/megs-monster\">\\n                        \\n\\n        \\n<span class=\"metascore_w medium game positive\">75</span>\\n\\n                    </a>\\n                                <div class=\"product_stats has_score\">\\n                                                    <h3 class=\"product_title\">\\n                                <a href=\"/game/switch/megs-monster\">Meg\\'s Monster</a>\\n                            </h3>\\n                                                            <div class=\"more_stats extended_stats\">\\n            <ul class=\"more_stats\">\\n                                    <li class=\"stat release_date\">\\n                        <span class=\"label\">Release Date:</span>\\n                        <span class=\"data\">Mar 2, 2023</span>\\n                    </li>\\n                                                    <li class=\"stat maturity_rating\">\\n                        <span class=\"label\">Rating:</span>\\n                        <span class=\"data\">T</span>\\n                    </li>\\n                                                                                                                                        <li class=\"stat platform_list\">\\n                        <span class=\"label\">Platform:</span>\\n                        <span class=\"data\"><a href=\"/game/switch\">Switch</a></span>\\n                    </li>\\n                                                                            </ul>\\n        </div>\\n    \\n                </div}>\\n            </li>\\n            </ol>\\n</div>\\n\\n    <div class=\"product_list_right_rail\">\\n                <div class=\"title_bump pad_btm1\">\\n            <div class=\"section_subtitle\">\\n                <div class=\"oswald\">Lowest of the Month</div>\\n            </div>\\n        </div>\\n        <ol>\\n                                \\n            <li class=\"product clr\">\\n                                    <div class=\"product_image small\">\\n                        <a href=\"/game/switch/megs-monster\">\\n                            <img src=\"https://static.metacritic.com/images/products/games/6/5f8aff6cefb136cb21f6ab086d132658-53.jpg\" alt=\"Meg\\'s Monster Image\" />\\n                        </a>\\n                    </div>\\n                                                    <a class=\"basic_stat product_score\" href=\"/game/switch/megs-monster\">\\n                        \\n\\n        \\n<span class=\"metascore_w medium game positive\">75</span>\\n\\n                    </a>\\n                                <div class=\"product_stats has_score\">\\n                                                    <h3 class=\"product_title\">\\n                                <a href=\"/game/switch/megs-monster\">Meg\\'s Monster</a>\\n                            </h3>\\n                                                            <div class=\"more_stats extended_stats\">\\n            <ul class=\"more_stats\">\\n                                    <li class=\"stat release_date\">\\n                        <span class=\"label\">Release Date:</span>\\n                        <span class=\"data\">Mar 2, 2023</span>\\n                    </li>\\n                                                    <li class=\"stat maturity_rating\">\\n                        <span class=\"label\">Rating:</span>\\n                        <span class=\"data\">T</span>\\n                    </li>\\n                                                                                                                                        <li class=\"stat platform_list\">\\n                        <span class=\"label\">Platform:</span>\\n                        <span class=\"data\"><a href=\"/game/switch\">Switch</a></span>\\n                    </li>\\n                                                                            </ul>\\n        </div>\\n    \\n                </div}>\\n            </li>\\n                                \\n            <li class=\"product clr\">\\n                                    <div class=\"product_image small\">\\n                        <a href=\"/game/pc/wo-long-fallen-dynasty\">\\n                            <img src=\"https://static.metacritic.com/images/products/games/4/6ae14769116af7d37c5f1ff2871cb7cb-53.jpg\" alt=\"Wo Long: Fallen Dynasty Image\" />\\n                        </a>\\n                    </div>\\n                                                    <a class=\"basic_stat product_score\" href=\"/game/pc/wo-long-fallen-dynasty\">\\n                        \\n\\n        \\n<span class=\"metascore_w medium game positive\">81</span>\\n\\n                    </a>\\n                                <div class=\"product_stats has_score\">\\n                                                    <h3 class=\"product_title\">\\n                                <a href=\"/game/pc/wo-long-fallen-dynasty\">Wo Long: Fallen Dynasty</a>\\n                            </h3>\\n                                                            <div class=\"more_stats extended_stats\">\\n            <ul class=\"more_stats\">\\n                                    <li class=\"stat release_date\">\\n                        <span class=\"label\">Release Date:</span>\\n                        <span class=\"data\">Mar 3, 2023</span>\\n                    </li>\\n                                                    <li class=\"stat maturity_rating\">\\n                        <span class=\"label\">Rating:</span>\\n                        <span class=\"data\">M</span>\\n                    </li>\\n                                                                                                                                        <li class=\"stat platform_list\">\\n                        <span class=\"label\">Platform:</span>\\n                        <span class=\"data\"><a href=\"/game/pc\">PC</a></span>\\n                    </li>\\n                                                                    <li class=\"stat\">\\n                        <a href=\"/game/pc/wo-long-fallen-dynasty/trailers\">View Trailers &raquo;</a>\\n                    </li>\\n                                            </ul>\\n        </div>\\n    \\n                </div}>\\n            </li>\\n                                \\n            <li class=\"product clr\">\\n                                    <div class=\"product_image small\">\\n                        <a href=\"/game/xbox-series-x/wo-long-fallen-dynasty\">\\n                            <img src=\"https://static.metacritic.com/images/products/games/3/8afdcf9740282acb67f476f56d8556c8-53.jpg\" alt=\"Wo Long: Fallen Dynasty Image\" />\\n                        </a>\\n                    </div>\\n                                                    <a class=\"basic_stat product_score\" href=\"/game/xbox-series-x/wo-long-fallen-dynasty\">\\n                        \\n\\n        \\n<span class=\"metascore_w medium game positive\">81</span>\\n\\n                    </a>\\n                                <div class=\"product_stats has_score\">\\n                                                    <h3 class=\"product_title\">\\n                                <a href=\"/game/xbox-series-x/wo-long-fallen-dynasty\">Wo Long: Fallen Dynasty</a>\\n                            </h3>\\n                                                            <div class=\"more_stats extended_stats\">\\n            <ul class=\"more_stats\">\\n                                    <li class=\"stat release_date\">\\n                        <span class=\"label\">Release Date:</span>\\n                        <span class=\"data\">Mar 3, 2023</span>\\n                    </li>\\n                                                    <li class=\"stat maturity_rating\">\\n                        <span class=\"label\">Rating:</span>\\n                        <span class=\"data\">M</span>\\n                    </li>\\n                                                                                                                                        <li class=\"stat platform_list\">\\n                        <span class=\"label\">Platform:</span>\\n                        <span class=\"data\"><a href=\"/game/xbox-series-x\">XBSX</a></span>\\n                    </li>\\n                                                                    <li class=\"stat\">\\n                        <a href=\"/game/xbox-series-x/wo-long-fallen-dynasty/trailers\">View Trailers &raquo;</a>\\n                    </li>\\n                                            </ul>\\n        </div>\\n    \\n                </div}>\\n            </li>\\n                                \\n            <li class=\"product clr\">\\n                                    <div class=\"product_image small\">\\n                        <a href=\"/game/playstation-5/wo-long-fallen-dynasty\">\\n                            <img src=\"https://static.metacritic.com/images/products/games/5/7fc47ba8773fc536b16e599801dfee25-53.jpg\" alt=\"Wo Long: Fallen Dynasty Image\" />\\n                        </a>\\n                    </div>\\n                                                    <a class=\"basic_stat product_score\" href=\"/game/playstation-5/wo-long-fallen-dynasty\">\\n                        \\n\\n        \\n<span class=\"metascore_w medium game positive\">81</span>\\n\\n                    </a>\\n                                <div class=\"product_stats has_score\">\\n                                                    <h3 class=\"product_title\">\\n                                <a href=\"/game/playstation-5/wo-long-fallen-dynasty\">Wo Long: Fallen Dynasty</a>\\n                            </h3>\\n                                                            <div class=\"more_stats extended_stats\">\\n            <ul class=\"more_stats\">\\n                                    <li class=\"stat release_date\">\\n                        <span class=\"label\">Release Date:</span>\\n                        <span class=\"data\">Mar 3, 2023</span>\\n                    </li>\\n                                                    <li class=\"stat maturity_rating\">\\n                        <span class=\"label\">Rating:</span>\\n                        <span class=\"data\">M</span>\\n                    </li>\\n                                                                                                                                        <li class=\"stat platform_list\">\\n                        <span class=\"label\">Platform:</span>\\n                        <span class=\"data\"><a href=\"/game/playstation-5\">PS5</a></span>\\n                    </li>\\n                                                                    <li class=\"stat\">\\n                        <a href=\"/game/playstation-5/wo-long-fallen-dynasty/trailers\">View Trailers &raquo;</a>\\n                    </li>\\n                                            </ul>\\n        </div>\\n    \\n                </div}>\\n            </li>\\n            </ol>\\n</div>\\n\\n\\n\\n    \\r\\n        <div id=\"mpu_bottom\" class=\"ad_unit\">\\r\\n\\r\\n            <script type=\"text/javascript\">\\r\\n            \\r\\n                            pushToDisplay(\\'mpu_bottom\\', null, \\'bottom\\', false, null, false);\\r\\n                    </script>\\r\\n    \\r\\n    </div>\\r\\n    \\r\\n    \\n\\r\\n                            </div>\\r\\n            <div class=\"clr\"></div>\\r\\n        </div>\\r\\n    </div>\\r\\n</div>\\r\\n\\r\\n\\n\\n                                        \\r\\n        <div id=\"leader_bottom\" class=\"ad_unit\">\\r\\n\\r\\n            <script type=\"text/javascript\">\\r\\n            \\r\\n                            pushToDisplay(\\'leader_bottom\\', null, \\'bottom\\', false, null, false);\\r\\n                    </script>\\r\\n    \\r\\n    </div>\\r\\n    \\r\\n                                </div>\\n        </div>\\n\\n            <footer id=\"bottom_footer\">\\n    <div id=\"providers\">\\r\\n\\t<a href=\"https://www.allmusic.com\" target=\"_blank\">Music title data, credits, and images provided by <span>AMG</span></a>\\r\\n\\t<span class=\"link_divider\">|</span><a href=\"https://www.imdb.com\" target=\"_blank\">Movie title data, credits, and poster art provided by <span>IMDb</span></a>\\r\\n\\t<span class=\"link_divider\">|</span><a href=\"https://www.internetvideoarchive.com\" target=\"_blank\">Video and Images provided by <span>IVA</span></a>\\r\\n    <div id=\"trademark\">\\r\\n        We Deal With Criticism<sup>&reg;</sup>&nbsp;\\r\\n\\t</div>\\r\\n</div>\\r\\n\\n\\n            <div class=\"site_links upper\">\\n                    <a href=\"https://www.metacritic.com/movie\">\\n                <span>\\n                                            Movies\\n                                    </span>\\n            </a>\\n                    <a href=\"https://www.metacritic.com/tv\">\\n                <span>\\n                                            TV\\n                                    </span>\\n            </a>\\n                    <a href=\"https://www.metacritic.com/music\">\\n                <span>\\n                                            Music\\n                                    </span>\\n            </a>\\n                    <a href=\"https://www.metacritic.com/game/playstation-4\">\\n                <span>\\n                                            PS4\\n                                    </span>\\n            </a>\\n                    <a href=\"https://www.metacritic.com/game/xbox-one\">\\n                <span>\\n                                            XboxOne\\n                                    </span>\\n            </a>\\n                    <a href=\"https://www.metacritic.com/game/switch\">\\n                <span>\\n                                            Switch\\n                                    </span>\\n            </a>\\n                    <a href=\"https://www.metacritic.com/game/pc\">\\n                <span>\\n                                            PC\\n                                    </span>\\n            </a>\\n                    <a href=\"https://www.metacritic.com/game/wii-u\">\\n                <span>\\n                                            WiiU\\n                                    </span>\\n            </a>\\n                    <a href=\"https://www.metacritic.com/game/3ds\">\\n                <span>\\n                                            3DS\\n                                    </span>\\n            </a>\\n                    <a href=\"https://www.metacritic.com/game/playstation-vita\">\\n                <span>\\n                                            PS Vita\\n                                    </span>\\n            </a>\\n                    <a href=\"https://www.metacritic.com/game/ios\">\\n                <span>\\n                                            iOS\\n                                    </span>\\n            </a>\\n                    <a href=\"https://www.metacritic.com/feature\">\\n                <span>\\n                                            Reports\\n                                    </span>\\n            </a>\\n                    <a href=\"https://www.metacritic.com/rss\">\\n                <span>\\n                                            RSS Feeds\\n                                    </span>\\n            </a>\\n                </div>\\n    \\n    <div class=\"pad_top1 pad_btm1\">\\n        <div class=\"social_icons\">\\n            <a href=\"https://www.facebook.com/Metacritic\" target=\"_blank\" rel=\"noopener\" class=\"social_round\"><i class=\"fa fa-facebook\"></i></a>\\n            <a href=\"https://www.instagram.com/metacritic/\" target=\"_blank\" rel=\"noopener\"><i class=\"fa fa-instagram\"></i></a>\\n            <a href=\"https://twitter.com/metacritic\" target=\"_blank\" rel=\"noopener\" class=\"social_round\"><i class=\"fa fa-twitter\"></i></a>\\n        </div>\\n    </div>\\n\\n    <div class=\"about_cbs\">\\n        <div class=\"footer_about_links\">\\n            <a class=\"first\" href=\"https://about.fandom.com/careers\" target=\"_blank\">Careers</a>\\n            <span class=\"link_divider\">|</span><a href=\"https://www.metacritic.com/faq\">FAQ</a>\\n            <span class=\"link_divider\">|</span><a href=\"https://www.metacritic.com/about-metacritic\">About Metacritic</a>\\n            <span class=\"link_divider\">|</span><a href=\"https://metacritichelp.zendesk.com/hc/en-us\">Help & Support</a>\\n            <span class=\"link_divider\">|</span><a href=\"https://www.metacritic.com/contact-us\">Contact</a>\\n        </div>\\n        <div class=\"footer_about_links\">\\n            <span class=\"link_divider\">|</span><span><a href=\"https://privacyportal.onetrust.com/webform/79ba7c84-ebc2-4740-8d11-bf1cc4501e59/740d308b-7f02-4774-af0f-a074e0b0af5b\" target=\"_blank\">Do Not Sell My Information</a></span>\\n            <span class=\"link_divider\">|</span><span id=\"footer_privacy\"><a href=\"https://www.fandom.com/privacy-policy-pp1\" target=\"_blank\">Privacy Policy</a></span>\\n            <span class=\"link_divider\">|</span><span id=\"footer_cookie\"><a class=\"ot-sdk-show-settings\">Cookie Settings</a></span>\\n            <span class=\"link_divider\">|</span><span id=\"footer_terms\"><a href=\"https://www.fandom.com/terms-of-service-pp1\" target=\"_blank\">Terms of Use</a></span>\\n                            <span class=\"link_divider\">|</span><span id=\"footer_attribution\"><a href=\"https://www.gamespot.com/\" target=\"_blank\">Gamespot</a></span>\\n                    </div>\\n        <div id=\"footer_rights\" class=\"pad_btm2\">\\n            &copy; 2023 METACRITIC, A FANDOM COMPANY. ALL RIGHTS RESERVED.\\n        </div>\\n    </div>\\n</footer>\\n\\n    </div>\\n\\n    \\n<script type=\"text/javascript\">\\n    \\n    if (self != top) {\\n        top.location = self.location;\\n    }\\n</script>\\n\\n\\n\\n\\n\\n<script language=\"JavaScript\" type=\"text/javascript\">\\n    utag_data.session = MetaC.adSession() + \\':\\' + MetaC.adSubses();\\n            \\n        utag_data.bkPath = \"/22309610186/aw-metacritic/games\";\\n        \\n    \\n    \\n    if ( window.eventAmazonBuyView ) {\\n        utag_data.eventAmazonBuyView = 1;\\n    }\\n    if ( window.eventAmazonPivView ) {\\n        utag_data.eventAmazonPivView = 1;\\n    }\\n    \\n</script>\\n\\n\\n\\n\\n\\n\\n\\n    <script type=\"text/javascript\" src=\"https://urs.metacritic.com/sdk/urs.js\"></script>\\n\\n\\n    <script type=\"text/javascript\">\\n        if ( window.MetaC && MetaC.URS ) {\\n            MetaC.URS.config(227, false);\\n        }\\n    </script>\\n\\n\\n\\n\\n\\n\\n\\n\\n\\n<script type=\"text/javascript\">\\n    window.cbsoptanon.onScriptsReady(function(cmp) {\\n        //\\n        // fire off tealium if the banner is not present after\\n        // onetrust has loaded. (cbsoptanon has a promise polyfill)\\n        //\\n        cmp.ot.awaitInitialConsent(function() {\\n            (function(a,b,c,d){\\n            a=\\'//tags.tiqcdn.com/utag/fandom/metacriticsite/prod/utag.js\\';\\n            b=document;c=\\'script\\';d=b.createElement(c);d.src=a;d.type=\\'text/java\\'+c;d.async=true;\\n            a=b.getElementsByTagName(c)[0];a.parentNode.insertBefore(d,a);\\n            })();\\n        });\\n    });\\n</script>\\n\\n\\n\\n\\n    <script type=\"text/javascript\">\\n        $(document).ready(function(){\\n            setTimeout(function(){\\n                MetaC.checkOmniEvents();\\n            }, 300);\\n        });\\n    </script>\\n\\n\\n\\n<script type=\"text/javascript\">\\n    \\n    dwVars = {\"siteId\":\"50\",\"onId\":\"12457\",\"ptId\":\"6054\"};\\n    if (typeof DW == \"object\"){\\n        DW.pageParams = dwVars;\\n        DW.regSilo = \\'12\\';\\n        DW.clear();\\n    }\\n</script>\\n\\n\\n\\n<script>\\n    var cbsiApexGlobal = {\\n        \\'SITE\\': dwVars.siteId,\\n        \\'NODE\\': dwVars.onId,\\n        \\'PTYPE\\':dwVars.ptId\\n    };\\n</script>\\n\\n\\n\\n\\n<script>\\n    var _gaq = _gaq || [];\\n    _gaq.push([\\'_setAccount\\', \\'UA-22577913-5\\']);\\n    _gaq.push([\\'_setCustomVar\\',1,\\'PageType\\',dwVars.ptId,3]);\\n    _gaq.push([\\'_trackPageview\\']);\\n    _gaq.push([\\'_trackPageLoadTime\\']);\\n    _gaq.push([\\'_setAllowLinker\\', true]);\\n    _gaq.push([\\'nT._setAccount\\', \\'UA-27653683-1\\']);\\n    _gaq.push([\\'nT._setAllowLinker\\', true]);\\n    _gaq.push([\\'nT._setSampleRate\\', \\'1\\']);\\n    _gaq.push([\\'nT._trackPageview\\']);\\n</script>\\n\\n\\n\\n<div id=\"fb-root\"></div>\\n<script>\\n    gdprConsentCallback(\\'facebook\\', function () {\\n        window.fbAsyncInit = function() {\\n            FB.init({\\n                appId      : \\'123113677890173\\',\\n                version    : \\'v2.6\\',\\n                channelUrl : \\'https://www.metacritic.com/static/fbchannel.html\\',\\n                status     : true,\\n                xfbml      : true,\\n                cookie     : true\\n                });\\n            MetaC.FB.initialized();\\n            };\\n        \\n        (function(d, s, id){\\n            var js, fjs = d.getElementsByTagName(s)[0];\\n            if (d.getElementById(id)) {return;}\\n            js = d.createElement(s); js.id = id;\\n            js.src = \"//connect.facebook.net/en_US/sdk.js\";\\n            fjs.parentNode.insertBefore(js, fjs);\\n        }(document, \\'script\\', \\'facebook-jssdk\\'));\\n    }, {}, \\'social\\');\\n    \\n</script>\\n\\n\\n\\n<script>\\n    gdprConsentCallback(\\'twitter\\', function () {\\n        window.twttr = (function (d,s,id) {\\n        var t, js, fjs = d.getElementsByTagName(s)[0];\\n        if (d.getElementById(id)) return; js=d.createElement(s); js.id=id;\\n        js.src=\"https://platform.twitter.com/widgets.js\"; fjs.parentNode.insertBefore(js, fjs);\\n        return window.twttr || (t = { _e: [], ready: function(f){ t._e.push(f) } });\\n        }(document, \"script\", \"twitter-wjs\"));\\n\\n        twttr.ready(function (twttr) {\\n            MetaC.Twitter.initialized();\\n        });\\n    }, {}, \\'social\\');\\n</script>\\n\\n\\n\\n\\n\\n\\n\\n        \\n    <script>\\n    BidBarrel.queue.push(function(resolve){\\n        let __pv = MetaC.handlePageViewCount();\\n\\n        BidBarrel.initialize({\\n            dfpPath: \"/22309610186/aw-metacritic/games\",\\n            targeting: {\\n                auto: true, \\n                cookie: {\\n                    consolidate: true\\n                }\\n            },\\n            pageTargeting: {\\n                vguid: MC_UUID,\\n                ptype: utag_data.pageType,\\n                ftag: \"\",\\n                ttag: \"\",\\n                env: window.MC_ISQA ? \"stage\" : \"prod\"\\n            }\\n        })\\n        resolve();\\n            \\n        BidBarrel.setTargeting({\"vguid\": MC_UUID});\\n        BidBarrel.setTargeting({\"session\": MetaC.adSession()});\\n        BidBarrel.setTargeting({\"subses\": MetaC.adSubses()});\\n        BidBarrel.setTargeting({\"env\": \"prod\"});\\n        BidBarrel.setTargeting({\"pv\": __pv});\\n        BidBarrel.setTargeting({\"ptype\": \"list_page\"});\\n\\n        if (MC_USER_LOGGED_IN){\\n            BidBarrel.setTargeting({\"user\": \"registered\"});\\n        }else{\\n            BidBarrel.setTargeting({\"user\": \"anon\"});\\n        }\\n\\n        \\n        \\n                    var parts = window.location.hash.split(\"=\");\\n            if ( parts.length > 1 && parts[0] == \\'#ftag\\' ) {\\n                BidBarrel.setTargeting({\"ftag\": parts[1]});\\n            }\\n        \\n        BidBarrel.auction(window.metac_ads_pushdisplay);\\n\\n        \\n        \\n        BidBarrel.on([\"mobile_nav_ad_omni.identified\", \"nav_ad_omni.identified\"], function(adIdentity, unitConfig, gptRenderedEventObj){\\n            if ( Array.isArray(adIdentity.size) && adIdentity.size.join(\\'x\\') === \"6x6\" ) {\\n                window.top.document.getElementById(adIdentity.code).style.display=\"none\";\\n            }\\n        });\\n        \\n    });\\n\\n    \\n    window.MetaC = window.MetaC || {};\\n    MetaC.dfpPath = \"/22309610186/aw-metacritic/games\";\\n    MetaC.session = MetaC.adSession();\\n    MetaC.subses = MetaC.adSubses();\\n    MetaC.env = \"prod\";\\n    MetaC.pv = MetaC.handlePageViewCount();\\n    MetaC.ptype = \"list_page\"; \\n\\n            MetaC.user = \"registered\";\\n    \\n    \\n    \\n            \\n        var parts = window.location.hash.split(\"=\");\\n        if ( parts.length > 1 && parts[0] == \\'#ftag\\' ) {\\n            MetaC.ftag = parts[1];\\n        }\\n        \\n        </script>\\n\\n\\n\\n\\n\\n<script type=\\'text/javascript\\'>\\n    \\n    // immediate function to scope initialization\\n    (function(){\\n        var mc_chartbeat_page_types = [\"front_door\", \"section_door\", \"article\", \"image_gallery\", \"product_overview\", \"product_tvepisode\", \"product_tvseason\", \"list_page\"];\\n        var mc_utag_page_type = \"list_page\";\\n\\n        // only load chartbeat based on page_type\\n        if (mc_chartbeat_page_types.includes(mc_utag_page_type)){\\n            // If its an image gallery, it gets convaluted, see if you have a firstPhotoIdx, if you do not its a door\\n            // We say /pictures/recommend is a image_gallery in utag, when its really a door\\n            if (mc_utag_page_type == \"image_gallery\"){\\n                                    mc_utag_page_type = \"section_door\";\\n                            }\\n            if (window.VideoStrategy){\\n                window[\\'_cbv_strategies\\'] = window[\\'_cbv_strategies\\'] || [];\\n                window[\\'_cbv_strategies\\'].push(window.VideoStrategy);\\n            }\\n\\n            var _sf_async_config = window._sf_async_config = (window._sf_async_config || {});\\n            _sf_async_config.uid = 66142;\\n            _sf_async_config.domain = \\'metacritic.com\\';\\n            _sf_async_config.useCanonical = true;\\n            _sf_async_config.flickerControl = false;\\n            _sf_async_config.useCanonicalDomain = true;\\n            _sf_async_config.sections = mc_utag_page_type;\\n            // make sure its an article, image galleries are stories and will have an author, but we only tag\\n            // authors name(s) on article pages, on other pages, just pass empty string\\n            if (mc_utag_page_type == \"article\"){\\n                _sf_async_config.authors = \\'\\';\\n            } else {\\n                _sf_async_config.authors = \\'\\';\\n            }\\n\\n            var _cbq = window._cbq = (window._cbq || []);\\n\\n                            _cbq.push([\\'_acct\\', \\'anon\\']);\\n            \\n            window._sf_endpt = (new Date()).getTime();\\n        }\\n    })();\\n    \\n</script>\\n<script type=\"text/plain\" class=\"optanon-category-2\" async src=\"https://static.chartbeat.com/js/chartbeat_video.js\" charset=\"utf-8\"></script>\\n\\n\\n</body>\\n</html>\\n'"
            ]
          },
          "execution_count": 121,
          "metadata": {},
          "output_type": "execute_result"
        }
      ],
      "source": [
        "url = \"https://www.metacritic.com/browse/games/score/metascore/all/all/filtered\"\n",
        "headers = {'user-agent':'Mozilla/5.0 (Windows NT 10.0; Win64; x64) AppleWebKit/537.36 (KHTML, like Gecko) Chrome/110.0.0.0 Safari/537.36'}\n",
        "data = requests.get(url, headers=headers)\n",
        "data.text"
      ]
    },
    {
      "cell_type": "code",
      "execution_count": null,
      "metadata": {
        "colab": {
          "base_uri": "https://localhost:8080/"
        },
        "id": "gMd3JSPtSDTd",
        "outputId": "ebf6a6f7-f6b3-4a20-eb40-dc09cb679996"
      },
      "outputs": [
        {
          "data": {
            "text/plain": [
              "requests.models.Response"
            ]
          },
          "execution_count": 105,
          "metadata": {},
          "output_type": "execute_result"
        }
      ],
      "source": [
        "type(data)"
      ]
    },
    {
      "cell_type": "code",
      "execution_count": null,
      "metadata": {
        "id": "GpFerIgxSP3m"
      },
      "outputs": [],
      "source": [
        "from bs4 import BeautifulSoup\n",
        "soup = BeautifulSoup(str(data))"
      ]
    },
    {
      "cell_type": "code",
      "execution_count": null,
      "metadata": {
        "id": "1KOVMfXDSoih"
      },
      "outputs": [],
      "source": [
        "soup.a"
      ]
    },
    {
      "cell_type": "markdown",
      "metadata": {
        "id": "qGgQ6dE7IA00"
      },
      "source": [
        "##抓取露天拍賣資料\n",
        "https://www.ruten.com.tw/category/0011"
      ]
    },
    {
      "cell_type": "code",
      "execution_count": null,
      "metadata": {
        "colab": {
          "base_uri": "https://localhost:8080/",
          "height": 171
        },
        "id": "6CoIQwRWIPBk",
        "outputId": "82a4198a-614b-40ae-efc2-9001780fffc1"
      },
      "outputs": [
        {
          "data": {
            "application/vnd.google.colaboratory.intrinsic+json": {
              "type": "string"
            },
            "text/plain": [
              "'<!DOCTYPE html>\\n<html lang=\"zh-Hant-TW\" >\\n\\n<head>\\n  <meta charset=\"utf-8\" />\\n  <meta http-equiv=\"X-UA-Compatible\" content=\"IE=edge\" />\\n<title>電腦電子 - 人氣推薦 | 露天市集</title>\\n  <meta name=\"description\" content=\"電腦電子\"/>\\n  <meta itemprop=\"name\" content=\"電腦電子 - 人氣推薦 | 露天市集\">\\n  <meta itemprop=\"description\" content=\"電腦電子\">\\n  <meta property=\"og:title\" content=\"電腦電子 - 人氣推薦\"/>\\n  <meta property=\"og:description\" content=\"電腦電子\"/>\\n  <meta property=\"og:url\" content=\"https://www.ruten.com.tw/category/0011\"/>\\n  <meta property=\"og:site_name\" content=\"露天市集\">\\n  <meta property=\"og:type\" content=\"website\"/>\\n  <link rel=\"canonical\" href=\"https://www.ruten.com.tw/category/0011\">\\n<link href=\"https://www.ruten.com.tw/css/d/v2/style-reset.css?v=20171123\" rel=\"stylesheet\" type=\"text/css\" />\\n<link href=\"https://www.ruten.com.tw/css/d/v2/style-base.css?v=20221025_f6ba51d7be\" rel=\"stylesheet\" type=\"text/css\" />\\n<link href=\"https://www.ruten.com.tw/css/d/v2/style-grid.css?v=20201012_9a8032d22c\" rel=\"stylesheet\" type=\"text/css\" />\\n<link href=\"https://www.ruten.com.tw/css/d/v2/style-class.css?v=20220914_c2e769902c\" rel=\"stylesheet\" type=\"text/css\" />\\n<link href=\"https://www.ruten.com.tw/css/d/v2/style-class-main.css?v=20220808_cd79bd9c92\" rel=\"stylesheet\" type=\"text/css\" />\\n\\n  <!-- Google Tag Manager -->\\n  <script>(function(w,d,s,l,i){w[l]=w[l]||[];w[l].push({\\'gtm.start\\':\\n  new Date().getTime(),event:\\'gtm.js\\'});var f=d.getElementsByTagName(s)[0],\\n  j=d.createElement(s),dl=l!=\\'dataLayer\\'?\\'&l=\\'+l:\\'\\';j.async=true;j.src=\\n  \\'https://www.googletagmanager.com/gtm.js?id=\\'+i+dl;f.parentNode.insertBefore(j,f);\\n  })(window,document,\\'script\\',\\'dataLayer\\',\\'GTM-5BBDQCT\\');</script>\\n  <!-- End Google Tag Manager -->\\n\\n  <script type=\"text/javascript\" src=\"https://www.ruten.com.tw/js/goodbye-ie.js\"></script>\\n</head>\\n\\n<body onLoad=\"onLoad()\" >\\n<!-- Google Tag Manager (noscript) -->\\n<noscript><iframe src=\"https://www.googletagmanager.com/ns.html?id=GTM-5BBDQCT\" height=\"0\" width=\"0\"\\n    style=\"display:none;visibility:hidden\"></iframe></noscript>\\n<!-- End Google Tag Manager (noscript) -->\\n  <div class=\"rt-page\">\\n    <header class=\"rt-header-top\">\\n      <div class=\"rt-header-inner\">\\n        <div class=\"rt-header-part\">\\n          <ul class=\"rt-header-topnav\">\\n            <li class=\"rt-header-topnav-item\">\\n              <a class=\"rt-header-topnav-link\" href=\"https://www.ruten.com.tw/system/notice.php\" title=\"前往公告區\">公告</a>\\n            </li>\\n            <li class=\"rt-header-topnav-item rt-header-dropdown-wrap\">\\n              <a class=\"rt-header-topnav-link rt-header-dropdown-icon\" id=\"header_service\" title=\"前往露天市集客戶服務中心\" href=\"https://www.ruten.com.tw/system/index.html\">客服中心</a>\\n              <div class=\"rt-header-dropdown\">\\n                <ul class=\"rt-header-dropdown-menu\">\\n                  <li class=\"dropdown-menu-item\">\\n                    <a class=\"dropdown-menu-link\" title=\"客服中心\" href=\"https://www.ruten.com.tw/system/index.html\">客服中心</a>\\n                  </li>\\n                  <li class=\"dropdown-menu-item\">\\n                    <a class=\"dropdown-menu-link\" title=\"海外代購售後服務\" href=\"https://mybid.ruten.com.tw/daigou/case_list.php\">海外代購售後服務</a>\\n                  </li>\\n                </ul>\\n              </div>\\n            </li>\\n            <li class=\"rt-header-topnav-item\">\\n              <a class=\"rt-header-topnav-link\" title=\"前往露天市集賣家中心\" href=\"https://seller.ruten.com.tw\">賣家中心</a>\\n            </li>\\n            <li class=\"rt-header-topnav-item\">\\n              <a class=\"rt-header-topnav-link rt-header-event-welcome\" title=\"前往$0開店送廣告活動頁\" href=\"https://pub.ruten.com.tw/welcome_new/\">$0開店送廣告</a>\\n            </li>\\n          </ul>\\n        </div>\\n        <div class=\"rt-header-part\">\\n          <div class=\"rt-header-daigou\">\\n            <a class=\"rt-header-topnav-link rt-header-daigou-ebay\" href=\"https://pub.pchomeus.com/ebayglobal-day/index.html\" title=\"前往海外代購EBAY專頁\"></a>\\n          </div>\\n          <div class=\"rt-header-daigou\">\\n            <a class=\"rt-header-topnav-link rt-header-daigou-gmarket\" href=\"https://pub.pchomeus.com/gmarket/index.html\" title=\"前往海外代購Gmarket專頁\"></a>\\n          </div>\\n          <div class=\"rt-header-daigou\">\\n            <a class=\"rt-header-topnav-link rt-header-daigou-pchomethai\" href=\"https://www.ruten.com.tw/store/agent@pchomethai\" title=\"前往海外代購PChome Thai泰國購物專頁\"></a>\\n          </div>\\n          <div class=\"rt-header-login rt-header-top-divider\" id=\"header_login_info\">\\n            <div class=\"rt-header-loading\" title=\"執行中，請稍候\">\\n              <span class=\"rt-header-loading-icon\"></span>\\n            </div>\\n            <div class=\"rt-header-loaded rt-header-dropdown-wrap\">\\n              <a class=\"rt-header-topnav-link rt-header-dropdown-icon rt-header-user-nick rt-align-right\" id=\"header_user_nick\" title=\"前往個人賣場\"></a>\\n              <div class=\"rt-header-dropdown\">\\n                <ul class=\"rt-header-dropdown-menu\">\\n                  <li class=\"dropdown-menu-item\">\\n                    <a class=\"dropdown-menu-link\" id=\"header_rpoint_record\" href=\"https://www.ruten.com.tw/event/rpoint_record.php\" title=\"前往我的露幣\">\\n                      <span>露幣</span>\\n                      <div class=\"dropdown-menu-link-info\">\\n                        <i class=\"angle-left-icon\"></i>\\n                      </div>\\n                    </a>\\n                  </li>\\n                  <li class=\"dropdown-menu-item\">\\n                    <a class=\"dropdown-menu-link\" id=\"header_user_store\" title=\"前往個人賣場\">我的賣場</a>\\n                  </li>\\n                  <li class=\"dropdown-menu-item\">\\n                    <a class=\"dropdown-menu-link\" id=\"header_credit_user_nick\" title=\"前往評價頁\">我的評價</a>\\n                  </li>\\n                  <li class=\"dropdown-menu-item dropdown-menu-logout\">\\n                    <a class=\"dropdown-menu-link dropdown-menu-logout-link\" id=\"header_logout_link\" href=\"https://member.ruten.com.tw/user/logout.php\" title=\"登出頁面\" data-type=\"logout-link\">登出</a>\\n                  </li>\\n                </ul>\\n              </div>\\n            </div>\\n            <div class=\"rt-header-not-loaded\">\\n              <div class=\"rt-header-login-item\">\\n                <a class=\"rt-header-topnav-link\" href=\"https://member.ruten.com.tw/user/register_step1.htm\" rel=\"nofollow\" title=\"免費註冊\">免費註冊</a>\\n              </div>\\n              <div class=\"rt-header-login-item\">\\n                <a class=\"rt-header-topnav-link\" href=\"https://member.ruten.com.tw/user/login.htm\" rel=\"nofollow\" title=\"登入頁面\">登入</a>\\n              </div>\\n            </div>\\n            <div class=\"rt-header-error\">\\n              <div class=\"rt-header-login-item\">\\n                <a class=\"rt-header-topnav-link\" href=\"https://member.ruten.com.tw/user/login.htm\" rel=\"nofollow\" title=\"登入頁面\">登入</a>\\n              </div>\\n            </div>\\n          </div>\\n        </div>\\n      </div>\\n    </header>\\n    <header class=\"rt-header\">\\n      <div class=\"rt-header-inner\">\\n        <div class=\"rt-header-heading\">\\n          <h1 itemscope itemtype=\"http://schema.org/WPHeader\">\\n            <a class=\"rt-header-logo\" href=\"https://www.ruten.com.tw\" title=\"前往露天市集首頁\" itemprop=\"url\">\\n              <span class=\"rt-logo-title\" itemprop=\"name\">露天市集</span>\\n            </a>\\n          </h1>\\n        </div>\\n        <!-- <div class=\"rt-header-search\" id=\"searchForm\" name=\"searchForm\" method=\"GET\" action=\"https://www.ruten.com.tw/find/\" accept-charset=\"utf-8\">\\n          <input type=\"hidden\" id=\"searchfrom\" name=\"searchfrom\" value=\"indexbar\" /> -->\\n    \\n        <div class=\"rt-header-search\" id=\"searchForm\">\\n          <div class=\"rt-header-search-keyword-wrap search-bar-keyword-wrap\">\\n            <input id=\"searchKeyword\" class=\"rt-header-search-input\" name=\"q\" accesskey=\"4\" type=\"text\" placeholder=\"\" data-type=\"keyword-input\" autocomplete=\"off\">\\n            <ul id=\"suggestions\" class=\"search-bar-keyword-list\"></ul>\\n          </div>\\n            <input type=\"hidden\" id=\"searchTargetCategory\" value=\"0011\" />\\n    \\n          <div class=\"rt-header-search-select-wrap\">\\n            <select id=\"searchType\" class=\"rt-header-search-select\" title=\"搜尋項目下拉選單\">\\n              <option value=\"0\">搜全站</option>\\n              <option value=\"1\">搜帳號</option>\\n                <option value=\"3\">搜本類</option>\\n            </select>\\n            <div class=\"rt-header-search-select-icon\"></div>\\n          </div>\\n          <input id=\"searchFormSubmit\" class=\"rt-header-search-submit\" type=\"button\" value=\"\" title=\"搜尋\" />\\n          <div id=\"historyWrap\" class=\"rt-header-search-history-wrap hide\">\\n            <ul id=\"historyKeywords\" class=\"rt-header-search-history-list\"></ul>\\n            <div class=\"rt-header-search-history-title\">\\n              <span class=\"rt-text-small\">歷史搜尋</span>\\n              <i id=\"historyClear\" class=\"rt-header-search-history-clear\"></i>\\n            </div>\\n          </div>\\n        </div>\\n    \\n        <ul class=\"rt-nav\">\\n          <li class=\"rt-nav-item\">\\n            <div class=\"rt-header-sell rt-header-dropdown-wrap\">\\n              <a class=\"rt-nav-link\" id=\"header_sell\" rel=\"nofollow\" title=\"我要賣東西\" itemprop=\"url\">\\n                <div class=\"rt-nav-icon-wrap\">\\n                  <span class=\"rt-header-sell-icon\"></span>\\n                </div>\\n                <div class=\"rt-nav-name\" itemprop=\"name\">賣東西</div>\\n              </a>\\n              <div class=\"rt-header-dropdown\">\\n                <ul class=\"rt-header-dropdown-menu\">\\n                  <li class=\"dropdown-menu-item\">\\n                    <a class=\"dropdown-menu-link\" href=\"https://mybidu.ruten.com.tw/upload/item_initial.php\">單品上架</a>\\n                  </li>\\n                  <li class=\"dropdown-menu-item\">\\n                    <a class=\"dropdown-menu-link\" href=\"https://mybidu.ruten.com.tw/upload/easy_text2.htm?g_mode=B\">超簡易上架</a>\\n                  </li>\\n                  <li class=\"dropdown-menu-item\">\\n                    <a class=\"dropdown-menu-link\" href=\"https://mass.ruten.com.tw/y/start.php\">Excel&nbsp;上架</a>\\n                  </li>\\n                </ul>\\n              </div>\\n            </div>\\n          </li>\\n          <li class=\"rt-nav-item\">\\n            <div class=\"rt-header-mybid rt-header-dropdown-wrap\">\\n              <a class=\"rt-nav-link\" id=\"header_mybid\" rel=\"nofollow\" title=\"進入我的拍賣管理中心\" itemprop=\"url\">\\n                <div class=\"rt-nav-icon-wrap\">\\n                  <span class=\"rt-header-mybid-icon\"></span>\\n                </div>\\n                <div class=\"rt-nav-name\" itemprop=\"name\">我的拍賣</div>\\n              </a>\\n              <div class=\"rt-header-dropdown\">\\n                <div class=\"rt-header-dropdown-grid\">\\n                  <div class=\"grid-item-width-1-2\">\\n                    <h3 class=\"rt-header-dropdown-title\">買家</h3>\\n                    <ul class=\"rt-header-dropdown-menu\">\\n                      <li class=\"dropdown-menu-item\">\\n                        <a class=\"dropdown-menu-link\" href=\"https://mybid.ruten.com.tw/master/my.php?l_type=buy_notpaid\">待結帳</a>\\n                      </li>\\n                      <li class=\"dropdown-menu-item\">\\n                        <a class=\"dropdown-menu-link\" href=\"https://mybid.ruten.com.tw/master/my.php?l_type=buy_full\">已購買</a>\\n                      </li>\\n                      <li class=\"dropdown-menu-item\">\\n                        <a class=\"dropdown-menu-link\" href=\"https://mybid.ruten.com.tw/master/my.php?l_type=buy_tracing\">追蹤中</a>\\n                      </li>\\n                      <li class=\"dropdown-menu-item\">\\n                        <a class=\"dropdown-menu-link\" href=\"https://mybid.ruten.com.tw/master/my_shipping_voucher.php\">我的優惠券</a>\\n                      </li>\\n                      <li class=\"dropdown-menu-item\">\\n                        <a class=\"dropdown-menu-link\" href=\"https://www.ruten.com.tw/event/rpoint_record.php\">我的露幣</a>\\n                      </li>\\n                      <li class=\"dropdown-menu-item\">\\n                        <a class=\"dropdown-menu-link dropdown-menu-item-mgm\" href=\"https://www.ruten.com.tw/event/mgm.php\">推薦好友<span class=\"dropdown-menu-item-mgm-primary-badge\">New</span></a>\\n                      </li>\\n                      <li class=\"dropdown-menu-item\">\\n                        <a class=\"dropdown-menu-link dropdown-menu-item-mgm\" href=\"https://www.ruten.com.tw/event/daily_mission.php\">天天簽到<span class=\"dropdown-menu-item-mgm-primary-badge\">New</span></a>\\n                      </li>\\n                    </ul>\\n                  </div>\\n                  <div class=\"grid-item-width-1-2\">\\n                    <h3 class=\"rt-header-dropdown-title\">賣家</h3>\\n                    <ul class=\"rt-header-dropdown-menu\">\\n                      <li class=\"dropdown-menu-item\">\\n                        <a class=\"dropdown-menu-link dropdown-menu-item-mgm\" href=\"https://seller.ruten.com.tw\">賣家中心<span class=\"dropdown-menu-item-mgm-primary-badge\">New</span></a>\\n                      </li>\\n                      <li class=\"dropdown-menu-item\">\\n                        <a class=\"dropdown-menu-link\" href=\"https://mybid.ruten.com.tw/master/my.php?l_type=sel_wait_confirm\">訂單管理</a>\\n                      </li>\\n                      <li class=\"dropdown-menu-item\">\\n                        <a class=\"dropdown-menu-link\" href=\"https://mybid.ruten.com.tw/master/my.php?l_type=sel_selling\">商品管理</a>\\n                      </li>\\n                      <li class=\"dropdown-menu-item\">\\n                        <a class=\"dropdown-menu-link\" href=\"https://point.ruten.com.tw/es_account/index.php\">收款管理中心</a>\\n                      </li>\\n                      <li class=\"dropdown-menu-item\">\\n                        <a class=\"dropdown-menu-link\" href=\"https://point.ruten.com.tw/account/fee.php\">計費中心</a>\\n                      </li>\\n                      <li class=\"dropdown-menu-item\">\\n                        <a class=\"dropdown-menu-link\" href=\"https://mybid.ruten.com.tw/datacube/\">錢進趨勢</a>\\n                      </li>\\n                      <li class=\"dropdown-menu-item dropdown-menu-item-buyad\">\\n                        <a class=\"dropdown-menu-link\" href=\"https://promote.ruten.com.tw/rtb/dashboard.php\" rel=\"nofollow\" title=\"廣告中心\" target=\"_blank\" itemprop=\"url\"><span itemprop=\"name\">廣告中心</span></a>\\n                      </li>\\n                    </ul>\\n                  </div>\\n                </div>\\n              </div>\\n            </div>\\n          </li>\\n    \\n          <li id=\"rtChatMountPoint\"\\n              class=\"rt-nav-item\"\\n              onclick=\"rtChat.openChat(\\'\\', event)\">\\n            <div class=\"rt-header-messenger rt-nav-link rt-messenger-inbox\" id=\"header_messenger\"\\n                 style=\"position: relative;\"\\n                 onclick=\"rtChat.openChat(\\'\\', event)\">\\n              <div class=\"rt-messenger-icon-anchor rt-nav-icon-wrap\"\\n                   onclick=\"rtChat.openChat(\\'\\', event)\">\\n                <div class=\"rt-messenger-icon-static rt-messenger-chat-icon\"\\n                     onclick=\"rtChat.openChat(\\'\\', event)\"></div>\\n                <div class=\"rt-messenger-inbox-notification-dot\"\\n                     onclick=\"rtChat.openChat(\\'\\', event)\"></div>\\n                <span class=\"item-count\" id=\"unread-message-count\"\\n                      onclick=\"rtChat.openChat(\\'\\', event)\"></span>\\n              </div>\\n              <div class=\"rt-nav-name\" onclick=\"rtChat.openChat(\\'\\', event)\">\\n                露露通\\n              </div>\\n            </div>\\n          </li>\\n    \\n          <li class=\"rt-nav-item\">\\n            <div class=\"rt-header-shopping-cart\">\\n              <a class=\"rt-nav-link\" id=\"header_cart\" href=\"https://mybid.ruten.com.tw/deliver/list_cart.php\">\\n                <div class=\"rt-nav-icon-wrap shopping-cart target\">\\n                  <span class=\"rt-shopping-cart-icon\"></span>\\n                  <span class=\"item-count\" id=\"goods-count\"></span>\\n                </div>\\n                <div class=\"rt-nav-name\">購物車</div>\\n              </a>\\n            </div>\\n          </li>\\n        </ul>\\n      </div>\\n    </header>\\n\\n\\n    <div class=\"rt-wrap rt-wrap-class-main theme-category11\" data-module=\"page-class-main\">\\n      <!-- <div class=\"rt-ad rt-ad-text-only\">\\n        <ul class=\"rt-ad-list\">\\n          <li class=\"rt-ad-item hide\" data-adid=\"2\"></li>\\n          <li class=\"rt-ad-item hide\" data-adid=\"3\"></li>\\n          <li class=\"rt-ad-item hide\" data-adid=\"4\"></li>\\n          <li class=\"rt-ad-item hide\" data-adid=\"5\"></li>\\n        </ul>\\n      </div> -->\\n      <div class=\"rt-exclusive-store\">\\n  <h2 class=\"rt-exclusive-store-heading\"><span>今日熱搜</span></h2>\\n  <div class=\"rt-exclusive-store-list\">\\n    <style type=\"text/css\">\\n.promo-bar ul,\\n.promo-bar h2,\\n.promo-bar h3 {\\n  margin: 0;\\n  padding: 0;\\n  border: 0;\\n  outline: 0;\\n  font-size: 13px;\\n  vertical-align: baseline;\\n  background: transparent;\\n}\\n.promo-bar ul {list-style:none outside none;}\\n\\n.promo-bar a {text-decoration:none;}\\n\\n.promo-bar {\\n  height: 32px;\\n  width: 1250px;\\n  margin-top: 0;\\n}\\n.promo-bar h2 {\\n  display: inline-block;\\n  width: 68px;\\n  height: 26px;\\n  background: url(\"https://www.ruten.com.tw/resource/loader.php?folder=component/theme/&file=bg-main-index.gif&v=20230304000201\") -300px -360px no-repeat;\\n  text-indent: -9999px;\\n  vertical-align: top;\\n  margin-top: 6px;\\n}\\n.promo-bar ul {\\n  display: inline-block;\\n  width: 1200px;\\n  height: 27px;\\n  margin-top: 6px;\\n  overflow: hidden;\\n}\\n\\n.promo-bar .cp {\\n    display: inline-block;\\n    height: 29px;\\n    min-width: 72px;\\n    width: auto;\\n    background: none;\\n    text-align: center;\\n    display: block;\\n    float: left;\\n    margin-right: 7px;\\n    border-width: 1px;\\n    border-left-width: 13px;\\n    border-color: #333;\\n    border-style: solid;\\n    border-radius: 5px;\\n    position: relative;\\n}\\n\\n.promo-bar .cp h3:before {\\n    left: -8px;\\n    top: 14px;\\n    border: solid transparent;\\n    content: \" \";\\n    height: 0;\\n    width: 0;\\n    position: absolute;\\n    border-left-color: #fff;\\n    border-width: 3px;\\n    margin-top: -3px;\\n}\\n\\n.promo-bar .cp a {\\n    display: inline-block;\\n    vertical-align: middle;\\n    margin: 0 8px;\\n    font-weight: 400;\\n    padding: 7px 0;\\n    padding: 9px 0 5px \\\\9;\\n    color: #7e7e7e;\\n}\\n\\n.promo-bar .cp.promoAd {\\n    background: none;\\n    display: block;\\n    border: 0;\\n    min-width: auto;\\n}\\n\\n.promo-bar .cp.promoAd h3:before {\\n    display: none;\\n}\\n\\n.promo-bar .promoAd a {\\n    margin: 0;\\n    padding: 0;\\n}\\n\\n.promo-bar .cp-female {\\n    border-color: #ff2888;\\n}\\n\\n.promo-bar .cp-female a:hover {\\n    color: #ff2888;\\n}\\n\\n.promo-bar .cp-male {\\n    border-color: #02a3ff;\\n}\\n\\n.promo-bar .cp-male a:hover {\\n    color: #02a3ff;\\n}\\n\\n.promo-bar .cp-3c {\\n    border-color: #7adf3e;\\n}\\n\\n.promo-bar .cp-3c a:hover {\\n    color: #7adf3e;\\n}\\n\\n.promo-bar .cp-life {\\n    border-color: #ff9900;\\n}\\n\\n.promo-bar .cp-life a:hover {\\n    color: #ff9900;\\n}\\n\\n.promo-bar .cp-baby {\\n    border-color: #bc64f9;\\n}\\n\\n.promo-bar .cp-baby a:hover {\\n    color: #bc64f9;\\n}\\n\\n.promo-bar .cp-toy {\\n    border-color: #ababab;\\n}\\n\\n.promo-bar .cp-toy a:hover {\\n    color: #ababab;\\n}\\n\\n.promo-bar .cp-car {\\n    border-color: #1ab4ab;\\n}\\n\\n.promo-bar .cp-car a:hover {\\n    color: #1ab4ab;\\n}\\n\\n.promo-bar .cp-sport {\\n    border-color: #6a80a7;\\n}\\n\\n.promo-bar .cp-sport a:hover {\\n    color: #6a80a7;\\n}\\n\\n.promo-bar .cp-library {\\n    border-color: #9e6f4a;\\n}\\n\\n.promo-bar .cp-library a:hover {\\n    color: #9e6f4a;\\n}\\n\\n.promo-bar .cp-pchomepay {\\n    border-color: #6EBF00\\n}\\n\\n</style>\\n\\n<ul class=\"promo-bar\">\\n  <li class=\"cp promoAd\"><h3><a target=\"_blank\" href=\"https://www.ruten.com.tw/event/top_search.php?id=1&type=手機通訊\"><img src=\"https://www.ruten.com.tw/resource/loader.php?folder=component/theme/&file=06f794742a7607b1e8770223ec71fa21.jpg&v=20230304000201\"></a></h3></li>\\n  <li class=\"cp promoAd\"><h3><a target=\"_blank\" href=\"https://pub.ruten.com.tw/homeflagship/\"><img src=\"https://www.ruten.com.tw/resource/loader.php?folder=component/theme/&file=47290fcc54bc08fd75d5408a980bb579.jpg&v=20230304000201\"></a></h3></li>\\n  <li class=\"cp promoAd\"><h3><a target=\"_blank\" href=\"https://pub.ruten.com.tw/motorcycle0207/\"><img src=\"https://www.ruten.com.tw/resource/loader.php?folder=component/theme/&file=5ccc07e4792fd6bc16a7d4ab713e8095.jpg&v=20230304000201\"></a></h3></li>\\n  <li class=\"cp promoAd\"><h3><a target=\"_blank\" href=\"https://www.ruten.com.tw/event/top_search.php?id=5&type=電腦電器\"><img src=\"https://www.ruten.com.tw/resource/loader.php?folder=component/theme/&file=e810986b57c7d8e0076a4e128aa92527.jpg&v=20230304000201\"></a></h3></li>\\n  <li class=\"cp promoAd\"><h3><a target=\"_blank\" href=\"https://pub.ruten.com.tw/toys/\"><img src=\"https://www.ruten.com.tw/resource/loader.php?folder=component/theme/&file=21e313e902dbf97f34296e97a17c0751.jpg&v=20230304000201\"></a></h3></li>\\n  <li class=\"cp promoAd\"><h3><a target=\"_blank\" href=\"https://pub.pchomeus.com/gmarket/index.html\"><img src=\"https://www.ruten.com.tw/resource/loader.php?folder=component/theme/&file=c25e6b9a0cebfc446d7d97eee514b273.jpg&v=20230304000201\"></a></h3></li>\\n  <li class=\"cp promoAd\"><h3><a target=\"_blank\" href=\"https://pub.ruten.com.tw/2202brandsale/\"><img src=\"https://www.ruten.com.tw/resource/loader.php?folder=component/theme/&file=738c5172270d4ebc47da2fff3d9aaa03.jpg&v=20230304000201\"></a></h3></li>\\n  <li class=\"cp promoAd\"><h3><a target=\"_blank\" href=\"https://theme.ruten.com.tw/promo/?id=20211111000001\"><img src=\"https://www.ruten.com.tw/resource/loader.php?folder=component/theme/&file=5c7e519b98de59dd710017d84bcc04dc.jpg&v=20230304000201\"></a></h3></li>\\n  <li class=\"cp promoAd\"><h3><a target=\"_blank\" href=\"https://www.ruten.com.tw/store/sharp2022/\"><img src=\"https://www.ruten.com.tw/resource/loader.php?folder=component/theme/&file=57ec4e4a81480b26c16a973865413532.jpg&v=20230304000201\"></a></h3></li>\\n  <li class=\"cp promoAd\"><h3><a target=\"_blank\" href=\"https://pub.ruten.com.tw/taaze\"><img src=\"https://www.ruten.com.tw/resource/loader.php?folder=component/theme/&file=394423e0d8ecd0639b85be7d87272cc7.jpg&v=20230304000201\"></a></h3></li>\\n</ul>\\n  </div>\\n</div> \\n      <div class=\"rt-subcategory rt-subcategory-default\">\\n        <div class=\"rt-subcategory-search\">\\n          <h2 class=\"rt-subcategory-title\">\\n            <span class=\"icon icon-category-11\"></span>\\n            <ul class=\"rt-breadcrumb\" itemscope itemtype=\"http://schema.org/BreadcrumbList\">\\n              <li itemprop=\"itemListElement\" itemscope itemtype=\"http://schema.org/ListItem\">\\n                <h1><span class=\"rt-breadcrumb-static\"> 電腦電子 </span></h1>\\n              </li>\\n            </ul>\\n            <span class=\"rti rti-arrow-right-blank\"></span>\\n          </h2>\\n          <!--\\n            <form class=\"rt-site-search inlb\" id=\"class_search_form\" action=\"https://find.ruten.com.tw/search/s000.php\">\\n              <input type=\"hidden\" name=\"enc\" value=\"u\">\\n              <input type=\"hidden\" name=\"searchfrom\" value=\"classf\">\\n              <input type=\"hidden\" name=\"enc\" value=\"u\">\\n              <input type=\"hidden\" name=\"c\" value=\"0011\">\\n              <label for=\"search_input\" class=\"rt-filter-form-label vmiddle\">在本分類搜尋</label>\\n              <div class=\"search-bar-keyword-wrap\" v-clickaway=\"closeSuggestion\">\\n                <input id=\"search_input\" name=\"k\" type=\"text\" class=\"rt-filter-form-input\" placeholder=\"請輸入關鍵字\" autocomplete=\"off\"\\n                v-model=\"keywordInput\"\\n                @focus=\"openSuggestion\"\\n                @keydown.up.prevent=\"selectPrevious\"\\n                @keydown.down.prevent=\"selectNext\"\\n                @keydown.enter=\"selectionSubmitting\">\\n                <suggestion-keyword-template :suggestion-keyword-array=\"suggestionKeywordArray\" :is-open=\"isOpen\" :keyword-input=\"keywordInput\" :current-selected-item-index=\"currentSelectedItemIndex\" @choose-search-keyword-item=\"chooseSearchKeywordItem\" @clear-current-selected-item-index=\"clearCurrentSelectedItemIndex\"></suggestion-keyword-template>\\n              </div>\\n              <button type=\"submit\" class=\"rt-button rt-button-gradient rt-button-small rt-site-search-submit\">再搜尋</button>\\n            </form>\\n          -->\\n        </div>\\n        <div class=\"rt-subcategory-list\">\\n          <ul class=\"rt-grid\" itemscope itemtype=\"http://schema.org/CreativeWork\">\\n            <li class=\"rt-grid-1-6\">\\n              <div class=\"rt-subcategory-item\">\\n                <a href=\"https://www.ruten.com.tw/category/00110002/list\" itemprop=\"url\">\\n                  <h3 class=\"rt-subcategory-item-name\" itemprop=\"keywords\">筆記型電腦</h3>\\n                  <small class=\"rt-text-small rt-text-notice\">(162354)</small>\\n                </a>\\n              </div>\\n            </li>\\n            <li class=\"rt-grid-1-6\">\\n              <div class=\"rt-subcategory-item\">\\n                <a href=\"https://www.ruten.com.tw/category/00110020/list\" itemprop=\"url\">\\n                  <h3 class=\"rt-subcategory-item-name\" itemprop=\"keywords\">筆記型電腦專用配件</h3>\\n                  <small class=\"rt-text-small rt-text-notice\">(2012097)</small>\\n                </a>\\n              </div>\\n            </li>\\n            <li class=\"rt-grid-1-6\">\\n              <div class=\"rt-subcategory-item\">\\n                <a href=\"https://www.ruten.com.tw/category/00110013/list\" itemprop=\"url\">\\n                  <h3 class=\"rt-subcategory-item-name\" itemprop=\"keywords\">平板電腦</h3>\\n                  <small class=\"rt-text-small rt-text-notice\">(360064)</small>\\n                </a>\\n              </div>\\n            </li>\\n            <li class=\"rt-grid-1-6\">\\n              <div class=\"rt-subcategory-item\">\\n                <a href=\"https://www.ruten.com.tw/category/00110001/list\" itemprop=\"url\">\\n                  <h3 class=\"rt-subcategory-item-name\" itemprop=\"keywords\">桌上型電腦</h3>\\n                  <small class=\"rt-text-small rt-text-notice\">(59241)</small>\\n                </a>\\n              </div>\\n            </li>\\n            <li class=\"rt-grid-1-6\">\\n              <div class=\"rt-subcategory-item\">\\n                <a href=\"https://www.ruten.com.tw/category/00110003/list\" itemprop=\"url\">\\n                  <h3 class=\"rt-subcategory-item-name\" itemprop=\"keywords\">電腦周邊設備</h3>\\n                  <small class=\"rt-text-small rt-text-notice\">(2564131)</small>\\n                </a>\\n              </div>\\n            </li>\\n            <li class=\"rt-grid-1-6\">\\n              <div class=\"rt-subcategory-item\">\\n                <a href=\"https://www.ruten.com.tw/category/00110004/list\" itemprop=\"url\">\\n                  <h3 class=\"rt-subcategory-item-name\" itemprop=\"keywords\">電腦周邊耗材</h3>\\n                  <small class=\"rt-text-small rt-text-notice\">(703623)</small>\\n                </a>\\n              </div>\\n            </li>\\n            <li class=\"rt-grid-1-6\">\\n              <div class=\"rt-subcategory-item\">\\n                <a href=\"https://www.ruten.com.tw/category/00110006/list\" itemprop=\"url\">\\n                  <h3 class=\"rt-subcategory-item-name\" itemprop=\"keywords\">電腦軟體</h3>\\n                  <small class=\"rt-text-small rt-text-notice\">(92193)</small>\\n                </a>\\n              </div>\\n            </li>\\n            <li class=\"rt-grid-1-6\">\\n              <div class=\"rt-subcategory-item\">\\n                <a href=\"https://www.ruten.com.tw/category/00110014/list\" itemprop=\"url\">\\n                  <h3 class=\"rt-subcategory-item-name\" itemprop=\"keywords\">租賃、出租</h3>\\n                  <small class=\"rt-text-small rt-text-notice\">(613)</small>\\n                </a>\\n              </div>\\n            </li>\\n            <li class=\"rt-grid-1-6\">\\n              <div class=\"rt-subcategory-item\">\\n                <a href=\"https://www.ruten.com.tw/category/00110005/list\" itemprop=\"url\">\\n                  <h3 class=\"rt-subcategory-item-name\" itemprop=\"keywords\">電腦零組件</h3>\\n                  <small class=\"rt-text-small rt-text-notice\">(4398400)</small>\\n                </a>\\n              </div>\\n            </li>\\n            <li class=\"rt-grid-1-6\">\\n              <div class=\"rt-subcategory-item\">\\n                <a href=\"https://www.ruten.com.tw/category/00110016/list\" itemprop=\"url\">\\n                  <h3 class=\"rt-subcategory-item-name\" itemprop=\"keywords\">電子零件、材料</h3>\\n                  <small class=\"rt-text-small rt-text-notice\">(25453880)</small>\\n                </a>\\n              </div>\\n            </li>\\n            <li class=\"rt-grid-1-6\">\\n              <div class=\"rt-subcategory-item\">\\n                <a href=\"https://www.ruten.com.tw/category/00110009/list\" itemprop=\"url\">\\n                  <h3 class=\"rt-subcategory-item-name\" itemprop=\"keywords\">電子字典</h3>\\n                  <small class=\"rt-text-small rt-text-notice\">(14050)</small>\\n                </a>\\n              </div>\\n            </li>\\n            <li class=\"rt-grid-1-6\">\\n              <div class=\"rt-subcategory-item\">\\n                <a href=\"https://www.ruten.com.tw/category/00110022/list\" itemprop=\"url\">\\n                  <h3 class=\"rt-subcategory-item-name\" itemprop=\"keywords\">電腦保養</h3>\\n                  <small class=\"rt-text-small rt-text-notice\">(10420)</small>\\n                </a>\\n              </div>\\n            </li>\\n            <li class=\"rt-grid-1-6\">\\n              <div class=\"rt-subcategory-item\">\\n                <a href=\"https://www.ruten.com.tw/category/00110007/list\" itemprop=\"url\">\\n                  <h3 class=\"rt-subcategory-item-name\" itemprop=\"keywords\">網路設備</h3>\\n                  <small class=\"rt-text-small rt-text-notice\">(821016)</small>\\n                </a>\\n              </div>\\n            </li>\\n            <li class=\"rt-grid-1-6\">\\n              <div class=\"rt-subcategory-item\">\\n                <a href=\"https://www.ruten.com.tw/category/00110018/list\" itemprop=\"url\">\\n                  <h3 class=\"rt-subcategory-item-name\" itemprop=\"keywords\">電子儀器、測量</h3>\\n                  <small class=\"rt-text-small rt-text-notice\">(2257015)</small>\\n                </a>\\n              </div>\\n            </li>\\n            <li class=\"rt-grid-1-6\">\\n              <div class=\"rt-subcategory-item\">\\n                <a href=\"https://www.ruten.com.tw/category/00110021/list\" itemprop=\"url\">\\n                  <h3 class=\"rt-subcategory-item-name\" itemprop=\"keywords\">貿易製造</h3>\\n                  <small class=\"rt-text-small rt-text-notice\">(93418)</small>\\n                </a>\\n              </div>\\n            </li>\\n            <li class=\"rt-grid-1-6\">\\n              <div class=\"rt-subcategory-item\">\\n                <a href=\"https://www.ruten.com.tw/category/00110023/list\" itemprop=\"url\">\\n                  <h3 class=\"rt-subcategory-item-name\" itemprop=\"keywords\">化工、容器材料、儀器</h3>\\n                  <small class=\"rt-text-small rt-text-notice\">(140376)</small>\\n                </a>\\n              </div>\\n            </li>\\n            <li class=\"rt-grid-1-6\">\\n              <div class=\"rt-subcategory-item\">\\n                <a href=\"https://www.ruten.com.tw/category/00110017/list\" itemprop=\"url\">\\n                  <h3 class=\"rt-subcategory-item-name\" itemprop=\"keywords\">線材、轉接頭</h3>\\n                  <small class=\"rt-text-small rt-text-notice\">(700411)</small>\\n                </a>\\n              </div>\\n            </li>\\n            <li class=\"rt-grid-1-6\">\\n              <div class=\"rt-subcategory-item\">\\n                <a href=\"https://www.ruten.com.tw/category/00110019/list\" itemprop=\"url\">\\n                  <h3 class=\"rt-subcategory-item-name\" itemprop=\"keywords\">高科技、機器人</h3>\\n                  <small class=\"rt-text-small rt-text-notice\">(53814)</small>\\n                </a>\\n              </div>\\n            </li>\\n            <li class=\"rt-grid-1-6\">\\n              <div class=\"rt-subcategory-item\">\\n                <a href=\"https://www.ruten.com.tw/category/00110008/list\" itemprop=\"url\">\\n                  <h3 class=\"rt-subcategory-item-name\" itemprop=\"keywords\">GPS / 穿戴 / 導航</h3>\\n                  <small class=\"rt-text-small rt-text-notice\">(249451)</small>\\n                </a>\\n              </div>\\n            </li>\\n            <li class=\"rt-grid-1-6\">\\n              <div class=\"rt-subcategory-item\">\\n                <a href=\"https://www.ruten.com.tw/category/0007002200020001/list\" itemprop=\"url\">\\n                  <h3 class=\"rt-subcategory-item-name\" itemprop=\"keywords\">電腦、網路諮詢@</h3>\\n                  <small class=\"rt-text-small rt-text-notice\">(0)</small>\\n                </a>\\n              </div>\\n            </li>\\n            <li class=\"rt-grid-1-6\">\\n              <div class=\"rt-subcategory-item\">\\n                <a href=\"https://www.ruten.com.tw/category/00110015/list\" itemprop=\"url\">\\n                  <h3 class=\"rt-subcategory-item-name\" itemprop=\"keywords\">代買、海外代購</h3>\\n                  <small class=\"rt-text-small rt-text-notice\">(11167)</small>\\n                </a>\\n              </div>\\n            </li>\\n            <li class=\"rt-grid-1-6\">\\n              <div class=\"rt-subcategory-item\">\\n                <a href=\"https://www.ruten.com.tw/category/00110024/list\" itemprop=\"url\">\\n                  <h3 class=\"rt-subcategory-item-name\" itemprop=\"keywords\">工商設備</h3>\\n                  <small class=\"rt-text-small rt-text-notice\">(300782)</small>\\n                </a>\\n              </div>\\n            </li>\\n          </ul>\\n        </div>\\n      </div>\\n      <div id=\"ad-flash\" class=\"rt-ad rt-ad-flash hide\">\\n        <div class=\"rt-ad-heading\">店鋪賣家</div>\\n        <ul class=\"rt-ad-list js-ad-list\">\\n        </ul>\\n      </div>\\n      <div class=\"rt-ad rt-ad-product-list rt-flagship hide\" data-module=\"class-main-flagship\">\\n        <div class=\"rt-ad-heading-wrapper\">\\n          <h1 class=\"rt-ad-heading\">露天旗艦店</h1>\\n        </div>\\n        <div class=\"rt-ad-list js-flagship-list\" >\\n        </div>\\n      </div>\\n      <div class=\"featured-products-list\">\\n        <div class=\"spotlight-area\">\\n          <div id=\"ad-slideshow\" class=\"slideshow js-slideshow\" data-module=\"class-main-slideshow\">\\n            <ul class=\"slides\">\\n            </ul>\\n            <div class=\"control\">\\n            </div>\\n          </div>\\n          <div id=\"ad-promote\" class=\"promoted-product-list\"></div>\\n        </div>\\n        <div class=\"special-collection\">\\n          <div id=\"ad-special\" class=\"special-list\"></div>\\n          <div id=\"ad-hotsale\" class=\"hot-stuff hide\">\\n            <div class=\"hot-sale js-ad-list\">\\n            </div>\\n            <div class=\"hot-sale-gallery js-gallery\" data-module=\"class-main-gallery\">\\n              <div id=\"ad-gallery\" class=\"hot-sale-gallery-list\">\\n              </div>\\n              <a class=\"hot-sale-gallery-prev rti rti-chevron-left-ad js-btn-prev\" href=\"#\" title=\"上一則\"></a>\\n              <a class=\"hot-sale-gallery-next rti rti-chevron-right-ad js-btn-next\" href=\"#\" title=\"下一則\"></a>\\n            </div>\\n          </div>\\n        </div>\\n      </div>\\n\\n      <div id=\"shoppingMall\">\\n        <shopping-mall :category-id=\"cateId\"></shopping-mall>\\n      </div>\\n\\n      <div class=\"main-content\">\\n        <div class=\"main-list\">\\n          <div id=\"ad-featured-list\" class=\"rt-ad rt-ad-product-list featrued-list hide\">\\n            <div class=\"rt-ad-heading-wrapper\">\\n              <h1 class=\"rt-ad-heading\">精彩推薦</h1>\\n            </div>\\n            <div class=\"rt-ad-list js-ad-list\">\\n            </div>\\n          </div>\\n        </div>\\n\\n        <div class=\"sidebar\">\\n          <div class=\"rt-ad rt-ad-product-list top-sell\">\\n            <div class=\"rt-ad-heading-wrapper\">\\n              <h1 class=\"rt-ad-heading\">熱銷商品</h1>\\n            </div>\\n            <div class=\"rt-ad-list\">\\n              <div class=\"rt-ad-item\">\\n                <div class=\"rt-ad-item-image-wrapper\">\\n                    <a class=\"rt-ad-item-link\" title=\"趨勢科技 Trend Micro PC-cillin 雲端版 / Office 2021 專業版 Office 365\" href=\"https://www.ruten.com.tw/item/show?22006264066745\">\\n                    <img class=\"rt-ad-item-image\" src=\"https://image.ruten.com.tw/g1/e/12/b9/22006264066745_881_s.png\" alt=\"趨勢科技 Trend Micro PC-cillin 雲端版 / Office 2021 專業版 Office 365\">\\n                  </a>\\n                </div>\\n                <div class=\"rt-ad-item-content-wrapper\">\\n                  <h2 class=\"rt-ad-item-name\">\\n                      <a title=\"趨勢科技 Trend Micro PC-cillin 雲端版 / Office 2021 專業版 Office 365\" href=\"https://www.ruten.com.tw/item/show?22006264066745\">趨勢科技 Trend Micro PC-cillin 雲端版 / Office 2021 專業版 Office 365</a>\\n                  </h2>\\n                  <div class=\"rt-text-price-no-currency\">$70 - $530</div>\\n                </div>\\n              </div>\\n              <div class=\"rt-ad-item\">\\n                <div class=\"rt-ad-item-image-wrapper\">\\n                    <a class=\"rt-ad-item-link\" title=\"IG FB YT TikTok twitter twitch TG Reddit OnlyFans LinkedIN帳號\" href=\"https://www.ruten.com.tw/item/show?22302930756908\">\\n                    <img class=\"rt-ad-item-image\" src=\"https://a.rimg.com.tw/s6/d5d/402/peterman1234/d/2c/22302930756908_295_s.jpg\" alt=\"IG FB YT TikTok twitter twitch TG Reddit OnlyFans LinkedIN帳號\">\\n                  </a>\\n                </div>\\n                <div class=\"rt-ad-item-content-wrapper\">\\n                  <h2 class=\"rt-ad-item-name\">\\n                      <a title=\"IG FB YT TikTok twitter twitch TG Reddit OnlyFans LinkedIN帳號\" href=\"https://www.ruten.com.tw/item/show?22302930756908\">IG FB YT TikTok twitter twitch TG Reddit OnlyFans LinkedIN帳號</a>\\n                  </h2>\\n                  <div class=\"rt-text-price-no-currency\">$1</div>\\n                </div>\\n              </div>\\n              <div class=\"rt-ad-item\">\\n                <div class=\"rt-ad-item-image-wrapper\">\\n                    <a class=\"rt-ad-item-link\" title=\"Instagram 行銷 Ins 粉絲 按讚 經營 愛心 台灣粉絲 追蹤 觀看 流量 瀏覽 IG\" href=\"https://www.ruten.com.tw/item/show?22204863063118\">\\n                    <img class=\"rt-ad-item-image\" src=\"https://a.rimg.com.tw/s6/0c6/1fd/boosea/4/4e/22204863063118_178_s.jpg\" alt=\"Instagram 行銷 Ins 粉絲 按讚 經營 愛心 台灣粉絲 追蹤 觀看 流量 瀏覽 IG\">\\n                  </a>\\n                </div>\\n                <div class=\"rt-ad-item-content-wrapper\">\\n                  <h2 class=\"rt-ad-item-name\">\\n                      <a title=\"Instagram 行銷 Ins 粉絲 按讚 經營 愛心 台灣粉絲 追蹤 觀看 流量 瀏覽 IG\" href=\"https://www.ruten.com.tw/item/show?22204863063118\">Instagram 行銷 Ins 粉絲 按讚 經營 愛心 台灣粉絲 追蹤 觀看 流量 瀏覽 IG</a>\\n                  </h2>\\n                  <div class=\"rt-text-price-no-currency\">$1</div>\\n                </div>\\n              </div>\\n              <div class=\"rt-ad-item\">\\n                <div class=\"rt-ad-item-image-wrapper\">\\n                    <a class=\"rt-ad-item-link\" title=\"8P FFC / FPC同向 反向軟排線 8P 0.5間距   6-30公分長 同向 反向扁平線【SN-05】\" href=\"https://www.ruten.com.tw/item/show?22110154726775\">\\n                    <img class=\"rt-ad-item-image\" src=\"https://image.ruten.com.tw/g1/8/f1/77/22110154726775_134_s.jpg\" alt=\"8P FFC / FPC同向 反向軟排線 8P 0.5間距   6-30公分長 同向 反向扁平線【SN-05】\">\\n                  </a>\\n                </div>\\n                <div class=\"rt-ad-item-content-wrapper\">\\n                  <h2 class=\"rt-ad-item-name\">\\n                      <a title=\"8P FFC / FPC同向 反向軟排線 8P 0.5間距   6-30公分長 同向 反向扁平線【SN-05】\" href=\"https://www.ruten.com.tw/item/show?22110154726775\">8P FFC / FPC同向 反向軟排線 8P 0.5間距   6-30公分長 同向 反向扁平線【SN-05】</a>\\n                  </h2>\\n                  <div class=\"rt-text-price-no-currency\">$2 - $4</div>\\n                </div>\\n              </div>\\n              <div class=\"rt-ad-item\">\\n                <div class=\"rt-ad-item-image-wrapper\">\\n                    <a class=\"rt-ad-item-link\" title=\"呆呆熊 Windows win 10 11 Office 365 2021 2019 序號 專業版 戴爾 hp 華碩筆電\" href=\"https://www.ruten.com.tw/item/show?22305965992079\">\\n                    <img class=\"rt-ad-item-image\" src=\"https://a.rimg.com.tw/s6/8f0/317/eeettt0817/0/8f/22305965992079_700_s.jpg\" alt=\"呆呆熊 Windows win 10 11 Office 365 2021 2019 序號 專業版 戴爾 hp 華碩筆電\">\\n                  </a>\\n                </div>\\n                <div class=\"rt-ad-item-content-wrapper\">\\n                  <h2 class=\"rt-ad-item-name\">\\n                      <a title=\"呆呆熊 Windows win 10 11 Office 365 2021 2019 序號 專業版 戴爾 hp 華碩筆電\" href=\"https://www.ruten.com.tw/item/show?22305965992079\">呆呆熊 Windows win 10 11 Office 365 2021 2019 序號 專業版 戴爾 hp 華碩筆電</a>\\n                  </h2>\\n                  <div class=\"rt-text-price-no-currency\">$199 - $999</div>\\n                </div>\\n              </div>\\n              <div class=\"rt-ad-item\">\\n                <div class=\"rt-ad-item-image-wrapper\">\\n                    <a class=\"rt-ad-item-link\" title=\"趨勢科技 PC-Cillin 2023 雲端版 防毒軟體支援行動裝置 1年1機和1年3機\" href=\"https://www.ruten.com.tw/item/show?22027789682700\">\\n                    <img class=\"rt-ad-item-image\" src=\"https://image.ruten.com.tw/g0/029/d21/deke419/d/20/0c/22027789682700_954_s.jpg\" alt=\"趨勢科技 PC-Cillin 2023 雲端版 防毒軟體支援行動裝置 1年1機和1年3機\">\\n                  </a>\\n                </div>\\n                <div class=\"rt-ad-item-content-wrapper\">\\n                  <h2 class=\"rt-ad-item-name\">\\n                      <a title=\"趨勢科技 PC-Cillin 2023 雲端版 防毒軟體支援行動裝置 1年1機和1年3機\" href=\"https://www.ruten.com.tw/item/show?22027789682700\">趨勢科技 PC-Cillin 2023 雲端版 防毒軟體支援行動裝置 1年1機和1年3機</a>\\n                  </h2>\\n                  <div class=\"rt-text-price-no-currency\">$79 - $99</div>\\n                </div>\\n              </div>\\n              <div class=\"rt-ad-item\">\\n                <div class=\"rt-ad-item-image-wrapper\">\\n                    <a class=\"rt-ad-item-link\" title=\"led 發光二極體 3mm 綠發綠 黃發黃 紅發紅 高亮 5mm 白發藍 發光管\" href=\"https://www.ruten.com.tw/item/show?21824197272173\">\\n                    <img class=\"rt-ad-item-image\" src=\"https://image.ruten.com.tw/g1/d/4a/6d/21824197272173_467_s.jpg\" alt=\"led 發光二極體 3mm 綠發綠 黃發黃 紅發紅 高亮 5mm 白發藍 發光管\">\\n                  </a>\\n                </div>\\n                <div class=\"rt-ad-item-content-wrapper\">\\n                  <h2 class=\"rt-ad-item-name\">\\n                      <a title=\"led 發光二極體 3mm 綠發綠 黃發黃 紅發紅 高亮 5mm 白發藍 發光管\" href=\"https://www.ruten.com.tw/item/show?21824197272173\">led 發光二極體 3mm 綠發綠 黃發黃 紅發紅 高亮 5mm 白發藍 發光管</a>\\n                  </h2>\\n                  <div class=\"rt-text-price-no-currency\">$1</div>\\n                </div>\\n              </div>\\n              <div class=\"rt-ad-item\">\\n                <div class=\"rt-ad-item-image-wrapper\">\\n                    <a class=\"rt-ad-item-link\" title=\"katfile.com高級會員賬號出租 1日/7日租\" href=\"https://www.ruten.com.tw/item/show?22201695334625\">\\n                    <img class=\"rt-ad-item-image\" src=\"https://image.ruten.com.tw/g9/609/45a/lulu668tt/0/e1/22201695334625_711_s.png\" alt=\"katfile.com高級會員賬號出租 1日/7日租\">\\n                  </a>\\n                </div>\\n                <div class=\"rt-ad-item-content-wrapper\">\\n                  <h2 class=\"rt-ad-item-name\">\\n                      <a title=\"katfile.com高級會員賬號出租 1日/7日租\" href=\"https://www.ruten.com.tw/item/show?22201695334625\">katfile.com高級會員賬號出租 1日/7日租</a>\\n                  </h2>\\n                  <div class=\"rt-text-price-no-currency\">$89 - $270</div>\\n                </div>\\n              </div>\\n              <div class=\"rt-ad-item\">\\n                <div class=\"rt-ad-item-image-wrapper\">\\n                    <a class=\"rt-ad-item-link\" title=\"SSD 480G 256G 240G 128G 120G 60G 32G SATA 可挑廠牌/固態硬碟\" href=\"https://www.ruten.com.tw/item/show?22201700914840\">\\n                    <img class=\"rt-ad-item-image\" src=\"https://image.ruten.com.tw/g2/1/e6/98/22201700914840_983_s.JPG\" alt=\"SSD 480G 256G 240G 128G 120G 60G 32G SATA 可挑廠牌/固態硬碟\">\\n                  </a>\\n                </div>\\n                <div class=\"rt-ad-item-content-wrapper\">\\n                  <h2 class=\"rt-ad-item-name\">\\n                      <a title=\"SSD 480G 256G 240G 128G 120G 60G 32G SATA 可挑廠牌/固態硬碟\" href=\"https://www.ruten.com.tw/item/show?22201700914840\">SSD 480G 256G 240G 128G 120G 60G 32G SATA 可挑廠牌/固態硬碟</a>\\n                  </h2>\\n                  <div class=\"rt-text-price-no-currency\">$90 - $450</div>\\n                </div>\\n              </div>\\n              <div class=\"rt-ad-item\">\\n                <div class=\"rt-ad-item-image-wrapper\">\\n                    <a class=\"rt-ad-item-link\" title=\"Fortinet Fortigate FG-50E UTM Firewal l授權至2021 2022 2023\" href=\"https://www.ruten.com.tw/item/show?21930200236794\">\\n                    <img class=\"rt-ad-item-image\" src=\"https://image.ruten.com.tw/g2/f/5e/fa/21930200236794_148_s.JPG\" alt=\"Fortinet Fortigate FG-50E UTM Firewal l授權至2021 2022 2023\">\\n                  </a>\\n                </div>\\n                <div class=\"rt-ad-item-content-wrapper\">\\n                  <h2 class=\"rt-ad-item-name\">\\n                      <a title=\"Fortinet Fortigate FG-50E UTM Firewal l授權至2021 2022 2023\" href=\"https://www.ruten.com.tw/item/show?21930200236794\">Fortinet Fortigate FG-50E UTM Firewal l授權至2021 2022 2023</a>\\n                  </h2>\\n                  <div class=\"rt-text-price-no-currency\">$473 - $4725</div>\\n                </div>\\n              </div>\\n            </div>\\n          </div>\\n        </div>\\n      </div>\\n\\n      <div class=\"rt-ad rt-ad-search-keyword\">\\n        <div class=\"rt-ad-heading\">更多相關商品：</div>\\n        <ul class=\"rt-ad-list\">\\n          <li class=\"rt-ad-item\">\\n            <a href=\"https://find.ruten.com.tw/search/s000.php?enc=u&searchfrom=classf&k=ddr3+8g\" title=\"ddr3 8g\" target=\"_blank\">ddr3 8g</a>\\n          </li>\\n          <li class=\"rt-ad-item\">\\n            <a href=\"https://find.ruten.com.tw/search/s000.php?enc=u&searchfrom=classf&k=ddr3+4g\" title=\"ddr3 4g\" target=\"_blank\">ddr3 4g</a>\\n          </li>\\n          <li class=\"rt-ad-item\">\\n            <a href=\"https://find.ruten.com.tw/search/s000.php?enc=u&searchfrom=classf&k=%E5%B9%B3%E6%9D%BF%E9%9B%BB%E8%85%A6\" title=\"平板電腦\" target=\"_blank\">平板電腦</a>\\n          </li>\\n          <li class=\"rt-ad-item\">\\n            <a href=\"https://find.ruten.com.tw/search/s000.php?enc=u&searchfrom=classf&k=%E9%9B%BB%E8%85%A6%E8%9E%A2%E5%B9%95\" title=\"電腦螢幕\" target=\"_blank\">電腦螢幕</a>\\n          </li>\\n          <li class=\"rt-ad-item\">\\n            <a href=\"https://find.ruten.com.tw/search/s000.php?enc=u&searchfrom=classf&k=%E9%9B%BB%E8%85%A6%E4%B8%BB%E6%A9%9F\" title=\"電腦主機\" target=\"_blank\">電腦主機</a>\\n          </li>\\n          <li class=\"rt-ad-item\">\\n            <a href=\"https://find.ruten.com.tw/search/s000.php?enc=u&searchfrom=classf&k=%E9%9B%BB%E8%85%A6\" title=\"電腦\" target=\"_blank\">電腦</a>\\n          </li>\\n          <li class=\"rt-ad-item\">\\n            <a href=\"https://find.ruten.com.tw/search/s000.php?enc=u&searchfrom=classf&k=%E9%9B%BB%E8%85%A6%E6%A9%9F%E6%AE%BC\" title=\"電腦機殼\" target=\"_blank\">電腦機殼</a>\\n          </li>\\n          <li class=\"rt-ad-item\">\\n            <a href=\"https://find.ruten.com.tw/search/s000.php?enc=u&searchfrom=classf&k=%E6%A9%9F%E6%A2%B0%E9%8D%B5%E7%9B%A4\" title=\"機械鍵盤\" target=\"_blank\">機械鍵盤</a>\\n          </li>\\n          <li class=\"rt-ad-item\">\\n            <a href=\"https://find.ruten.com.tw/search/s000.php?enc=u&searchfrom=classf&k=%E7%AD%86%E8%A8%98%E5%9E%8B%E9%9B%BB%E8%85%A6\" title=\"筆記型電腦\" target=\"_blank\">筆記型電腦</a>\\n          </li>\\n          <li class=\"rt-ad-item\">\\n            <a href=\"https://find.ruten.com.tw/search/s000.php?enc=u&searchfrom=classf&k=ddr2+4g\" title=\"ddr2 4g\" target=\"_blank\">ddr2 4g</a>\\n          </li>\\n          <li class=\"rt-ad-item\">\\n            <a href=\"https://find.ruten.com.tw/search/s000.php?enc=u&searchfrom=classf&k=%E9%8D%B5%E7%9B%A4\" title=\"鍵盤\" target=\"_blank\">鍵盤</a>\\n          </li>\\n          <li class=\"rt-ad-item\">\\n            <a href=\"https://find.ruten.com.tw/search/s000.php?enc=u&searchfrom=classf&k=%E7%84%A1%E7%B7%9A%E6%BB%91%E9%BC%A0\" title=\"無線滑鼠\" target=\"_blank\">無線滑鼠</a>\\n          </li>\\n          <li class=\"rt-ad-item\">\\n            <a href=\"https://find.ruten.com.tw/search/s000.php?enc=u&searchfrom=classf&k=%E8%B2%BC%E7%89%87\" title=\"貼片\" target=\"_blank\">貼片</a>\\n          </li>\\n          <li class=\"rt-ad-item\">\\n            <a href=\"https://find.ruten.com.tw/search/s000.php?enc=u&searchfrom=classf&k=%E4%BA%8C%E6%89%8B%E7%AD%86%E9%9B%BB\" title=\"二手筆電\" target=\"_blank\">二手筆電</a>\\n          </li>\\n          <li class=\"rt-ad-item\">\\n            <a href=\"https://find.ruten.com.tw/search/s000.php?enc=u&searchfrom=classf&k=%E9%9B%BB%E6%BA%90%E4%BE%9B%E6%87%89%E5%99%A8\" title=\"電源供應器\" target=\"_blank\">電源供應器</a>\\n          </li>\\n        </ul>\\n      </div>\\n    </div>\\n\\n    <div class=\"rt-footer\">\\n      <div class=\"rt-footer-inner\">\\n        <div class=\"rt-footer-section\">\\n          <ul class=\"rt-footer-nav\" itemscope itemtype=\"http://schema.org/WPFooter\">\\n            <li class=\"about rt-footer-nav-item\">\\n              <a href=\"https://pub.ruten.com.tw/about/index.html\" title=\"關於露天市集\" itemprop=\"url\">\\n                <span class=\"rt-footer-nav-name\" itemprop=\"name\">關於露天</span>\\n              </a>\\n            </li>\\n            <li class=\"cm rt-footer-nav-item\">\\n              <a href=\"https://www.ruten.com.tw/system/index.html\" title=\"露天客服中心\" itemprop=\"url\">\\n                <span class=\"rt-footer-nav-name\" itemprop=\"name\">客服中心</span>\\n              </a>\\n            </li>\\n            <li class=\"qa rt-footer-nav-item\">\\n              <a href=\"https://www.ruten.com.tw/system/server_center.htm?000500010001\" title=\"網站常見問題\" itemprop=\"url\">\\n                <span class=\"rt-footer-nav-name\" itemprop=\"name\">常見問題</span>\\n              </a>\\n            </li>\\n            <li class=\"security rt-footer-nav-item\">\\n              <a href=\"https://www.ruten.com.tw/security/index.html\" title=\"關於交易安全說明\" itemprop=\"url\">\\n                <span class=\"rt-footer-nav-name\" itemprop=\"name\">交易安全</span>\\n              </a>\\n            </li>\\n            <li class=\"member rt-footer-nav-item\">\\n              <a href=\"https://www.ruten.com.tw/system/server_center.htm?agreements\" title=\"會員合約內容\" itemprop=\"url\">\\n                <span class=\"rt-footer-nav-name\" itemprop=\"name\">會員合約</span>\\n              </a>\\n            </li>\\n            <li class=\"privacy rt-footer-nav-item\">\\n              <a href=\"https://www.ruten.com.tw/system/server_center.htm?00060002\" title=\"隱私權聲明項目\" itemprop=\"url\">\\n                <span class=\"rt-footer-nav-name\" itemprop=\"name\">隱私權聲明</span>\\n              </a>\\n            </li>\\n            <li class=\"ipr rt-footer-nav-item\">\\n              <a href=\"https://www.ruten.com.tw/system/server_center.htm?000600050032\" title=\"智慧財產權保護傘\" itemprop=\"url\">\\n                <span class=\"rt-footer-nav-name\" itemprop=\"name\">智慧財產權保護傘</span>\\n              </a>\\n            </li>\\n            <li class=\"jobs rt-footer-nav-item\">\\n              <a href=\"http://www.104.com.tw/jobbank/cust_job/introduce.cfm?j=5a3a432634463e6956583a1d1d1d1d5f2443a363189j97\" target=\"_blank\" itemprop=\"url\">\\n                <span class=\"rt-footer-nav-name\" itemprop=\"name\">徵才</span>\\n              </a>\\n            </li>\\n            <li class=\"export rt-footer-nav-item\">\\n              <a href=\"http://twexport.ebay.com/\" title=\"eBay跨國交易服務\" target=\"_blank\" itemprop=\"url\">\\n                <span class=\"rt-footer-nav-name\" itemprop=\"name\">eBay&nbsp;跨國交易</span>\\n              </a>\\n            </li>\\n            <li class=\"pchomepay rt-footer-nav-item\">\\n              <a href=\"https://www.pchomepay.com.tw/\" title=\"支付連\" target=\"_blank\" itemprop=\"url\">\\n                <span class=\"rt-footer-nav-name\" itemprop=\"name\">支付連</span>\\n              </a>\\n            </li>\\n            <li class=\"pchome rt-footer-nav-item\">\\n              <a href=\"http://www.pchome.com.tw/\" title=\"PChome\" target=\"_blank\" itemprop=\"url\">\\n                <span class=\"rt-footer-nav-name\" itemprop=\"name\">PChome</span>\\n              </a>\\n            </li>\\n            <li class=\"marketing rt-footer-nav-item\">\\n              <a href=\"https://www.ruten.com.tw/system/advertisement/marketing.html\" title=\"廣告合作\" target=\"_blank\" itemprop=\"url\">\\n                <span class=\"rt-footer-nav-name\" itemprop=\"name\">廣告合作</span>\\n              </a>\\n            </li>\\n          </ul>\\n        </div>\\n    \\n        <div class=\"rt-footer-section\">\\n          <div class=\"rt-footer-copyright\">\\n            <p class=\"copyright-item copyright-item-notice\">客戶服務專線：02-55589168&nbsp;&nbsp;服務時間：週一&nbsp;~&nbsp;五&nbsp;9:00&nbsp;~&nbsp;18:00</p>\\n            <p class=\"copyright-item\">露天市集國際資訊股份有限公司版權所有，轉載必究&nbsp;•&nbsp;Copyright&nbsp;&copy;&nbsp;PChome&nbsp;eBay&nbsp;Co.,&nbsp;Ltd.</p>\\n          </div>\\n          <div class=\"rt-footer-green-mark\">\\n            <div class=\"rt-footer-green-mark-icon\" title=\"露天包裝減量標章\"></div>\\n            <p class=\"rt-footer-green-mark-title\">露天包裝減量標章</p>\\n          </div>\\n          <div class=\"rt-footer-download\">\\n            <div class=\"download-app\">\\n              <h4 class=\"download-app-title\">下載露天市集APP</h4>\\n              <div class=\"download-app-content\">\\n                <a class=\"download-app-android\" href=\"https://play.google.com/store/apps/details?id=com.ruten.android.rutengoods.rutenbid\" target=\"_blank\" title=\"前往Google Play下載 Android 版本 APP\"></a>\\n                <a class=\"download-app-ios\" href=\"https://itunes.apple.com/tw/app/%E9%9C%B2%E5%A4%A9%E6%8B%8D%E8%B3%A3/id981799568?mt=8\" target=\"_blank\" title=\"前往APP Store 下載 IOS 版本 APP\"></a>\\n              </div>\\n            </div>\\n            <div class=\"download-qrcode\" title=\"QR Code\"></div>\\n          </div>\\n        </div>\\n      </div>\\n    </div>\\n    \\n<script type=\"text/javascript\">\\n  window.RT = window.RT || {};\\n  RT.config = {\\n    www_host           : \\'https://www.ruten.com.tw\\',\\n    search_host        : \\'https://find.ruten.com.tw\\',\\n    member_host        : \\'https://member.ruten.com.tw\\',\\n    mobile_host        : \\'https://m.ruten.com.tw\\',\\n    goods_host         : \\'https://goods.ruten.com.tw\\',\\n    www_pchomeus_host  : \\'https://www.pchomeus.com\\',\\n    mybid_host         : \\'https://mybid.ruten.com.tw\\',\\n    mybidu_host        : \\'https://mybidu.ruten.com.tw\\',\\n    point_host         : \\'https://point.ruten.com.tw\\',\\n    class_host         : \\'https://class.ruten.com.tw\\',\\n    pub_host           : \\'https://pub.ruten.com.tw\\',\\n    ad_host            : \\'https://ahd.ruten.com.tw\\',\\n    ahd_host           : \\'https://ahd.ruten.com.tw\\',\\n    kwad_host          : \\'http://kwad.ruten.com.tw\\',\\n    bid_img_dir        : \\'https://www.ruten.com.tw/images\\',\\n    alert_host         : \\'https://alert.ruten.com.tw\\',\\n    im_host            : \\'https://im.ruten.com.tw\\',\\n    rtapi_host         : \\'https://rtapi.ruten.com.tw\\',\\n    rapi_host          : \\'https://rapi.ruten.com.tw\\',\\n    img_host           : \\'https://a.rimg.com.tw\\',\\n    upload_host        : \\'https://upload.ruten.com.tw\\',\\n    promote_host       : \\'https://promote.ruten.com.tw\\',\\n    seller_host        : \\'https://seller.ruten.com.tw\\',\\n    mass_host          : \\'https://mass.ruten.com.tw\\'\\n  };\\n  RT.config.env = \\'main\\';\\n  RT.config.ppPayway = [\\n    \\'PAYLINK\\',\\n    \\'PP_PI\\',\\n    \\'PL_ATM\\',\\n    \\'PL_ACCOUNT\\',\\n    \\'PL_POSTATM\\',\\n    \\'PP_CRD\\',\\n    \\'PP_CRD_N3\\',\\n    \\'PP_CRD_N6\\',\\n    \\'PP_CRD_N12\\',\\n    \\'PP_EACH\\'\\n  ];\\n  RT.config.ppRelatedPayway = RT.config.ppPayway.concat([\\n    \\'CVS_COD\\',\\n    \\'SEVEN\\',\\n    \\'SEVEN_COD\\',\\n    \\'TCAT_COD\\',\\n    \\'PP_CPON\\'\\n  ]);\\n  if(window.Box) {\\n    RT.App = Box.Application;\\n\\n    RT.App.initBroadcast = function(name, obj) {\\n      setTimeout(function() {\\n        RT.App.broadcast(name, obj)\\n      });\\n    };\\n  }\\n</script>\\n    \\n    <div data-ts-log-type=\"anchor\" data-ts-log-position=\"top\" class=\"back-to-top-wrap back-to-top-hide\" id=\"back_to_top_wrap\">\\n      <div class=\"back-to-top\">\\n        <p class=\"back-to-top-text\">TOP</p>\\n      </div>\\n    </div>\\n    \\n<script type=\"text/javascript\" src=\"https://www.ruten.com.tw/js/vue-2.6.10.min.js\" charset=\"utf-8\"></script>\\n    <script type=\"text/javascript\" src=\"https://www.ruten.com.tw/js/vuex-2.1.2.min.js?v=20171123\"></script>\\n    <script type=\"text/javascript\" src=\"https://www.ruten.com.tw/js/js.cookie-2.1.2.min.js?v=20171123\"></script>\\n    <script type=\"text/javascript\" src=\"https://www.ruten.com.tw/js/jquery-1.7.1.min.js\"></script>\\n    \\n<script type=\"text/javascript\">\\n/*<![CDATA[*/setTimeout(function(){(function() {\\nvar script = document.createElement(\\'script\\'), event;\\nscript.setAttribute(\\'type\\', \\'text/javascript\\');\\nscript.setAttribute(\\'src\\', \\'https://www.ruten.com.tw/js/lib/rtchat_vendors.min.js?v=f394c02deb0696ed81b2\\');\\nif(typeof window.Event === \\'function\\') {\\n  event = new Event(\\'rtchat_vendors.min.js:loaded\\');\\n} else {\\n  event = document.createEvent(\\'Event\\');\\n  event.initEvent(\\'rtchat_vendors.min.js:loaded\\', true, true);\\n}\\nscript.onload = function(e) {window.dispatchEvent(event);e.target.complete=true;}\\ndocument.documentElement.appendChild(script);\\n})();(function() {\\nvar script = document.createElement(\\'script\\'), event;\\nscript.setAttribute(\\'type\\', \\'text/javascript\\');\\nscript.setAttribute(\\'src\\', \\'https://www.ruten.com.tw/js/lib/rtchat_teddy.min.js?v=9d98c4240d0d0ac9c65b\\');\\nif(typeof window.Event === \\'function\\') {\\n  event = new Event(\\'rtchat_teddy.min.js:loaded\\');\\n} else {\\n  event = document.createEvent(\\'Event\\');\\n  event.initEvent(\\'rtchat_teddy.min.js:loaded\\', true, true);\\n}\\nscript.onload = function(e) {window.dispatchEvent(event);e.target.complete=true;}\\ndocument.documentElement.appendChild(script);\\n})();})/*]]>*/\\n</script>\\n    \\n      <script type=\"text/javascript\" src=\"https://www.ruten.com.tw/js/t3-jquery.min.js\"></script>\\n    \\n<script type=\"text/javascript\" src=\"https://www.ruten.com.tw/js/d/desktop.js?v=962d8f64a37d53559aec\" charset=\"utf-8\"></script>\\n    \\n<!-- ts code start -->\\n<script type=\"text/javascript\">\\n(function(R,u,t,e,n,T,S){\\nt=R[t]=function(){(t.queue=t.queue||[]).push(arguments);};\\nt.host=n;T=u.createElement(e);T.async=1;T.src=n+\\'/ts_async.js?24\\';\\nS=u.getElementsByTagName(e)[0];S.parentNode.insertBefore(T,S);\\n}(window,document,\\'_ts_js_fn\\',\\'script\\',\\'https://ts.ruten.com.tw\\'));\\n\\n_ts_js_fn(\\'init\\');\\n_ts_js_fn(\\'run\\');\\n\\n(function(i,s,o,g,r,a,m){i[\\'GoogleAnalyticsObject\\']=r;i[r]=i[r]||function(){\\n(i[r].q=i[r].q||[]).push(arguments)},i[r].l=1*new Date();a=s.createElement(o),\\nm=s.getElementsByTagName(o)[0];a.async=1;a.src=g;m.parentNode.insertBefore(a,m)\\n})(window,document,\\'script\\',\\'//www.google-analytics.com/analytics.js\\',\\'ga\\');\\n\\n!function(f,b,e,v,n,t,s)\\n{if(f.fbq)return;n=f.fbq=function(){n.callMethod?\\nn.callMethod.apply(n,arguments):n.queue.push(arguments)};\\nif(!f._fbq)f._fbq=n;n.push=n;n.loaded=!0;n.version=\\'2.0\\';\\nn.queue=[];t=b.createElement(e);t.async=!0;\\nt.src=v;s=b.documentElement;\\ns.appendChild(t)}(window, document,\\'script\\',\\n\\'https://connect.facebook.net/en_US/fbevents.js\\');\\nfbq(\\'init\\', \\'1609625759130349\\');\\nfbq(\\'track\\', \\'PageView\\');\\n</script>\\n\\n<script type=\"text/javascript\">\\n/*<![CDATA[*/setTimeout(function(){(function() {\\nvar script = document.createElement(\\'script\\'), event;\\nscript.setAttribute(\\'type\\', \\'text/javascript\\');\\nscript.setAttribute(\\'src\\', \\'https://www.ruten.com.tw/js/lib/rt_analytics.min.js?v=0426740745835996a436\\');\\nif(typeof window.Event === \\'function\\') {\\n  event = new Event(\\'rt_analytics.min.js:loaded\\');\\n} else {\\n  event = document.createEvent(\\'Event\\');\\n  event.initEvent(\\'rt_analytics.min.js:loaded\\', true, true);\\n}\\nscript.onload = function(e) {window.dispatchEvent(event);e.target.complete=true;}\\ndocument.documentElement.appendChild(script);\\n})();})/*]]>*/\\n</script>\\n  </div>\\n<script>\\n  window.RT = window.RT || {};\\n  RT.context = {\"g_class_val\":\"0011\",\"ahd_host\":\"https:\\\\/\\\\/ahd.ruten.com.tw\",\"point_host\":\"https:\\\\/\\\\/point.ruten.com.tw\",\"class_host\":\"https:\\\\/\\\\/class.ruten.com.tw\",\"tab_val\":2,\"p\":1};\\n</script>\\n<script src=\"https://www.ruten.com.tw/js/mustache-2.1.2.min.js\"></script>\\n<script src=\\'https://www.ruten.com.tw/js/ahd_flash.js\\'></script>\\n<script src=\"https://www.ruten.com.tw/js/gads_loader.js\"></script>\\n<script type=\"text/javascript\" src=\"https://www.ruten.com.tw/js/lib/rt_utility.min.js?v=3609957ceba01903e76e\" charset=\"utf-8\"></script>\\n<script type=\"text/javascript\" src=\"https://www.ruten.com.tw/js/lib/jquery.ruten.ruten_ad.min.js?v=ddde7dff1b294b9a36a7\" charset=\"utf-8\"></script>\\n<script type=\"text/javascript\" src=\"https://www.ruten.com.tw/js/lib/rt_adslot.min.js?v=5352806f0ee1b82a3b8f\" charset=\"utf-8\"></script>\\n<script type=\"text/javascript\" src=\"https://www.ruten.com.tw/js/d/www/main.view.js?v=782d475a059e03176b89\" charset=\"utf-8\"></script>\\n</body>\\n\\n</html>'"
            ]
          },
          "execution_count": 102,
          "metadata": {},
          "output_type": "execute_result"
        }
      ],
      "source": [
        "url = \"https://www.ruten.com.tw/category/0011\"\n",
        "headers = {'user-agent':'Mozilla/5.0 (Windows NT 10.0; Win64; x64) AppleWebKit/537.36 (KHTML, like Gecko) Chrome/110.0.0.0 Safari/537.36'}\n",
        "r = requests.get(url, headers=headers)\n",
        "r.text"
      ]
    },
    {
      "cell_type": "code",
      "execution_count": null,
      "metadata": {
        "id": "dJyCFE3RKb0r"
      },
      "outputs": [],
      "source": [
        "url = \"https://rapi.ruten.com.tw/api/items/v2/list?gno=21203073884581,21203073855084,22243606777400,22244608865692,22302937500980,22306987134735,22308073518043,22134699516389,22238403273488,21945822081428,22115680698839&level=detail\"\n",
        "data = requests.get(url, headers=headers).json()\n",
        "data"
      ]
    },
    {
      "cell_type": "code",
      "execution_count": null,
      "metadata": {
        "colab": {
          "base_uri": "https://localhost:8080/"
        },
        "id": "lRCdMlYCKtnA",
        "outputId": "bf515567-7a91-4070-8101-00620ba5e543"
      },
      "outputs": [
        {
          "data": {
            "text/plain": [
              "dict"
            ]
          },
          "execution_count": 76,
          "metadata": {},
          "output_type": "execute_result"
        }
      ],
      "source": [
        "type(data)"
      ]
    },
    {
      "cell_type": "code",
      "execution_count": null,
      "metadata": {
        "colab": {
          "base_uri": "https://localhost:8080/"
        },
        "id": "0bzMI8_sK0W1",
        "outputId": "4a18c14f-92da-4590-adae-8f9084a5e23b"
      },
      "outputs": [
        {
          "data": {
            "text/plain": [
              "dict_keys(['status', 'data'])"
            ]
          },
          "execution_count": 77,
          "metadata": {},
          "output_type": "execute_result"
        }
      ],
      "source": [
        "data.keys()"
      ]
    },
    {
      "cell_type": "code",
      "execution_count": null,
      "metadata": {
        "colab": {
          "base_uri": "https://localhost:8080/"
        },
        "id": "GKsX-aLNK-LU",
        "outputId": "2fcca068-c58b-4bef-d863-d8373020f645"
      },
      "outputs": [
        {
          "data": {
            "text/plain": [
              "list"
            ]
          },
          "execution_count": 78,
          "metadata": {},
          "output_type": "execute_result"
        }
      ],
      "source": [
        "type(data[\"data\"])"
      ]
    },
    {
      "cell_type": "code",
      "execution_count": null,
      "metadata": {
        "colab": {
          "base_uri": "https://localhost:8080/"
        },
        "id": "_lFgNQcMLIag",
        "outputId": "baf0b346-3391-4303-dc11-3bfa8a46155a"
      },
      "outputs": [
        {
          "data": {
            "text/plain": [
              "dict_keys(['id', 'class', 'name', 'num', 'images', 'currency', 'goods_price', 'goods_ori_price', 'goods_price_range', 'watch_num', 'sold_num', 'buyer_limit_num', 'stock_status', 'pre_order_ship_date', 'fast_ship', 'free_shipping', 'youtube_link', 'video_link', 'ncc_check_code', 'bsmi_code', 'goods_no', 'available', 'post_time', 'spec_type', 'deliver_way', 'mode', 'ship', 'platform', 'ctrl_rowid', 'user', 'user_credit', 'pay_way', 'title_style', 'selling_g_now_price', 'item_remaining_time', 'translation_type', 'translated_name', 'min_estimated_delivery_date', 'max_estimated_delivery_date', 'update_time', 'is_brand_seller', 'is_goods_from_oversea', 'location', 'condition', 'codition', 'accept_shiprule', 'user_class', 'close_no', 'description_url', 'spec_info', 'text2'])"
            ]
          },
          "execution_count": 79,
          "metadata": {},
          "output_type": "execute_result"
        }
      ],
      "source": [
        "data[\"data\"][0].keys()"
      ]
    },
    {
      "cell_type": "code",
      "execution_count": null,
      "metadata": {
        "colab": {
          "base_uri": "https://localhost:8080/"
        },
        "id": "tYiC6zBkLgom",
        "outputId": "c911ab4a-19e6-4255-858b-79f1713ecc8b"
      },
      "outputs": [
        {
          "data": {
            "text/plain": [
              "11"
            ]
          },
          "execution_count": 81,
          "metadata": {},
          "output_type": "execute_result"
        }
      ],
      "source": [
        "len(data[\"data\"])"
      ]
    },
    {
      "cell_type": "code",
      "execution_count": null,
      "metadata": {
        "colab": {
          "base_uri": "https://localhost:8080/"
        },
        "id": "nsq1J-cuL_oN",
        "outputId": "0a450cbe-d635-4e9a-d6dc-6d70f0465838"
      },
      "outputs": [
        {
          "name": "stdout",
          "output_type": "stream",
          "text": [
            "凸頭 18650電池 可開發票 尖頭 鋰電池 充電電池 3000mAh 3.7v 高容量 手電筒 電風扇 Li-ion:8\n",
            "18650充電電池 高容量 4000mAh 電池 鋰電池 充電電池 3.7V Li-ion 尖頭 凸頭 充電器 USB:39\n",
            "三菱電機HC-BH023-S12   99新:39000\n",
            "【秀秀】三菱PLC模塊 QJ72LP25-25 全新:33000\n",
            "(辦公首選華碩I7商務桌機 獨家送微軟OFFICE)I7-11700時脈4.9G/16核心/16G/256G+1TB電腦:25900\n",
            "WD西部數據NAS硬盤12T服務器硬盤12t網絡硬盤紅盤Pro WD121KFBX:50760\n",
            "全新零刻 SEi8 i5-8279U 酷睿i5辦公電腦微型主機 Intel 辦公電腦 迷你電腦 小電腦 微電腦:23692\n",
            "【樂意創客官方店】《附發票》AI機械手臂 樹莓派 4B Raspberry 視覺識別 ArmPi-FPV (豪華版本):22800\n",
            "KINGHOPE KH-82膽機組合音響發燒hifi藍牙書架音箱功放CD/DVD套裝:38280\n",
            "【24H出貨】(公司貨) iMICE X7 電競滑鼠 2400DPI 呼吸燈 電腦滑鼠 光學滑鼠 有線滑鼠 競技滑鼠:155\n",
            "Renova Zero Pod 煙彈 空煙彈 空倉 空夾 空彈:199\n"
          ]
        }
      ],
      "source": [
        "for i in data[\"data\"]:\n",
        "  print(f\"{i['name']}:{i['goods_price']}\")"
      ]
    },
    {
      "cell_type": "markdown",
      "metadata": {
        "id": "QR9f9WgpN2f7"
      },
      "source": [
        "##抓取政府電子採購網資料\n"
      ]
    },
    {
      "cell_type": "code",
      "execution_count": null,
      "metadata": {
        "colab": {
          "base_uri": "https://localhost:8080/",
          "height": 480
        },
        "id": "sJ7Yrj52OKFW",
        "outputId": "d0a36466-51af-43bf-cd70-87f29d37bd83"
      },
      "outputs": [
        {
          "data": {
            "text/html": [
              "\n",
              "  <div id=\"df-fe34adee-8365-4f7f-8868-aad2035b73e6\">\n",
              "    <div class=\"colab-df-container\">\n",
              "      <div>\n",
              "<style scoped>\n",
              "    .dataframe tbody tr th:only-of-type {\n",
              "        vertical-align: middle;\n",
              "    }\n",
              "\n",
              "    .dataframe tbody tr th {\n",
              "        vertical-align: top;\n",
              "    }\n",
              "\n",
              "    .dataframe thead th {\n",
              "        text-align: right;\n",
              "    }\n",
              "</style>\n",
              "<table border=\"1\" class=\"dataframe\">\n",
              "  <thead>\n",
              "    <tr style=\"text-align: right;\">\n",
              "      <th></th>\n",
              "      <th>0</th>\n",
              "      <th>1</th>\n",
              "      <th>2</th>\n",
              "      <th>3</th>\n",
              "      <th>4</th>\n",
              "      <th>5</th>\n",
              "      <th>6</th>\n",
              "      <th>7</th>\n",
              "    </tr>\n",
              "  </thead>\n",
              "  <tbody>\n",
              "    <tr>\n",
              "      <th>0</th>\n",
              "      <td>NaN</td>\n",
              "      <td>全文查詢</td>\n",
              "      <td>NaN</td>\n",
              "      <td>NaN</td>\n",
              "      <td>NaN</td>\n",
              "      <td>從結果中查詢</td>\n",
              "      <td>從結果中查詢</td>\n",
              "      <td>NaN</td>\n",
              "    </tr>\n",
              "    <tr>\n",
              "      <th>1</th>\n",
              "      <td>NaN</td>\n",
              "      <td>標案種類</td>\n",
              "      <td>招標  決標 公開閱覽及公開徵求 政府採購預告</td>\n",
              "      <td>招標  決標 公開閱覽及公開徵求 政府採購預告</td>\n",
              "      <td>招標  決標 公開閱覽及公開徵求 政府採購預告</td>\n",
              "      <td>招標  決標 公開閱覽及公開徵求 政府採購預告</td>\n",
              "      <td>招標  決標 公開閱覽及公開徵求 政府採購預告</td>\n",
              "      <td>招標  決標 公開閱覽及公開徵求 政府採購預告</td>\n",
              "    </tr>\n",
              "    <tr>\n",
              "      <th>2</th>\n",
              "      <td>NaN</td>\n",
              "      <td>排序欄位</td>\n",
              "      <td>招標公告日期  決標或無法決標公告</td>\n",
              "      <td>招標公告日期  決標或無法決標公告</td>\n",
              "      <td>NaN</td>\n",
              "      <td>NaN</td>\n",
              "      <td>NaN</td>\n",
              "      <td>NaN</td>\n",
              "    </tr>\n",
              "    <tr>\n",
              "      <th>3</th>\n",
              "      <td>NaN</td>\n",
              "      <td>查詢範圍</td>\n",
              "      <td>112年1至12月  111年1至12月  110年1至12月  109年1至12月  10...</td>\n",
              "      <td>112年1至12月  111年1至12月  110年1至12月  109年1至12月  10...</td>\n",
              "      <td>112年1至12月  111年1至12月  110年1至12月  109年1至12月  10...</td>\n",
              "      <td>112年1至12月  111年1至12月  110年1至12月  109年1至12月  10...</td>\n",
              "      <td>112年1至12月  111年1至12月  110年1至12月  109年1至12月  10...</td>\n",
              "      <td>112年1至12月  111年1至12月  110年1至12月  109年1至12月  10...</td>\n",
              "    </tr>\n",
              "    <tr>\n",
              "      <th>4</th>\n",
              "      <td>NaN</td>\n",
              "      <td>檢索設定</td>\n",
              "      <td>同音 容錯</td>\n",
              "      <td>NaN</td>\n",
              "      <td>每頁筆數</td>\n",
              "      <td>10  20  50  100</td>\n",
              "      <td>NaN</td>\n",
              "      <td>NaN</td>\n",
              "    </tr>\n",
              "    <tr>\n",
              "      <th>5</th>\n",
              "      <td>查詢</td>\n",
              "      <td>查詢</td>\n",
              "      <td>查詢</td>\n",
              "      <td>查詢</td>\n",
              "      <td>查詢</td>\n",
              "      <td>查詢</td>\n",
              "      <td>查詢</td>\n",
              "      <td>查詢</td>\n",
              "    </tr>\n",
              "    <tr>\n",
              "      <th>6</th>\n",
              "      <td>註：  ◎  全文查詢設定範例：  你可以使用  AND（或用『 , 』、『 &amp; 』）, O...</td>\n",
              "      <td>註：  ◎  全文查詢設定範例：  你可以使用  AND（或用『 , 』、『 &amp; 』）, O...</td>\n",
              "      <td>註：  ◎  全文查詢設定範例：  你可以使用  AND（或用『 , 』、『 &amp; 』）, O...</td>\n",
              "      <td>註：  ◎  全文查詢設定範例：  你可以使用  AND（或用『 , 』、『 &amp; 』）, O...</td>\n",
              "      <td>註：  ◎  全文查詢設定範例：  你可以使用  AND（或用『 , 』、『 &amp; 』）, O...</td>\n",
              "      <td>註：  ◎  全文查詢設定範例：  你可以使用  AND（或用『 , 』、『 &amp; 』）, O...</td>\n",
              "      <td>註：  ◎  全文查詢設定範例：  你可以使用  AND（或用『 , 』、『 &amp; 』）, O...</td>\n",
              "      <td>註：  ◎  全文查詢設定範例：  你可以使用  AND（或用『 , 』、『 &amp; 』）, O...</td>\n",
              "    </tr>\n",
              "  </tbody>\n",
              "</table>\n",
              "</div>\n",
              "      <button class=\"colab-df-convert\" onclick=\"convertToInteractive('df-fe34adee-8365-4f7f-8868-aad2035b73e6')\"\n",
              "              title=\"Convert this dataframe to an interactive table.\"\n",
              "              style=\"display:none;\">\n",
              "        \n",
              "  <svg xmlns=\"http://www.w3.org/2000/svg\" height=\"24px\"viewBox=\"0 0 24 24\"\n",
              "       width=\"24px\">\n",
              "    <path d=\"M0 0h24v24H0V0z\" fill=\"none\"/>\n",
              "    <path d=\"M18.56 5.44l.94 2.06.94-2.06 2.06-.94-2.06-.94-.94-2.06-.94 2.06-2.06.94zm-11 1L8.5 8.5l.94-2.06 2.06-.94-2.06-.94L8.5 2.5l-.94 2.06-2.06.94zm10 10l.94 2.06.94-2.06 2.06-.94-2.06-.94-.94-2.06-.94 2.06-2.06.94z\"/><path d=\"M17.41 7.96l-1.37-1.37c-.4-.4-.92-.59-1.43-.59-.52 0-1.04.2-1.43.59L10.3 9.45l-7.72 7.72c-.78.78-.78 2.05 0 2.83L4 21.41c.39.39.9.59 1.41.59.51 0 1.02-.2 1.41-.59l7.78-7.78 2.81-2.81c.8-.78.8-2.07 0-2.86zM5.41 20L4 18.59l7.72-7.72 1.47 1.35L5.41 20z\"/>\n",
              "  </svg>\n",
              "      </button>\n",
              "      \n",
              "  <style>\n",
              "    .colab-df-container {\n",
              "      display:flex;\n",
              "      flex-wrap:wrap;\n",
              "      gap: 12px;\n",
              "    }\n",
              "\n",
              "    .colab-df-convert {\n",
              "      background-color: #E8F0FE;\n",
              "      border: none;\n",
              "      border-radius: 50%;\n",
              "      cursor: pointer;\n",
              "      display: none;\n",
              "      fill: #1967D2;\n",
              "      height: 32px;\n",
              "      padding: 0 0 0 0;\n",
              "      width: 32px;\n",
              "    }\n",
              "\n",
              "    .colab-df-convert:hover {\n",
              "      background-color: #E2EBFA;\n",
              "      box-shadow: 0px 1px 2px rgba(60, 64, 67, 0.3), 0px 1px 3px 1px rgba(60, 64, 67, 0.15);\n",
              "      fill: #174EA6;\n",
              "    }\n",
              "\n",
              "    [theme=dark] .colab-df-convert {\n",
              "      background-color: #3B4455;\n",
              "      fill: #D2E3FC;\n",
              "    }\n",
              "\n",
              "    [theme=dark] .colab-df-convert:hover {\n",
              "      background-color: #434B5C;\n",
              "      box-shadow: 0px 1px 3px 1px rgba(0, 0, 0, 0.15);\n",
              "      filter: drop-shadow(0px 1px 2px rgba(0, 0, 0, 0.3));\n",
              "      fill: #FFFFFF;\n",
              "    }\n",
              "  </style>\n",
              "\n",
              "      <script>\n",
              "        const buttonEl =\n",
              "          document.querySelector('#df-fe34adee-8365-4f7f-8868-aad2035b73e6 button.colab-df-convert');\n",
              "        buttonEl.style.display =\n",
              "          google.colab.kernel.accessAllowed ? 'block' : 'none';\n",
              "\n",
              "        async function convertToInteractive(key) {\n",
              "          const element = document.querySelector('#df-fe34adee-8365-4f7f-8868-aad2035b73e6');\n",
              "          const dataTable =\n",
              "            await google.colab.kernel.invokeFunction('convertToInteractive',\n",
              "                                                     [key], {});\n",
              "          if (!dataTable) return;\n",
              "\n",
              "          const docLinkHtml = 'Like what you see? Visit the ' +\n",
              "            '<a target=\"_blank\" href=https://colab.research.google.com/notebooks/data_table.ipynb>data table notebook</a>'\n",
              "            + ' to learn more about interactive tables.';\n",
              "          element.innerHTML = '';\n",
              "          dataTable['output_type'] = 'display_data';\n",
              "          await google.colab.output.renderOutput(dataTable, element);\n",
              "          const docLink = document.createElement('div');\n",
              "          docLink.innerHTML = docLinkHtml;\n",
              "          element.appendChild(docLink);\n",
              "        }\n",
              "      </script>\n",
              "    </div>\n",
              "  </div>\n",
              "  "
            ],
            "text/plain": [
              "                                                   0  \\\n",
              "0                                                NaN   \n",
              "1                                                NaN   \n",
              "2                                                NaN   \n",
              "3                                                NaN   \n",
              "4                                                NaN   \n",
              "5                                                 查詢   \n",
              "6  註：  ◎  全文查詢設定範例：  你可以使用  AND（或用『 , 』、『 & 』）, O...   \n",
              "\n",
              "                                                   1  \\\n",
              "0                                               全文查詢   \n",
              "1                                               標案種類   \n",
              "2                                               排序欄位   \n",
              "3                                               查詢範圍   \n",
              "4                                               檢索設定   \n",
              "5                                                 查詢   \n",
              "6  註：  ◎  全文查詢設定範例：  你可以使用  AND（或用『 , 』、『 & 』）, O...   \n",
              "\n",
              "                                                   2  \\\n",
              "0                                                NaN   \n",
              "1                            招標  決標 公開閱覽及公開徵求 政府採購預告   \n",
              "2                                  招標公告日期  決標或無法決標公告   \n",
              "3  112年1至12月  111年1至12月  110年1至12月  109年1至12月  10...   \n",
              "4                                              同音 容錯   \n",
              "5                                                 查詢   \n",
              "6  註：  ◎  全文查詢設定範例：  你可以使用  AND（或用『 , 』、『 & 』）, O...   \n",
              "\n",
              "                                                   3  \\\n",
              "0                                                NaN   \n",
              "1                            招標  決標 公開閱覽及公開徵求 政府採購預告   \n",
              "2                                  招標公告日期  決標或無法決標公告   \n",
              "3  112年1至12月  111年1至12月  110年1至12月  109年1至12月  10...   \n",
              "4                                                NaN   \n",
              "5                                                 查詢   \n",
              "6  註：  ◎  全文查詢設定範例：  你可以使用  AND（或用『 , 』、『 & 』）, O...   \n",
              "\n",
              "                                                   4  \\\n",
              "0                                                NaN   \n",
              "1                            招標  決標 公開閱覽及公開徵求 政府採購預告   \n",
              "2                                                NaN   \n",
              "3  112年1至12月  111年1至12月  110年1至12月  109年1至12月  10...   \n",
              "4                                               每頁筆數   \n",
              "5                                                 查詢   \n",
              "6  註：  ◎  全文查詢設定範例：  你可以使用  AND（或用『 , 』、『 & 』）, O...   \n",
              "\n",
              "                                                   5  \\\n",
              "0                                             從結果中查詢   \n",
              "1                            招標  決標 公開閱覽及公開徵求 政府採購預告   \n",
              "2                                                NaN   \n",
              "3  112年1至12月  111年1至12月  110年1至12月  109年1至12月  10...   \n",
              "4                                    10  20  50  100   \n",
              "5                                                 查詢   \n",
              "6  註：  ◎  全文查詢設定範例：  你可以使用  AND（或用『 , 』、『 & 』）, O...   \n",
              "\n",
              "                                                   6  \\\n",
              "0                                             從結果中查詢   \n",
              "1                            招標  決標 公開閱覽及公開徵求 政府採購預告   \n",
              "2                                                NaN   \n",
              "3  112年1至12月  111年1至12月  110年1至12月  109年1至12月  10...   \n",
              "4                                                NaN   \n",
              "5                                                 查詢   \n",
              "6  註：  ◎  全文查詢設定範例：  你可以使用  AND（或用『 , 』、『 & 』）, O...   \n",
              "\n",
              "                                                   7  \n",
              "0                                                NaN  \n",
              "1                            招標  決標 公開閱覽及公開徵求 政府採購預告  \n",
              "2                                                NaN  \n",
              "3  112年1至12月  111年1至12月  110年1至12月  109年1至12月  10...  \n",
              "4                                                NaN  \n",
              "5                                                 查詢  \n",
              "6  註：  ◎  全文查詢設定範例：  你可以使用  AND（或用『 , 』、『 & 』）, O...  "
            ]
          },
          "execution_count": 93,
          "metadata": {},
          "output_type": "execute_result"
        }
      ],
      "source": [
        "url = \"https://web.pcc.gov.tw/prkms/tender/common/bulletion/readBulletion?querySentence=%E9%9B%BB%E8%85%A6&tenderStatusType=%E6%8B%9B%E6%A8%99&sortCol=TENDER_NOTICE_DATE&timeRange=112&pageSize=10\"\n",
        "import pandas as pd\n",
        "dfs = pd.read_html(url, encoding='utf-8')\n",
        "dfs[0]"
      ]
    },
    {
      "cell_type": "code",
      "execution_count": null,
      "metadata": {
        "colab": {
          "base_uri": "https://localhost:8080/",
          "height": 590
        },
        "id": "HYQ9SPYmO_vD",
        "outputId": "630dec23-1cb5-4a87-fb3b-9c34e8a8380e"
      },
      "outputs": [
        {
          "data": {
            "text/html": [
              "\n",
              "  <div id=\"df-315a0b8a-f631-48d6-ae69-a67b06940b2f\">\n",
              "    <div class=\"colab-df-container\">\n",
              "      <div>\n",
              "<style scoped>\n",
              "    .dataframe tbody tr th:only-of-type {\n",
              "        vertical-align: middle;\n",
              "    }\n",
              "\n",
              "    .dataframe tbody tr th {\n",
              "        vertical-align: top;\n",
              "    }\n",
              "\n",
              "    .dataframe thead th {\n",
              "        text-align: right;\n",
              "    }\n",
              "</style>\n",
              "<table border=\"1\" class=\"dataframe\">\n",
              "  <thead>\n",
              "    <tr style=\"text-align: right;\">\n",
              "      <th></th>\n",
              "      <th>項次</th>\n",
              "      <th>種類</th>\n",
              "      <th>機關名稱</th>\n",
              "      <th>標案案號標案名稱</th>\n",
              "      <th>招標公告日期</th>\n",
              "      <th>決標或無法決標公告</th>\n",
              "      <th>截止投標日期</th>\n",
              "      <th>公開閱覽/徵求日期</th>\n",
              "      <th>預告公告日期</th>\n",
              "      <th>功能選項</th>\n",
              "    </tr>\n",
              "  </thead>\n",
              "  <tbody>\n",
              "    <tr>\n",
              "      <th>0</th>\n",
              "      <td>1</td>\n",
              "      <td>招標公告</td>\n",
              "      <td>臺北市政府工務局新建工程處</td>\n",
              "      <td>11211  var hw = Geps3.CNS.pageCode2Img(\"容積代金基金...</td>\n",
              "      <td>112/03/03</td>\n",
              "      <td>NaN</td>\n",
              "      <td>112/03/13</td>\n",
              "      <td>NaN</td>\n",
              "      <td>NaN</td>\n",
              "      <td>檢視</td>\n",
              "    </tr>\n",
              "    <tr>\n",
              "      <th>1</th>\n",
              "      <td>2</td>\n",
              "      <td>招標公告</td>\n",
              "      <td>交通部公路總局第五區養護工程處</td>\n",
              "      <td>112010008  var hw = Geps3.CNS.pageCode2Img(\"11...</td>\n",
              "      <td>112/03/03</td>\n",
              "      <td>NaN</td>\n",
              "      <td>112/03/21</td>\n",
              "      <td>NaN</td>\n",
              "      <td>NaN</td>\n",
              "      <td>檢視</td>\n",
              "    </tr>\n",
              "    <tr>\n",
              "      <th>2</th>\n",
              "      <td>3</td>\n",
              "      <td>招標公告</td>\n",
              "      <td>高雄市立民生醫院</td>\n",
              "      <td>KMSH11023  var hw = Geps3.CNS.pageCode2Img(\"電腦...</td>\n",
              "      <td>112/03/03</td>\n",
              "      <td>NaN</td>\n",
              "      <td>112/03/08</td>\n",
              "      <td>NaN</td>\n",
              "      <td>NaN</td>\n",
              "      <td>檢視</td>\n",
              "    </tr>\n",
              "    <tr>\n",
              "      <th>3</th>\n",
              "      <td>4</td>\n",
              "      <td>招標公告</td>\n",
              "      <td>國立臺灣大學醫學院附設醫院</td>\n",
              "      <td>PA2200704  var hw = Geps3.CNS.pageCode2Img(\"高劑...</td>\n",
              "      <td>112/03/03</td>\n",
              "      <td>NaN</td>\n",
              "      <td>112/03/10</td>\n",
              "      <td>NaN</td>\n",
              "      <td>NaN</td>\n",
              "      <td>檢視</td>\n",
              "    </tr>\n",
              "    <tr>\n",
              "      <th>4</th>\n",
              "      <td>5</td>\n",
              "      <td>招標公告</td>\n",
              "      <td>台灣電力股份有限公司</td>\n",
              "      <td>0061100014  var hw = Geps3.CNS.pageCode2Img(\"電...</td>\n",
              "      <td>112/03/03</td>\n",
              "      <td>NaN</td>\n",
              "      <td>112/03/20</td>\n",
              "      <td>NaN</td>\n",
              "      <td>NaN</td>\n",
              "      <td>檢視</td>\n",
              "    </tr>\n",
              "    <tr>\n",
              "      <th>5</th>\n",
              "      <td>6</td>\n",
              "      <td>招標公告</td>\n",
              "      <td>臺北市政府工務局</td>\n",
              "      <td>1120210S0036  var hw = Geps3.CNS.pageCode2Img(...</td>\n",
              "      <td>112/03/03</td>\n",
              "      <td>NaN</td>\n",
              "      <td>112/03/28</td>\n",
              "      <td>NaN</td>\n",
              "      <td>NaN</td>\n",
              "      <td>檢視</td>\n",
              "    </tr>\n",
              "    <tr>\n",
              "      <th>6</th>\n",
              "      <td>7</td>\n",
              "      <td>招標公告</td>\n",
              "      <td>交通部公路總局第二區養護工程處</td>\n",
              "      <td>112-08007  var hw = Geps3.CNS.pageCode2Img(\"第二...</td>\n",
              "      <td>112/03/03</td>\n",
              "      <td>NaN</td>\n",
              "      <td>112/03/21</td>\n",
              "      <td>NaN</td>\n",
              "      <td>NaN</td>\n",
              "      <td>檢視</td>\n",
              "    </tr>\n",
              "    <tr>\n",
              "      <th>7</th>\n",
              "      <td>8</td>\n",
              "      <td>招標公告</td>\n",
              "      <td>臺中市大里區立新國民小學</td>\n",
              "      <td>1120302  var hw = Geps3.CNS.pageCode2Img(\"112年...</td>\n",
              "      <td>112/03/03</td>\n",
              "      <td>NaN</td>\n",
              "      <td>112/03/07</td>\n",
              "      <td>NaN</td>\n",
              "      <td>NaN</td>\n",
              "      <td>檢視</td>\n",
              "    </tr>\n",
              "    <tr>\n",
              "      <th>8</th>\n",
              "      <td>9</td>\n",
              "      <td>招標公告</td>\n",
              "      <td>桃園市平鎮區公所</td>\n",
              "      <td>1120109001  var hw = Geps3.CNS.pageCode2Img(\"1...</td>\n",
              "      <td>112/03/03</td>\n",
              "      <td>NaN</td>\n",
              "      <td>112/03/09</td>\n",
              "      <td>NaN</td>\n",
              "      <td>NaN</td>\n",
              "      <td>檢視</td>\n",
              "    </tr>\n",
              "    <tr>\n",
              "      <th>9</th>\n",
              "      <td>10</td>\n",
              "      <td>招標公告</td>\n",
              "      <td>臺北大眾捷運股份有限公司</td>\n",
              "      <td>C12B00276  var hw = Geps3.CNS.pageCode2Img(\"錢幣...</td>\n",
              "      <td>112/03/03</td>\n",
              "      <td>NaN</td>\n",
              "      <td>112/03/16</td>\n",
              "      <td>NaN</td>\n",
              "      <td>NaN</td>\n",
              "      <td>檢視</td>\n",
              "    </tr>\n",
              "  </tbody>\n",
              "</table>\n",
              "</div>\n",
              "      <button class=\"colab-df-convert\" onclick=\"convertToInteractive('df-315a0b8a-f631-48d6-ae69-a67b06940b2f')\"\n",
              "              title=\"Convert this dataframe to an interactive table.\"\n",
              "              style=\"display:none;\">\n",
              "        \n",
              "  <svg xmlns=\"http://www.w3.org/2000/svg\" height=\"24px\"viewBox=\"0 0 24 24\"\n",
              "       width=\"24px\">\n",
              "    <path d=\"M0 0h24v24H0V0z\" fill=\"none\"/>\n",
              "    <path d=\"M18.56 5.44l.94 2.06.94-2.06 2.06-.94-2.06-.94-.94-2.06-.94 2.06-2.06.94zm-11 1L8.5 8.5l.94-2.06 2.06-.94-2.06-.94L8.5 2.5l-.94 2.06-2.06.94zm10 10l.94 2.06.94-2.06 2.06-.94-2.06-.94-.94-2.06-.94 2.06-2.06.94z\"/><path d=\"M17.41 7.96l-1.37-1.37c-.4-.4-.92-.59-1.43-.59-.52 0-1.04.2-1.43.59L10.3 9.45l-7.72 7.72c-.78.78-.78 2.05 0 2.83L4 21.41c.39.39.9.59 1.41.59.51 0 1.02-.2 1.41-.59l7.78-7.78 2.81-2.81c.8-.78.8-2.07 0-2.86zM5.41 20L4 18.59l7.72-7.72 1.47 1.35L5.41 20z\"/>\n",
              "  </svg>\n",
              "      </button>\n",
              "      \n",
              "  <style>\n",
              "    .colab-df-container {\n",
              "      display:flex;\n",
              "      flex-wrap:wrap;\n",
              "      gap: 12px;\n",
              "    }\n",
              "\n",
              "    .colab-df-convert {\n",
              "      background-color: #E8F0FE;\n",
              "      border: none;\n",
              "      border-radius: 50%;\n",
              "      cursor: pointer;\n",
              "      display: none;\n",
              "      fill: #1967D2;\n",
              "      height: 32px;\n",
              "      padding: 0 0 0 0;\n",
              "      width: 32px;\n",
              "    }\n",
              "\n",
              "    .colab-df-convert:hover {\n",
              "      background-color: #E2EBFA;\n",
              "      box-shadow: 0px 1px 2px rgba(60, 64, 67, 0.3), 0px 1px 3px 1px rgba(60, 64, 67, 0.15);\n",
              "      fill: #174EA6;\n",
              "    }\n",
              "\n",
              "    [theme=dark] .colab-df-convert {\n",
              "      background-color: #3B4455;\n",
              "      fill: #D2E3FC;\n",
              "    }\n",
              "\n",
              "    [theme=dark] .colab-df-convert:hover {\n",
              "      background-color: #434B5C;\n",
              "      box-shadow: 0px 1px 3px 1px rgba(0, 0, 0, 0.15);\n",
              "      filter: drop-shadow(0px 1px 2px rgba(0, 0, 0, 0.3));\n",
              "      fill: #FFFFFF;\n",
              "    }\n",
              "  </style>\n",
              "\n",
              "      <script>\n",
              "        const buttonEl =\n",
              "          document.querySelector('#df-315a0b8a-f631-48d6-ae69-a67b06940b2f button.colab-df-convert');\n",
              "        buttonEl.style.display =\n",
              "          google.colab.kernel.accessAllowed ? 'block' : 'none';\n",
              "\n",
              "        async function convertToInteractive(key) {\n",
              "          const element = document.querySelector('#df-315a0b8a-f631-48d6-ae69-a67b06940b2f');\n",
              "          const dataTable =\n",
              "            await google.colab.kernel.invokeFunction('convertToInteractive',\n",
              "                                                     [key], {});\n",
              "          if (!dataTable) return;\n",
              "\n",
              "          const docLinkHtml = 'Like what you see? Visit the ' +\n",
              "            '<a target=\"_blank\" href=https://colab.research.google.com/notebooks/data_table.ipynb>data table notebook</a>'\n",
              "            + ' to learn more about interactive tables.';\n",
              "          element.innerHTML = '';\n",
              "          dataTable['output_type'] = 'display_data';\n",
              "          await google.colab.output.renderOutput(dataTable, element);\n",
              "          const docLink = document.createElement('div');\n",
              "          docLink.innerHTML = docLinkHtml;\n",
              "          element.appendChild(docLink);\n",
              "        }\n",
              "      </script>\n",
              "    </div>\n",
              "  </div>\n",
              "  "
            ],
            "text/plain": [
              "   項次    種類             機關名稱  \\\n",
              "0   1  招標公告    臺北市政府工務局新建工程處   \n",
              "1   2  招標公告  交通部公路總局第五區養護工程處   \n",
              "2   3  招標公告         高雄市立民生醫院   \n",
              "3   4  招標公告    國立臺灣大學醫學院附設醫院   \n",
              "4   5  招標公告       台灣電力股份有限公司   \n",
              "5   6  招標公告         臺北市政府工務局   \n",
              "6   7  招標公告  交通部公路總局第二區養護工程處   \n",
              "7   8  招標公告     臺中市大里區立新國民小學   \n",
              "8   9  招標公告         桃園市平鎮區公所   \n",
              "9  10  招標公告     臺北大眾捷運股份有限公司   \n",
              "\n",
              "                                            標案案號標案名稱     招標公告日期  決標或無法決標公告  \\\n",
              "0  11211  var hw = Geps3.CNS.pageCode2Img(\"容積代金基金...  112/03/03        NaN   \n",
              "1  112010008  var hw = Geps3.CNS.pageCode2Img(\"11...  112/03/03        NaN   \n",
              "2  KMSH11023  var hw = Geps3.CNS.pageCode2Img(\"電腦...  112/03/03        NaN   \n",
              "3  PA2200704  var hw = Geps3.CNS.pageCode2Img(\"高劑...  112/03/03        NaN   \n",
              "4  0061100014  var hw = Geps3.CNS.pageCode2Img(\"電...  112/03/03        NaN   \n",
              "5  1120210S0036  var hw = Geps3.CNS.pageCode2Img(...  112/03/03        NaN   \n",
              "6  112-08007  var hw = Geps3.CNS.pageCode2Img(\"第二...  112/03/03        NaN   \n",
              "7  1120302  var hw = Geps3.CNS.pageCode2Img(\"112年...  112/03/03        NaN   \n",
              "8  1120109001  var hw = Geps3.CNS.pageCode2Img(\"1...  112/03/03        NaN   \n",
              "9  C12B00276  var hw = Geps3.CNS.pageCode2Img(\"錢幣...  112/03/03        NaN   \n",
              "\n",
              "      截止投標日期  公開閱覽/徵求日期  預告公告日期 功能選項  \n",
              "0  112/03/13        NaN     NaN   檢視  \n",
              "1  112/03/21        NaN     NaN   檢視  \n",
              "2  112/03/08        NaN     NaN   檢視  \n",
              "3  112/03/10        NaN     NaN   檢視  \n",
              "4  112/03/20        NaN     NaN   檢視  \n",
              "5  112/03/28        NaN     NaN   檢視  \n",
              "6  112/03/21        NaN     NaN   檢視  \n",
              "7  112/03/07        NaN     NaN   檢視  \n",
              "8  112/03/09        NaN     NaN   檢視  \n",
              "9  112/03/16        NaN     NaN   檢視  "
            ]
          },
          "execution_count": 94,
          "metadata": {},
          "output_type": "execute_result"
        }
      ],
      "source": [
        "dfs[4]\n"
      ]
    },
    {
      "cell_type": "markdown",
      "metadata": {
        "id": "HE4dT89kUurk"
      },
      "source": [
        "## 讀取政府資料開放平台實價登錄資料\n",
        "\n",
        "e.g.:\n",
        "\n",
        "https://data.kcg.gov.tw/dataset/d7bfc353-1617-42d8-a0e3-3cd2d99edb10/resource/20387f3d-6970-40a4-86f0-a5c33546e75d/download/111q2.csv"
      ]
    },
    {
      "cell_type": "code",
      "execution_count": null,
      "metadata": {
        "id": "IpLTRGU_U0Fh"
      },
      "outputs": [],
      "source": [
        "url = \"\thttps://data.kcg.gov.tw/dataset/d7bfc353-1617-42d8-a0e3-3cd2d99edb10/resource/20387f3d-6970-40a4-86f0-a5c33546e75d/download/111q2.csv\""
      ]
    },
    {
      "cell_type": "code",
      "execution_count": null,
      "metadata": {
        "colab": {
          "base_uri": "https://localhost:8080/",
          "height": 324
        },
        "id": "z_Wt7XBqU2gE",
        "outputId": "dbd46747-bd65-42c6-f643-c57e06c68a81"
      },
      "outputs": [
        {
          "output_type": "error",
          "ename": "KeyboardInterrupt",
          "evalue": "ignored",
          "traceback": [
            "\u001b[0;31m---------------------------------------------------------------------------\u001b[0m",
            "\u001b[0;31mKeyboardInterrupt\u001b[0m                         Traceback (most recent call last)",
            "\u001b[0;32m<ipython-input-18-a8001e84a25e>\u001b[0m in \u001b[0;36m<module>\u001b[0;34m\u001b[0m\n\u001b[1;32m      1\u001b[0m \u001b[0;32mimport\u001b[0m \u001b[0mpandas\u001b[0m \u001b[0;32mas\u001b[0m \u001b[0mpd\u001b[0m\u001b[0;34m\u001b[0m\u001b[0;34m\u001b[0m\u001b[0m\n\u001b[0;32m----> 2\u001b[0;31m \u001b[0mdf\u001b[0m \u001b[0;34m=\u001b[0m \u001b[0mpd\u001b[0m\u001b[0;34m.\u001b[0m\u001b[0mread_csv\u001b[0m\u001b[0;34m(\u001b[0m\u001b[0murl\u001b[0m\u001b[0;34m)\u001b[0m\u001b[0;34m\u001b[0m\u001b[0;34m\u001b[0m\u001b[0m\n\u001b[0m",
            "\u001b[0;32m/usr/local/lib/python3.8/dist-packages/pandas/util/_decorators.py\u001b[0m in \u001b[0;36mwrapper\u001b[0;34m(*args, **kwargs)\u001b[0m\n\u001b[1;32m    309\u001b[0m                     \u001b[0mstacklevel\u001b[0m\u001b[0;34m=\u001b[0m\u001b[0mstacklevel\u001b[0m\u001b[0;34m,\u001b[0m\u001b[0;34m\u001b[0m\u001b[0;34m\u001b[0m\u001b[0m\n\u001b[1;32m    310\u001b[0m                 )\n\u001b[0;32m--> 311\u001b[0;31m             \u001b[0;32mreturn\u001b[0m \u001b[0mfunc\u001b[0m\u001b[0;34m(\u001b[0m\u001b[0;34m*\u001b[0m\u001b[0margs\u001b[0m\u001b[0;34m,\u001b[0m \u001b[0;34m**\u001b[0m\u001b[0mkwargs\u001b[0m\u001b[0;34m)\u001b[0m\u001b[0;34m\u001b[0m\u001b[0;34m\u001b[0m\u001b[0m\n\u001b[0m\u001b[1;32m    312\u001b[0m \u001b[0;34m\u001b[0m\u001b[0m\n\u001b[1;32m    313\u001b[0m         \u001b[0;32mreturn\u001b[0m \u001b[0mwrapper\u001b[0m\u001b[0;34m\u001b[0m\u001b[0;34m\u001b[0m\u001b[0m\n",
            "\u001b[0;32m/usr/local/lib/python3.8/dist-packages/pandas/io/parsers/readers.py\u001b[0m in \u001b[0;36mread_csv\u001b[0;34m(filepath_or_buffer, sep, delimiter, header, names, index_col, usecols, squeeze, prefix, mangle_dupe_cols, dtype, engine, converters, true_values, false_values, skipinitialspace, skiprows, skipfooter, nrows, na_values, keep_default_na, na_filter, verbose, skip_blank_lines, parse_dates, infer_datetime_format, keep_date_col, date_parser, dayfirst, cache_dates, iterator, chunksize, compression, thousands, decimal, lineterminator, quotechar, quoting, doublequote, escapechar, comment, encoding, encoding_errors, dialect, error_bad_lines, warn_bad_lines, on_bad_lines, delim_whitespace, low_memory, memory_map, float_precision, storage_options)\u001b[0m\n\u001b[1;32m    584\u001b[0m     \u001b[0mkwds\u001b[0m\u001b[0;34m.\u001b[0m\u001b[0mupdate\u001b[0m\u001b[0;34m(\u001b[0m\u001b[0mkwds_defaults\u001b[0m\u001b[0;34m)\u001b[0m\u001b[0;34m\u001b[0m\u001b[0;34m\u001b[0m\u001b[0m\n\u001b[1;32m    585\u001b[0m \u001b[0;34m\u001b[0m\u001b[0m\n\u001b[0;32m--> 586\u001b[0;31m     \u001b[0;32mreturn\u001b[0m \u001b[0m_read\u001b[0m\u001b[0;34m(\u001b[0m\u001b[0mfilepath_or_buffer\u001b[0m\u001b[0;34m,\u001b[0m \u001b[0mkwds\u001b[0m\u001b[0;34m)\u001b[0m\u001b[0;34m\u001b[0m\u001b[0;34m\u001b[0m\u001b[0m\n\u001b[0m\u001b[1;32m    587\u001b[0m \u001b[0;34m\u001b[0m\u001b[0m\n\u001b[1;32m    588\u001b[0m \u001b[0;34m\u001b[0m\u001b[0m\n",
            "\u001b[0;32m/usr/local/lib/python3.8/dist-packages/pandas/io/parsers/readers.py\u001b[0m in \u001b[0;36m_read\u001b[0;34m(filepath_or_buffer, kwds)\u001b[0m\n\u001b[1;32m    480\u001b[0m \u001b[0;34m\u001b[0m\u001b[0m\n\u001b[1;32m    481\u001b[0m     \u001b[0;31m# Create the parser.\u001b[0m\u001b[0;34m\u001b[0m\u001b[0;34m\u001b[0m\u001b[0;34m\u001b[0m\u001b[0m\n\u001b[0;32m--> 482\u001b[0;31m     \u001b[0mparser\u001b[0m \u001b[0;34m=\u001b[0m \u001b[0mTextFileReader\u001b[0m\u001b[0;34m(\u001b[0m\u001b[0mfilepath_or_buffer\u001b[0m\u001b[0;34m,\u001b[0m \u001b[0;34m**\u001b[0m\u001b[0mkwds\u001b[0m\u001b[0;34m)\u001b[0m\u001b[0;34m\u001b[0m\u001b[0;34m\u001b[0m\u001b[0m\n\u001b[0m\u001b[1;32m    483\u001b[0m \u001b[0;34m\u001b[0m\u001b[0m\n\u001b[1;32m    484\u001b[0m     \u001b[0;32mif\u001b[0m \u001b[0mchunksize\u001b[0m \u001b[0;32mor\u001b[0m \u001b[0miterator\u001b[0m\u001b[0;34m:\u001b[0m\u001b[0;34m\u001b[0m\u001b[0;34m\u001b[0m\u001b[0m\n",
            "\u001b[0;32m/usr/local/lib/python3.8/dist-packages/pandas/io/parsers/readers.py\u001b[0m in \u001b[0;36m__init__\u001b[0;34m(self, f, engine, **kwds)\u001b[0m\n\u001b[1;32m    809\u001b[0m             \u001b[0mself\u001b[0m\u001b[0;34m.\u001b[0m\u001b[0moptions\u001b[0m\u001b[0;34m[\u001b[0m\u001b[0;34m\"has_index_names\"\u001b[0m\u001b[0;34m]\u001b[0m \u001b[0;34m=\u001b[0m \u001b[0mkwds\u001b[0m\u001b[0;34m[\u001b[0m\u001b[0;34m\"has_index_names\"\u001b[0m\u001b[0;34m]\u001b[0m\u001b[0;34m\u001b[0m\u001b[0;34m\u001b[0m\u001b[0m\n\u001b[1;32m    810\u001b[0m \u001b[0;34m\u001b[0m\u001b[0m\n\u001b[0;32m--> 811\u001b[0;31m         \u001b[0mself\u001b[0m\u001b[0;34m.\u001b[0m\u001b[0m_engine\u001b[0m \u001b[0;34m=\u001b[0m \u001b[0mself\u001b[0m\u001b[0;34m.\u001b[0m\u001b[0m_make_engine\u001b[0m\u001b[0;34m(\u001b[0m\u001b[0mself\u001b[0m\u001b[0;34m.\u001b[0m\u001b[0mengine\u001b[0m\u001b[0;34m)\u001b[0m\u001b[0;34m\u001b[0m\u001b[0;34m\u001b[0m\u001b[0m\n\u001b[0m\u001b[1;32m    812\u001b[0m \u001b[0;34m\u001b[0m\u001b[0m\n\u001b[1;32m    813\u001b[0m     \u001b[0;32mdef\u001b[0m \u001b[0mclose\u001b[0m\u001b[0;34m(\u001b[0m\u001b[0mself\u001b[0m\u001b[0;34m)\u001b[0m\u001b[0;34m:\u001b[0m\u001b[0;34m\u001b[0m\u001b[0;34m\u001b[0m\u001b[0m\n",
            "\u001b[0;32m/usr/local/lib/python3.8/dist-packages/pandas/io/parsers/readers.py\u001b[0m in \u001b[0;36m_make_engine\u001b[0;34m(self, engine)\u001b[0m\n\u001b[1;32m   1038\u001b[0m             )\n\u001b[1;32m   1039\u001b[0m         \u001b[0;31m# error: Too many arguments for \"ParserBase\"\u001b[0m\u001b[0;34m\u001b[0m\u001b[0;34m\u001b[0m\u001b[0;34m\u001b[0m\u001b[0m\n\u001b[0;32m-> 1040\u001b[0;31m         \u001b[0;32mreturn\u001b[0m \u001b[0mmapping\u001b[0m\u001b[0;34m[\u001b[0m\u001b[0mengine\u001b[0m\u001b[0;34m]\u001b[0m\u001b[0;34m(\u001b[0m\u001b[0mself\u001b[0m\u001b[0;34m.\u001b[0m\u001b[0mf\u001b[0m\u001b[0;34m,\u001b[0m \u001b[0;34m**\u001b[0m\u001b[0mself\u001b[0m\u001b[0;34m.\u001b[0m\u001b[0moptions\u001b[0m\u001b[0;34m)\u001b[0m  \u001b[0;31m# type: ignore[call-arg]\u001b[0m\u001b[0;34m\u001b[0m\u001b[0;34m\u001b[0m\u001b[0m\n\u001b[0m\u001b[1;32m   1041\u001b[0m \u001b[0;34m\u001b[0m\u001b[0m\n\u001b[1;32m   1042\u001b[0m     \u001b[0;32mdef\u001b[0m \u001b[0m_failover_to_python\u001b[0m\u001b[0;34m(\u001b[0m\u001b[0mself\u001b[0m\u001b[0;34m)\u001b[0m\u001b[0;34m:\u001b[0m\u001b[0;34m\u001b[0m\u001b[0;34m\u001b[0m\u001b[0m\n",
            "\u001b[0;32m/usr/local/lib/python3.8/dist-packages/pandas/io/parsers/c_parser_wrapper.py\u001b[0m in \u001b[0;36m__init__\u001b[0;34m(self, src, **kwds)\u001b[0m\n\u001b[1;32m     49\u001b[0m \u001b[0;34m\u001b[0m\u001b[0m\n\u001b[1;32m     50\u001b[0m         \u001b[0;31m# open handles\u001b[0m\u001b[0;34m\u001b[0m\u001b[0;34m\u001b[0m\u001b[0;34m\u001b[0m\u001b[0m\n\u001b[0;32m---> 51\u001b[0;31m         \u001b[0mself\u001b[0m\u001b[0;34m.\u001b[0m\u001b[0m_open_handles\u001b[0m\u001b[0;34m(\u001b[0m\u001b[0msrc\u001b[0m\u001b[0;34m,\u001b[0m \u001b[0mkwds\u001b[0m\u001b[0;34m)\u001b[0m\u001b[0;34m\u001b[0m\u001b[0;34m\u001b[0m\u001b[0m\n\u001b[0m\u001b[1;32m     52\u001b[0m         \u001b[0;32massert\u001b[0m \u001b[0mself\u001b[0m\u001b[0;34m.\u001b[0m\u001b[0mhandles\u001b[0m \u001b[0;32mis\u001b[0m \u001b[0;32mnot\u001b[0m \u001b[0;32mNone\u001b[0m\u001b[0;34m\u001b[0m\u001b[0;34m\u001b[0m\u001b[0m\n\u001b[1;32m     53\u001b[0m \u001b[0;34m\u001b[0m\u001b[0m\n",
            "\u001b[0;32m/usr/local/lib/python3.8/dist-packages/pandas/io/parsers/base_parser.py\u001b[0m in \u001b[0;36m_open_handles\u001b[0;34m(self, src, kwds)\u001b[0m\n\u001b[1;32m    220\u001b[0m         \u001b[0mLet\u001b[0m \u001b[0mthe\u001b[0m \u001b[0mreaders\u001b[0m \u001b[0mopen\u001b[0m \u001b[0mIOHandles\u001b[0m \u001b[0mafter\u001b[0m \u001b[0mthey\u001b[0m \u001b[0mare\u001b[0m \u001b[0mdone\u001b[0m \u001b[0;32mwith\u001b[0m \u001b[0mtheir\u001b[0m \u001b[0mpotential\u001b[0m \u001b[0mraises\u001b[0m\u001b[0;34m.\u001b[0m\u001b[0;34m\u001b[0m\u001b[0;34m\u001b[0m\u001b[0m\n\u001b[1;32m    221\u001b[0m         \"\"\"\n\u001b[0;32m--> 222\u001b[0;31m         self.handles = get_handle(\n\u001b[0m\u001b[1;32m    223\u001b[0m             \u001b[0msrc\u001b[0m\u001b[0;34m,\u001b[0m\u001b[0;34m\u001b[0m\u001b[0;34m\u001b[0m\u001b[0m\n\u001b[1;32m    224\u001b[0m             \u001b[0;34m\"r\"\u001b[0m\u001b[0;34m,\u001b[0m\u001b[0;34m\u001b[0m\u001b[0;34m\u001b[0m\u001b[0m\n",
            "\u001b[0;32m/usr/local/lib/python3.8/dist-packages/pandas/io/common.py\u001b[0m in \u001b[0;36mget_handle\u001b[0;34m(path_or_buf, mode, encoding, compression, memory_map, is_text, errors, storage_options)\u001b[0m\n\u001b[1;32m    607\u001b[0m \u001b[0;34m\u001b[0m\u001b[0m\n\u001b[1;32m    608\u001b[0m     \u001b[0;31m# open URLs\u001b[0m\u001b[0;34m\u001b[0m\u001b[0;34m\u001b[0m\u001b[0;34m\u001b[0m\u001b[0m\n\u001b[0;32m--> 609\u001b[0;31m     ioargs = _get_filepath_or_buffer(\n\u001b[0m\u001b[1;32m    610\u001b[0m         \u001b[0mpath_or_buf\u001b[0m\u001b[0;34m,\u001b[0m\u001b[0;34m\u001b[0m\u001b[0;34m\u001b[0m\u001b[0m\n\u001b[1;32m    611\u001b[0m         \u001b[0mencoding\u001b[0m\u001b[0;34m=\u001b[0m\u001b[0mencoding\u001b[0m\u001b[0;34m,\u001b[0m\u001b[0;34m\u001b[0m\u001b[0;34m\u001b[0m\u001b[0m\n",
            "\u001b[0;32m/usr/local/lib/python3.8/dist-packages/pandas/io/common.py\u001b[0m in \u001b[0;36m_get_filepath_or_buffer\u001b[0;34m(filepath_or_buffer, encoding, compression, mode, storage_options)\u001b[0m\n\u001b[1;32m    310\u001b[0m         \u001b[0;31m# assuming storage_options is to be interpreted as headers\u001b[0m\u001b[0;34m\u001b[0m\u001b[0;34m\u001b[0m\u001b[0;34m\u001b[0m\u001b[0m\n\u001b[1;32m    311\u001b[0m         \u001b[0mreq_info\u001b[0m \u001b[0;34m=\u001b[0m \u001b[0murllib\u001b[0m\u001b[0;34m.\u001b[0m\u001b[0mrequest\u001b[0m\u001b[0;34m.\u001b[0m\u001b[0mRequest\u001b[0m\u001b[0;34m(\u001b[0m\u001b[0mfilepath_or_buffer\u001b[0m\u001b[0;34m,\u001b[0m \u001b[0mheaders\u001b[0m\u001b[0;34m=\u001b[0m\u001b[0mstorage_options\u001b[0m\u001b[0;34m)\u001b[0m\u001b[0;34m\u001b[0m\u001b[0;34m\u001b[0m\u001b[0m\n\u001b[0;32m--> 312\u001b[0;31m         \u001b[0;32mwith\u001b[0m \u001b[0murlopen\u001b[0m\u001b[0;34m(\u001b[0m\u001b[0mreq_info\u001b[0m\u001b[0;34m)\u001b[0m \u001b[0;32mas\u001b[0m \u001b[0mreq\u001b[0m\u001b[0;34m:\u001b[0m\u001b[0;34m\u001b[0m\u001b[0;34m\u001b[0m\u001b[0m\n\u001b[0m\u001b[1;32m    313\u001b[0m             \u001b[0mcontent_encoding\u001b[0m \u001b[0;34m=\u001b[0m \u001b[0mreq\u001b[0m\u001b[0;34m.\u001b[0m\u001b[0mheaders\u001b[0m\u001b[0;34m.\u001b[0m\u001b[0mget\u001b[0m\u001b[0;34m(\u001b[0m\u001b[0;34m\"Content-Encoding\"\u001b[0m\u001b[0;34m,\u001b[0m \u001b[0;32mNone\u001b[0m\u001b[0;34m)\u001b[0m\u001b[0;34m\u001b[0m\u001b[0;34m\u001b[0m\u001b[0m\n\u001b[1;32m    314\u001b[0m             \u001b[0;32mif\u001b[0m \u001b[0mcontent_encoding\u001b[0m \u001b[0;34m==\u001b[0m \u001b[0;34m\"gzip\"\u001b[0m\u001b[0;34m:\u001b[0m\u001b[0;34m\u001b[0m\u001b[0;34m\u001b[0m\u001b[0m\n",
            "\u001b[0;32m/usr/local/lib/python3.8/dist-packages/pandas/io/common.py\u001b[0m in \u001b[0;36murlopen\u001b[0;34m(*args, **kwargs)\u001b[0m\n\u001b[1;32m    210\u001b[0m     \u001b[0;32mimport\u001b[0m \u001b[0murllib\u001b[0m\u001b[0;34m.\u001b[0m\u001b[0mrequest\u001b[0m\u001b[0;34m\u001b[0m\u001b[0;34m\u001b[0m\u001b[0m\n\u001b[1;32m    211\u001b[0m \u001b[0;34m\u001b[0m\u001b[0m\n\u001b[0;32m--> 212\u001b[0;31m     \u001b[0;32mreturn\u001b[0m \u001b[0murllib\u001b[0m\u001b[0;34m.\u001b[0m\u001b[0mrequest\u001b[0m\u001b[0;34m.\u001b[0m\u001b[0murlopen\u001b[0m\u001b[0;34m(\u001b[0m\u001b[0;34m*\u001b[0m\u001b[0margs\u001b[0m\u001b[0;34m,\u001b[0m \u001b[0;34m**\u001b[0m\u001b[0mkwargs\u001b[0m\u001b[0;34m)\u001b[0m\u001b[0;34m\u001b[0m\u001b[0;34m\u001b[0m\u001b[0m\n\u001b[0m\u001b[1;32m    213\u001b[0m \u001b[0;34m\u001b[0m\u001b[0m\n\u001b[1;32m    214\u001b[0m \u001b[0;34m\u001b[0m\u001b[0m\n",
            "\u001b[0;32m/usr/lib/python3.8/urllib/request.py\u001b[0m in \u001b[0;36murlopen\u001b[0;34m(url, data, timeout, cafile, capath, cadefault, context)\u001b[0m\n\u001b[1;32m    220\u001b[0m     \u001b[0;32melse\u001b[0m\u001b[0;34m:\u001b[0m\u001b[0;34m\u001b[0m\u001b[0;34m\u001b[0m\u001b[0m\n\u001b[1;32m    221\u001b[0m         \u001b[0mopener\u001b[0m \u001b[0;34m=\u001b[0m \u001b[0m_opener\u001b[0m\u001b[0;34m\u001b[0m\u001b[0;34m\u001b[0m\u001b[0m\n\u001b[0;32m--> 222\u001b[0;31m     \u001b[0;32mreturn\u001b[0m \u001b[0mopener\u001b[0m\u001b[0;34m.\u001b[0m\u001b[0mopen\u001b[0m\u001b[0;34m(\u001b[0m\u001b[0murl\u001b[0m\u001b[0;34m,\u001b[0m \u001b[0mdata\u001b[0m\u001b[0;34m,\u001b[0m \u001b[0mtimeout\u001b[0m\u001b[0;34m)\u001b[0m\u001b[0;34m\u001b[0m\u001b[0;34m\u001b[0m\u001b[0m\n\u001b[0m\u001b[1;32m    223\u001b[0m \u001b[0;34m\u001b[0m\u001b[0m\n\u001b[1;32m    224\u001b[0m \u001b[0;32mdef\u001b[0m \u001b[0minstall_opener\u001b[0m\u001b[0;34m(\u001b[0m\u001b[0mopener\u001b[0m\u001b[0;34m)\u001b[0m\u001b[0;34m:\u001b[0m\u001b[0;34m\u001b[0m\u001b[0;34m\u001b[0m\u001b[0m\n",
            "\u001b[0;32m/usr/lib/python3.8/urllib/request.py\u001b[0m in \u001b[0;36mopen\u001b[0;34m(self, fullurl, data, timeout)\u001b[0m\n\u001b[1;32m    523\u001b[0m \u001b[0;34m\u001b[0m\u001b[0m\n\u001b[1;32m    524\u001b[0m         \u001b[0msys\u001b[0m\u001b[0;34m.\u001b[0m\u001b[0maudit\u001b[0m\u001b[0;34m(\u001b[0m\u001b[0;34m'urllib.Request'\u001b[0m\u001b[0;34m,\u001b[0m \u001b[0mreq\u001b[0m\u001b[0;34m.\u001b[0m\u001b[0mfull_url\u001b[0m\u001b[0;34m,\u001b[0m \u001b[0mreq\u001b[0m\u001b[0;34m.\u001b[0m\u001b[0mdata\u001b[0m\u001b[0;34m,\u001b[0m \u001b[0mreq\u001b[0m\u001b[0;34m.\u001b[0m\u001b[0mheaders\u001b[0m\u001b[0;34m,\u001b[0m \u001b[0mreq\u001b[0m\u001b[0;34m.\u001b[0m\u001b[0mget_method\u001b[0m\u001b[0;34m(\u001b[0m\u001b[0;34m)\u001b[0m\u001b[0;34m)\u001b[0m\u001b[0;34m\u001b[0m\u001b[0;34m\u001b[0m\u001b[0m\n\u001b[0;32m--> 525\u001b[0;31m         \u001b[0mresponse\u001b[0m \u001b[0;34m=\u001b[0m \u001b[0mself\u001b[0m\u001b[0;34m.\u001b[0m\u001b[0m_open\u001b[0m\u001b[0;34m(\u001b[0m\u001b[0mreq\u001b[0m\u001b[0;34m,\u001b[0m \u001b[0mdata\u001b[0m\u001b[0;34m)\u001b[0m\u001b[0;34m\u001b[0m\u001b[0;34m\u001b[0m\u001b[0m\n\u001b[0m\u001b[1;32m    526\u001b[0m \u001b[0;34m\u001b[0m\u001b[0m\n\u001b[1;32m    527\u001b[0m         \u001b[0;31m# post-process response\u001b[0m\u001b[0;34m\u001b[0m\u001b[0;34m\u001b[0m\u001b[0;34m\u001b[0m\u001b[0m\n",
            "\u001b[0;32m/usr/lib/python3.8/urllib/request.py\u001b[0m in \u001b[0;36m_open\u001b[0;34m(self, req, data)\u001b[0m\n\u001b[1;32m    540\u001b[0m \u001b[0;34m\u001b[0m\u001b[0m\n\u001b[1;32m    541\u001b[0m         \u001b[0mprotocol\u001b[0m \u001b[0;34m=\u001b[0m \u001b[0mreq\u001b[0m\u001b[0;34m.\u001b[0m\u001b[0mtype\u001b[0m\u001b[0;34m\u001b[0m\u001b[0;34m\u001b[0m\u001b[0m\n\u001b[0;32m--> 542\u001b[0;31m         result = self._call_chain(self.handle_open, protocol, protocol +\n\u001b[0m\u001b[1;32m    543\u001b[0m                                   '_open', req)\n\u001b[1;32m    544\u001b[0m         \u001b[0;32mif\u001b[0m \u001b[0mresult\u001b[0m\u001b[0;34m:\u001b[0m\u001b[0;34m\u001b[0m\u001b[0;34m\u001b[0m\u001b[0m\n",
            "\u001b[0;32m/usr/lib/python3.8/urllib/request.py\u001b[0m in \u001b[0;36m_call_chain\u001b[0;34m(self, chain, kind, meth_name, *args)\u001b[0m\n\u001b[1;32m    500\u001b[0m         \u001b[0;32mfor\u001b[0m \u001b[0mhandler\u001b[0m \u001b[0;32min\u001b[0m \u001b[0mhandlers\u001b[0m\u001b[0;34m:\u001b[0m\u001b[0;34m\u001b[0m\u001b[0;34m\u001b[0m\u001b[0m\n\u001b[1;32m    501\u001b[0m             \u001b[0mfunc\u001b[0m \u001b[0;34m=\u001b[0m \u001b[0mgetattr\u001b[0m\u001b[0;34m(\u001b[0m\u001b[0mhandler\u001b[0m\u001b[0;34m,\u001b[0m \u001b[0mmeth_name\u001b[0m\u001b[0;34m)\u001b[0m\u001b[0;34m\u001b[0m\u001b[0;34m\u001b[0m\u001b[0m\n\u001b[0;32m--> 502\u001b[0;31m             \u001b[0mresult\u001b[0m \u001b[0;34m=\u001b[0m \u001b[0mfunc\u001b[0m\u001b[0;34m(\u001b[0m\u001b[0;34m*\u001b[0m\u001b[0margs\u001b[0m\u001b[0;34m)\u001b[0m\u001b[0;34m\u001b[0m\u001b[0;34m\u001b[0m\u001b[0m\n\u001b[0m\u001b[1;32m    503\u001b[0m             \u001b[0;32mif\u001b[0m \u001b[0mresult\u001b[0m \u001b[0;32mis\u001b[0m \u001b[0;32mnot\u001b[0m \u001b[0;32mNone\u001b[0m\u001b[0;34m:\u001b[0m\u001b[0;34m\u001b[0m\u001b[0;34m\u001b[0m\u001b[0m\n\u001b[1;32m    504\u001b[0m                 \u001b[0;32mreturn\u001b[0m \u001b[0mresult\u001b[0m\u001b[0;34m\u001b[0m\u001b[0;34m\u001b[0m\u001b[0m\n",
            "\u001b[0;32m/usr/lib/python3.8/urllib/request.py\u001b[0m in \u001b[0;36mhttps_open\u001b[0;34m(self, req)\u001b[0m\n\u001b[1;32m   1395\u001b[0m \u001b[0;34m\u001b[0m\u001b[0m\n\u001b[1;32m   1396\u001b[0m         \u001b[0;32mdef\u001b[0m \u001b[0mhttps_open\u001b[0m\u001b[0;34m(\u001b[0m\u001b[0mself\u001b[0m\u001b[0;34m,\u001b[0m \u001b[0mreq\u001b[0m\u001b[0;34m)\u001b[0m\u001b[0;34m:\u001b[0m\u001b[0;34m\u001b[0m\u001b[0;34m\u001b[0m\u001b[0m\n\u001b[0;32m-> 1397\u001b[0;31m             return self.do_open(http.client.HTTPSConnection, req,\n\u001b[0m\u001b[1;32m   1398\u001b[0m                 context=self._context, check_hostname=self._check_hostname)\n\u001b[1;32m   1399\u001b[0m \u001b[0;34m\u001b[0m\u001b[0m\n",
            "\u001b[0;32m/usr/lib/python3.8/urllib/request.py\u001b[0m in \u001b[0;36mdo_open\u001b[0;34m(self, http_class, req, **http_conn_args)\u001b[0m\n\u001b[1;32m   1352\u001b[0m         \u001b[0;32mtry\u001b[0m\u001b[0;34m:\u001b[0m\u001b[0;34m\u001b[0m\u001b[0;34m\u001b[0m\u001b[0m\n\u001b[1;32m   1353\u001b[0m             \u001b[0;32mtry\u001b[0m\u001b[0;34m:\u001b[0m\u001b[0;34m\u001b[0m\u001b[0;34m\u001b[0m\u001b[0m\n\u001b[0;32m-> 1354\u001b[0;31m                 h.request(req.get_method(), req.selector, req.data, headers,\n\u001b[0m\u001b[1;32m   1355\u001b[0m                           encode_chunked=req.has_header('Transfer-encoding'))\n\u001b[1;32m   1356\u001b[0m             \u001b[0;32mexcept\u001b[0m \u001b[0mOSError\u001b[0m \u001b[0;32mas\u001b[0m \u001b[0merr\u001b[0m\u001b[0;34m:\u001b[0m \u001b[0;31m# timeout error\u001b[0m\u001b[0;34m\u001b[0m\u001b[0;34m\u001b[0m\u001b[0m\n",
            "\u001b[0;32m/usr/lib/python3.8/http/client.py\u001b[0m in \u001b[0;36mrequest\u001b[0;34m(self, method, url, body, headers, encode_chunked)\u001b[0m\n\u001b[1;32m   1254\u001b[0m                 encode_chunked=False):\n\u001b[1;32m   1255\u001b[0m         \u001b[0;34m\"\"\"Send a complete request to the server.\"\"\"\u001b[0m\u001b[0;34m\u001b[0m\u001b[0;34m\u001b[0m\u001b[0m\n\u001b[0;32m-> 1256\u001b[0;31m         \u001b[0mself\u001b[0m\u001b[0;34m.\u001b[0m\u001b[0m_send_request\u001b[0m\u001b[0;34m(\u001b[0m\u001b[0mmethod\u001b[0m\u001b[0;34m,\u001b[0m \u001b[0murl\u001b[0m\u001b[0;34m,\u001b[0m \u001b[0mbody\u001b[0m\u001b[0;34m,\u001b[0m \u001b[0mheaders\u001b[0m\u001b[0;34m,\u001b[0m \u001b[0mencode_chunked\u001b[0m\u001b[0;34m)\u001b[0m\u001b[0;34m\u001b[0m\u001b[0;34m\u001b[0m\u001b[0m\n\u001b[0m\u001b[1;32m   1257\u001b[0m \u001b[0;34m\u001b[0m\u001b[0m\n\u001b[1;32m   1258\u001b[0m     \u001b[0;32mdef\u001b[0m \u001b[0m_send_request\u001b[0m\u001b[0;34m(\u001b[0m\u001b[0mself\u001b[0m\u001b[0;34m,\u001b[0m \u001b[0mmethod\u001b[0m\u001b[0;34m,\u001b[0m \u001b[0murl\u001b[0m\u001b[0;34m,\u001b[0m \u001b[0mbody\u001b[0m\u001b[0;34m,\u001b[0m \u001b[0mheaders\u001b[0m\u001b[0;34m,\u001b[0m \u001b[0mencode_chunked\u001b[0m\u001b[0;34m)\u001b[0m\u001b[0;34m:\u001b[0m\u001b[0;34m\u001b[0m\u001b[0;34m\u001b[0m\u001b[0m\n",
            "\u001b[0;32m/usr/lib/python3.8/http/client.py\u001b[0m in \u001b[0;36m_send_request\u001b[0;34m(self, method, url, body, headers, encode_chunked)\u001b[0m\n\u001b[1;32m   1300\u001b[0m             \u001b[0;31m# default charset of iso-8859-1.\u001b[0m\u001b[0;34m\u001b[0m\u001b[0;34m\u001b[0m\u001b[0;34m\u001b[0m\u001b[0m\n\u001b[1;32m   1301\u001b[0m             \u001b[0mbody\u001b[0m \u001b[0;34m=\u001b[0m \u001b[0m_encode\u001b[0m\u001b[0;34m(\u001b[0m\u001b[0mbody\u001b[0m\u001b[0;34m,\u001b[0m \u001b[0;34m'body'\u001b[0m\u001b[0;34m)\u001b[0m\u001b[0;34m\u001b[0m\u001b[0;34m\u001b[0m\u001b[0m\n\u001b[0;32m-> 1302\u001b[0;31m         \u001b[0mself\u001b[0m\u001b[0;34m.\u001b[0m\u001b[0mendheaders\u001b[0m\u001b[0;34m(\u001b[0m\u001b[0mbody\u001b[0m\u001b[0;34m,\u001b[0m \u001b[0mencode_chunked\u001b[0m\u001b[0;34m=\u001b[0m\u001b[0mencode_chunked\u001b[0m\u001b[0;34m)\u001b[0m\u001b[0;34m\u001b[0m\u001b[0;34m\u001b[0m\u001b[0m\n\u001b[0m\u001b[1;32m   1303\u001b[0m \u001b[0;34m\u001b[0m\u001b[0m\n\u001b[1;32m   1304\u001b[0m     \u001b[0;32mdef\u001b[0m \u001b[0mgetresponse\u001b[0m\u001b[0;34m(\u001b[0m\u001b[0mself\u001b[0m\u001b[0;34m)\u001b[0m\u001b[0;34m:\u001b[0m\u001b[0;34m\u001b[0m\u001b[0;34m\u001b[0m\u001b[0m\n",
            "\u001b[0;32m/usr/lib/python3.8/http/client.py\u001b[0m in \u001b[0;36mendheaders\u001b[0;34m(self, message_body, encode_chunked)\u001b[0m\n\u001b[1;32m   1249\u001b[0m         \u001b[0;32melse\u001b[0m\u001b[0;34m:\u001b[0m\u001b[0;34m\u001b[0m\u001b[0;34m\u001b[0m\u001b[0m\n\u001b[1;32m   1250\u001b[0m             \u001b[0;32mraise\u001b[0m \u001b[0mCannotSendHeader\u001b[0m\u001b[0;34m(\u001b[0m\u001b[0;34m)\u001b[0m\u001b[0;34m\u001b[0m\u001b[0;34m\u001b[0m\u001b[0m\n\u001b[0;32m-> 1251\u001b[0;31m         \u001b[0mself\u001b[0m\u001b[0;34m.\u001b[0m\u001b[0m_send_output\u001b[0m\u001b[0;34m(\u001b[0m\u001b[0mmessage_body\u001b[0m\u001b[0;34m,\u001b[0m \u001b[0mencode_chunked\u001b[0m\u001b[0;34m=\u001b[0m\u001b[0mencode_chunked\u001b[0m\u001b[0;34m)\u001b[0m\u001b[0;34m\u001b[0m\u001b[0;34m\u001b[0m\u001b[0m\n\u001b[0m\u001b[1;32m   1252\u001b[0m \u001b[0;34m\u001b[0m\u001b[0m\n\u001b[1;32m   1253\u001b[0m     def request(self, method, url, body=None, headers={}, *,\n",
            "\u001b[0;32m/usr/lib/python3.8/http/client.py\u001b[0m in \u001b[0;36m_send_output\u001b[0;34m(self, message_body, encode_chunked)\u001b[0m\n\u001b[1;32m   1009\u001b[0m         \u001b[0mmsg\u001b[0m \u001b[0;34m=\u001b[0m \u001b[0;34mb\"\\r\\n\"\u001b[0m\u001b[0;34m.\u001b[0m\u001b[0mjoin\u001b[0m\u001b[0;34m(\u001b[0m\u001b[0mself\u001b[0m\u001b[0;34m.\u001b[0m\u001b[0m_buffer\u001b[0m\u001b[0;34m)\u001b[0m\u001b[0;34m\u001b[0m\u001b[0;34m\u001b[0m\u001b[0m\n\u001b[1;32m   1010\u001b[0m         \u001b[0;32mdel\u001b[0m \u001b[0mself\u001b[0m\u001b[0;34m.\u001b[0m\u001b[0m_buffer\u001b[0m\u001b[0;34m[\u001b[0m\u001b[0;34m:\u001b[0m\u001b[0;34m]\u001b[0m\u001b[0;34m\u001b[0m\u001b[0;34m\u001b[0m\u001b[0m\n\u001b[0;32m-> 1011\u001b[0;31m         \u001b[0mself\u001b[0m\u001b[0;34m.\u001b[0m\u001b[0msend\u001b[0m\u001b[0;34m(\u001b[0m\u001b[0mmsg\u001b[0m\u001b[0;34m)\u001b[0m\u001b[0;34m\u001b[0m\u001b[0;34m\u001b[0m\u001b[0m\n\u001b[0m\u001b[1;32m   1012\u001b[0m \u001b[0;34m\u001b[0m\u001b[0m\n\u001b[1;32m   1013\u001b[0m         \u001b[0;32mif\u001b[0m \u001b[0mmessage_body\u001b[0m \u001b[0;32mis\u001b[0m \u001b[0;32mnot\u001b[0m \u001b[0;32mNone\u001b[0m\u001b[0;34m:\u001b[0m\u001b[0;34m\u001b[0m\u001b[0;34m\u001b[0m\u001b[0m\n",
            "\u001b[0;32m/usr/lib/python3.8/http/client.py\u001b[0m in \u001b[0;36msend\u001b[0;34m(self, data)\u001b[0m\n\u001b[1;32m    949\u001b[0m         \u001b[0;32mif\u001b[0m \u001b[0mself\u001b[0m\u001b[0;34m.\u001b[0m\u001b[0msock\u001b[0m \u001b[0;32mis\u001b[0m \u001b[0;32mNone\u001b[0m\u001b[0;34m:\u001b[0m\u001b[0;34m\u001b[0m\u001b[0;34m\u001b[0m\u001b[0m\n\u001b[1;32m    950\u001b[0m             \u001b[0;32mif\u001b[0m \u001b[0mself\u001b[0m\u001b[0;34m.\u001b[0m\u001b[0mauto_open\u001b[0m\u001b[0;34m:\u001b[0m\u001b[0;34m\u001b[0m\u001b[0;34m\u001b[0m\u001b[0m\n\u001b[0;32m--> 951\u001b[0;31m                 \u001b[0mself\u001b[0m\u001b[0;34m.\u001b[0m\u001b[0mconnect\u001b[0m\u001b[0;34m(\u001b[0m\u001b[0;34m)\u001b[0m\u001b[0;34m\u001b[0m\u001b[0;34m\u001b[0m\u001b[0m\n\u001b[0m\u001b[1;32m    952\u001b[0m             \u001b[0;32melse\u001b[0m\u001b[0;34m:\u001b[0m\u001b[0;34m\u001b[0m\u001b[0;34m\u001b[0m\u001b[0m\n\u001b[1;32m    953\u001b[0m                 \u001b[0;32mraise\u001b[0m \u001b[0mNotConnected\u001b[0m\u001b[0;34m(\u001b[0m\u001b[0;34m)\u001b[0m\u001b[0;34m\u001b[0m\u001b[0;34m\u001b[0m\u001b[0m\n",
            "\u001b[0;32m/usr/lib/python3.8/http/client.py\u001b[0m in \u001b[0;36mconnect\u001b[0;34m(self)\u001b[0m\n\u001b[1;32m   1416\u001b[0m             \u001b[0;34m\"Connect to a host on a given (SSL) port.\"\u001b[0m\u001b[0;34m\u001b[0m\u001b[0;34m\u001b[0m\u001b[0m\n\u001b[1;32m   1417\u001b[0m \u001b[0;34m\u001b[0m\u001b[0m\n\u001b[0;32m-> 1418\u001b[0;31m             \u001b[0msuper\u001b[0m\u001b[0;34m(\u001b[0m\u001b[0;34m)\u001b[0m\u001b[0;34m.\u001b[0m\u001b[0mconnect\u001b[0m\u001b[0;34m(\u001b[0m\u001b[0;34m)\u001b[0m\u001b[0;34m\u001b[0m\u001b[0;34m\u001b[0m\u001b[0m\n\u001b[0m\u001b[1;32m   1419\u001b[0m \u001b[0;34m\u001b[0m\u001b[0m\n\u001b[1;32m   1420\u001b[0m             \u001b[0;32mif\u001b[0m \u001b[0mself\u001b[0m\u001b[0;34m.\u001b[0m\u001b[0m_tunnel_host\u001b[0m\u001b[0;34m:\u001b[0m\u001b[0;34m\u001b[0m\u001b[0;34m\u001b[0m\u001b[0m\n",
            "\u001b[0;32m/usr/lib/python3.8/http/client.py\u001b[0m in \u001b[0;36mconnect\u001b[0;34m(self)\u001b[0m\n\u001b[1;32m    920\u001b[0m     \u001b[0;32mdef\u001b[0m \u001b[0mconnect\u001b[0m\u001b[0;34m(\u001b[0m\u001b[0mself\u001b[0m\u001b[0;34m)\u001b[0m\u001b[0;34m:\u001b[0m\u001b[0;34m\u001b[0m\u001b[0;34m\u001b[0m\u001b[0m\n\u001b[1;32m    921\u001b[0m         \u001b[0;34m\"\"\"Connect to the host and port specified in __init__.\"\"\"\u001b[0m\u001b[0;34m\u001b[0m\u001b[0;34m\u001b[0m\u001b[0m\n\u001b[0;32m--> 922\u001b[0;31m         self.sock = self._create_connection(\n\u001b[0m\u001b[1;32m    923\u001b[0m             (self.host,self.port), self.timeout, self.source_address)\n\u001b[1;32m    924\u001b[0m         \u001b[0mself\u001b[0m\u001b[0;34m.\u001b[0m\u001b[0msock\u001b[0m\u001b[0;34m.\u001b[0m\u001b[0msetsockopt\u001b[0m\u001b[0;34m(\u001b[0m\u001b[0msocket\u001b[0m\u001b[0;34m.\u001b[0m\u001b[0mIPPROTO_TCP\u001b[0m\u001b[0;34m,\u001b[0m \u001b[0msocket\u001b[0m\u001b[0;34m.\u001b[0m\u001b[0mTCP_NODELAY\u001b[0m\u001b[0;34m,\u001b[0m \u001b[0;36m1\u001b[0m\u001b[0;34m)\u001b[0m\u001b[0;34m\u001b[0m\u001b[0;34m\u001b[0m\u001b[0m\n",
            "\u001b[0;32m/usr/lib/python3.8/socket.py\u001b[0m in \u001b[0;36mcreate_connection\u001b[0;34m(address, timeout, source_address)\u001b[0m\n\u001b[1;32m    794\u001b[0m             \u001b[0;32mif\u001b[0m \u001b[0msource_address\u001b[0m\u001b[0;34m:\u001b[0m\u001b[0;34m\u001b[0m\u001b[0;34m\u001b[0m\u001b[0m\n\u001b[1;32m    795\u001b[0m                 \u001b[0msock\u001b[0m\u001b[0;34m.\u001b[0m\u001b[0mbind\u001b[0m\u001b[0;34m(\u001b[0m\u001b[0msource_address\u001b[0m\u001b[0;34m)\u001b[0m\u001b[0;34m\u001b[0m\u001b[0;34m\u001b[0m\u001b[0m\n\u001b[0;32m--> 796\u001b[0;31m             \u001b[0msock\u001b[0m\u001b[0;34m.\u001b[0m\u001b[0mconnect\u001b[0m\u001b[0;34m(\u001b[0m\u001b[0msa\u001b[0m\u001b[0;34m)\u001b[0m\u001b[0;34m\u001b[0m\u001b[0;34m\u001b[0m\u001b[0m\n\u001b[0m\u001b[1;32m    797\u001b[0m             \u001b[0;31m# Break explicitly a reference cycle\u001b[0m\u001b[0;34m\u001b[0m\u001b[0;34m\u001b[0m\u001b[0;34m\u001b[0m\u001b[0m\n\u001b[1;32m    798\u001b[0m             \u001b[0merr\u001b[0m \u001b[0;34m=\u001b[0m \u001b[0;32mNone\u001b[0m\u001b[0;34m\u001b[0m\u001b[0;34m\u001b[0m\u001b[0m\n",
            "\u001b[0;31mKeyboardInterrupt\u001b[0m: "
          ]
        }
      ],
      "source": [
        "import pandas as pd\n",
        "df = pd.read_csv(url)"
      ]
    },
    {
      "cell_type": "code",
      "execution_count": null,
      "metadata": {
        "id": "HdXQrcmaVC5j"
      },
      "outputs": [],
      "source": [
        "df.head()"
      ]
    },
    {
      "cell_type": "markdown",
      "source": [
        "### 將 DataFrame 轉存成不同格式"
      ],
      "metadata": {
        "id": "NukxowGWdJrB"
      }
    },
    {
      "cell_type": "code",
      "source": [
        "df.to_excel('實價登錄資料.xlsx')"
      ],
      "metadata": {
        "id": "ySh7mXoWWb5k"
      },
      "execution_count": null,
      "outputs": []
    },
    {
      "cell_type": "code",
      "source": [
        "df.head(100).to_html('實價登錄前一百筆資料.html')"
      ],
      "metadata": {
        "id": "DSOPJRGvWeIs"
      },
      "execution_count": null,
      "outputs": []
    },
    {
      "cell_type": "code",
      "source": [
        "df.head(100).to_json('實價登錄前一百筆資料.json')"
      ],
      "metadata": {
        "id": "qqF39C-FXINq"
      },
      "execution_count": null,
      "outputs": []
    },
    {
      "cell_type": "markdown",
      "source": [
        "#檔案的IO"
      ],
      "metadata": {
        "id": "4CgRWT99Yx6g"
      }
    },
    {
      "cell_type": "markdown",
      "source": [
        "## 文字檔\n"
      ],
      "metadata": {
        "id": "Qmb5qtTAY2oh"
      }
    },
    {
      "cell_type": "markdown",
      "source": [
        "一般作法：\n",
        "```python\n",
        "f = open('test.txt', 'w')\n",
        "f.write(data)\n",
        "f.close()\n",
        "```"
      ],
      "metadata": {
        "id": "rgdLQdU7ZP_O"
      }
    },
    {
      "cell_type": "markdown",
      "source": [
        "替代性做法：\n",
        "```python\n",
        "with open('test.txt', 'w') as f:\n",
        "  f.write(data)\n",
        "```"
      ],
      "metadata": {
        "id": "PHLvUNysZXqM"
      }
    },
    {
      "cell_type": "markdown",
      "source": [
        "###二進位檔"
      ],
      "metadata": {
        "id": "ggoTQ36gZD_q"
      }
    },
    {
      "cell_type": "markdown",
      "source": [
        "一般作法：\n",
        "\n",
        "```python\n",
        "f = open('test.jpg', 'wb')\n",
        "f.write(data)\n",
        "f.close()\n",
        "```"
      ],
      "metadata": {
        "id": "dhd4tbabZGfz"
      }
    },
    {
      "cell_type": "markdown",
      "source": [
        "替代性作法：\n",
        "```python\n",
        "with open('test.jpg', 'wb') as f:\n",
        "  f.write(data)\n",
        "```"
      ],
      "metadata": {
        "id": "Omzq9f9QagKH"
      }
    },
    {
      "cell_type": "markdown",
      "source": [
        "### 抓取網頁原始碼並存成文字檔"
      ],
      "metadata": {
        "id": "JPy92zpObGtS"
      }
    },
    {
      "cell_type": "code",
      "source": [
        "url = \"https://victorgau.github.io/khpy_web_intro/html_only.html\""
      ],
      "metadata": {
        "id": "1qcMhPLEbJEv"
      },
      "execution_count": null,
      "outputs": []
    },
    {
      "cell_type": "code",
      "source": [
        "import requests\n",
        "r = requests.get(url)"
      ],
      "metadata": {
        "id": "Xpz3oY8ZbK7H"
      },
      "execution_count": null,
      "outputs": []
    },
    {
      "cell_type": "code",
      "source": [
        "with open('index.html', 'w') as f:\n",
        "  f.write(r.text)"
      ],
      "metadata": {
        "id": "4ogyv7YabNI9"
      },
      "execution_count": null,
      "outputs": []
    },
    {
      "cell_type": "markdown",
      "source": [
        "### 抓取圖片並存成圖片檔"
      ],
      "metadata": {
        "id": "g3-_y6Cbbnp2"
      }
    },
    {
      "cell_type": "code",
      "source": [
        "url = \"https://victorgau.github.io/khpy_web_intro/ninja.jpg\""
      ],
      "metadata": {
        "id": "C8N4CUsxbokj"
      },
      "execution_count": null,
      "outputs": []
    },
    {
      "cell_type": "code",
      "source": [
        "r = requests.get(url)"
      ],
      "metadata": {
        "id": "Zc8A3jmLbouX"
      },
      "execution_count": null,
      "outputs": []
    },
    {
      "cell_type": "code",
      "source": [
        "with open('ninja.jpg', 'wb') as f:\n",
        "  f.write(r.content)"
      ],
      "metadata": {
        "id": "puHMWwGWbpIw"
      },
      "execution_count": null,
      "outputs": []
    },
    {
      "cell_type": "markdown",
      "source": [
        "#練習Pandas的使用"
      ],
      "metadata": {
        "id": "-dMS_Z0YiHrB"
      }
    },
    {
      "cell_type": "code",
      "source": [
        "import numpy as np\n",
        "import pandas as pd"
      ],
      "metadata": {
        "id": "bE_ad2t_iMHH"
      },
      "execution_count": null,
      "outputs": []
    },
    {
      "cell_type": "code",
      "source": [
        "grades = np.random.randint(30, 101, (10, 4))"
      ],
      "metadata": {
        "id": "d8qwxFYailvQ"
      },
      "execution_count": null,
      "outputs": []
    },
    {
      "cell_type": "code",
      "source": [
        "grades"
      ],
      "metadata": {
        "colab": {
          "base_uri": "https://localhost:8080/"
        },
        "id": "y1yooRT-i94V",
        "outputId": "902c34b1-984d-4511-f9cb-a2bd91578a74"
      },
      "execution_count": null,
      "outputs": [
        {
          "output_type": "execute_result",
          "data": {
            "text/plain": [
              "array([[ 47,  68,  91,  32],\n",
              "       [ 48,  53,  92,  41],\n",
              "       [ 51,  62,  34,  88],\n",
              "       [ 88,  36,  33, 100],\n",
              "       [ 69,  39,  98,  91],\n",
              "       [ 43,  96,  32,  90],\n",
              "       [ 66,  70,  90,  87],\n",
              "       [ 41,  61,  69,  46],\n",
              "       [ 65,  83,  39,  43],\n",
              "       [ 67,  81,  52,  94]])"
            ]
          },
          "metadata": {},
          "execution_count": 21
        }
      ]
    },
    {
      "cell_type": "code",
      "source": [
        "df = pd.DataFrame(grades)"
      ],
      "metadata": {
        "id": "jTpkwsiui1yc"
      },
      "execution_count": null,
      "outputs": []
    },
    {
      "cell_type": "code",
      "source": [
        "df"
      ],
      "metadata": {
        "id": "PUiixXl_jdck",
        "outputId": "92458dd7-df24-4b08-d200-54a35594a5ea",
        "colab": {
          "base_uri": "https://localhost:8080/",
          "height": 359
        }
      },
      "execution_count": null,
      "outputs": [
        {
          "output_type": "execute_result",
          "data": {
            "text/plain": [
              "    0   1   2    3\n",
              "0  47  68  91   32\n",
              "1  48  53  92   41\n",
              "2  51  62  34   88\n",
              "3  88  36  33  100\n",
              "4  69  39  98   91\n",
              "5  43  96  32   90\n",
              "6  66  70  90   87\n",
              "7  41  61  69   46\n",
              "8  65  83  39   43\n",
              "9  67  81  52   94"
            ],
            "text/html": [
              "\n",
              "  <div id=\"df-e185daf8-d36e-4c70-9a6c-106394458731\">\n",
              "    <div class=\"colab-df-container\">\n",
              "      <div>\n",
              "<style scoped>\n",
              "    .dataframe tbody tr th:only-of-type {\n",
              "        vertical-align: middle;\n",
              "    }\n",
              "\n",
              "    .dataframe tbody tr th {\n",
              "        vertical-align: top;\n",
              "    }\n",
              "\n",
              "    .dataframe thead th {\n",
              "        text-align: right;\n",
              "    }\n",
              "</style>\n",
              "<table border=\"1\" class=\"dataframe\">\n",
              "  <thead>\n",
              "    <tr style=\"text-align: right;\">\n",
              "      <th></th>\n",
              "      <th>0</th>\n",
              "      <th>1</th>\n",
              "      <th>2</th>\n",
              "      <th>3</th>\n",
              "    </tr>\n",
              "  </thead>\n",
              "  <tbody>\n",
              "    <tr>\n",
              "      <th>0</th>\n",
              "      <td>47</td>\n",
              "      <td>68</td>\n",
              "      <td>91</td>\n",
              "      <td>32</td>\n",
              "    </tr>\n",
              "    <tr>\n",
              "      <th>1</th>\n",
              "      <td>48</td>\n",
              "      <td>53</td>\n",
              "      <td>92</td>\n",
              "      <td>41</td>\n",
              "    </tr>\n",
              "    <tr>\n",
              "      <th>2</th>\n",
              "      <td>51</td>\n",
              "      <td>62</td>\n",
              "      <td>34</td>\n",
              "      <td>88</td>\n",
              "    </tr>\n",
              "    <tr>\n",
              "      <th>3</th>\n",
              "      <td>88</td>\n",
              "      <td>36</td>\n",
              "      <td>33</td>\n",
              "      <td>100</td>\n",
              "    </tr>\n",
              "    <tr>\n",
              "      <th>4</th>\n",
              "      <td>69</td>\n",
              "      <td>39</td>\n",
              "      <td>98</td>\n",
              "      <td>91</td>\n",
              "    </tr>\n",
              "    <tr>\n",
              "      <th>5</th>\n",
              "      <td>43</td>\n",
              "      <td>96</td>\n",
              "      <td>32</td>\n",
              "      <td>90</td>\n",
              "    </tr>\n",
              "    <tr>\n",
              "      <th>6</th>\n",
              "      <td>66</td>\n",
              "      <td>70</td>\n",
              "      <td>90</td>\n",
              "      <td>87</td>\n",
              "    </tr>\n",
              "    <tr>\n",
              "      <th>7</th>\n",
              "      <td>41</td>\n",
              "      <td>61</td>\n",
              "      <td>69</td>\n",
              "      <td>46</td>\n",
              "    </tr>\n",
              "    <tr>\n",
              "      <th>8</th>\n",
              "      <td>65</td>\n",
              "      <td>83</td>\n",
              "      <td>39</td>\n",
              "      <td>43</td>\n",
              "    </tr>\n",
              "    <tr>\n",
              "      <th>9</th>\n",
              "      <td>67</td>\n",
              "      <td>81</td>\n",
              "      <td>52</td>\n",
              "      <td>94</td>\n",
              "    </tr>\n",
              "  </tbody>\n",
              "</table>\n",
              "</div>\n",
              "      <button class=\"colab-df-convert\" onclick=\"convertToInteractive('df-e185daf8-d36e-4c70-9a6c-106394458731')\"\n",
              "              title=\"Convert this dataframe to an interactive table.\"\n",
              "              style=\"display:none;\">\n",
              "        \n",
              "  <svg xmlns=\"http://www.w3.org/2000/svg\" height=\"24px\"viewBox=\"0 0 24 24\"\n",
              "       width=\"24px\">\n",
              "    <path d=\"M0 0h24v24H0V0z\" fill=\"none\"/>\n",
              "    <path d=\"M18.56 5.44l.94 2.06.94-2.06 2.06-.94-2.06-.94-.94-2.06-.94 2.06-2.06.94zm-11 1L8.5 8.5l.94-2.06 2.06-.94-2.06-.94L8.5 2.5l-.94 2.06-2.06.94zm10 10l.94 2.06.94-2.06 2.06-.94-2.06-.94-.94-2.06-.94 2.06-2.06.94z\"/><path d=\"M17.41 7.96l-1.37-1.37c-.4-.4-.92-.59-1.43-.59-.52 0-1.04.2-1.43.59L10.3 9.45l-7.72 7.72c-.78.78-.78 2.05 0 2.83L4 21.41c.39.39.9.59 1.41.59.51 0 1.02-.2 1.41-.59l7.78-7.78 2.81-2.81c.8-.78.8-2.07 0-2.86zM5.41 20L4 18.59l7.72-7.72 1.47 1.35L5.41 20z\"/>\n",
              "  </svg>\n",
              "      </button>\n",
              "      \n",
              "  <style>\n",
              "    .colab-df-container {\n",
              "      display:flex;\n",
              "      flex-wrap:wrap;\n",
              "      gap: 12px;\n",
              "    }\n",
              "\n",
              "    .colab-df-convert {\n",
              "      background-color: #E8F0FE;\n",
              "      border: none;\n",
              "      border-radius: 50%;\n",
              "      cursor: pointer;\n",
              "      display: none;\n",
              "      fill: #1967D2;\n",
              "      height: 32px;\n",
              "      padding: 0 0 0 0;\n",
              "      width: 32px;\n",
              "    }\n",
              "\n",
              "    .colab-df-convert:hover {\n",
              "      background-color: #E2EBFA;\n",
              "      box-shadow: 0px 1px 2px rgba(60, 64, 67, 0.3), 0px 1px 3px 1px rgba(60, 64, 67, 0.15);\n",
              "      fill: #174EA6;\n",
              "    }\n",
              "\n",
              "    [theme=dark] .colab-df-convert {\n",
              "      background-color: #3B4455;\n",
              "      fill: #D2E3FC;\n",
              "    }\n",
              "\n",
              "    [theme=dark] .colab-df-convert:hover {\n",
              "      background-color: #434B5C;\n",
              "      box-shadow: 0px 1px 3px 1px rgba(0, 0, 0, 0.15);\n",
              "      filter: drop-shadow(0px 1px 2px rgba(0, 0, 0, 0.3));\n",
              "      fill: #FFFFFF;\n",
              "    }\n",
              "  </style>\n",
              "\n",
              "      <script>\n",
              "        const buttonEl =\n",
              "          document.querySelector('#df-e185daf8-d36e-4c70-9a6c-106394458731 button.colab-df-convert');\n",
              "        buttonEl.style.display =\n",
              "          google.colab.kernel.accessAllowed ? 'block' : 'none';\n",
              "\n",
              "        async function convertToInteractive(key) {\n",
              "          const element = document.querySelector('#df-e185daf8-d36e-4c70-9a6c-106394458731');\n",
              "          const dataTable =\n",
              "            await google.colab.kernel.invokeFunction('convertToInteractive',\n",
              "                                                     [key], {});\n",
              "          if (!dataTable) return;\n",
              "\n",
              "          const docLinkHtml = 'Like what you see? Visit the ' +\n",
              "            '<a target=\"_blank\" href=https://colab.research.google.com/notebooks/data_table.ipynb>data table notebook</a>'\n",
              "            + ' to learn more about interactive tables.';\n",
              "          element.innerHTML = '';\n",
              "          dataTable['output_type'] = 'display_data';\n",
              "          await google.colab.output.renderOutput(dataTable, element);\n",
              "          const docLink = document.createElement('div');\n",
              "          docLink.innerHTML = docLinkHtml;\n",
              "          element.appendChild(docLink);\n",
              "        }\n",
              "      </script>\n",
              "    </div>\n",
              "  </div>\n",
              "  "
            ]
          },
          "metadata": {},
          "execution_count": 23
        }
      ]
    },
    {
      "cell_type": "code",
      "source": [
        "df.columns = ['國文','英文','數學','理化']\n",
        "df.index = [\"郭雅惠\",\"陳欣虹\",\"王孟修\",\"李政勇\",\n",
        "            \"陳仲燦\",\"王寧東\",\"楊雅名\",\"藍冰啟\",\"林玉亨\",\"崔承睿\"]"
      ],
      "metadata": {
        "id": "jOriOWkrkFK6"
      },
      "execution_count": 24,
      "outputs": []
    },
    {
      "cell_type": "code",
      "source": [
        "df"
      ],
      "metadata": {
        "colab": {
          "base_uri": "https://localhost:8080/",
          "height": 359
        },
        "id": "e2kU_QKDkLn1",
        "outputId": "cbf2fedb-fa68-434c-e7a7-ea05dc21e5c5"
      },
      "execution_count": 25,
      "outputs": [
        {
          "output_type": "execute_result",
          "data": {
            "text/plain": [
              "     國文  英文  數學   理化\n",
              "郭雅惠  47  68  91   32\n",
              "陳欣虹  48  53  92   41\n",
              "王孟修  51  62  34   88\n",
              "李政勇  88  36  33  100\n",
              "陳仲燦  69  39  98   91\n",
              "王寧東  43  96  32   90\n",
              "楊雅名  66  70  90   87\n",
              "藍冰啟  41  61  69   46\n",
              "林玉亨  65  83  39   43\n",
              "崔承睿  67  81  52   94"
            ],
            "text/html": [
              "\n",
              "  <div id=\"df-17744873-462b-4920-b72c-cbf3337fa4ea\">\n",
              "    <div class=\"colab-df-container\">\n",
              "      <div>\n",
              "<style scoped>\n",
              "    .dataframe tbody tr th:only-of-type {\n",
              "        vertical-align: middle;\n",
              "    }\n",
              "\n",
              "    .dataframe tbody tr th {\n",
              "        vertical-align: top;\n",
              "    }\n",
              "\n",
              "    .dataframe thead th {\n",
              "        text-align: right;\n",
              "    }\n",
              "</style>\n",
              "<table border=\"1\" class=\"dataframe\">\n",
              "  <thead>\n",
              "    <tr style=\"text-align: right;\">\n",
              "      <th></th>\n",
              "      <th>國文</th>\n",
              "      <th>英文</th>\n",
              "      <th>數學</th>\n",
              "      <th>理化</th>\n",
              "    </tr>\n",
              "  </thead>\n",
              "  <tbody>\n",
              "    <tr>\n",
              "      <th>郭雅惠</th>\n",
              "      <td>47</td>\n",
              "      <td>68</td>\n",
              "      <td>91</td>\n",
              "      <td>32</td>\n",
              "    </tr>\n",
              "    <tr>\n",
              "      <th>陳欣虹</th>\n",
              "      <td>48</td>\n",
              "      <td>53</td>\n",
              "      <td>92</td>\n",
              "      <td>41</td>\n",
              "    </tr>\n",
              "    <tr>\n",
              "      <th>王孟修</th>\n",
              "      <td>51</td>\n",
              "      <td>62</td>\n",
              "      <td>34</td>\n",
              "      <td>88</td>\n",
              "    </tr>\n",
              "    <tr>\n",
              "      <th>李政勇</th>\n",
              "      <td>88</td>\n",
              "      <td>36</td>\n",
              "      <td>33</td>\n",
              "      <td>100</td>\n",
              "    </tr>\n",
              "    <tr>\n",
              "      <th>陳仲燦</th>\n",
              "      <td>69</td>\n",
              "      <td>39</td>\n",
              "      <td>98</td>\n",
              "      <td>91</td>\n",
              "    </tr>\n",
              "    <tr>\n",
              "      <th>王寧東</th>\n",
              "      <td>43</td>\n",
              "      <td>96</td>\n",
              "      <td>32</td>\n",
              "      <td>90</td>\n",
              "    </tr>\n",
              "    <tr>\n",
              "      <th>楊雅名</th>\n",
              "      <td>66</td>\n",
              "      <td>70</td>\n",
              "      <td>90</td>\n",
              "      <td>87</td>\n",
              "    </tr>\n",
              "    <tr>\n",
              "      <th>藍冰啟</th>\n",
              "      <td>41</td>\n",
              "      <td>61</td>\n",
              "      <td>69</td>\n",
              "      <td>46</td>\n",
              "    </tr>\n",
              "    <tr>\n",
              "      <th>林玉亨</th>\n",
              "      <td>65</td>\n",
              "      <td>83</td>\n",
              "      <td>39</td>\n",
              "      <td>43</td>\n",
              "    </tr>\n",
              "    <tr>\n",
              "      <th>崔承睿</th>\n",
              "      <td>67</td>\n",
              "      <td>81</td>\n",
              "      <td>52</td>\n",
              "      <td>94</td>\n",
              "    </tr>\n",
              "  </tbody>\n",
              "</table>\n",
              "</div>\n",
              "      <button class=\"colab-df-convert\" onclick=\"convertToInteractive('df-17744873-462b-4920-b72c-cbf3337fa4ea')\"\n",
              "              title=\"Convert this dataframe to an interactive table.\"\n",
              "              style=\"display:none;\">\n",
              "        \n",
              "  <svg xmlns=\"http://www.w3.org/2000/svg\" height=\"24px\"viewBox=\"0 0 24 24\"\n",
              "       width=\"24px\">\n",
              "    <path d=\"M0 0h24v24H0V0z\" fill=\"none\"/>\n",
              "    <path d=\"M18.56 5.44l.94 2.06.94-2.06 2.06-.94-2.06-.94-.94-2.06-.94 2.06-2.06.94zm-11 1L8.5 8.5l.94-2.06 2.06-.94-2.06-.94L8.5 2.5l-.94 2.06-2.06.94zm10 10l.94 2.06.94-2.06 2.06-.94-2.06-.94-.94-2.06-.94 2.06-2.06.94z\"/><path d=\"M17.41 7.96l-1.37-1.37c-.4-.4-.92-.59-1.43-.59-.52 0-1.04.2-1.43.59L10.3 9.45l-7.72 7.72c-.78.78-.78 2.05 0 2.83L4 21.41c.39.39.9.59 1.41.59.51 0 1.02-.2 1.41-.59l7.78-7.78 2.81-2.81c.8-.78.8-2.07 0-2.86zM5.41 20L4 18.59l7.72-7.72 1.47 1.35L5.41 20z\"/>\n",
              "  </svg>\n",
              "      </button>\n",
              "      \n",
              "  <style>\n",
              "    .colab-df-container {\n",
              "      display:flex;\n",
              "      flex-wrap:wrap;\n",
              "      gap: 12px;\n",
              "    }\n",
              "\n",
              "    .colab-df-convert {\n",
              "      background-color: #E8F0FE;\n",
              "      border: none;\n",
              "      border-radius: 50%;\n",
              "      cursor: pointer;\n",
              "      display: none;\n",
              "      fill: #1967D2;\n",
              "      height: 32px;\n",
              "      padding: 0 0 0 0;\n",
              "      width: 32px;\n",
              "    }\n",
              "\n",
              "    .colab-df-convert:hover {\n",
              "      background-color: #E2EBFA;\n",
              "      box-shadow: 0px 1px 2px rgba(60, 64, 67, 0.3), 0px 1px 3px 1px rgba(60, 64, 67, 0.15);\n",
              "      fill: #174EA6;\n",
              "    }\n",
              "\n",
              "    [theme=dark] .colab-df-convert {\n",
              "      background-color: #3B4455;\n",
              "      fill: #D2E3FC;\n",
              "    }\n",
              "\n",
              "    [theme=dark] .colab-df-convert:hover {\n",
              "      background-color: #434B5C;\n",
              "      box-shadow: 0px 1px 3px 1px rgba(0, 0, 0, 0.15);\n",
              "      filter: drop-shadow(0px 1px 2px rgba(0, 0, 0, 0.3));\n",
              "      fill: #FFFFFF;\n",
              "    }\n",
              "  </style>\n",
              "\n",
              "      <script>\n",
              "        const buttonEl =\n",
              "          document.querySelector('#df-17744873-462b-4920-b72c-cbf3337fa4ea button.colab-df-convert');\n",
              "        buttonEl.style.display =\n",
              "          google.colab.kernel.accessAllowed ? 'block' : 'none';\n",
              "\n",
              "        async function convertToInteractive(key) {\n",
              "          const element = document.querySelector('#df-17744873-462b-4920-b72c-cbf3337fa4ea');\n",
              "          const dataTable =\n",
              "            await google.colab.kernel.invokeFunction('convertToInteractive',\n",
              "                                                     [key], {});\n",
              "          if (!dataTable) return;\n",
              "\n",
              "          const docLinkHtml = 'Like what you see? Visit the ' +\n",
              "            '<a target=\"_blank\" href=https://colab.research.google.com/notebooks/data_table.ipynb>data table notebook</a>'\n",
              "            + ' to learn more about interactive tables.';\n",
              "          element.innerHTML = '';\n",
              "          dataTable['output_type'] = 'display_data';\n",
              "          await google.colab.output.renderOutput(dataTable, element);\n",
              "          const docLink = document.createElement('div');\n",
              "          docLink.innerHTML = docLinkHtml;\n",
              "          element.appendChild(docLink);\n",
              "        }\n",
              "      </script>\n",
              "    </div>\n",
              "  </div>\n",
              "  "
            ]
          },
          "metadata": {},
          "execution_count": 25
        }
      ]
    },
    {
      "cell_type": "markdown",
      "source": [
        "## 列出國文不及格的同學名單"
      ],
      "metadata": {
        "id": "b96CRdYDkWZy"
      }
    },
    {
      "cell_type": "code",
      "source": [
        "# 取出國文成績\n",
        "df['國文']"
      ],
      "metadata": {
        "id": "Q1nnYitmkr0-"
      },
      "execution_count": null,
      "outputs": []
    },
    {
      "cell_type": "code",
      "source": [
        "# 判斷成績是否及格：True:不及格, False:及格\n",
        "df['國文'] < 60"
      ],
      "metadata": {
        "colab": {
          "base_uri": "https://localhost:8080/"
        },
        "id": "XGl8bYX3kt-9",
        "outputId": "9a9c4e61-b5e2-47ba-a6c6-2092a38dfbb1"
      },
      "execution_count": 27,
      "outputs": [
        {
          "output_type": "execute_result",
          "data": {
            "text/plain": [
              "郭雅惠     True\n",
              "陳欣虹     True\n",
              "王孟修     True\n",
              "李政勇    False\n",
              "陳仲燦    False\n",
              "王寧東     True\n",
              "楊雅名    False\n",
              "藍冰啟     True\n",
              "林玉亨    False\n",
              "崔承睿    False\n",
              "Name: 國文, dtype: bool"
            ]
          },
          "metadata": {},
          "execution_count": 27
        }
      ]
    },
    {
      "cell_type": "code",
      "source": [
        "# Filtering\n",
        "df[df['國文'] < 60]"
      ],
      "metadata": {
        "colab": {
          "base_uri": "https://localhost:8080/",
          "height": 204
        },
        "id": "8V9IxWrSkyQD",
        "outputId": "70f3fa50-7a47-451b-c1c2-763380e816eb"
      },
      "execution_count": 28,
      "outputs": [
        {
          "output_type": "execute_result",
          "data": {
            "text/plain": [
              "     國文  英文  數學  理化\n",
              "郭雅惠  47  68  91  32\n",
              "陳欣虹  48  53  92  41\n",
              "王孟修  51  62  34  88\n",
              "王寧東  43  96  32  90\n",
              "藍冰啟  41  61  69  46"
            ],
            "text/html": [
              "\n",
              "  <div id=\"df-62fe2f3a-6dbf-496a-9459-78352f231e23\">\n",
              "    <div class=\"colab-df-container\">\n",
              "      <div>\n",
              "<style scoped>\n",
              "    .dataframe tbody tr th:only-of-type {\n",
              "        vertical-align: middle;\n",
              "    }\n",
              "\n",
              "    .dataframe tbody tr th {\n",
              "        vertical-align: top;\n",
              "    }\n",
              "\n",
              "    .dataframe thead th {\n",
              "        text-align: right;\n",
              "    }\n",
              "</style>\n",
              "<table border=\"1\" class=\"dataframe\">\n",
              "  <thead>\n",
              "    <tr style=\"text-align: right;\">\n",
              "      <th></th>\n",
              "      <th>國文</th>\n",
              "      <th>英文</th>\n",
              "      <th>數學</th>\n",
              "      <th>理化</th>\n",
              "    </tr>\n",
              "  </thead>\n",
              "  <tbody>\n",
              "    <tr>\n",
              "      <th>郭雅惠</th>\n",
              "      <td>47</td>\n",
              "      <td>68</td>\n",
              "      <td>91</td>\n",
              "      <td>32</td>\n",
              "    </tr>\n",
              "    <tr>\n",
              "      <th>陳欣虹</th>\n",
              "      <td>48</td>\n",
              "      <td>53</td>\n",
              "      <td>92</td>\n",
              "      <td>41</td>\n",
              "    </tr>\n",
              "    <tr>\n",
              "      <th>王孟修</th>\n",
              "      <td>51</td>\n",
              "      <td>62</td>\n",
              "      <td>34</td>\n",
              "      <td>88</td>\n",
              "    </tr>\n",
              "    <tr>\n",
              "      <th>王寧東</th>\n",
              "      <td>43</td>\n",
              "      <td>96</td>\n",
              "      <td>32</td>\n",
              "      <td>90</td>\n",
              "    </tr>\n",
              "    <tr>\n",
              "      <th>藍冰啟</th>\n",
              "      <td>41</td>\n",
              "      <td>61</td>\n",
              "      <td>69</td>\n",
              "      <td>46</td>\n",
              "    </tr>\n",
              "  </tbody>\n",
              "</table>\n",
              "</div>\n",
              "      <button class=\"colab-df-convert\" onclick=\"convertToInteractive('df-62fe2f3a-6dbf-496a-9459-78352f231e23')\"\n",
              "              title=\"Convert this dataframe to an interactive table.\"\n",
              "              style=\"display:none;\">\n",
              "        \n",
              "  <svg xmlns=\"http://www.w3.org/2000/svg\" height=\"24px\"viewBox=\"0 0 24 24\"\n",
              "       width=\"24px\">\n",
              "    <path d=\"M0 0h24v24H0V0z\" fill=\"none\"/>\n",
              "    <path d=\"M18.56 5.44l.94 2.06.94-2.06 2.06-.94-2.06-.94-.94-2.06-.94 2.06-2.06.94zm-11 1L8.5 8.5l.94-2.06 2.06-.94-2.06-.94L8.5 2.5l-.94 2.06-2.06.94zm10 10l.94 2.06.94-2.06 2.06-.94-2.06-.94-.94-2.06-.94 2.06-2.06.94z\"/><path d=\"M17.41 7.96l-1.37-1.37c-.4-.4-.92-.59-1.43-.59-.52 0-1.04.2-1.43.59L10.3 9.45l-7.72 7.72c-.78.78-.78 2.05 0 2.83L4 21.41c.39.39.9.59 1.41.59.51 0 1.02-.2 1.41-.59l7.78-7.78 2.81-2.81c.8-.78.8-2.07 0-2.86zM5.41 20L4 18.59l7.72-7.72 1.47 1.35L5.41 20z\"/>\n",
              "  </svg>\n",
              "      </button>\n",
              "      \n",
              "  <style>\n",
              "    .colab-df-container {\n",
              "      display:flex;\n",
              "      flex-wrap:wrap;\n",
              "      gap: 12px;\n",
              "    }\n",
              "\n",
              "    .colab-df-convert {\n",
              "      background-color: #E8F0FE;\n",
              "      border: none;\n",
              "      border-radius: 50%;\n",
              "      cursor: pointer;\n",
              "      display: none;\n",
              "      fill: #1967D2;\n",
              "      height: 32px;\n",
              "      padding: 0 0 0 0;\n",
              "      width: 32px;\n",
              "    }\n",
              "\n",
              "    .colab-df-convert:hover {\n",
              "      background-color: #E2EBFA;\n",
              "      box-shadow: 0px 1px 2px rgba(60, 64, 67, 0.3), 0px 1px 3px 1px rgba(60, 64, 67, 0.15);\n",
              "      fill: #174EA6;\n",
              "    }\n",
              "\n",
              "    [theme=dark] .colab-df-convert {\n",
              "      background-color: #3B4455;\n",
              "      fill: #D2E3FC;\n",
              "    }\n",
              "\n",
              "    [theme=dark] .colab-df-convert:hover {\n",
              "      background-color: #434B5C;\n",
              "      box-shadow: 0px 1px 3px 1px rgba(0, 0, 0, 0.15);\n",
              "      filter: drop-shadow(0px 1px 2px rgba(0, 0, 0, 0.3));\n",
              "      fill: #FFFFFF;\n",
              "    }\n",
              "  </style>\n",
              "\n",
              "      <script>\n",
              "        const buttonEl =\n",
              "          document.querySelector('#df-62fe2f3a-6dbf-496a-9459-78352f231e23 button.colab-df-convert');\n",
              "        buttonEl.style.display =\n",
              "          google.colab.kernel.accessAllowed ? 'block' : 'none';\n",
              "\n",
              "        async function convertToInteractive(key) {\n",
              "          const element = document.querySelector('#df-62fe2f3a-6dbf-496a-9459-78352f231e23');\n",
              "          const dataTable =\n",
              "            await google.colab.kernel.invokeFunction('convertToInteractive',\n",
              "                                                     [key], {});\n",
              "          if (!dataTable) return;\n",
              "\n",
              "          const docLinkHtml = 'Like what you see? Visit the ' +\n",
              "            '<a target=\"_blank\" href=https://colab.research.google.com/notebooks/data_table.ipynb>data table notebook</a>'\n",
              "            + ' to learn more about interactive tables.';\n",
              "          element.innerHTML = '';\n",
              "          dataTable['output_type'] = 'display_data';\n",
              "          await google.colab.output.renderOutput(dataTable, element);\n",
              "          const docLink = document.createElement('div');\n",
              "          docLink.innerHTML = docLinkHtml;\n",
              "          element.appendChild(docLink);\n",
              "        }\n",
              "      </script>\n",
              "    </div>\n",
              "  </div>\n",
              "  "
            ]
          },
          "metadata": {},
          "execution_count": 28
        }
      ]
    },
    {
      "cell_type": "markdown",
      "source": [
        "## 列出國文跟英文都不及格的同學名單"
      ],
      "metadata": {
        "id": "XdG71ZpTkXcl"
      }
    },
    {
      "cell_type": "code",
      "source": [
        "df['英文'] < 60"
      ],
      "metadata": {
        "colab": {
          "base_uri": "https://localhost:8080/"
        },
        "id": "PoayKJ6UlADB",
        "outputId": "4f282d84-bf91-478f-96e2-7fbc36bdef04"
      },
      "execution_count": 29,
      "outputs": [
        {
          "output_type": "execute_result",
          "data": {
            "text/plain": [
              "郭雅惠    False\n",
              "陳欣虹     True\n",
              "王孟修    False\n",
              "李政勇     True\n",
              "陳仲燦     True\n",
              "王寧東    False\n",
              "楊雅名    False\n",
              "藍冰啟    False\n",
              "林玉亨    False\n",
              "崔承睿    False\n",
              "Name: 英文, dtype: bool"
            ]
          },
          "metadata": {},
          "execution_count": 29
        }
      ]
    },
    {
      "cell_type": "code",
      "source": [
        "# 使用 & (and) 連接兩個條件 (註: | (or))\n",
        "df[(df['國文'] < 60) & (df['英文'] < 60)]"
      ],
      "metadata": {
        "colab": {
          "base_uri": "https://localhost:8080/",
          "height": 80
        },
        "id": "FQHDGSXWlHTD",
        "outputId": "91307e5c-44ae-49fd-f868-f60b0e980673"
      },
      "execution_count": 30,
      "outputs": [
        {
          "output_type": "execute_result",
          "data": {
            "text/plain": [
              "     國文  英文  數學  理化\n",
              "陳欣虹  48  53  92  41"
            ],
            "text/html": [
              "\n",
              "  <div id=\"df-e2399b2c-ad60-463c-9d34-fa70b5d6d150\">\n",
              "    <div class=\"colab-df-container\">\n",
              "      <div>\n",
              "<style scoped>\n",
              "    .dataframe tbody tr th:only-of-type {\n",
              "        vertical-align: middle;\n",
              "    }\n",
              "\n",
              "    .dataframe tbody tr th {\n",
              "        vertical-align: top;\n",
              "    }\n",
              "\n",
              "    .dataframe thead th {\n",
              "        text-align: right;\n",
              "    }\n",
              "</style>\n",
              "<table border=\"1\" class=\"dataframe\">\n",
              "  <thead>\n",
              "    <tr style=\"text-align: right;\">\n",
              "      <th></th>\n",
              "      <th>國文</th>\n",
              "      <th>英文</th>\n",
              "      <th>數學</th>\n",
              "      <th>理化</th>\n",
              "    </tr>\n",
              "  </thead>\n",
              "  <tbody>\n",
              "    <tr>\n",
              "      <th>陳欣虹</th>\n",
              "      <td>48</td>\n",
              "      <td>53</td>\n",
              "      <td>92</td>\n",
              "      <td>41</td>\n",
              "    </tr>\n",
              "  </tbody>\n",
              "</table>\n",
              "</div>\n",
              "      <button class=\"colab-df-convert\" onclick=\"convertToInteractive('df-e2399b2c-ad60-463c-9d34-fa70b5d6d150')\"\n",
              "              title=\"Convert this dataframe to an interactive table.\"\n",
              "              style=\"display:none;\">\n",
              "        \n",
              "  <svg xmlns=\"http://www.w3.org/2000/svg\" height=\"24px\"viewBox=\"0 0 24 24\"\n",
              "       width=\"24px\">\n",
              "    <path d=\"M0 0h24v24H0V0z\" fill=\"none\"/>\n",
              "    <path d=\"M18.56 5.44l.94 2.06.94-2.06 2.06-.94-2.06-.94-.94-2.06-.94 2.06-2.06.94zm-11 1L8.5 8.5l.94-2.06 2.06-.94-2.06-.94L8.5 2.5l-.94 2.06-2.06.94zm10 10l.94 2.06.94-2.06 2.06-.94-2.06-.94-.94-2.06-.94 2.06-2.06.94z\"/><path d=\"M17.41 7.96l-1.37-1.37c-.4-.4-.92-.59-1.43-.59-.52 0-1.04.2-1.43.59L10.3 9.45l-7.72 7.72c-.78.78-.78 2.05 0 2.83L4 21.41c.39.39.9.59 1.41.59.51 0 1.02-.2 1.41-.59l7.78-7.78 2.81-2.81c.8-.78.8-2.07 0-2.86zM5.41 20L4 18.59l7.72-7.72 1.47 1.35L5.41 20z\"/>\n",
              "  </svg>\n",
              "      </button>\n",
              "      \n",
              "  <style>\n",
              "    .colab-df-container {\n",
              "      display:flex;\n",
              "      flex-wrap:wrap;\n",
              "      gap: 12px;\n",
              "    }\n",
              "\n",
              "    .colab-df-convert {\n",
              "      background-color: #E8F0FE;\n",
              "      border: none;\n",
              "      border-radius: 50%;\n",
              "      cursor: pointer;\n",
              "      display: none;\n",
              "      fill: #1967D2;\n",
              "      height: 32px;\n",
              "      padding: 0 0 0 0;\n",
              "      width: 32px;\n",
              "    }\n",
              "\n",
              "    .colab-df-convert:hover {\n",
              "      background-color: #E2EBFA;\n",
              "      box-shadow: 0px 1px 2px rgba(60, 64, 67, 0.3), 0px 1px 3px 1px rgba(60, 64, 67, 0.15);\n",
              "      fill: #174EA6;\n",
              "    }\n",
              "\n",
              "    [theme=dark] .colab-df-convert {\n",
              "      background-color: #3B4455;\n",
              "      fill: #D2E3FC;\n",
              "    }\n",
              "\n",
              "    [theme=dark] .colab-df-convert:hover {\n",
              "      background-color: #434B5C;\n",
              "      box-shadow: 0px 1px 3px 1px rgba(0, 0, 0, 0.15);\n",
              "      filter: drop-shadow(0px 1px 2px rgba(0, 0, 0, 0.3));\n",
              "      fill: #FFFFFF;\n",
              "    }\n",
              "  </style>\n",
              "\n",
              "      <script>\n",
              "        const buttonEl =\n",
              "          document.querySelector('#df-e2399b2c-ad60-463c-9d34-fa70b5d6d150 button.colab-df-convert');\n",
              "        buttonEl.style.display =\n",
              "          google.colab.kernel.accessAllowed ? 'block' : 'none';\n",
              "\n",
              "        async function convertToInteractive(key) {\n",
              "          const element = document.querySelector('#df-e2399b2c-ad60-463c-9d34-fa70b5d6d150');\n",
              "          const dataTable =\n",
              "            await google.colab.kernel.invokeFunction('convertToInteractive',\n",
              "                                                     [key], {});\n",
              "          if (!dataTable) return;\n",
              "\n",
              "          const docLinkHtml = 'Like what you see? Visit the ' +\n",
              "            '<a target=\"_blank\" href=https://colab.research.google.com/notebooks/data_table.ipynb>data table notebook</a>'\n",
              "            + ' to learn more about interactive tables.';\n",
              "          element.innerHTML = '';\n",
              "          dataTable['output_type'] = 'display_data';\n",
              "          await google.colab.output.renderOutput(dataTable, element);\n",
              "          const docLink = document.createElement('div');\n",
              "          docLink.innerHTML = docLinkHtml;\n",
              "          element.appendChild(docLink);\n",
              "        }\n",
              "      </script>\n",
              "    </div>\n",
              "  </div>\n",
              "  "
            ]
          },
          "metadata": {},
          "execution_count": 30
        }
      ]
    },
    {
      "cell_type": "markdown",
      "source": [
        "##計算總分及平均"
      ],
      "metadata": {
        "id": "jAYcikKzmEv8"
      }
    },
    {
      "cell_type": "code",
      "source": [
        "df"
      ],
      "metadata": {
        "colab": {
          "base_uri": "https://localhost:8080/",
          "height": 359
        },
        "id": "pXKi_j3ElLrn",
        "outputId": "e2fc604e-25bd-4f3b-9a06-67a259ceabaa"
      },
      "execution_count": 31,
      "outputs": [
        {
          "output_type": "execute_result",
          "data": {
            "text/plain": [
              "     國文  英文  數學   理化\n",
              "郭雅惠  47  68  91   32\n",
              "陳欣虹  48  53  92   41\n",
              "王孟修  51  62  34   88\n",
              "李政勇  88  36  33  100\n",
              "陳仲燦  69  39  98   91\n",
              "王寧東  43  96  32   90\n",
              "楊雅名  66  70  90   87\n",
              "藍冰啟  41  61  69   46\n",
              "林玉亨  65  83  39   43\n",
              "崔承睿  67  81  52   94"
            ],
            "text/html": [
              "\n",
              "  <div id=\"df-49168250-92b9-4e04-9b22-9eaf7c2be28d\">\n",
              "    <div class=\"colab-df-container\">\n",
              "      <div>\n",
              "<style scoped>\n",
              "    .dataframe tbody tr th:only-of-type {\n",
              "        vertical-align: middle;\n",
              "    }\n",
              "\n",
              "    .dataframe tbody tr th {\n",
              "        vertical-align: top;\n",
              "    }\n",
              "\n",
              "    .dataframe thead th {\n",
              "        text-align: right;\n",
              "    }\n",
              "</style>\n",
              "<table border=\"1\" class=\"dataframe\">\n",
              "  <thead>\n",
              "    <tr style=\"text-align: right;\">\n",
              "      <th></th>\n",
              "      <th>國文</th>\n",
              "      <th>英文</th>\n",
              "      <th>數學</th>\n",
              "      <th>理化</th>\n",
              "    </tr>\n",
              "  </thead>\n",
              "  <tbody>\n",
              "    <tr>\n",
              "      <th>郭雅惠</th>\n",
              "      <td>47</td>\n",
              "      <td>68</td>\n",
              "      <td>91</td>\n",
              "      <td>32</td>\n",
              "    </tr>\n",
              "    <tr>\n",
              "      <th>陳欣虹</th>\n",
              "      <td>48</td>\n",
              "      <td>53</td>\n",
              "      <td>92</td>\n",
              "      <td>41</td>\n",
              "    </tr>\n",
              "    <tr>\n",
              "      <th>王孟修</th>\n",
              "      <td>51</td>\n",
              "      <td>62</td>\n",
              "      <td>34</td>\n",
              "      <td>88</td>\n",
              "    </tr>\n",
              "    <tr>\n",
              "      <th>李政勇</th>\n",
              "      <td>88</td>\n",
              "      <td>36</td>\n",
              "      <td>33</td>\n",
              "      <td>100</td>\n",
              "    </tr>\n",
              "    <tr>\n",
              "      <th>陳仲燦</th>\n",
              "      <td>69</td>\n",
              "      <td>39</td>\n",
              "      <td>98</td>\n",
              "      <td>91</td>\n",
              "    </tr>\n",
              "    <tr>\n",
              "      <th>王寧東</th>\n",
              "      <td>43</td>\n",
              "      <td>96</td>\n",
              "      <td>32</td>\n",
              "      <td>90</td>\n",
              "    </tr>\n",
              "    <tr>\n",
              "      <th>楊雅名</th>\n",
              "      <td>66</td>\n",
              "      <td>70</td>\n",
              "      <td>90</td>\n",
              "      <td>87</td>\n",
              "    </tr>\n",
              "    <tr>\n",
              "      <th>藍冰啟</th>\n",
              "      <td>41</td>\n",
              "      <td>61</td>\n",
              "      <td>69</td>\n",
              "      <td>46</td>\n",
              "    </tr>\n",
              "    <tr>\n",
              "      <th>林玉亨</th>\n",
              "      <td>65</td>\n",
              "      <td>83</td>\n",
              "      <td>39</td>\n",
              "      <td>43</td>\n",
              "    </tr>\n",
              "    <tr>\n",
              "      <th>崔承睿</th>\n",
              "      <td>67</td>\n",
              "      <td>81</td>\n",
              "      <td>52</td>\n",
              "      <td>94</td>\n",
              "    </tr>\n",
              "  </tbody>\n",
              "</table>\n",
              "</div>\n",
              "      <button class=\"colab-df-convert\" onclick=\"convertToInteractive('df-49168250-92b9-4e04-9b22-9eaf7c2be28d')\"\n",
              "              title=\"Convert this dataframe to an interactive table.\"\n",
              "              style=\"display:none;\">\n",
              "        \n",
              "  <svg xmlns=\"http://www.w3.org/2000/svg\" height=\"24px\"viewBox=\"0 0 24 24\"\n",
              "       width=\"24px\">\n",
              "    <path d=\"M0 0h24v24H0V0z\" fill=\"none\"/>\n",
              "    <path d=\"M18.56 5.44l.94 2.06.94-2.06 2.06-.94-2.06-.94-.94-2.06-.94 2.06-2.06.94zm-11 1L8.5 8.5l.94-2.06 2.06-.94-2.06-.94L8.5 2.5l-.94 2.06-2.06.94zm10 10l.94 2.06.94-2.06 2.06-.94-2.06-.94-.94-2.06-.94 2.06-2.06.94z\"/><path d=\"M17.41 7.96l-1.37-1.37c-.4-.4-.92-.59-1.43-.59-.52 0-1.04.2-1.43.59L10.3 9.45l-7.72 7.72c-.78.78-.78 2.05 0 2.83L4 21.41c.39.39.9.59 1.41.59.51 0 1.02-.2 1.41-.59l7.78-7.78 2.81-2.81c.8-.78.8-2.07 0-2.86zM5.41 20L4 18.59l7.72-7.72 1.47 1.35L5.41 20z\"/>\n",
              "  </svg>\n",
              "      </button>\n",
              "      \n",
              "  <style>\n",
              "    .colab-df-container {\n",
              "      display:flex;\n",
              "      flex-wrap:wrap;\n",
              "      gap: 12px;\n",
              "    }\n",
              "\n",
              "    .colab-df-convert {\n",
              "      background-color: #E8F0FE;\n",
              "      border: none;\n",
              "      border-radius: 50%;\n",
              "      cursor: pointer;\n",
              "      display: none;\n",
              "      fill: #1967D2;\n",
              "      height: 32px;\n",
              "      padding: 0 0 0 0;\n",
              "      width: 32px;\n",
              "    }\n",
              "\n",
              "    .colab-df-convert:hover {\n",
              "      background-color: #E2EBFA;\n",
              "      box-shadow: 0px 1px 2px rgba(60, 64, 67, 0.3), 0px 1px 3px 1px rgba(60, 64, 67, 0.15);\n",
              "      fill: #174EA6;\n",
              "    }\n",
              "\n",
              "    [theme=dark] .colab-df-convert {\n",
              "      background-color: #3B4455;\n",
              "      fill: #D2E3FC;\n",
              "    }\n",
              "\n",
              "    [theme=dark] .colab-df-convert:hover {\n",
              "      background-color: #434B5C;\n",
              "      box-shadow: 0px 1px 3px 1px rgba(0, 0, 0, 0.15);\n",
              "      filter: drop-shadow(0px 1px 2px rgba(0, 0, 0, 0.3));\n",
              "      fill: #FFFFFF;\n",
              "    }\n",
              "  </style>\n",
              "\n",
              "      <script>\n",
              "        const buttonEl =\n",
              "          document.querySelector('#df-49168250-92b9-4e04-9b22-9eaf7c2be28d button.colab-df-convert');\n",
              "        buttonEl.style.display =\n",
              "          google.colab.kernel.accessAllowed ? 'block' : 'none';\n",
              "\n",
              "        async function convertToInteractive(key) {\n",
              "          const element = document.querySelector('#df-49168250-92b9-4e04-9b22-9eaf7c2be28d');\n",
              "          const dataTable =\n",
              "            await google.colab.kernel.invokeFunction('convertToInteractive',\n",
              "                                                     [key], {});\n",
              "          if (!dataTable) return;\n",
              "\n",
              "          const docLinkHtml = 'Like what you see? Visit the ' +\n",
              "            '<a target=\"_blank\" href=https://colab.research.google.com/notebooks/data_table.ipynb>data table notebook</a>'\n",
              "            + ' to learn more about interactive tables.';\n",
              "          element.innerHTML = '';\n",
              "          dataTable['output_type'] = 'display_data';\n",
              "          await google.colab.output.renderOutput(dataTable, element);\n",
              "          const docLink = document.createElement('div');\n",
              "          docLink.innerHTML = docLinkHtml;\n",
              "          element.appendChild(docLink);\n",
              "        }\n",
              "      </script>\n",
              "    </div>\n",
              "  </div>\n",
              "  "
            ]
          },
          "metadata": {},
          "execution_count": 31
        }
      ]
    },
    {
      "cell_type": "code",
      "source": [
        "df.sum()"
      ],
      "metadata": {
        "colab": {
          "base_uri": "https://localhost:8080/"
        },
        "id": "H7eQKGXWmesW",
        "outputId": "8369649b-0f2e-4653-a7c6-2154c21eebb9"
      },
      "execution_count": 34,
      "outputs": [
        {
          "output_type": "execute_result",
          "data": {
            "text/plain": [
              "國文    585\n",
              "英文    649\n",
              "數學    630\n",
              "理化    712\n",
              "dtype: int64"
            ]
          },
          "metadata": {},
          "execution_count": 34
        }
      ]
    },
    {
      "cell_type": "code",
      "source": [
        "df.sum(axis=1)"
      ],
      "metadata": {
        "colab": {
          "base_uri": "https://localhost:8080/"
        },
        "id": "QBr2fafPmejQ",
        "outputId": "74c8a096-312e-4a32-e5db-d52e4db58e97"
      },
      "execution_count": 35,
      "outputs": [
        {
          "output_type": "execute_result",
          "data": {
            "text/plain": [
              "郭雅惠    238\n",
              "陳欣虹    234\n",
              "王孟修    235\n",
              "李政勇    257\n",
              "陳仲燦    297\n",
              "王寧東    261\n",
              "楊雅名    313\n",
              "藍冰啟    217\n",
              "林玉亨    230\n",
              "崔承睿    294\n",
              "dtype: int64"
            ]
          },
          "metadata": {},
          "execution_count": 35
        }
      ]
    },
    {
      "cell_type": "code",
      "source": [
        "df.sum?"
      ],
      "metadata": {
        "id": "yZ57kue7msyY"
      },
      "execution_count": 36,
      "outputs": []
    },
    {
      "cell_type": "code",
      "source": [
        "df['總分'] = df.sum(axis=1)"
      ],
      "metadata": {
        "id": "u_kttyQLnCuR"
      },
      "execution_count": 38,
      "outputs": []
    },
    {
      "cell_type": "code",
      "source": [
        "df"
      ],
      "metadata": {
        "id": "AKqFy1FinGB6"
      },
      "execution_count": null,
      "outputs": []
    },
    {
      "cell_type": "code",
      "source": [
        "#錯誤的算平均方法（多算了總分）\n",
        "df.mean(axis=1)"
      ],
      "metadata": {
        "colab": {
          "base_uri": "https://localhost:8080/"
        },
        "id": "EU4bWRatnRu6",
        "outputId": "9a856089-75f6-4d7a-b6b1-0038cad4ef33"
      },
      "execution_count": 40,
      "outputs": [
        {
          "output_type": "execute_result",
          "data": {
            "text/plain": [
              "郭雅惠    128.916667\n",
              "陳欣虹    126.750000\n",
              "王孟修    127.291667\n",
              "李政勇    139.208333\n",
              "陳仲燦    160.875000\n",
              "王寧東    141.375000\n",
              "楊雅名    169.541667\n",
              "藍冰啟    117.541667\n",
              "林玉亨    124.583333\n",
              "崔承睿    159.250000\n",
              "dtype: float64"
            ]
          },
          "metadata": {},
          "execution_count": 40
        }
      ]
    },
    {
      "cell_type": "code",
      "source": [
        "df['平均'] = df[['國文','英文','數學','理化']].mean(axis=1)"
      ],
      "metadata": {
        "id": "XgpN5Im-nWg2"
      },
      "execution_count": 41,
      "outputs": []
    },
    {
      "cell_type": "code",
      "source": [
        "df"
      ],
      "metadata": {
        "colab": {
          "base_uri": "https://localhost:8080/",
          "height": 359
        },
        "id": "lBPefqv5ndrl",
        "outputId": "8626a386-9bfa-43e8-98a7-49c7d0a53b42"
      },
      "execution_count": 42,
      "outputs": [
        {
          "output_type": "execute_result",
          "data": {
            "text/plain": [
              "     國文  英文  數學   理化   總分     平均\n",
              "郭雅惠  47  68  91   32  476  59.50\n",
              "陳欣虹  48  53  92   41  468  58.50\n",
              "王孟修  51  62  34   88  470  58.75\n",
              "李政勇  88  36  33  100  514  64.25\n",
              "陳仲燦  69  39  98   91  594  74.25\n",
              "王寧東  43  96  32   90  522  65.25\n",
              "楊雅名  66  70  90   87  626  78.25\n",
              "藍冰啟  41  61  69   46  434  54.25\n",
              "林玉亨  65  83  39   43  460  57.50\n",
              "崔承睿  67  81  52   94  588  73.50"
            ],
            "text/html": [
              "\n",
              "  <div id=\"df-33b5a0a4-8cb8-47d1-b781-2b06db0d6657\">\n",
              "    <div class=\"colab-df-container\">\n",
              "      <div>\n",
              "<style scoped>\n",
              "    .dataframe tbody tr th:only-of-type {\n",
              "        vertical-align: middle;\n",
              "    }\n",
              "\n",
              "    .dataframe tbody tr th {\n",
              "        vertical-align: top;\n",
              "    }\n",
              "\n",
              "    .dataframe thead th {\n",
              "        text-align: right;\n",
              "    }\n",
              "</style>\n",
              "<table border=\"1\" class=\"dataframe\">\n",
              "  <thead>\n",
              "    <tr style=\"text-align: right;\">\n",
              "      <th></th>\n",
              "      <th>國文</th>\n",
              "      <th>英文</th>\n",
              "      <th>數學</th>\n",
              "      <th>理化</th>\n",
              "      <th>總分</th>\n",
              "      <th>平均</th>\n",
              "    </tr>\n",
              "  </thead>\n",
              "  <tbody>\n",
              "    <tr>\n",
              "      <th>郭雅惠</th>\n",
              "      <td>47</td>\n",
              "      <td>68</td>\n",
              "      <td>91</td>\n",
              "      <td>32</td>\n",
              "      <td>476</td>\n",
              "      <td>59.50</td>\n",
              "    </tr>\n",
              "    <tr>\n",
              "      <th>陳欣虹</th>\n",
              "      <td>48</td>\n",
              "      <td>53</td>\n",
              "      <td>92</td>\n",
              "      <td>41</td>\n",
              "      <td>468</td>\n",
              "      <td>58.50</td>\n",
              "    </tr>\n",
              "    <tr>\n",
              "      <th>王孟修</th>\n",
              "      <td>51</td>\n",
              "      <td>62</td>\n",
              "      <td>34</td>\n",
              "      <td>88</td>\n",
              "      <td>470</td>\n",
              "      <td>58.75</td>\n",
              "    </tr>\n",
              "    <tr>\n",
              "      <th>李政勇</th>\n",
              "      <td>88</td>\n",
              "      <td>36</td>\n",
              "      <td>33</td>\n",
              "      <td>100</td>\n",
              "      <td>514</td>\n",
              "      <td>64.25</td>\n",
              "    </tr>\n",
              "    <tr>\n",
              "      <th>陳仲燦</th>\n",
              "      <td>69</td>\n",
              "      <td>39</td>\n",
              "      <td>98</td>\n",
              "      <td>91</td>\n",
              "      <td>594</td>\n",
              "      <td>74.25</td>\n",
              "    </tr>\n",
              "    <tr>\n",
              "      <th>王寧東</th>\n",
              "      <td>43</td>\n",
              "      <td>96</td>\n",
              "      <td>32</td>\n",
              "      <td>90</td>\n",
              "      <td>522</td>\n",
              "      <td>65.25</td>\n",
              "    </tr>\n",
              "    <tr>\n",
              "      <th>楊雅名</th>\n",
              "      <td>66</td>\n",
              "      <td>70</td>\n",
              "      <td>90</td>\n",
              "      <td>87</td>\n",
              "      <td>626</td>\n",
              "      <td>78.25</td>\n",
              "    </tr>\n",
              "    <tr>\n",
              "      <th>藍冰啟</th>\n",
              "      <td>41</td>\n",
              "      <td>61</td>\n",
              "      <td>69</td>\n",
              "      <td>46</td>\n",
              "      <td>434</td>\n",
              "      <td>54.25</td>\n",
              "    </tr>\n",
              "    <tr>\n",
              "      <th>林玉亨</th>\n",
              "      <td>65</td>\n",
              "      <td>83</td>\n",
              "      <td>39</td>\n",
              "      <td>43</td>\n",
              "      <td>460</td>\n",
              "      <td>57.50</td>\n",
              "    </tr>\n",
              "    <tr>\n",
              "      <th>崔承睿</th>\n",
              "      <td>67</td>\n",
              "      <td>81</td>\n",
              "      <td>52</td>\n",
              "      <td>94</td>\n",
              "      <td>588</td>\n",
              "      <td>73.50</td>\n",
              "    </tr>\n",
              "  </tbody>\n",
              "</table>\n",
              "</div>\n",
              "      <button class=\"colab-df-convert\" onclick=\"convertToInteractive('df-33b5a0a4-8cb8-47d1-b781-2b06db0d6657')\"\n",
              "              title=\"Convert this dataframe to an interactive table.\"\n",
              "              style=\"display:none;\">\n",
              "        \n",
              "  <svg xmlns=\"http://www.w3.org/2000/svg\" height=\"24px\"viewBox=\"0 0 24 24\"\n",
              "       width=\"24px\">\n",
              "    <path d=\"M0 0h24v24H0V0z\" fill=\"none\"/>\n",
              "    <path d=\"M18.56 5.44l.94 2.06.94-2.06 2.06-.94-2.06-.94-.94-2.06-.94 2.06-2.06.94zm-11 1L8.5 8.5l.94-2.06 2.06-.94-2.06-.94L8.5 2.5l-.94 2.06-2.06.94zm10 10l.94 2.06.94-2.06 2.06-.94-2.06-.94-.94-2.06-.94 2.06-2.06.94z\"/><path d=\"M17.41 7.96l-1.37-1.37c-.4-.4-.92-.59-1.43-.59-.52 0-1.04.2-1.43.59L10.3 9.45l-7.72 7.72c-.78.78-.78 2.05 0 2.83L4 21.41c.39.39.9.59 1.41.59.51 0 1.02-.2 1.41-.59l7.78-7.78 2.81-2.81c.8-.78.8-2.07 0-2.86zM5.41 20L4 18.59l7.72-7.72 1.47 1.35L5.41 20z\"/>\n",
              "  </svg>\n",
              "      </button>\n",
              "      \n",
              "  <style>\n",
              "    .colab-df-container {\n",
              "      display:flex;\n",
              "      flex-wrap:wrap;\n",
              "      gap: 12px;\n",
              "    }\n",
              "\n",
              "    .colab-df-convert {\n",
              "      background-color: #E8F0FE;\n",
              "      border: none;\n",
              "      border-radius: 50%;\n",
              "      cursor: pointer;\n",
              "      display: none;\n",
              "      fill: #1967D2;\n",
              "      height: 32px;\n",
              "      padding: 0 0 0 0;\n",
              "      width: 32px;\n",
              "    }\n",
              "\n",
              "    .colab-df-convert:hover {\n",
              "      background-color: #E2EBFA;\n",
              "      box-shadow: 0px 1px 2px rgba(60, 64, 67, 0.3), 0px 1px 3px 1px rgba(60, 64, 67, 0.15);\n",
              "      fill: #174EA6;\n",
              "    }\n",
              "\n",
              "    [theme=dark] .colab-df-convert {\n",
              "      background-color: #3B4455;\n",
              "      fill: #D2E3FC;\n",
              "    }\n",
              "\n",
              "    [theme=dark] .colab-df-convert:hover {\n",
              "      background-color: #434B5C;\n",
              "      box-shadow: 0px 1px 3px 1px rgba(0, 0, 0, 0.15);\n",
              "      filter: drop-shadow(0px 1px 2px rgba(0, 0, 0, 0.3));\n",
              "      fill: #FFFFFF;\n",
              "    }\n",
              "  </style>\n",
              "\n",
              "      <script>\n",
              "        const buttonEl =\n",
              "          document.querySelector('#df-33b5a0a4-8cb8-47d1-b781-2b06db0d6657 button.colab-df-convert');\n",
              "        buttonEl.style.display =\n",
              "          google.colab.kernel.accessAllowed ? 'block' : 'none';\n",
              "\n",
              "        async function convertToInteractive(key) {\n",
              "          const element = document.querySelector('#df-33b5a0a4-8cb8-47d1-b781-2b06db0d6657');\n",
              "          const dataTable =\n",
              "            await google.colab.kernel.invokeFunction('convertToInteractive',\n",
              "                                                     [key], {});\n",
              "          if (!dataTable) return;\n",
              "\n",
              "          const docLinkHtml = 'Like what you see? Visit the ' +\n",
              "            '<a target=\"_blank\" href=https://colab.research.google.com/notebooks/data_table.ipynb>data table notebook</a>'\n",
              "            + ' to learn more about interactive tables.';\n",
              "          element.innerHTML = '';\n",
              "          dataTable['output_type'] = 'display_data';\n",
              "          await google.colab.output.renderOutput(dataTable, element);\n",
              "          const docLink = document.createElement('div');\n",
              "          docLink.innerHTML = docLinkHtml;\n",
              "          element.appendChild(docLink);\n",
              "        }\n",
              "      </script>\n",
              "    </div>\n",
              "  </div>\n",
              "  "
            ]
          },
          "metadata": {},
          "execution_count": 42
        }
      ]
    },
    {
      "cell_type": "markdown",
      "source": [
        "##找出名次"
      ],
      "metadata": {
        "id": "nzyjNyxeoUQd"
      }
    },
    {
      "cell_type": "code",
      "source": [
        "df"
      ],
      "metadata": {
        "colab": {
          "base_uri": "https://localhost:8080/",
          "height": 359
        },
        "id": "_0TrcdZooT16",
        "outputId": "7876cb18-6ecd-4a0c-e6ac-997c00c70fc6"
      },
      "execution_count": 44,
      "outputs": [
        {
          "output_type": "execute_result",
          "data": {
            "text/plain": [
              "     國文  英文  數學   理化   總分     平均\n",
              "郭雅惠  47  68  91   32  476  59.50\n",
              "陳欣虹  48  53  92   41  468  58.50\n",
              "王孟修  51  62  34   88  470  58.75\n",
              "李政勇  88  36  33  100  514  64.25\n",
              "陳仲燦  69  39  98   91  594  74.25\n",
              "王寧東  43  96  32   90  522  65.25\n",
              "楊雅名  66  70  90   87  626  78.25\n",
              "藍冰啟  41  61  69   46  434  54.25\n",
              "林玉亨  65  83  39   43  460  57.50\n",
              "崔承睿  67  81  52   94  588  73.50"
            ],
            "text/html": [
              "\n",
              "  <div id=\"df-a1f02009-78f1-4603-98b8-5554b5fcd97b\">\n",
              "    <div class=\"colab-df-container\">\n",
              "      <div>\n",
              "<style scoped>\n",
              "    .dataframe tbody tr th:only-of-type {\n",
              "        vertical-align: middle;\n",
              "    }\n",
              "\n",
              "    .dataframe tbody tr th {\n",
              "        vertical-align: top;\n",
              "    }\n",
              "\n",
              "    .dataframe thead th {\n",
              "        text-align: right;\n",
              "    }\n",
              "</style>\n",
              "<table border=\"1\" class=\"dataframe\">\n",
              "  <thead>\n",
              "    <tr style=\"text-align: right;\">\n",
              "      <th></th>\n",
              "      <th>國文</th>\n",
              "      <th>英文</th>\n",
              "      <th>數學</th>\n",
              "      <th>理化</th>\n",
              "      <th>總分</th>\n",
              "      <th>平均</th>\n",
              "    </tr>\n",
              "  </thead>\n",
              "  <tbody>\n",
              "    <tr>\n",
              "      <th>郭雅惠</th>\n",
              "      <td>47</td>\n",
              "      <td>68</td>\n",
              "      <td>91</td>\n",
              "      <td>32</td>\n",
              "      <td>476</td>\n",
              "      <td>59.50</td>\n",
              "    </tr>\n",
              "    <tr>\n",
              "      <th>陳欣虹</th>\n",
              "      <td>48</td>\n",
              "      <td>53</td>\n",
              "      <td>92</td>\n",
              "      <td>41</td>\n",
              "      <td>468</td>\n",
              "      <td>58.50</td>\n",
              "    </tr>\n",
              "    <tr>\n",
              "      <th>王孟修</th>\n",
              "      <td>51</td>\n",
              "      <td>62</td>\n",
              "      <td>34</td>\n",
              "      <td>88</td>\n",
              "      <td>470</td>\n",
              "      <td>58.75</td>\n",
              "    </tr>\n",
              "    <tr>\n",
              "      <th>李政勇</th>\n",
              "      <td>88</td>\n",
              "      <td>36</td>\n",
              "      <td>33</td>\n",
              "      <td>100</td>\n",
              "      <td>514</td>\n",
              "      <td>64.25</td>\n",
              "    </tr>\n",
              "    <tr>\n",
              "      <th>陳仲燦</th>\n",
              "      <td>69</td>\n",
              "      <td>39</td>\n",
              "      <td>98</td>\n",
              "      <td>91</td>\n",
              "      <td>594</td>\n",
              "      <td>74.25</td>\n",
              "    </tr>\n",
              "    <tr>\n",
              "      <th>王寧東</th>\n",
              "      <td>43</td>\n",
              "      <td>96</td>\n",
              "      <td>32</td>\n",
              "      <td>90</td>\n",
              "      <td>522</td>\n",
              "      <td>65.25</td>\n",
              "    </tr>\n",
              "    <tr>\n",
              "      <th>楊雅名</th>\n",
              "      <td>66</td>\n",
              "      <td>70</td>\n",
              "      <td>90</td>\n",
              "      <td>87</td>\n",
              "      <td>626</td>\n",
              "      <td>78.25</td>\n",
              "    </tr>\n",
              "    <tr>\n",
              "      <th>藍冰啟</th>\n",
              "      <td>41</td>\n",
              "      <td>61</td>\n",
              "      <td>69</td>\n",
              "      <td>46</td>\n",
              "      <td>434</td>\n",
              "      <td>54.25</td>\n",
              "    </tr>\n",
              "    <tr>\n",
              "      <th>林玉亨</th>\n",
              "      <td>65</td>\n",
              "      <td>83</td>\n",
              "      <td>39</td>\n",
              "      <td>43</td>\n",
              "      <td>460</td>\n",
              "      <td>57.50</td>\n",
              "    </tr>\n",
              "    <tr>\n",
              "      <th>崔承睿</th>\n",
              "      <td>67</td>\n",
              "      <td>81</td>\n",
              "      <td>52</td>\n",
              "      <td>94</td>\n",
              "      <td>588</td>\n",
              "      <td>73.50</td>\n",
              "    </tr>\n",
              "  </tbody>\n",
              "</table>\n",
              "</div>\n",
              "      <button class=\"colab-df-convert\" onclick=\"convertToInteractive('df-a1f02009-78f1-4603-98b8-5554b5fcd97b')\"\n",
              "              title=\"Convert this dataframe to an interactive table.\"\n",
              "              style=\"display:none;\">\n",
              "        \n",
              "  <svg xmlns=\"http://www.w3.org/2000/svg\" height=\"24px\"viewBox=\"0 0 24 24\"\n",
              "       width=\"24px\">\n",
              "    <path d=\"M0 0h24v24H0V0z\" fill=\"none\"/>\n",
              "    <path d=\"M18.56 5.44l.94 2.06.94-2.06 2.06-.94-2.06-.94-.94-2.06-.94 2.06-2.06.94zm-11 1L8.5 8.5l.94-2.06 2.06-.94-2.06-.94L8.5 2.5l-.94 2.06-2.06.94zm10 10l.94 2.06.94-2.06 2.06-.94-2.06-.94-.94-2.06-.94 2.06-2.06.94z\"/><path d=\"M17.41 7.96l-1.37-1.37c-.4-.4-.92-.59-1.43-.59-.52 0-1.04.2-1.43.59L10.3 9.45l-7.72 7.72c-.78.78-.78 2.05 0 2.83L4 21.41c.39.39.9.59 1.41.59.51 0 1.02-.2 1.41-.59l7.78-7.78 2.81-2.81c.8-.78.8-2.07 0-2.86zM5.41 20L4 18.59l7.72-7.72 1.47 1.35L5.41 20z\"/>\n",
              "  </svg>\n",
              "      </button>\n",
              "      \n",
              "  <style>\n",
              "    .colab-df-container {\n",
              "      display:flex;\n",
              "      flex-wrap:wrap;\n",
              "      gap: 12px;\n",
              "    }\n",
              "\n",
              "    .colab-df-convert {\n",
              "      background-color: #E8F0FE;\n",
              "      border: none;\n",
              "      border-radius: 50%;\n",
              "      cursor: pointer;\n",
              "      display: none;\n",
              "      fill: #1967D2;\n",
              "      height: 32px;\n",
              "      padding: 0 0 0 0;\n",
              "      width: 32px;\n",
              "    }\n",
              "\n",
              "    .colab-df-convert:hover {\n",
              "      background-color: #E2EBFA;\n",
              "      box-shadow: 0px 1px 2px rgba(60, 64, 67, 0.3), 0px 1px 3px 1px rgba(60, 64, 67, 0.15);\n",
              "      fill: #174EA6;\n",
              "    }\n",
              "\n",
              "    [theme=dark] .colab-df-convert {\n",
              "      background-color: #3B4455;\n",
              "      fill: #D2E3FC;\n",
              "    }\n",
              "\n",
              "    [theme=dark] .colab-df-convert:hover {\n",
              "      background-color: #434B5C;\n",
              "      box-shadow: 0px 1px 3px 1px rgba(0, 0, 0, 0.15);\n",
              "      filter: drop-shadow(0px 1px 2px rgba(0, 0, 0, 0.3));\n",
              "      fill: #FFFFFF;\n",
              "    }\n",
              "  </style>\n",
              "\n",
              "      <script>\n",
              "        const buttonEl =\n",
              "          document.querySelector('#df-a1f02009-78f1-4603-98b8-5554b5fcd97b button.colab-df-convert');\n",
              "        buttonEl.style.display =\n",
              "          google.colab.kernel.accessAllowed ? 'block' : 'none';\n",
              "\n",
              "        async function convertToInteractive(key) {\n",
              "          const element = document.querySelector('#df-a1f02009-78f1-4603-98b8-5554b5fcd97b');\n",
              "          const dataTable =\n",
              "            await google.colab.kernel.invokeFunction('convertToInteractive',\n",
              "                                                     [key], {});\n",
              "          if (!dataTable) return;\n",
              "\n",
              "          const docLinkHtml = 'Like what you see? Visit the ' +\n",
              "            '<a target=\"_blank\" href=https://colab.research.google.com/notebooks/data_table.ipynb>data table notebook</a>'\n",
              "            + ' to learn more about interactive tables.';\n",
              "          element.innerHTML = '';\n",
              "          dataTable['output_type'] = 'display_data';\n",
              "          await google.colab.output.renderOutput(dataTable, element);\n",
              "          const docLink = document.createElement('div');\n",
              "          docLink.innerHTML = docLinkHtml;\n",
              "          element.appendChild(docLink);\n",
              "        }\n",
              "      </script>\n",
              "    </div>\n",
              "  </div>\n",
              "  "
            ]
          },
          "metadata": {},
          "execution_count": 44
        }
      ]
    },
    {
      "cell_type": "code",
      "source": [
        "df.rank()"
      ],
      "metadata": {
        "colab": {
          "base_uri": "https://localhost:8080/",
          "height": 359
        },
        "id": "lg-IC4UfoYAi",
        "outputId": "f802c4c6-2f6e-4959-a498-3c5211034472"
      },
      "execution_count": 45,
      "outputs": [
        {
          "output_type": "execute_result",
          "data": {
            "text/plain": [
              "       國文    英文    數學    理化    總分    平均\n",
              "郭雅惠   3.0   6.0   8.0   1.0   5.0   5.0\n",
              "陳欣虹   4.0   3.0   9.0   2.0   3.0   3.0\n",
              "王孟修   5.0   5.0   3.0   6.0   4.0   4.0\n",
              "李政勇  10.0   1.0   2.0  10.0   6.0   6.0\n",
              "陳仲燦   9.0   2.0  10.0   8.0   9.0   9.0\n",
              "王寧東   2.0  10.0   1.0   7.0   7.0   7.0\n",
              "楊雅名   7.0   7.0   7.0   5.0  10.0  10.0\n",
              "藍冰啟   1.0   4.0   6.0   4.0   1.0   1.0\n",
              "林玉亨   6.0   9.0   4.0   3.0   2.0   2.0\n",
              "崔承睿   8.0   8.0   5.0   9.0   8.0   8.0"
            ],
            "text/html": [
              "\n",
              "  <div id=\"df-f656bdcb-ec3e-44c2-8183-1b7a86047f29\">\n",
              "    <div class=\"colab-df-container\">\n",
              "      <div>\n",
              "<style scoped>\n",
              "    .dataframe tbody tr th:only-of-type {\n",
              "        vertical-align: middle;\n",
              "    }\n",
              "\n",
              "    .dataframe tbody tr th {\n",
              "        vertical-align: top;\n",
              "    }\n",
              "\n",
              "    .dataframe thead th {\n",
              "        text-align: right;\n",
              "    }\n",
              "</style>\n",
              "<table border=\"1\" class=\"dataframe\">\n",
              "  <thead>\n",
              "    <tr style=\"text-align: right;\">\n",
              "      <th></th>\n",
              "      <th>國文</th>\n",
              "      <th>英文</th>\n",
              "      <th>數學</th>\n",
              "      <th>理化</th>\n",
              "      <th>總分</th>\n",
              "      <th>平均</th>\n",
              "    </tr>\n",
              "  </thead>\n",
              "  <tbody>\n",
              "    <tr>\n",
              "      <th>郭雅惠</th>\n",
              "      <td>3.0</td>\n",
              "      <td>6.0</td>\n",
              "      <td>8.0</td>\n",
              "      <td>1.0</td>\n",
              "      <td>5.0</td>\n",
              "      <td>5.0</td>\n",
              "    </tr>\n",
              "    <tr>\n",
              "      <th>陳欣虹</th>\n",
              "      <td>4.0</td>\n",
              "      <td>3.0</td>\n",
              "      <td>9.0</td>\n",
              "      <td>2.0</td>\n",
              "      <td>3.0</td>\n",
              "      <td>3.0</td>\n",
              "    </tr>\n",
              "    <tr>\n",
              "      <th>王孟修</th>\n",
              "      <td>5.0</td>\n",
              "      <td>5.0</td>\n",
              "      <td>3.0</td>\n",
              "      <td>6.0</td>\n",
              "      <td>4.0</td>\n",
              "      <td>4.0</td>\n",
              "    </tr>\n",
              "    <tr>\n",
              "      <th>李政勇</th>\n",
              "      <td>10.0</td>\n",
              "      <td>1.0</td>\n",
              "      <td>2.0</td>\n",
              "      <td>10.0</td>\n",
              "      <td>6.0</td>\n",
              "      <td>6.0</td>\n",
              "    </tr>\n",
              "    <tr>\n",
              "      <th>陳仲燦</th>\n",
              "      <td>9.0</td>\n",
              "      <td>2.0</td>\n",
              "      <td>10.0</td>\n",
              "      <td>8.0</td>\n",
              "      <td>9.0</td>\n",
              "      <td>9.0</td>\n",
              "    </tr>\n",
              "    <tr>\n",
              "      <th>王寧東</th>\n",
              "      <td>2.0</td>\n",
              "      <td>10.0</td>\n",
              "      <td>1.0</td>\n",
              "      <td>7.0</td>\n",
              "      <td>7.0</td>\n",
              "      <td>7.0</td>\n",
              "    </tr>\n",
              "    <tr>\n",
              "      <th>楊雅名</th>\n",
              "      <td>7.0</td>\n",
              "      <td>7.0</td>\n",
              "      <td>7.0</td>\n",
              "      <td>5.0</td>\n",
              "      <td>10.0</td>\n",
              "      <td>10.0</td>\n",
              "    </tr>\n",
              "    <tr>\n",
              "      <th>藍冰啟</th>\n",
              "      <td>1.0</td>\n",
              "      <td>4.0</td>\n",
              "      <td>6.0</td>\n",
              "      <td>4.0</td>\n",
              "      <td>1.0</td>\n",
              "      <td>1.0</td>\n",
              "    </tr>\n",
              "    <tr>\n",
              "      <th>林玉亨</th>\n",
              "      <td>6.0</td>\n",
              "      <td>9.0</td>\n",
              "      <td>4.0</td>\n",
              "      <td>3.0</td>\n",
              "      <td>2.0</td>\n",
              "      <td>2.0</td>\n",
              "    </tr>\n",
              "    <tr>\n",
              "      <th>崔承睿</th>\n",
              "      <td>8.0</td>\n",
              "      <td>8.0</td>\n",
              "      <td>5.0</td>\n",
              "      <td>9.0</td>\n",
              "      <td>8.0</td>\n",
              "      <td>8.0</td>\n",
              "    </tr>\n",
              "  </tbody>\n",
              "</table>\n",
              "</div>\n",
              "      <button class=\"colab-df-convert\" onclick=\"convertToInteractive('df-f656bdcb-ec3e-44c2-8183-1b7a86047f29')\"\n",
              "              title=\"Convert this dataframe to an interactive table.\"\n",
              "              style=\"display:none;\">\n",
              "        \n",
              "  <svg xmlns=\"http://www.w3.org/2000/svg\" height=\"24px\"viewBox=\"0 0 24 24\"\n",
              "       width=\"24px\">\n",
              "    <path d=\"M0 0h24v24H0V0z\" fill=\"none\"/>\n",
              "    <path d=\"M18.56 5.44l.94 2.06.94-2.06 2.06-.94-2.06-.94-.94-2.06-.94 2.06-2.06.94zm-11 1L8.5 8.5l.94-2.06 2.06-.94-2.06-.94L8.5 2.5l-.94 2.06-2.06.94zm10 10l.94 2.06.94-2.06 2.06-.94-2.06-.94-.94-2.06-.94 2.06-2.06.94z\"/><path d=\"M17.41 7.96l-1.37-1.37c-.4-.4-.92-.59-1.43-.59-.52 0-1.04.2-1.43.59L10.3 9.45l-7.72 7.72c-.78.78-.78 2.05 0 2.83L4 21.41c.39.39.9.59 1.41.59.51 0 1.02-.2 1.41-.59l7.78-7.78 2.81-2.81c.8-.78.8-2.07 0-2.86zM5.41 20L4 18.59l7.72-7.72 1.47 1.35L5.41 20z\"/>\n",
              "  </svg>\n",
              "      </button>\n",
              "      \n",
              "  <style>\n",
              "    .colab-df-container {\n",
              "      display:flex;\n",
              "      flex-wrap:wrap;\n",
              "      gap: 12px;\n",
              "    }\n",
              "\n",
              "    .colab-df-convert {\n",
              "      background-color: #E8F0FE;\n",
              "      border: none;\n",
              "      border-radius: 50%;\n",
              "      cursor: pointer;\n",
              "      display: none;\n",
              "      fill: #1967D2;\n",
              "      height: 32px;\n",
              "      padding: 0 0 0 0;\n",
              "      width: 32px;\n",
              "    }\n",
              "\n",
              "    .colab-df-convert:hover {\n",
              "      background-color: #E2EBFA;\n",
              "      box-shadow: 0px 1px 2px rgba(60, 64, 67, 0.3), 0px 1px 3px 1px rgba(60, 64, 67, 0.15);\n",
              "      fill: #174EA6;\n",
              "    }\n",
              "\n",
              "    [theme=dark] .colab-df-convert {\n",
              "      background-color: #3B4455;\n",
              "      fill: #D2E3FC;\n",
              "    }\n",
              "\n",
              "    [theme=dark] .colab-df-convert:hover {\n",
              "      background-color: #434B5C;\n",
              "      box-shadow: 0px 1px 3px 1px rgba(0, 0, 0, 0.15);\n",
              "      filter: drop-shadow(0px 1px 2px rgba(0, 0, 0, 0.3));\n",
              "      fill: #FFFFFF;\n",
              "    }\n",
              "  </style>\n",
              "\n",
              "      <script>\n",
              "        const buttonEl =\n",
              "          document.querySelector('#df-f656bdcb-ec3e-44c2-8183-1b7a86047f29 button.colab-df-convert');\n",
              "        buttonEl.style.display =\n",
              "          google.colab.kernel.accessAllowed ? 'block' : 'none';\n",
              "\n",
              "        async function convertToInteractive(key) {\n",
              "          const element = document.querySelector('#df-f656bdcb-ec3e-44c2-8183-1b7a86047f29');\n",
              "          const dataTable =\n",
              "            await google.colab.kernel.invokeFunction('convertToInteractive',\n",
              "                                                     [key], {});\n",
              "          if (!dataTable) return;\n",
              "\n",
              "          const docLinkHtml = 'Like what you see? Visit the ' +\n",
              "            '<a target=\"_blank\" href=https://colab.research.google.com/notebooks/data_table.ipynb>data table notebook</a>'\n",
              "            + ' to learn more about interactive tables.';\n",
              "          element.innerHTML = '';\n",
              "          dataTable['output_type'] = 'display_data';\n",
              "          await google.colab.output.renderOutput(dataTable, element);\n",
              "          const docLink = document.createElement('div');\n",
              "          docLink.innerHTML = docLinkHtml;\n",
              "          element.appendChild(docLink);\n",
              "        }\n",
              "      </script>\n",
              "    </div>\n",
              "  </div>\n",
              "  "
            ]
          },
          "metadata": {},
          "execution_count": 45
        }
      ]
    },
    {
      "cell_type": "code",
      "source": [
        "df['總分'].rank(ascending=False)"
      ],
      "metadata": {
        "colab": {
          "base_uri": "https://localhost:8080/"
        },
        "id": "tlC6xgSdoyQv",
        "outputId": "9bb4f579-ceca-4c66-cdcf-824cd05fd277"
      },
      "execution_count": 46,
      "outputs": [
        {
          "output_type": "execute_result",
          "data": {
            "text/plain": [
              "郭雅惠     6.0\n",
              "陳欣虹     8.0\n",
              "王孟修     7.0\n",
              "李政勇     5.0\n",
              "陳仲燦     2.0\n",
              "王寧東     4.0\n",
              "楊雅名     1.0\n",
              "藍冰啟    10.0\n",
              "林玉亨     9.0\n",
              "崔承睿     3.0\n",
              "Name: 總分, dtype: float64"
            ]
          },
          "metadata": {},
          "execution_count": 46
        }
      ]
    },
    {
      "cell_type": "code",
      "source": [
        "df['名次'] = df['總分'].rank(ascending=False)"
      ],
      "metadata": {
        "id": "X2iicgfmpR0p"
      },
      "execution_count": 48,
      "outputs": []
    },
    {
      "cell_type": "code",
      "source": [
        "df"
      ],
      "metadata": {
        "colab": {
          "base_uri": "https://localhost:8080/",
          "height": 359
        },
        "id": "goKIfin1pKNe",
        "outputId": "3df5d3bd-ff8b-4f33-bce7-83dd529e6316"
      },
      "execution_count": 49,
      "outputs": [
        {
          "output_type": "execute_result",
          "data": {
            "text/plain": [
              "     國文  英文  數學   理化   總分     平均    名次\n",
              "郭雅惠  47  68  91   32  476  59.50   6.0\n",
              "陳欣虹  48  53  92   41  468  58.50   8.0\n",
              "王孟修  51  62  34   88  470  58.75   7.0\n",
              "李政勇  88  36  33  100  514  64.25   5.0\n",
              "陳仲燦  69  39  98   91  594  74.25   2.0\n",
              "王寧東  43  96  32   90  522  65.25   4.0\n",
              "楊雅名  66  70  90   87  626  78.25   1.0\n",
              "藍冰啟  41  61  69   46  434  54.25  10.0\n",
              "林玉亨  65  83  39   43  460  57.50   9.0\n",
              "崔承睿  67  81  52   94  588  73.50   3.0"
            ],
            "text/html": [
              "\n",
              "  <div id=\"df-976713c1-baf9-4c40-92cd-0978af2b33f7\">\n",
              "    <div class=\"colab-df-container\">\n",
              "      <div>\n",
              "<style scoped>\n",
              "    .dataframe tbody tr th:only-of-type {\n",
              "        vertical-align: middle;\n",
              "    }\n",
              "\n",
              "    .dataframe tbody tr th {\n",
              "        vertical-align: top;\n",
              "    }\n",
              "\n",
              "    .dataframe thead th {\n",
              "        text-align: right;\n",
              "    }\n",
              "</style>\n",
              "<table border=\"1\" class=\"dataframe\">\n",
              "  <thead>\n",
              "    <tr style=\"text-align: right;\">\n",
              "      <th></th>\n",
              "      <th>國文</th>\n",
              "      <th>英文</th>\n",
              "      <th>數學</th>\n",
              "      <th>理化</th>\n",
              "      <th>總分</th>\n",
              "      <th>平均</th>\n",
              "      <th>名次</th>\n",
              "    </tr>\n",
              "  </thead>\n",
              "  <tbody>\n",
              "    <tr>\n",
              "      <th>郭雅惠</th>\n",
              "      <td>47</td>\n",
              "      <td>68</td>\n",
              "      <td>91</td>\n",
              "      <td>32</td>\n",
              "      <td>476</td>\n",
              "      <td>59.50</td>\n",
              "      <td>6.0</td>\n",
              "    </tr>\n",
              "    <tr>\n",
              "      <th>陳欣虹</th>\n",
              "      <td>48</td>\n",
              "      <td>53</td>\n",
              "      <td>92</td>\n",
              "      <td>41</td>\n",
              "      <td>468</td>\n",
              "      <td>58.50</td>\n",
              "      <td>8.0</td>\n",
              "    </tr>\n",
              "    <tr>\n",
              "      <th>王孟修</th>\n",
              "      <td>51</td>\n",
              "      <td>62</td>\n",
              "      <td>34</td>\n",
              "      <td>88</td>\n",
              "      <td>470</td>\n",
              "      <td>58.75</td>\n",
              "      <td>7.0</td>\n",
              "    </tr>\n",
              "    <tr>\n",
              "      <th>李政勇</th>\n",
              "      <td>88</td>\n",
              "      <td>36</td>\n",
              "      <td>33</td>\n",
              "      <td>100</td>\n",
              "      <td>514</td>\n",
              "      <td>64.25</td>\n",
              "      <td>5.0</td>\n",
              "    </tr>\n",
              "    <tr>\n",
              "      <th>陳仲燦</th>\n",
              "      <td>69</td>\n",
              "      <td>39</td>\n",
              "      <td>98</td>\n",
              "      <td>91</td>\n",
              "      <td>594</td>\n",
              "      <td>74.25</td>\n",
              "      <td>2.0</td>\n",
              "    </tr>\n",
              "    <tr>\n",
              "      <th>王寧東</th>\n",
              "      <td>43</td>\n",
              "      <td>96</td>\n",
              "      <td>32</td>\n",
              "      <td>90</td>\n",
              "      <td>522</td>\n",
              "      <td>65.25</td>\n",
              "      <td>4.0</td>\n",
              "    </tr>\n",
              "    <tr>\n",
              "      <th>楊雅名</th>\n",
              "      <td>66</td>\n",
              "      <td>70</td>\n",
              "      <td>90</td>\n",
              "      <td>87</td>\n",
              "      <td>626</td>\n",
              "      <td>78.25</td>\n",
              "      <td>1.0</td>\n",
              "    </tr>\n",
              "    <tr>\n",
              "      <th>藍冰啟</th>\n",
              "      <td>41</td>\n",
              "      <td>61</td>\n",
              "      <td>69</td>\n",
              "      <td>46</td>\n",
              "      <td>434</td>\n",
              "      <td>54.25</td>\n",
              "      <td>10.0</td>\n",
              "    </tr>\n",
              "    <tr>\n",
              "      <th>林玉亨</th>\n",
              "      <td>65</td>\n",
              "      <td>83</td>\n",
              "      <td>39</td>\n",
              "      <td>43</td>\n",
              "      <td>460</td>\n",
              "      <td>57.50</td>\n",
              "      <td>9.0</td>\n",
              "    </tr>\n",
              "    <tr>\n",
              "      <th>崔承睿</th>\n",
              "      <td>67</td>\n",
              "      <td>81</td>\n",
              "      <td>52</td>\n",
              "      <td>94</td>\n",
              "      <td>588</td>\n",
              "      <td>73.50</td>\n",
              "      <td>3.0</td>\n",
              "    </tr>\n",
              "  </tbody>\n",
              "</table>\n",
              "</div>\n",
              "      <button class=\"colab-df-convert\" onclick=\"convertToInteractive('df-976713c1-baf9-4c40-92cd-0978af2b33f7')\"\n",
              "              title=\"Convert this dataframe to an interactive table.\"\n",
              "              style=\"display:none;\">\n",
              "        \n",
              "  <svg xmlns=\"http://www.w3.org/2000/svg\" height=\"24px\"viewBox=\"0 0 24 24\"\n",
              "       width=\"24px\">\n",
              "    <path d=\"M0 0h24v24H0V0z\" fill=\"none\"/>\n",
              "    <path d=\"M18.56 5.44l.94 2.06.94-2.06 2.06-.94-2.06-.94-.94-2.06-.94 2.06-2.06.94zm-11 1L8.5 8.5l.94-2.06 2.06-.94-2.06-.94L8.5 2.5l-.94 2.06-2.06.94zm10 10l.94 2.06.94-2.06 2.06-.94-2.06-.94-.94-2.06-.94 2.06-2.06.94z\"/><path d=\"M17.41 7.96l-1.37-1.37c-.4-.4-.92-.59-1.43-.59-.52 0-1.04.2-1.43.59L10.3 9.45l-7.72 7.72c-.78.78-.78 2.05 0 2.83L4 21.41c.39.39.9.59 1.41.59.51 0 1.02-.2 1.41-.59l7.78-7.78 2.81-2.81c.8-.78.8-2.07 0-2.86zM5.41 20L4 18.59l7.72-7.72 1.47 1.35L5.41 20z\"/>\n",
              "  </svg>\n",
              "      </button>\n",
              "      \n",
              "  <style>\n",
              "    .colab-df-container {\n",
              "      display:flex;\n",
              "      flex-wrap:wrap;\n",
              "      gap: 12px;\n",
              "    }\n",
              "\n",
              "    .colab-df-convert {\n",
              "      background-color: #E8F0FE;\n",
              "      border: none;\n",
              "      border-radius: 50%;\n",
              "      cursor: pointer;\n",
              "      display: none;\n",
              "      fill: #1967D2;\n",
              "      height: 32px;\n",
              "      padding: 0 0 0 0;\n",
              "      width: 32px;\n",
              "    }\n",
              "\n",
              "    .colab-df-convert:hover {\n",
              "      background-color: #E2EBFA;\n",
              "      box-shadow: 0px 1px 2px rgba(60, 64, 67, 0.3), 0px 1px 3px 1px rgba(60, 64, 67, 0.15);\n",
              "      fill: #174EA6;\n",
              "    }\n",
              "\n",
              "    [theme=dark] .colab-df-convert {\n",
              "      background-color: #3B4455;\n",
              "      fill: #D2E3FC;\n",
              "    }\n",
              "\n",
              "    [theme=dark] .colab-df-convert:hover {\n",
              "      background-color: #434B5C;\n",
              "      box-shadow: 0px 1px 3px 1px rgba(0, 0, 0, 0.15);\n",
              "      filter: drop-shadow(0px 1px 2px rgba(0, 0, 0, 0.3));\n",
              "      fill: #FFFFFF;\n",
              "    }\n",
              "  </style>\n",
              "\n",
              "      <script>\n",
              "        const buttonEl =\n",
              "          document.querySelector('#df-976713c1-baf9-4c40-92cd-0978af2b33f7 button.colab-df-convert');\n",
              "        buttonEl.style.display =\n",
              "          google.colab.kernel.accessAllowed ? 'block' : 'none';\n",
              "\n",
              "        async function convertToInteractive(key) {\n",
              "          const element = document.querySelector('#df-976713c1-baf9-4c40-92cd-0978af2b33f7');\n",
              "          const dataTable =\n",
              "            await google.colab.kernel.invokeFunction('convertToInteractive',\n",
              "                                                     [key], {});\n",
              "          if (!dataTable) return;\n",
              "\n",
              "          const docLinkHtml = 'Like what you see? Visit the ' +\n",
              "            '<a target=\"_blank\" href=https://colab.research.google.com/notebooks/data_table.ipynb>data table notebook</a>'\n",
              "            + ' to learn more about interactive tables.';\n",
              "          element.innerHTML = '';\n",
              "          dataTable['output_type'] = 'display_data';\n",
              "          await google.colab.output.renderOutput(dataTable, element);\n",
              "          const docLink = document.createElement('div');\n",
              "          docLink.innerHTML = docLinkHtml;\n",
              "          element.appendChild(docLink);\n",
              "        }\n",
              "      </script>\n",
              "    </div>\n",
              "  </div>\n",
              "  "
            ]
          },
          "metadata": {},
          "execution_count": 49
        }
      ]
    },
    {
      "cell_type": "markdown",
      "source": [
        "##輸出成excel檔案"
      ],
      "metadata": {
        "id": "LlaOEVTsnhdr"
      }
    },
    {
      "cell_type": "code",
      "source": [
        "df.to_excel(\"成績.xlsx\")"
      ],
      "metadata": {
        "id": "ld15F2fxnmUS"
      },
      "execution_count": 50,
      "outputs": []
    }
  ],
  "metadata": {
    "colab": {
      "provenance": [],
      "authorship_tag": "ABX9TyM5l0hKBiOwmyG5ZdzUJGkQ",
      "include_colab_link": true
    },
    "kernelspec": {
      "display_name": "Python 3",
      "name": "python3"
    },
    "language_info": {
      "name": "python"
    },
    "gpuClass": "standard"
  },
  "nbformat": 4,
  "nbformat_minor": 0
}